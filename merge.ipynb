{
 "cells": [
  {
   "cell_type": "code",
   "execution_count": 3,
   "metadata": {},
   "outputs": [
    {
     "name": "stdout",
     "output_type": "stream",
     "text": [
      "Archivo consolidado creado exitosamente: informes/informe_consolidado.xlsx\n"
     ]
    }
   ],
   "source": [
    "import pandas as pd\n",
    "import os\n",
    "\n",
    "    # Rutas de archivos\n",
    "archivo1 = 'informes/Informe_01_01_2025_AL_08_01_2025.xlsx'\n",
    "archivo2 = 'informes/Informe_08_01_2025_AL_15_01_2025.xlsx'\n",
    "archivo_salida = 'informes/informe_consolidado.xlsx'\n",
    "\n",
    "# Validar existencia de archivos\n",
    "if not all(os.path.exists(f) for f in [archivo1, archivo2]):\n",
    "    raise FileNotFoundError(\"No se encontraron los archivos de entrada\")\n",
    "\n",
    "# Crear objeto ExcelWriter para el archivo de salida\n",
    "with pd.ExcelWriter(archivo_salida) as writer:\n",
    "    # Leer todas las hojas de ambos archivos\n",
    "    excel1 = pd.ExcelFile(archivo1)\n",
    "    excel2 = pd.ExcelFile(archivo2)\n",
    "    \n",
    "    # Obtener nombres de hojas\n",
    "    hojas = excel1.sheet_names\n",
    "    \n",
    "    # Procesar cada hoja\n",
    "    for hoja in hojas:\n",
    "        # Leer la misma hoja de ambos archivos\n",
    "        df1 = pd.read_excel(archivo1, sheet_name=hoja, skiprows=2)\n",
    "        df2 = pd.read_excel(archivo2, sheet_name=hoja, skiprows=2)\n",
    "        \n",
    "        # Descartar la primera columna (columna A)\n",
    "        df1 = df1.iloc[:, 1:]\n",
    "        df2 = df2.iloc[:, 1:]\n",
    "        # Concatenar las hojas\n",
    "        df_combinado = pd.concat([df1, df2], ignore_index=True)\n",
    "        \n",
    "        # Guardar en el nuevo archivo\n",
    "        df_combinado.to_excel(writer, sheet_name=hoja, index=True)\n",
    "\n",
    "print(f\"Archivo consolidado creado exitosamente: {archivo_salida}\")\n",
    "\n",
    "\n"
   ]
  }
 ],
 "metadata": {
  "kernelspec": {
   "display_name": ".venv",
   "language": "python",
   "name": "python3"
  },
  "language_info": {
   "codemirror_mode": {
    "name": "ipython",
    "version": 3
   },
   "file_extension": ".py",
   "mimetype": "text/x-python",
   "name": "python",
   "nbconvert_exporter": "python",
   "pygments_lexer": "ipython3",
   "version": "3.11.5"
  }
 },
 "nbformat": 4,
 "nbformat_minor": 2
}
