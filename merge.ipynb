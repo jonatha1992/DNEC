{
 "cells": [
  {
   "cell_type": "code",
   "execution_count": null,
   "metadata": {},
   "outputs": [
    {
     "name": "stdout",
     "output_type": "stream",
     "text": [
      "Archivo consolidado creado exitosamente: db/informe_consolidado.xlsx\n"
     ]
    }
   ],
   "source": [
    "import pandas as pd\n",
    "import os\n",
    "\n",
    "# Obtener todos los archivos en la cWarpeta 'informes'\n",
    "informes_folder = 'informes'\n",
    "\n",
    "# Verificar si la carpeta 'informes' existe\n",
    "if not os.path.exists(informes_folder):\n",
    "    raise FileNotFoundError(f\"La carpeta '{informes_folder}' no existe.\")\n",
    "\n",
    "all_files = [os.path.join(informes_folder, f) for f in os.listdir(informes_folder) if f.endswith('.xlsx')]\n",
    "\n",
    "# Crear un diccionario para almacenar los DataFrames por nombre de hoja\n",
    "sheets_dict = {}\n",
    "\n",
    "# Leer cada archivo y fusionar las hojas correspondientes\n",
    "for file in all_files:\n",
    "    excel = pd.ExcelFile(file)\n",
    "    for sheet_name in excel.sheet_names:\n",
    "        df = pd.read_excel(file, sheet_name=sheet_name, skiprows=2)\n",
    "        df = df.iloc[:, 1:]  # Descartar la primera columna (columna A)\n",
    "        if sheet_name not in sheets_dict:\n",
    "            sheets_dict[sheet_name] = df\n",
    "        else:\n",
    "            sheets_dict[sheet_name] = pd.concat([sheets_dict[sheet_name], df], ignore_index=True)\n",
    "\n",
    "# Crear archivo consolidado\n",
    "archivo_salida = 'db/informe_consolidado.xlsx'\n",
    "with pd.ExcelWriter(archivo_salida) as writer:\n",
    "    for sheet_name, df in sheets_dict.items():\n",
    "        df.to_excel(writer, sheet_name=sheet_name, index=False)\n",
    "\n",
    "print(f\"Archivo consolidado creado exitosamente: {archivo_salida}\")\n",
    "\n",
    "\n"
   ]
  }
 ],
 "metadata": {
  "kernelspec": {
   "display_name": ".venv",
   "language": "python",
   "name": "python3"
  },
  "language_info": {
   "codemirror_mode": {
    "name": "ipython",
    "version": 3
   },
   "file_extension": ".py",
   "mimetype": "text/x-python",
   "name": "python",
   "nbconvert_exporter": "python",
   "pygments_lexer": "ipython3",
   "version": "3.11.5"
  }
 },
 "nbformat": 4,
 "nbformat_minor": 2
}
