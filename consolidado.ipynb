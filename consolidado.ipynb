{
 "cells": [
  {
   "cell_type": "markdown",
   "metadata": {},
   "source": [
    "1er Tener en cuenta bajadas de Procedimientos, Personas Armas, Divisas , vehiculos (secuestrados, ministerio), Narcotrafico general,Objetos y pegar en la carpeta bajadas de fecha del primero del 1 del mes en informar hasta fecha del informe "
   ]
  },
  {
   "cell_type": "markdown",
   "metadata": {},
   "source": [
    "importo las librerias"
   ]
  },
  {
   "cell_type": "code",
   "execution_count": 1,
   "metadata": {},
   "outputs": [],
   "source": [
    "import pandas as pd\n",
    "import re\n",
    "import numpy as np\n",
    "import pandas as pd\n"
   ]
  },
  {
   "cell_type": "markdown",
   "metadata": {},
   "source": [
    "Parametros\n"
   ]
  },
  {
   "cell_type": "code",
   "execution_count": 2,
   "metadata": {},
   "outputs": [],
   "source": [
    "fecha_inicio = '01/10/2024'\n",
    "fecha_final = '14/10/2024'\n",
    "filtros = \"DISPONIBLE ESTADISTICA\"\n",
    "\n",
    "lugar_catalogados= {\n",
    "                    \"SECTOR RESTRINGIDO\":\t\"SECTOR DE SEGURIDAD RESTRINGIDA AEROPORTUARIA\",\n",
    "                    \"SECTOR PUBLICO\"\t:\"INSTALACIONES DE ACCESO AL PUBLICO GENERAL\",\n",
    "                    \"PERIMETRO DE JURISDICCION\":\t\"PERIMETRO AEROPORTUARIO\",\n",
    "                    \"FUERA DE JURISDICCION\":\t\"DESPLIEGUE\",\n",
    "                    \"TRANSPORTE PUBLICO\": \"TRANSPORTE PUBLICO\",\n",
    "                    \"S/D\": \"S/D\"\n",
    "}\n",
    "\n",
    "unidades_municipios = {\n",
    "    \"EZE\": \"JOSÉ M. EZEIZA\",\n",
    "    \"AER\": \"COMUNA 14\",\n",
    "    \"SFO\": \"SAN FERNANDO\",\n",
    "    \"BHI\": \"BAHÍA BLANCA\",\n",
    "    \"MDP\": \"GENERAL PUEYRREDÓN\",\n",
    "    \"MDZ\": \"LAS HERAS\",\n",
    "    \"COR\": \"CAPITAL\",\n",
    "    \"JUA\": \"9 DE JULIO\",\n",
    "    \"LUI\": \"JUAN MARTÍN DE PUEYRREDÓN\",\n",
    "    \"MLG\": \"MALARGÜE\",\n",
    "    \"RAF\": \"SAN RAFAEL\",\n",
    "    \"RCU\": \"RÍO CUARTO\",\n",
    "    \"SRO\": \"CAPITAL\",\n",
    "    \"JUJ\": \"EL CARMEN\",\n",
    "    \"SAL\": \"LA CAPITAL\",\n",
    "    \"CAT\": \"VALLE VIEJO\",\n",
    "    \"LAR\": \"CAPITAL\",\n",
    "    \"SGO\": \"CAPITAL\",\n",
    "    \"TRH\": \"RÍO HONDO\",\n",
    "    \"TUC\": \"CRUZ ALTA\",\n",
    "    \"IGU\": \"IGUAZÚ\",\n",
    "    \"FSA\": \"FORMOSA\",\n",
    "    \"ROS\": \"ROSARIO\",\n",
    "    \"RCQ\": \"GENERAL OBLIGADO\",\n",
    "    \"POS\": \"CAPITAL\",\n",
    "    \"CRR\": \"CAPITAL\",\n",
    "    \"LIB\": \"PASO DE LOS LIBRES\",\n",
    "    \"PAR\": \"PARANÁ\",\n",
    "    \"RES\": \"SAN FERNANDO\",\n",
    "    \"SVO\": \"LA CAPITAL\",\n",
    "    \"BAR\": \"BARILOCHE\",\n",
    "    \"TRE\": \"RAWSON\",\n",
    "    \"NEU\": \"CONFLUENCIA\",\n",
    "    \"CAL\": \"LAGO ARGENTINO\",\n",
    "    \"CHP\": \"LÁCAR\",\n",
    "    \"CRV\": \"ESCALANTE\",\n",
    "    \"PMY\": \"BIEDMA\",\n",
    "    \"ESQ\": \"FUTALEUFÚ\",\n",
    "    \"GAL\": \"GÜER AIKE\",\n",
    "    \"GDE\": \"RÍO GRANDE\",\n",
    "    \"USU\": \"USHUAIA\",\n",
    "    \"VIE\": \"ADOLFO ALSINA\"\n",
    "}\n",
    "\n",
    "provincias = {\n",
    "    \"C.A. BUENOS AIRES\": \"CIUDAD AUTONOMA DE BUENOS AIRES\",\n",
    "    \"BUENOS AIRES\": \"BUENOS AIRES\",\n",
    "    \"SANTA CRUZ\": \"SANTA CRUZ\",\n",
    "    \"SANTA FE\": \"SANTA FE\",\n",
    "    \"MENDOZA\": \"MENDOZA\",\n",
    "    \"TUCUMÁN\": \"TUCUMAN\",\n",
    "    \"TIERRA DEL FUEGO\": \"TIERRA DEL FUEGO ANTARTIDA E ISLAS DEL ATLANTICO SUR\",\n",
    "    \"SALTA\": \"SALTA\",\n",
    "    \"NEUQUÉN\": \"NEUQUEN\",\n",
    "    \"CÓRDOBA\": \"CORDOBA\",\n",
    "    \"LA PAMPA\": \"LA PAMPA\",\n",
    "    \"RÍO NEGRO\": \"RIO NEGRO\",\n",
    "    \"CATAMARCA\": \"CATAMARCA\",\n",
    "    \"MISIONES\": \"MISIONES\",\n",
    "    \"SAN JUAN\": \"SAN JUAN\",\n",
    "    \"CORRIENTES\": \"CORRIENTES\",\n",
    "    \"CHUBUT\": \"CHUBUT\",\n",
    "    \"FORMOSA\": \"FORMOSA\",\n",
    "    \"JUJUY\": \"JUJUY\",\n",
    "    \"SANTIAGO DEL ESTERO\": \"SANTIAGO DEL ESTERO\",\n",
    "    \"LA RIOJA\": \"LA RIOJA\",\n",
    "    \"CHACO\": \"CHACO\",\n",
    "    \"ENTRE RÍOS\": \"ENTRE RIOS\",\n",
    "    \"SAN LUIS\": \"SAN LUIS\"\n",
    "}\n",
    "\n",
    "nombre_archivo = 'Planilla.xlsx'\n",
    "nombre_hojas =['GEOG. PROCEDIMIENTOS','VEHI. Y PERSO. CONTROLADAS','PERSONAL Y ELEMENTOS AFECTADOS', 'DETENIDOS Y APRENDIDOS','INCAUTACIONES','TRATA O TRAFIC PERSONAS','OTROS DELITOS','OTROS EVENTOS', 'FALLECIDOS','ABATIDOS']\n",
    "\n"
   ]
  },
  {
   "cell_type": "markdown",
   "metadata": {},
   "source": [
    "Cargo los archivos excel de las carpetas bajadas"
   ]
  },
  {
   "cell_type": "code",
   "execution_count": 3,
   "metadata": {},
   "outputs": [],
   "source": [
    "\n",
    "# Carga el archivo de Excel\n",
    "wb_base_sigipol = pd.read_excel('data/Base sigipol.xlsx')\n",
    "wb_base_informado = pd.read_excel('data/Base informado.xlsx')\n",
    "wb_procedimientos = pd.read_excel('bajadas/bajada_general.xls')\n",
    "wb_arma = pd.read_excel('bajadas/bajada_arma.xls')\n",
    "wb_vehiculos_secuestros = pd.read_excel('bajadas/bajada_vehiculos_secuestrados.xls')\n",
    "wb_vehiculos_secuestros_ministerio = pd.read_excel('bajadas/bajada_ministerio_vehiculos.xls')\n",
    "wb_personas = pd.read_excel('bajadas/bajada_general_persona.xls')\n",
    "wb_secuestradas = pd.read_excel('bajadas/bajada_divisas_secuestradas.xls')\n",
    "wb_sustancia = pd.read_excel('bajadas/bajada_general_narcotrafico.xls')\n",
    "wb_operaciones = pd.read_excel('bajadas/operaciones.xlsx')"
   ]
  },
  {
   "cell_type": "markdown",
   "metadata": {},
   "source": [
    "Filtrar lo que ya se informaron en la base de datos y lo que estan disponible en estadistica"
   ]
  },
  {
   "cell_type": "code",
   "execution_count": null,
   "metadata": {},
   "outputs": [],
   "source": [
    "wb_procedimientos = wb_procedimientos[wb_procedimientos['ESTADO_PARTE'] == 'DISPONIBLE ESTADISTICA'].copy()\n",
    "print (wb_procedimientos.count())"
   ]
  },
  {
   "cell_type": "markdown",
   "metadata": {},
   "source": [
    "Funciones"
   ]
  },
  {
   "cell_type": "code",
   "execution_count": 15,
   "metadata": {},
   "outputs": [],
   "source": [
    "def procesar_causa_judicial(row):\n",
    "    causa = row['CAUSAJUDICIALNUMERO']\n",
    "    if pd.isna(causa) or causa in [\"\", \"S/D\", \"A/S\", \"N/C\"]:\n",
    "        return f\"{row['TIPO_CAUSA_INTERNA']} {row['CAUSA_INTERNA_NUMERO']}\".strip()\n",
    "    \n",
    "    causa_str = str(causa).strip()\n",
    "    \n",
    "    prefijos = [\"NRO.\", \"N°\", \"EXPT\", \"EXPEDIENTE\", \"CAUSA\"]\n",
    "    \n",
    "    for prefijo in prefijos:\n",
    "        if causa_str.upper().startswith(prefijo):\n",
    "            causa_str = causa_str[len(prefijo):].strip()\n",
    "    \n",
    "    # Eliminar cualquier carácter que no sea número, letra o /ML\n",
    "    causa_str = re.sub(r'[^\\w/]', '', causa_str)\n",
    "    \n",
    "    return causa_str\n",
    "\n",
    "contador_global = {}\n",
    "def generar_codigo(row):\n",
    "    id_operativo = row['ID_OPERATIVO']\n",
    "    if id_operativo not in contador_global:\n",
    "        contador_global[id_operativo] = 0\n",
    "    contador_global[id_operativo] += 1\n",
    "    contador = contador_global[id_operativo]\n",
    "    return id_operativo + \"(\" + str(contador) + \")\"\n",
    "\n",
    "\n",
    "\n",
    "    \n",
    "    \n",
    "\n",
    "def procesar_descripcion(row):\n",
    "    tipo = row['TIPO_PROCEDIMIENTO']\n",
    "    if tipo == \"DENUNCIA\":\n",
    "        return \"DENUNCIA POLICIAL\"\n",
    "    elif tipo == \"CONTROL PREVENTIVO\":\n",
    "        return f\"CONTROL PREVENTIVO - {procesar_lugar(row)}\"\n",
    "    elif tipo == \"ORDEN DE ALLANAMIENTO\":\n",
    "        return \"ORDEN DE ALLANAMIENTO\"\n",
    "    elif tipo == \"ORDEN DE ALLANAMIENTO / DETENCIÓN\":\n",
    "        return \"ORDEN DE ALLANAMIENTO\"\n",
    "    else:\n",
    "        return \"OTRO MANDATO JUDICIAL\"\n",
    "\n",
    "\n",
    "def procesar_tipo(row):\n",
    "    tipo = row['TIPO_PROCEDIMIENTO']\n",
    "    if pd.isna(tipo):\n",
    "        return \"\"\n",
    "    elif tipo == \"DENUNCIA\"  or tipo == \"CONTROL PREVENTIVO\" :\n",
    "        return \"ORDEN POLICIAL\"\n",
    "    else:\n",
    "        return \"ORDEN JUDICIAL\"\n",
    "    \n",
    "def procesar_provincia(row):\n",
    "    provincia = row['PROVINCIA']\n",
    "    if pd.isna(provincia):\n",
    "        return \"\"\n",
    "    return provincias.get(provincia, provincia)\n",
    "    \n",
    "def procesar_municipio(row):\n",
    "    unidad = row['UOSP']\n",
    "    if pd.isna(unidad):\n",
    "        return \"\"\n",
    "    return unidades_municipios.get(unidad, unidad)\n",
    "\n",
    "def procesar_lugar(row):\n",
    "    lugar = row['LUGAR_CATALOGADO_NIVEL_1']\n",
    "    return  lugar_catalogados[lugar]\n",
    "\n",
    "def procesar_direccion(row):\n",
    "    lugar = row['LUGAR_CATALOGADO_NIVEL_1']\n",
    "    if lugar == \"FUERA DE JURISDICCION\":\n",
    "        return str(row['CALLE']) + \" \" + str(row['NUMERO']) + \", \" + str(row['CIUDAD']) + \" - \" + str(row['PARTIDO'])\n",
    "    else:\n",
    "        return \"\"\n",
    "\n"
   ]
  },
  {
   "cell_type": "markdown",
   "metadata": {},
   "source": [
    "Pruebas"
   ]
  },
  {
   "cell_type": "code",
   "execution_count": 10,
   "metadata": {},
   "outputs": [
    {
     "name": "stdout",
     "output_type": "stream",
     "text": [
      "\n",
      "Archivo Excel 'Planilla.xlsx' modificado con éxito.\n"
     ]
    }
   ],
   "source": [
    "\n",
    "from openpyxl import load_workbook\n",
    "\n",
    "\n",
    "wb_nueva_hoja = wb_procedimientos.copy()\n",
    "\n",
    "wb_nueva_hoja['FUERZA_INTERVINIENTE'] = 'PSA'\n",
    "wb_nueva_hoja['ID_OPERATIVO'] = wb_procedimientos.apply(procesar_causa_judicial, axis=1)\n",
    "wb_nueva_hoja['ID_PROCEDIMIENTO'] = wb_nueva_hoja.apply(generar_codigo, axis=1)\n",
    "wb_nueva_hoja['UNIDAD_INTERVINIENTE'] = wb_procedimientos['UOSP']\n",
    "wb_nueva_hoja['DESCRIPCIÓN'] = wb_procedimientos.apply(procesar_descripcion, axis=1)\n",
    "wb_nueva_hoja['TIPO_INTERVENCION'] = wb_procedimientos.apply(procesar_tipo, axis=1)\n",
    "wb_nueva_hoja['PROVINCIA'] = wb_procedimientos.apply(procesar_provincia, axis=1)\n",
    "wb_nueva_hoja['DEPARTAMENTO O PARTIDO'] = wb_procedimientos.apply(procesar_municipio, axis=1)\n",
    "wb_nueva_hoja['LOCALIDAD'] = \"-\"\n",
    "wb_nueva_hoja['DIRECCION'] = wb_procedimientos.apply(procesar_direccion, axis=1)\n",
    "wb_nueva_hoja['ZONA_SEGURIDAD_FRONTERAS'] = \"-\"\n",
    "wb_nueva_hoja['PASO_FRONTERIZO'] = \"-\"\n",
    "wb_nueva_hoja['LATITUD'] = wb_procedimientos['GEOREFERENCIA_Y']\n",
    "wb_nueva_hoja['LONGITUD'] = wb_procedimientos['GEOREFERENCIA_X']\n",
    "wb_nueva_hoja['OTRAS AGENCIAS INTERVINIENTES'] = \"-\"\n",
    "wb_nueva_hoja['Observaciones - Detalles'] = \"-\"\n",
    "\n",
    "# Separar fecha y hora de la columna DENUNCIAFECHA\n",
    "wb_nueva_hoja['FECHA'] = pd.to_datetime(wb_procedimientos['DENUNCIAFECHA'], errors='coerce').dt.strftime('%d/%m/%Y')\n",
    "wb_nueva_hoja['HORA'] = pd.to_datetime(wb_procedimientos['DENUNCIAFECHA'], errors='coerce').dt.strftime('%H:%M')\n",
    "\n",
    "hoja_procedimientos = wb_nueva_hoja[['FUERZA_INTERVINIENTE', 'ID_OPERATIVO', 'ID_PROCEDIMIENTO',\n",
    "                                     'UNIDAD_INTERVINIENTE', 'DESCRIPCIÓN', 'TIPO_INTERVENCION',\n",
    "                                     'PROVINCIA', 'DEPARTAMENTO O PARTIDO', 'LOCALIDAD', 'DIRECCION',\n",
    "                                     'ZONA_SEGURIDAD_FRONTERAS', 'PASO_FRONTERIZO', 'LATITUD', 'LONGITUD',\n",
    "                                     'FECHA', 'HORA', 'OTRAS AGENCIAS INTERVINIENTES', 'Observaciones - Detalles']]\n",
    "\n",
    "\n",
    "\n",
    "nombre_archivo = \"Planilla.xlsx\"\n",
    "wb = load_workbook(nombre_archivo)\n",
    "ws = wb['GEOG. PROCEDIMIENTO']\n",
    "\n",
    "# Escribir los datos del DataFrame desde la fila 4\n",
    "for row_num, row in enumerate(wb_nueva_hoja.itertuples(index=False), start=4):\n",
    "    for col_num, value in enumerate(row, start=2):  # Comienza desde la columna B (número 2)\n",
    "        ws.cell(row=row_num, column=col_num).value = value\n",
    "\n",
    "# Guardar los cambios\n",
    "wb.save(nombre_archivo)\n",
    "\n",
    "print(f\"\\nArchivo Excel '{nombre_archivo}' modificado con éxito.\")"
   ]
  },
  {
   "cell_type": "markdown",
   "metadata": {},
   "source": []
  },
  {
   "cell_type": "markdown",
   "metadata": {},
   "source": [
    "Control de salidad de la informacion"
   ]
  },
  {
   "cell_type": "code",
   "execution_count": null,
   "metadata": {},
   "outputs": [],
   "source": [
    "# Aplicar la función procesar_causa_judicial a la copia\n",
    "\n",
    "# # Contar cuántos casos se procesaron vs. cuántos se mantuvieron igual\n",
    "# procesados = (wb_nueva_hoja['CAUSAJUDICIALNUMERO'] != wb_nueva_hoja['ID_OPERATIVO']).sum()\n",
    "# print(f\"\\nCasos procesados: {procesados}\")\n",
    "# print(f\"Casos sin cambios: {len(wb_nueva_hoja) - procesados}\")"
   ]
  }
 ],
 "metadata": {
  "kernelspec": {
   "display_name": "env",
   "language": "python",
   "name": "python3"
  },
  "language_info": {
   "codemirror_mode": {
    "name": "ipython",
    "version": 3
   },
   "file_extension": ".py",
   "mimetype": "text/x-python",
   "name": "python",
   "nbconvert_exporter": "python",
   "pygments_lexer": "ipython3",
   "version": "3.11.5"
  }
 },
 "nbformat": 4,
 "nbformat_minor": 2
}
