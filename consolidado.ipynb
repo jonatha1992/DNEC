{
 "cells": [
  {
   "cell_type": "markdown",
   "metadata": {},
   "source": [
    "Importante \n",
    "\n",
    "Tener en cuenta bajadas de Procedimientos, Personas Armas, Divisas , vehiculos (secuestrados, ministerio), Narcotrafico general,Objetos y pegar en la carpeta bajadas de fecha del primero del 1 del mes en informar hasta fecha del informe "
   ]
  },
  {
   "cell_type": "markdown",
   "metadata": {
    "notebookRunGroups": {
     "groupValue": "1"
    }
   },
   "source": [
    "### Importacion de librerias\n",
    "importacion de libreias para tranformacion de datos"
   ]
  },
  {
   "cell_type": "code",
   "execution_count": 22,
   "metadata": {
    "notebookRunGroups": {
     "groupValue": "1"
    }
   },
   "outputs": [],
   "source": [
    "import pandas as pd\n",
    "import re\n",
    "import numpy as np\n",
    "from openpyxl import load_workbook"
   ]
  },
  {
   "cell_type": "markdown",
   "metadata": {},
   "source": [
    "### Parametros\n",
    "Coloco los parametros a tener en cuenta para donde se encuentra los archivos de bajada"
   ]
  },
  {
   "cell_type": "code",
   "execution_count": 24,
   "metadata": {
    "notebookRunGroups": {
     "groupValue": "1"
    }
   },
   "outputs": [],
   "source": [
    "FECHA_INICIO = '01/10/2024'\n",
    "FECHA_FINAL = '16/10/2024'\n",
    "\n",
    "LUGARES_CATALOGADOS= {\n",
    "                    \"SECTOR RESTRINGIDO\":\t\"SECTOR DE SEGURIDAD RESTRINGIDA AEROPORTUARIA\",\n",
    "                    \"SECTOR PUBLICO\"\t:\"INSTALACIONES DE ACCESO AL PUBLICO GENERAL\",\n",
    "                    \"PERIMETRO DE JURISDICCION\":\t\"PERIMETRO AEROPORTUARIO\",\n",
    "                    \"FUERA DE JURISDICCION\":\t\"DESPLIEGUE\",\n",
    "                    \"TRANSPORTE PUBLICO\": \"TRANSPORTE PUBLICO\",\n",
    "                    \"S/D\": \"S/D\"\n",
    "}\n",
    "\n",
    "UNIDADES_MUNICIPIOS = {\n",
    "    \"EZE\": \"JOSÉ M. EZEIZA\",\n",
    "    \"AER\": \"COMUNA 14\",\n",
    "    \"SFO\": \"SAN FERNANDO\",\n",
    "    \"BHI\": \"BAHÍA BLANCA\",\n",
    "    \"MDP\": \"GENERAL PUEYRREDÓN\",\n",
    "    \"MDZ\": \"LAS HERAS\",\n",
    "    \"COR\": \"CAPITAL\",\n",
    "    \"JUA\": \"9 DE JULIO\",\n",
    "    \"LUI\": \"JUAN MARTÍN DE PUEYRREDÓN\",\n",
    "    \"MLG\": \"MALARGÜE\",\n",
    "    \"RAF\": \"SAN RAFAEL\",\n",
    "    \"RCU\": \"RÍO CUARTO\",\n",
    "    \"SRO\": \"CAPITAL\",\n",
    "    \"JUJ\": \"EL CARMEN\",\n",
    "    \"SAL\": \"LA CAPITAL\",\n",
    "    \"CAT\": \"VALLE VIEJO\",\n",
    "    \"LAR\": \"CAPITAL\",\n",
    "    \"SGO\": \"CAPITAL\",\n",
    "    \"TRH\": \"RÍO HONDO\",\n",
    "    \"TUC\": \"CRUZ ALTA\",\n",
    "    \"IGU\": \"IGUAZÚ\",\n",
    "    \"FSA\": \"FORMOSA\",\n",
    "    \"ROS\": \"ROSARIO\",\n",
    "    \"RCQ\": \"GENERAL OBLIGADO\",\n",
    "    \"POS\": \"CAPITAL\",\n",
    "    \"CRR\": \"CAPITAL\",\n",
    "    \"LIB\": \"PASO DE LOS LIBRES\",\n",
    "    \"PAR\": \"PARANÁ\",\n",
    "    \"RES\": \"SAN FERNANDO\",\n",
    "    \"SVO\": \"LA CAPITAL\",\n",
    "    \"BAR\": \"BARILOCHE\",\n",
    "    \"TRE\": \"RAWSON\",\n",
    "    \"NEU\": \"CONFLUENCIA\",\n",
    "    \"CAL\": \"LAGO ARGENTINO\",\n",
    "    \"CHP\": \"LÁCAR\",\n",
    "    \"CRV\": \"ESCALANTE\",\n",
    "    \"PMY\": \"BIEDMA\",\n",
    "    \"ESQ\": \"FUTALEUFÚ\",\n",
    "    \"GAL\": \"GÜER AIKE\",\n",
    "    \"GDE\": \"RÍO GRANDE\",\n",
    "    \"USU\": \"USHUAIA\",\n",
    "    \"VIE\": \"ADOLFO ALSINA\"\n",
    "}\n",
    "\n",
    "PROVINCIAS = {\n",
    "    \"C.A. BUENOS AIRES\": \"CIUDAD AUTONOMA DE BUENOS AIRES\",\n",
    "    \"BUENOS AIRES\": \"BUENOS AIRES\",\n",
    "    \"SANTA CRUZ\": \"SANTA CRUZ\",\n",
    "    \"SANTA FE\": \"SANTA FE\",\n",
    "    \"MENDOZA\": \"MENDOZA\",\n",
    "    \"TUCUMÁN\": \"TUCUMAN\",\n",
    "    \"TIERRA DEL FUEGO\": \"TIERRA DEL FUEGO ANTARTIDA E ISLAS DEL ATLANTICO SUR\",\n",
    "    \"SALTA\": \"SALTA\",\n",
    "    \"NEUQUÉN\": \"NEUQUEN\",\n",
    "    \"CÓRDOBA\": \"CORDOBA\",\n",
    "    \"LA PAMPA\": \"LA PAMPA\",\n",
    "    \"RÍO NEGRO\": \"RIO NEGRO\",\n",
    "    \"CATAMARCA\": \"CATAMARCA\",\n",
    "    \"MISIONES\": \"MISIONES\",\n",
    "    \"SAN JUAN\": \"SAN JUAN\",\n",
    "    \"CORRIENTES\": \"CORRIENTES\",\n",
    "    \"CHUBUT\": \"CHUBUT\",\n",
    "    \"FORMOSA\": \"FORMOSA\",\n",
    "    \"JUJUY\": \"JUJUY\",\n",
    "    \"SANTIAGO DEL ESTERO\": \"SANTIAGO DEL ESTERO\",\n",
    "    \"LA RIOJA\": \"LA RIOJA\",\n",
    "    \"CHACO\": \"CHACO\",\n",
    "    \"ENTRE RÍOS\": \"ENTRE RIOS\",\n",
    "    \"SAN LUIS\": \"SAN LUIS\"\n",
    "}\n",
    "\n",
    "PERSONAL = {    \n",
    "    \"DENUNCIA\": 4,\n",
    "    \"CONTROL PREVENTIVO\": 6,\n",
    "    \"PATIO VALIJAS\": 6,\n",
    "    \"ALLANAMIENTO\" :8,\n",
    "}\n",
    "\n",
    "SCANNER = {\n",
    "    \"DENUNCIA\": 4,\n",
    "    \"CONTROL PREVENTIVO\": 6,\n",
    "    \"PATIO VALIJAS\": 6,\n",
    "    \"ALLANAMIENTO\" :8,\n",
    "}\n",
    "\n",
    "\n"
   ]
  },
  {
   "cell_type": "markdown",
   "metadata": {},
   "source": [
    "### Funciones \n",
    "declaraciones de funciones procesar cada celda y columna del informe del sigipol como de operaciones"
   ]
  },
  {
   "cell_type": "code",
   "execution_count": 25,
   "metadata": {
    "notebookRunGroups": {
     "groupValue": "1"
    }
   },
   "outputs": [],
   "source": [
    "def procesar_causa_judicial(row):\n",
    "    causa = row['CAUSAJUDICIALNUMERO']\n",
    "    if pd.isna(causa) or causa in [\"\", \"S/D\", \"A/S\", \"N/C\"]:\n",
    "        return f\"{row['TIPO_CAUSA_INTERNA']}{row['CAUSA_INTERNA_NUMERO']}\".strip()\n",
    "    \n",
    "    causa_str = str(causa).strip()\n",
    "    \n",
    "    prefijos = [\"NRO.\", \"N°\", \"EXPT\", \"EXPEDIENTE\", \"CAUSA\"]\n",
    "    \n",
    "    for prefijo in prefijos:\n",
    "        if causa_str.upper().startswith(prefijo):\n",
    "            causa_str = causa_str[len(prefijo):].strip()\n",
    "    \n",
    "    # Eliminar cualquier carácter que no sea número, letra o /ML\n",
    "    causa_str = re.sub(r'[^\\w/]', '', causa_str)\n",
    "    \n",
    "    return causa_str\n",
    "\n",
    "\n",
    "contador_global_sigipol = {}\n",
    "def generar_codigo_sigipol(row):\n",
    "    id_operativo = row['ID_OPERATIVO']\n",
    "    if id_operativo not in contador_global_sigipol:\n",
    "        contador_global_sigipol[id_operativo] = 0\n",
    "    contador_global_sigipol[id_operativo] += 1\n",
    "    contador = contador_global_sigipol[id_operativo]\n",
    "    return id_operativo + \"(\" + str(contador) + \")\"\n",
    "\n",
    "        \n",
    "def procesar_descripcion(row):\n",
    "    tipo = row['TIPO_PROCEDIMIENTO']\n",
    "    if tipo == \"DENUNCIA\":\n",
    "        return \"DENUNCIA POLICIAL\"\n",
    "    elif tipo == \"CONTROL PREVENTIVO\":\n",
    "        return f\"CONTROL PREVENTIVO - {procesar_lugar(row)}\"\n",
    "    elif tipo == \"ORDEN DE ALLANAMIENTO\":\n",
    "        return \"ORDEN DE ALLANAMIENTO\"\n",
    "    elif tipo == \"ORDEN DE ALLANAMIENTO / DETENCIÓN\":\n",
    "        return \"ORDEN DE ALLANAMIENTO\"\n",
    "    else:\n",
    "        return \"OTRO MANDATO JUDICIAL\"\n",
    "\n",
    "\n",
    "def procesar_tipo(row):\n",
    "    tipo = row['TIPO_PROCEDIMIENTO']\n",
    "    if pd.isna(tipo):\n",
    "        return \"\"\n",
    "    elif tipo == \"DENUNCIA\"  or tipo == \"CONTROL PREVENTIVO\" :\n",
    "        return \"ORDEN POLICIAL\"\n",
    "    else:\n",
    "        return \"ORDEN JUDICIAL\"\n",
    "    \n",
    "def procesar_provincia(row):\n",
    "    provincia = row['PROVINCIA']\n",
    "    if pd.isna(provincia):\n",
    "        return \"\"\n",
    "    return PROVINCIAS.get(provincia, provincia)\n",
    "    \n",
    "def procesar_municipio(row):\n",
    "    unidad = row['UOSP']\n",
    "    if pd.isna(unidad):\n",
    "        return \"\"\n",
    "    return UNIDADES_MUNICIPIOS.get(unidad, unidad)\n",
    "\n",
    "def procesar_lugar(row):\n",
    "    lugar = row['LUGAR_CATALOGADO_NIVEL_1']\n",
    "    return  LUGARES_CATALOGADOS[lugar]\n",
    "\n",
    "def procesar_direccion(row):\n",
    "    lugar = row['LUGAR_CATALOGADO_NIVEL_1']\n",
    "    if lugar == \"FUERA DE JURISDICCION\":\n",
    "        return str(row['CALLE']) + \" \" + str(row['NUMERO']) + \", \" + str(row['CIUDAD']) + \" - \" + str(row['PARTIDO'])\n",
    "    else:\n",
    "        return \"\"\n",
    "    \n",
    "def controlar_estado (row):\n",
    "    ursa = row['URSA'] \n",
    "    unidad = row['UOSP'] \n",
    "    estado = row['ESTADO_PARTE'] \n",
    "    if pd.isna(unidad)  and ursa == 'RG4' and estado == 'NO DISPONIBLE ESTADISTICA':\n",
    "        # print(f\"Ursa: {ursa}, Unidad: {unidad}, Estado: {estado}\")\n",
    "        return  \"DISPONIBLE ESTADISTICA\"\n",
    "    else:\n",
    "        return estado \n",
    "    \n",
    "def leer_excel_a_df(worksheet):\n",
    "    data = []\n",
    "    # Obtener los títulos de las columnas (fila 3, desde la columna B)\n",
    "    titulos = [worksheet.cell(row=3, column=col).value for col in range(2, worksheet.max_column + 1)]\n",
    "    # Leer los datos desde la fila 4 en adelante, empezando en la columna B\n",
    "    for row in worksheet.iter_rows(min_row=4, min_col=2, max_col=worksheet.max_column, values_only=True):\n",
    "        data.append(row)\n",
    "    # Crear un DataFrame a partir de los datos\n",
    "    return pd.DataFrame(data, columns=titulos)\n",
    "\n",
    "\n",
    "# Definir una función para verificar si la fila de df_operaciones es diferente de alguna fila en df_base_informada\n",
    "def filas_diferentes(row, df_base_informada):\n",
    "    # Buscar si hay alguna fila en df_base_informada que sea idéntica en las columnas especificadas\n",
    "    match = df_base_informada[\n",
    "        (df_base_informada['ID_OPERATIVO'] == row['ID_OPERATIVO']) &\n",
    "        (df_base_informada['FECHA'] == row['FECHA']) &\n",
    "        (df_base_informada['HORA'] == row['HORA']) &\n",
    "        (df_base_informada['LATITUD'] == row['LATITUD']) &\n",
    "        (df_base_informada['LONGITUD'] == row['LONGITUD'])\n",
    "    ]\n",
    "    # Si no se encuentra un match, significa que la fila es diferente\n",
    "    return match.empty\n",
    "\n",
    "\n",
    "\n",
    "def limpiar_id_procedimiento(id_procedimiento):\n",
    "    if isinstance(id_procedimiento, str):\n",
    "        # Remover lo que está entre paréntesis y los paréntesis\n",
    "        return re.sub(r'\\(.*?\\)', '', id_procedimiento).strip()\n",
    "    return id_procedimiento"
   ]
  },
  {
   "cell_type": "markdown",
   "metadata": {},
   "source": [
    "### Leer base de datos\n",
    "\n",
    "leer la base de datos \"data/Base_informada\" \n"
   ]
  },
  {
   "cell_type": "code",
   "execution_count": 26,
   "metadata": {},
   "outputs": [],
   "source": [
    "df_base_informada = load_workbook(\"data/Base_informada.xlsx\")\n",
    "hoja = df_base_informada['GEOG. PROCEDIMIENTO']\n",
    "\n",
    "# Crear un DataFrame a partir de los datos\n",
    "df_base_informada = leer_excel_a_df(hoja)"
   ]
  },
  {
   "cell_type": "markdown",
   "metadata": {},
   "source": [
    "### Ingresar bajadas\n",
    "\n",
    "convierto las bajadas en el dataframe para poder manipularlos y poder hacer calculos"
   ]
  },
  {
   "cell_type": "code",
   "execution_count": 28,
   "metadata": {},
   "outputs": [],
   "source": [
    "excel_bajada_procedimientos = pd.read_excel('bajadas/bajada_general.xls')\n",
    "# excel_bajada_arma = pd.read_excel('bajadas/bajada_arma.xls')\n",
    "# excel_bajada_vehiculos_secuestros = pd.read_excel('bajadas/bajada_vehiculos_secuestrados.xls')\n",
    "# excel_bajada_vehiculos_secuestros_ministerio = pd.read_excel('bajadas/bajada_ministerio_vehiculos.xls')\n",
    "# excel_bajada_personas = pd.read_excel('bajadas/bajada_general_persona.xls')\n",
    "# excel_bajada_divisas = pd.read_excel('bajadas/bajada_divisas_secuestradas.xls')\n",
    "# excel_bajada_narcotrafico = pd.read_excel('bajadas/bajada_general_narcotrafico.xls')"
   ]
  },
  {
   "cell_type": "markdown",
   "metadata": {},
   "source": [
    "### Filtrar procedimientos \n",
    "solo que esta que estan disponible en estadistica y las fechas estipuladas de información "
   ]
  },
  {
   "cell_type": "code",
   "execution_count": 29,
   "metadata": {},
   "outputs": [],
   "source": [
    "fecha_inicio = pd.to_datetime(FECHA_INICIO, format='%d/%m/%Y')\n",
    "fecha_final = pd.to_datetime(FECHA_FINAL, format='%d/%m/%Y')\n",
    "\n",
    "\n",
    "excel_bajada_procedimientos['ESTADO_PARTE'] = excel_bajada_procedimientos.apply(controlar_estado ,axis=1).copy()\n",
    "excel_bajada_procedimientos['UOSP'] = excel_bajada_procedimientos['UOSP'].fillna(excel_bajada_procedimientos['URSA'])\n",
    "excel_bajada_procedimientos['GEOREFERENCIA_X'] = excel_bajada_procedimientos['GEOREFERENCIA_X'].fillna('-')\n",
    "excel_bajada_procedimientos['GEOREFERENCIA_Y'] = excel_bajada_procedimientos['GEOREFERENCIA_Y'].fillna('-')\n",
    "\n",
    "excel_bajada_procedimientos = excel_bajada_procedimientos[\n",
    "    (excel_bajada_procedimientos['ESTADO_PARTE'] != 'NO DISPONIBLE ESTADISTICA') &\n",
    "    (excel_bajada_procedimientos['DENUNCIAFECHA'] >= fecha_inicio) &\n",
    "    (excel_bajada_procedimientos['DENUNCIAFECHA'] < fecha_final)\n",
    "].copy()"
   ]
  },
  {
   "cell_type": "markdown",
   "metadata": {},
   "source": [
    "### Filtros de procedimientos\n",
    "Ejecucion de funciones para la bajada de procedimientos de sigipol  tranformando los datos para que se muestren como lo requiere la DNEC"
   ]
  },
  {
   "cell_type": "code",
   "execution_count": 30,
   "metadata": {},
   "outputs": [],
   "source": [
    "df_procedimientos = pd.DataFrame()\n",
    "\n",
    "df_procedimientos['ID_OPERATIVO'] = excel_bajada_procedimientos.apply(procesar_causa_judicial, axis=1)\n",
    "df_procedimientos['ID_PROCEDIMIENTO'] = df_procedimientos.apply(generar_codigo_sigipol, axis=1)\n",
    "df_procedimientos['UNIDAD_INTERVINIENTE'] = excel_bajada_procedimientos['UOSP']\n",
    "df_procedimientos['DESCRIPCIÓN'] = excel_bajada_procedimientos.apply(procesar_descripcion, axis=1)\n",
    "df_procedimientos['TIPO_INTERVENCION'] = excel_bajada_procedimientos.apply(procesar_tipo, axis=1)\n",
    "df_procedimientos['PROVINCIA'] = excel_bajada_procedimientos.apply(procesar_provincia, axis=1)\n",
    "df_procedimientos['DEPARTAMENTO O PARTIDO'] = excel_bajada_procedimientos.apply(procesar_municipio, axis=1)\n",
    "df_procedimientos['LOCALIDAD'] = \"-\"\n",
    "df_procedimientos['DIRECCION'] = excel_bajada_procedimientos.apply(procesar_direccion, axis=1)\n",
    "df_procedimientos['LATITUD'] = excel_bajada_procedimientos['GEOREFERENCIA_Y']\n",
    "df_procedimientos['LONGITUD'] = excel_bajada_procedimientos['GEOREFERENCIA_X']\n",
    "df_procedimientos['FECHA'] = pd.to_datetime(excel_bajada_procedimientos['DENUNCIAFECHA'], errors='coerce').dt.strftime('%d/%m/%Y')\n",
    "df_procedimientos['HORA'] = pd.to_datetime(excel_bajada_procedimientos['DENUNCIAFECHA'], errors='coerce').dt.strftime('%H:%M')\n",
    "df_procedimientos['FUERZA_INTERVINIENTE'] = \"PSA\"\n",
    "df_procedimientos['ZONA_SEGURIDAD_FRONTERAS'] = \"-\"\n",
    "df_procedimientos['PASO_FRONTERIZO'] = \"-\"\n",
    "df_procedimientos['OTRAS AGENCIAS INTERVINIENTES'] = \"-\"\n",
    "df_procedimientos['Observaciones - Detalles'] = \"-\"\n",
    "\n",
    "\n",
    "df_procedimientos = df_procedimientos[['FUERZA_INTERVINIENTE', 'ID_OPERATIVO', 'ID_PROCEDIMIENTO',\n",
    "                                     'UNIDAD_INTERVINIENTE', 'DESCRIPCIÓN', 'TIPO_INTERVENCION',\n",
    "                                     'PROVINCIA', 'DEPARTAMENTO O PARTIDO', 'LOCALIDAD', 'DIRECCION',\n",
    "                                     'ZONA_SEGURIDAD_FRONTERAS', 'PASO_FRONTERIZO', 'LATITUD', 'LONGITUD',\n",
    "                                     'FECHA', 'HORA', 'OTRAS AGENCIAS INTERVINIENTES', 'Observaciones - Detalles']]\n",
    "\n",
    "\n",
    "df_procedimientos = df_procedimientos[\n",
    "    ~df_procedimientos['ID_PROCEDIMIENTO'].isin(df_base_informada['ID_PROCEDIMIENTO'])\n",
    "].copy()\n"
   ]
  },
  {
   "cell_type": "markdown",
   "metadata": {},
   "source": [
    "### Filtros de Ordenes de servicios operaciones\n",
    "Ejecucion de funciones para la planilla enviada por operaciones tranformando los datos para que se muestren como lo requiere la DNEC"
   ]
  },
  {
   "cell_type": "code",
   "execution_count": 31,
   "metadata": {},
   "outputs": [
    {
     "name": "stdout",
     "output_type": "stream",
     "text": [
      "0   2024-04-04\n",
      "1   2024-10-02\n",
      "2   2024-10-02\n",
      "3   2024-10-02\n",
      "4   2024-10-02\n",
      "Name: FECHA, dtype: datetime64[ns]\n",
      "0               08:00:00\n",
      "1    1900-01-03 08:02:24\n",
      "2    1900-01-03 08:02:24\n",
      "3    1900-01-03 17:02:24\n",
      "4    1900-01-03 07:02:24\n",
      "Name: HORA, dtype: object\n"
     ]
    }
   ],
   "source": [
    "excel_bajada_operaciones = load_workbook(\"bajadas/operaciones.xlsx\")\n",
    "hoja_geog = excel_bajada_operaciones['GEOG. PROCEDIMIENTO']\n",
    "hoja_vehi = excel_bajada_operaciones['VEHI. Y PERSO. CONTROLADAS']\n",
    "df_operaciones = leer_excel_a_df(hoja_geog)\n",
    "df_operaciones = df_operaciones.dropna(subset=['ID_PROCEDIMIENTO'], how='any').copy()\n",
    "\n",
    "df_operaciones['ID_PROCEDIMIENTO'] = df_operaciones['ID_PROCEDIMIENTO'].apply(limpiar_id_procedimiento)\n",
    "df_operaciones['ID_OPERATIVO'] = df_operaciones['ID_PROCEDIMIENTO']\n",
    "\n",
    "\n",
    "\n",
    "df_operaciones['FECHA'] = pd.to_datetime(df_operaciones['FECHA'], format='%Y-%m-%d', errors='coerce')\n",
    "df_operaciones['HORA'] = pd.to_datetime(df_operaciones['HORA'], format='%H:%M', errors='coerce')\n",
    "\n",
    "\n",
    "\n",
    "# # Convertir 'FECHA' y 'HORA' a string en ambos DataFrames\n",
    "# df_operaciones['FECHA'] = df_operaciones['FECHA'].astype(str)\n",
    "# df_base_informada['FECHA'] = df_base_informada['FECHA'].astype(str) # type: ignore\n",
    "\n",
    "# df_operaciones['HORA'] = df_operaciones['HORA'].astype(str)\n",
    "# df_base_informada['HORA'] = df_base_informada['HORA'].astype(str)# type: ignore\n",
    "\n",
    "\n",
    "# Aplicar la función para identificar las filas que son diferentes\n",
    "df_operaciones = df_operaciones[df_operaciones.apply(filas_diferentes, axis=1, df_base_informada=df_base_informada)].copy()\n",
    "\n",
    "\n",
    "conteo_base_datos = df_base_informada['ID_OPERATIVO'].value_counts()\n",
    "conteo_acumulado  = conteo_base_datos.to_dict()\n",
    "\n",
    "for index, row in df_operaciones.iterrows():\n",
    "    id_operativa = row['ID_OPERATIVO']\n",
    "    \n",
    "    # Verificar cuántas veces ha aparecido el ID_operativa en total hasta ahora (base + nuevos)\n",
    "    if id_operativa in conteo_acumulado:\n",
    "        conteo_acumulado[id_operativa] += 1\n",
    "    else:\n",
    "        conteo_acumulado[id_operativa] = 1\n",
    "    \n",
    "    # El nuevo ID_procedimiento será el ID_operativa más el número de veces que se ha repetido, dentro de paréntesis\n",
    "    nuevo_id_procedimiento = f\"{id_operativa}({conteo_acumulado[id_operativa]:02d})\"\n",
    "    \n",
    "    # Asignar el nuevo ID_procedimiento solo en la columna ID_procedimiento\n",
    "    df_operaciones.at[index, 'ID_PROCEDIMIENTO'] = nuevo_id_procedimiento\n"
   ]
  },
  {
   "cell_type": "markdown",
   "metadata": {},
   "source": [
    "### Filtros de procedimientos\n",
    "Ejecucion de funciones para la bajada de procedimientos de sigipol  tranformando los datos para que se muestren como lo requiere la DNEC"
   ]
  },
  {
   "cell_type": "code",
   "execution_count": 9,
   "metadata": {},
   "outputs": [],
   "source": [
    "df_procedimientos['ID_OPERATIVO'] = excel_bajada_procedimientos.apply(procesar_causa_judicial, axis=1)\n",
    "df_procedimientos['ID_PROCEDIMIENTO'] = df_procedimientos.apply(generar_codigo_sigipol, axis=1)\n",
    "df_procedimientos['UNIDAD_INTERVINIENTE'] = excel_bajada_procedimientos['UOSP']\n",
    "df_procedimientos['DESCRIPCIÓN'] = excel_bajada_procedimientos.apply(procesar_descripcion, axis=1)\n",
    "df_procedimientos['TIPO_INTERVENCION'] = excel_bajada_procedimientos.apply(procesar_tipo, axis=1)\n",
    "df_procedimientos['PROVINCIA'] = excel_bajada_procedimientos.apply(procesar_provincia, axis=1)\n",
    "df_procedimientos['DEPARTAMENTO O PARTIDO'] = excel_bajada_procedimientos.apply(procesar_municipio, axis=1)\n",
    "df_procedimientos['LOCALIDAD'] = \"-\"\n",
    "df_procedimientos['DIRECCION'] = excel_bajada_procedimientos.apply(procesar_direccion, axis=1)\n",
    "df_procedimientos['LATITUD'] = excel_bajada_procedimientos['GEOREFERENCIA_Y']\n",
    "df_procedimientos['LONGITUD'] = excel_bajada_procedimientos['GEOREFERENCIA_X']\n",
    "df_procedimientos['FECHA'] = pd.to_datetime(excel_bajada_procedimientos['DENUNCIAFECHA'], errors='coerce').dt.strftime('%d/%m/%Y')\n",
    "df_procedimientos['HORA'] = pd.to_datetime(excel_bajada_procedimientos['DENUNCIAFECHA'], errors='coerce').dt.strftime('%H:%M')\n",
    "df_procedimientos['FUERZA_INTERVINIENTE'] = \"PSA\"\n",
    "df_procedimientos['ZONA_SEGURIDAD_FRONTERAS'] = \"-\"\n",
    "df_procedimientos['PASO_FRONTERIZO'] = \"-\"\n",
    "df_procedimientos['OTRAS AGENCIAS INTERVINIENTES'] = \"-\"\n",
    "df_procedimientos['Observaciones - Detalles'] = \"-\"\n",
    "\n",
    "\n",
    "df_procedimientos = df_procedimientos[['FUERZA_INTERVINIENTE', 'ID_OPERATIVO', 'ID_PROCEDIMIENTO',\n",
    "                                     'UNIDAD_INTERVINIENTE', 'DESCRIPCIÓN', 'TIPO_INTERVENCION',\n",
    "                                     'PROVINCIA', 'DEPARTAMENTO O PARTIDO', 'LOCALIDAD', 'DIRECCION',\n",
    "                                     'ZONA_SEGURIDAD_FRONTERAS', 'PASO_FRONTERIZO', 'LATITUD', 'LONGITUD',\n",
    "                                     'FECHA', 'HORA', 'OTRAS AGENCIAS INTERVINIENTES', 'Observaciones - Detalles']]\n",
    "\n",
    "\n"
   ]
  },
  {
   "cell_type": "markdown",
   "metadata": {},
   "source": [
    "### Guardado de informaciópn\n",
    "\n",
    "Ordeno la informacion como de la hoja de procedimientos segun el la plainilla modelo y guardo en la planilla informe "
   ]
  },
  {
   "cell_type": "code",
   "execution_count": 10,
   "metadata": {},
   "outputs": [
    {
     "name": "stdout",
     "output_type": "stream",
     "text": [
      "\n",
      "Archivo Excel 'Planilla_informe.xlsx' modificado con éxito.\n"
     ]
    }
   ],
   "source": [
    "df_geog = pd.concat([df_operaciones, df_procedimientos])\n",
    "\n",
    "\n",
    "nombre_archivo_modelo = \"Planilla_modelo.xlsx\"\n",
    "nombre_archivo_informe = \"Planilla_informe.xlsx\"\n",
    "wb = load_workbook(nombre_archivo_modelo)\n",
    "ws = wb['GEOG. PROCEDIMIENTO']\n",
    "\n",
    "\n",
    "\n",
    "# Escribir los datos del DataFrame desde la fila 4\n",
    "for row_num, row in enumerate(df_geog.itertuples(index=False), start=4):\n",
    "    for col_num, value in enumerate(row, start=2):  # Comienza desde la columna B (número 2)\n",
    "        ws.cell(row=row_num, column=col_num).value = value\n",
    "\n",
    "# Guardar los cambios\n",
    "wb.save(nombre_archivo_informe)\n",
    "\n",
    "print(f\"\\nArchivo Excel '{nombre_archivo_informe}' modificado con éxito.\")"
   ]
  },
  {
   "cell_type": "markdown",
   "metadata": {},
   "source": [
    "Control de salidad de la informacion"
   ]
  },
  {
   "cell_type": "code",
   "execution_count": 11,
   "metadata": {},
   "outputs": [],
   "source": [
    "# Aplicar la función procesar_causa_judicial a la copia\n",
    "\n",
    "# # Contar cuántos casos se procesaron vs. cuántos se mantuvieron igual\n",
    "# procesados = (wb_nueva_hoja['CAUSAJUDICIALNUMERO'] != wb_nueva_hoja['ID_OPERATIVO']).sum()\n",
    "# print(f\"\\nCasos procesados: {procesados}\")\n",
    "# print(f\"Casos sin cambios: {len(wb_nueva_hoja) - procesados}\")\n",
    "\n",
    "\n"
   ]
  }
 ],
 "metadata": {
  "kernelspec": {
   "display_name": "env",
   "language": "python",
   "name": "python3"
  },
  "language_info": {
   "codemirror_mode": {
    "name": "ipython",
    "version": 3
   },
   "file_extension": ".py",
   "mimetype": "text/x-python",
   "name": "python",
   "nbconvert_exporter": "python",
   "pygments_lexer": "ipython3",
   "version": "3.11.5"
  }
 },
 "nbformat": 4,
 "nbformat_minor": 2
}
