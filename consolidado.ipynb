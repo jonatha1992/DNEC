{
 "cells": [
  {
   "cell_type": "markdown",
   "metadata": {},
   "source": [
    "Importante \n",
    "\n",
    "Tener en cuenta bajadas de Procedimientos, Personas Armas, Divisas , vehiculos (secuestrados, ministerio), Narcotrafico general,Objetos y pegar en la carpeta bajadas de fecha del primero del 1 del mes en informar hasta fecha del informe "
   ]
  },
  {
   "cell_type": "markdown",
   "metadata": {},
   "source": [
    "1 -importo las librerias"
   ]
  },
  {
   "cell_type": "code",
   "execution_count": 11,
   "metadata": {
    "notebookRunGroups": {
     "groupValue": "1"
    }
   },
   "outputs": [],
   "source": [
    "import pandas as pd\n",
    "import re\n",
    "import numpy as np\n",
    "from openpyxl import load_workbook"
   ]
  },
  {
   "cell_type": "markdown",
   "metadata": {},
   "source": [
    "2-Coloco los parametros a tener en cuenta para donde se encuentra los archivos de bajada\n"
   ]
  },
  {
   "cell_type": "code",
   "execution_count": 12,
   "metadata": {},
   "outputs": [],
   "source": [
    "FECHA_INICIO = '01/10/2024'\n",
    "FECHA_FINAL = '14/10/2024'\n",
    "ESTADO = \"DISPONIBLE ESTADISTICA\"\n",
    "\n",
    "LUGARES_CATALOGADOS= {\n",
    "                    \"SECTOR RESTRINGIDO\":\t\"SECTOR DE SEGURIDAD RESTRINGIDA AEROPORTUARIA\",\n",
    "                    \"SECTOR PUBLICO\"\t:\"INSTALACIONES DE ACCESO AL PUBLICO GENERAL\",\n",
    "                    \"PERIMETRO DE JURISDICCION\":\t\"PERIMETRO AEROPORTUARIO\",\n",
    "                    \"FUERA DE JURISDICCION\":\t\"DESPLIEGUE\",\n",
    "                    \"TRANSPORTE PUBLICO\": \"TRANSPORTE PUBLICO\",\n",
    "                    \"S/D\": \"S/D\"\n",
    "}\n",
    "\n",
    "UNIDADES_MUNICIPIOS = {\n",
    "    \"EZE\": \"JOSÉ M. EZEIZA\",\n",
    "    \"AER\": \"COMUNA 14\",\n",
    "    \"SFO\": \"SAN FERNANDO\",\n",
    "    \"BHI\": \"BAHÍA BLANCA\",\n",
    "    \"MDP\": \"GENERAL PUEYRREDÓN\",\n",
    "    \"MDZ\": \"LAS HERAS\",\n",
    "    \"COR\": \"CAPITAL\",\n",
    "    \"JUA\": \"9 DE JULIO\",\n",
    "    \"LUI\": \"JUAN MARTÍN DE PUEYRREDÓN\",\n",
    "    \"MLG\": \"MALARGÜE\",\n",
    "    \"RAF\": \"SAN RAFAEL\",\n",
    "    \"RCU\": \"RÍO CUARTO\",\n",
    "    \"SRO\": \"CAPITAL\",\n",
    "    \"JUJ\": \"EL CARMEN\",\n",
    "    \"SAL\": \"LA CAPITAL\",\n",
    "    \"CAT\": \"VALLE VIEJO\",\n",
    "    \"LAR\": \"CAPITAL\",\n",
    "    \"SGO\": \"CAPITAL\",\n",
    "    \"TRH\": \"RÍO HONDO\",\n",
    "    \"TUC\": \"CRUZ ALTA\",\n",
    "    \"IGU\": \"IGUAZÚ\",\n",
    "    \"FSA\": \"FORMOSA\",\n",
    "    \"ROS\": \"ROSARIO\",\n",
    "    \"RCQ\": \"GENERAL OBLIGADO\",\n",
    "    \"POS\": \"CAPITAL\",\n",
    "    \"CRR\": \"CAPITAL\",\n",
    "    \"LIB\": \"PASO DE LOS LIBRES\",\n",
    "    \"PAR\": \"PARANÁ\",\n",
    "    \"RES\": \"SAN FERNANDO\",\n",
    "    \"SVO\": \"LA CAPITAL\",\n",
    "    \"BAR\": \"BARILOCHE\",\n",
    "    \"TRE\": \"RAWSON\",\n",
    "    \"NEU\": \"CONFLUENCIA\",\n",
    "    \"CAL\": \"LAGO ARGENTINO\",\n",
    "    \"CHP\": \"LÁCAR\",\n",
    "    \"CRV\": \"ESCALANTE\",\n",
    "    \"PMY\": \"BIEDMA\",\n",
    "    \"ESQ\": \"FUTALEUFÚ\",\n",
    "    \"GAL\": \"GÜER AIKE\",\n",
    "    \"GDE\": \"RÍO GRANDE\",\n",
    "    \"USU\": \"USHUAIA\",\n",
    "    \"VIE\": \"ADOLFO ALSINA\"\n",
    "}\n",
    "\n",
    "PROVINCIAS = {\n",
    "    \"C.A. BUENOS AIRES\": \"CIUDAD AUTONOMA DE BUENOS AIRES\",\n",
    "    \"BUENOS AIRES\": \"BUENOS AIRES\",\n",
    "    \"SANTA CRUZ\": \"SANTA CRUZ\",\n",
    "    \"SANTA FE\": \"SANTA FE\",\n",
    "    \"MENDOZA\": \"MENDOZA\",\n",
    "    \"TUCUMÁN\": \"TUCUMAN\",\n",
    "    \"TIERRA DEL FUEGO\": \"TIERRA DEL FUEGO ANTARTIDA E ISLAS DEL ATLANTICO SUR\",\n",
    "    \"SALTA\": \"SALTA\",\n",
    "    \"NEUQUÉN\": \"NEUQUEN\",\n",
    "    \"CÓRDOBA\": \"CORDOBA\",\n",
    "    \"LA PAMPA\": \"LA PAMPA\",\n",
    "    \"RÍO NEGRO\": \"RIO NEGRO\",\n",
    "    \"CATAMARCA\": \"CATAMARCA\",\n",
    "    \"MISIONES\": \"MISIONES\",\n",
    "    \"SAN JUAN\": \"SAN JUAN\",\n",
    "    \"CORRIENTES\": \"CORRIENTES\",\n",
    "    \"CHUBUT\": \"CHUBUT\",\n",
    "    \"FORMOSA\": \"FORMOSA\",\n",
    "    \"JUJUY\": \"JUJUY\",\n",
    "    \"SANTIAGO DEL ESTERO\": \"SANTIAGO DEL ESTERO\",\n",
    "    \"LA RIOJA\": \"LA RIOJA\",\n",
    "    \"CHACO\": \"CHACO\",\n",
    "    \"ENTRE RÍOS\": \"ENTRE RIOS\",\n",
    "    \"SAN LUIS\": \"SAN LUIS\"\n",
    "}\n",
    "\n",
    "\n",
    "\n",
    "hoja_procedimientos  = pd.DataFrame()\n",
    "hoja_vehiculos_personas  = pd.DataFrame()\n",
    "hoja_personal_elementos  = pd.DataFrame()\n",
    "hoja_detenidos_aprendidos  = pd.DataFrame()\n",
    "hoja_trafico_personas  = pd.DataFrame()\n",
    "hoja_otros_delitos  = pd.DataFrame()\n",
    "hoja_otros_eventos  = pd.DataFrame()\n",
    "hoja_otros_fallecidos  = pd.DataFrame()\n",
    "hoja_otros_abatidos  = pd.DataFrame()\n",
    "\n",
    "\n",
    "excel_base_informada = pd.DataFrame()"
   ]
  },
  {
   "cell_type": "markdown",
   "metadata": {},
   "source": [
    "3- Transformo los excel de las bajadas de los dataframe para poder procesarlos en posterior"
   ]
  },
  {
   "cell_type": "code",
   "execution_count": 13,
   "metadata": {},
   "outputs": [],
   "source": [
    "excel_bajada_procedimientos = pd.read_excel('bajadas/bajada_general.xls')\n",
    "excel_bajada_arma = pd.read_excel('bajadas/bajada_arma.xls')\n",
    "excel_bajada_vehiculos_secuestros = pd.read_excel('bajadas/bajada_vehiculos_secuestrados.xls')\n",
    "excel_bajada_vehiculos_secuestros_ministerio = pd.read_excel('bajadas/bajada_ministerio_vehiculos.xls')\n",
    "excel_bajada_personas = pd.read_excel('bajadas/bajada_general_persona.xls')\n",
    "excel_bajada_divisas = pd.read_excel('bajadas/bajada_divisas_secuestradas.xls')\n",
    "excel_bajada_narcotrafico = pd.read_excel('bajadas/bajada_general_narcotrafico.xls')\n",
    "excel_bajada_operaciones = pd.read_excel('bajadas/operaciones.xlsx')"
   ]
  },
  {
   "cell_type": "markdown",
   "metadata": {},
   "source": [
    "Leer base de informado de datos leer la base de datos \"data/Base_informada\" y\n"
   ]
  },
  {
   "cell_type": "code",
   "execution_count": 14,
   "metadata": {},
   "outputs": [],
   "source": [
    "# Cargar el archivo Excel con openpyxl\n",
    "\n",
    "excel_base_informada = load_workbook(\"data/Base_informada.xlsx\")\n",
    "hoja = excel_base_informada['GEOG. PROCEDIMIENTO']\n",
    "\n",
    "# Crear una lista para almacenar los datos\n",
    "data = []\n",
    "\n",
    "# Obtener los títulos de las columnas (fila 3, desde la columna B)\n",
    "titulos = [hoja.cell(row=3, column=col).value for col in range(2, hoja.max_column + 1)]\n",
    "\n",
    "# Leer los datos desde la fila 4 en adelante, empezando en la columna B\n",
    "for row in hoja.iter_rows(min_row=4, min_col=2, max_col=hoja.max_column, values_only=True):\n",
    "    data.append(row)\n",
    "\n",
    "# Crear un DataFrame a partir de los datos\n",
    "excel_base_informada = pd.DataFrame(data, columns=titulos)\n",
    "\n"
   ]
  },
  {
   "cell_type": "markdown",
   "metadata": {},
   "source": [
    "Filtrar solo que esta que estan disponible en estadistica y las fechas estipuladas de información "
   ]
  },
  {
   "cell_type": "code",
   "execution_count": 15,
   "metadata": {},
   "outputs": [],
   "source": [
    "# Convertir las fechas de inicio y final a formato datetime\n",
    "fecha_inicio = pd.to_datetime(FECHA_INICIO, format='%d/%m/%Y')\n",
    "fecha_final = pd.to_datetime(FECHA_FINAL, format='%d/%m/%Y')\n",
    "\n",
    "# Filtrar las filas donde el estado del parte es 'DISPONIBLE ESTADISTICA' y la fecha esté en el rango deseado\n",
    "excel_bajada_procedimientos = excel_bajada_procedimientos[\n",
    "    (excel_bajada_procedimientos['ESTADO_PARTE'] == 'DISPONIBLE ESTADISTICA') &\n",
    "    (excel_bajada_procedimientos['DENUNCIAFECHA'] >= fecha_inicio) &\n",
    "    (excel_bajada_procedimientos['DENUNCIAFECHA'] <= fecha_final)\n",
    "].copy()\n",
    "\n",
    "\n",
    "\n"
   ]
  },
  {
   "cell_type": "markdown",
   "metadata": {},
   "source": [
    "Funciones para procesar cada celda y columna del informe "
   ]
  },
  {
   "cell_type": "code",
   "execution_count": 16,
   "metadata": {},
   "outputs": [],
   "source": [
    "def procesar_causa_judicial(row):\n",
    "    causa = row['CAUSAJUDICIALNUMERO']\n",
    "    if pd.isna(causa) or causa in [\"\", \"S/D\", \"A/S\", \"N/C\"]:\n",
    "        return f\"{row['TIPO_CAUSA_INTERNA']} {row['CAUSA_INTERNA_NUMERO']}\".strip()\n",
    "    \n",
    "    causa_str = str(causa).strip()\n",
    "    \n",
    "    prefijos = [\"NRO.\", \"N°\", \"EXPT\", \"EXPEDIENTE\", \"CAUSA\"]\n",
    "    \n",
    "    for prefijo in prefijos:\n",
    "        if causa_str.upper().startswith(prefijo):\n",
    "            causa_str = causa_str[len(prefijo):].strip()\n",
    "    \n",
    "    # Eliminar cualquier carácter que no sea número, letra o /ML\n",
    "    causa_str = re.sub(r'[^\\w/]', '', causa_str)\n",
    "    \n",
    "    return causa_str\n",
    "\n",
    "contador_global_sigipol = {}\n",
    "def generar_codigo_sigipol(row):\n",
    "    id_operativo = row['ID_OPERATIVO']\n",
    "    if id_operativo not in contador_global_sigipol:\n",
    "        contador_global_sigipol[id_operativo] = 0\n",
    "    contador_global_sigipol[id_operativo] += 1\n",
    "    contador = contador_global_sigipol[id_operativo]\n",
    "    return id_operativo + \" (\" + str(contador) + \")\"\n",
    "\n",
    "\n",
    "contador_global_oper = {}\n",
    "def generar_codigo_oper(row):\n",
    "    id_operativo = row['ID_OPERATIVO']\n",
    "    if id_operativo not in contador_global_oper:\n",
    "        contador_global_oper[id_operativo] = 0\n",
    "    contador_global_oper[id_operativo] += 1\n",
    "    contador = contador_global_oper[id_operativo]\n",
    "    return id_operativo + \" (\" + str(contador) + \")\"\n",
    "\n",
    "    \n",
    "\n",
    "def procesar_descripcion(row):\n",
    "    tipo = row['TIPO_PROCEDIMIENTO']\n",
    "    if tipo == \"DENUNCIA\":\n",
    "        return \"DENUNCIA POLICIAL\"\n",
    "    elif tipo == \"CONTROL PREVENTIVO\":\n",
    "        return f\"CONTROL PREVENTIVO - {procesar_lugar(row)}\"\n",
    "    elif tipo == \"ORDEN DE ALLANAMIENTO\":\n",
    "        return \"ORDEN DE ALLANAMIENTO\"\n",
    "    elif tipo == \"ORDEN DE ALLANAMIENTO / DETENCIÓN\":\n",
    "        return \"ORDEN DE ALLANAMIENTO\"\n",
    "    else:\n",
    "        return \"OTRO MANDATO JUDICIAL\"\n",
    "\n",
    "\n",
    "def procesar_tipo(row):\n",
    "    tipo = row['TIPO_PROCEDIMIENTO']\n",
    "    if pd.isna(tipo):\n",
    "        return \"\"\n",
    "    elif tipo == \"DENUNCIA\"  or tipo == \"CONTROL PREVENTIVO\" :\n",
    "        return \"ORDEN POLICIAL\"\n",
    "    else:\n",
    "        return \"ORDEN JUDICIAL\"\n",
    "    \n",
    "def procesar_provincia(row):\n",
    "    provincia = row['PROVINCIA']\n",
    "    if pd.isna(provincia):\n",
    "        return \"\"\n",
    "    return PROVINCIAS.get(provincia, provincia)\n",
    "    \n",
    "def procesar_municipio(row):\n",
    "    unidad = row['UOSP']\n",
    "    if pd.isna(unidad):\n",
    "        return \"\"\n",
    "    return UNIDADES_MUNICIPIOS.get(unidad, unidad)\n",
    "\n",
    "def procesar_lugar(row):\n",
    "    lugar = row['LUGAR_CATALOGADO_NIVEL_1']\n",
    "    return  LUGARES_CATALOGADOS[lugar]\n",
    "\n",
    "def procesar_direccion(row):\n",
    "    lugar = row['LUGAR_CATALOGADO_NIVEL_1']\n",
    "    if lugar == \"FUERA DE JURISDICCION\":\n",
    "        return str(row['CALLE']) + \" \" + str(row['NUMERO']) + \", \" + str(row['CIUDAD']) + \" - \" + str(row['PARTIDO'])\n",
    "    else:\n",
    "        return \"\"\n",
    "\n"
   ]
  },
  {
   "cell_type": "markdown",
   "metadata": {},
   "source": [
    "Ejucucion de funciones "
   ]
  },
  {
   "cell_type": "code",
   "execution_count": 17,
   "metadata": {},
   "outputs": [],
   "source": [
    "hoja_procedimientos['ID_OPERATIVO'] = excel_bajada_procedimientos.apply(procesar_causa_judicial, axis=1)\n",
    "hoja_procedimientos['ID_PROCEDIMIENTO'] = hoja_procedimientos.apply(generar_codigo_sigipol, axis=1)\n",
    "hoja_procedimientos['UNIDAD_INTERVINIENTE'] = excel_bajada_procedimientos['UOSP']\n",
    "hoja_procedimientos['DESCRIPCIÓN'] = excel_bajada_procedimientos.apply(procesar_descripcion, axis=1)\n",
    "hoja_procedimientos['TIPO_INTERVENCION'] = excel_bajada_procedimientos.apply(procesar_tipo, axis=1)\n",
    "hoja_procedimientos['PROVINCIA'] = excel_bajada_procedimientos.apply(procesar_provincia, axis=1)\n",
    "hoja_procedimientos['DEPARTAMENTO O PARTIDO'] = excel_bajada_procedimientos.apply(procesar_municipio, axis=1)\n",
    "hoja_procedimientos['LOCALIDAD'] = \"-\"\n",
    "hoja_procedimientos['DIRECCION'] = excel_bajada_procedimientos.apply(procesar_direccion, axis=1)\n",
    "hoja_procedimientos['LATITUD'] = excel_bajada_procedimientos['GEOREFERENCIA_Y']\n",
    "hoja_procedimientos['LONGITUD'] = excel_bajada_procedimientos['GEOREFERENCIA_X']\n",
    "hoja_procedimientos['FECHA'] = pd.to_datetime(excel_bajada_procedimientos['DENUNCIAFECHA'], errors='coerce').dt.strftime('%d/%m/%Y')\n",
    "hoja_procedimientos['HORA'] = pd.to_datetime(excel_bajada_procedimientos['DENUNCIAFECHA'], errors='coerce').dt.strftime('%H:%M')\n",
    "\n",
    "\n",
    "\n",
    "hoja_procedimientos['FUERZA_INTERVINIENTE'] = \"PSA\"\n",
    "hoja_procedimientos['ZONA_SEGURIDAD_FRONTERAS'] = \"-\"\n",
    "hoja_procedimientos['PASO_FRONTERIZO'] = \"-\"\n",
    "hoja_procedimientos['OTRAS AGENCIAS INTERVINIENTES'] = \"-\"\n",
    "hoja_procedimientos['Observaciones - Detalles'] = \"-\"\n"
   ]
  },
  {
   "cell_type": "markdown",
   "metadata": {},
   "source": [
    "Filtrar con la ya informado es decir  filtra con lo nuevo de procedimientos"
   ]
  },
  {
   "cell_type": "code",
   "execution_count": 18,
   "metadata": {},
   "outputs": [],
   "source": [
    "\n",
    "\n",
    "hoja_procedimientos = hoja_procedimientos[\n",
    "    ~hoja_procedimientos['ID_PROCEDIMIENTO'].isin(excel_base_informada['ID_PROCEDIMIENTO'])\n",
    "].copy()\n",
    "\n"
   ]
  },
  {
   "cell_type": "markdown",
   "metadata": {},
   "source": [
    "Acomdamiento de la informacion como de la hoja de procedimientos "
   ]
  },
  {
   "cell_type": "code",
   "execution_count": 19,
   "metadata": {},
   "outputs": [
    {
     "name": "stdout",
     "output_type": "stream",
     "text": [
      "\n",
      "Archivo Excel 'Planilla_informe.xlsx' modificado con éxito.\n"
     ]
    }
   ],
   "source": [
    "\n",
    "hoja_procedimientos = hoja_procedimientos[['FUERZA_INTERVINIENTE', 'ID_OPERATIVO', 'ID_PROCEDIMIENTO',\n",
    "                                     'UNIDAD_INTERVINIENTE', 'DESCRIPCIÓN', 'TIPO_INTERVENCION',\n",
    "                                     'PROVINCIA', 'DEPARTAMENTO O PARTIDO', 'LOCALIDAD', 'DIRECCION',\n",
    "                                     'ZONA_SEGURIDAD_FRONTERAS', 'PASO_FRONTERIZO', 'LATITUD', 'LONGITUD',\n",
    "                                     'FECHA', 'HORA', 'OTRAS AGENCIAS INTERVINIENTES', 'Observaciones - Detalles']]\n",
    "\n",
    "\n",
    "nombre_archivo_modelo = \"Planilla_modelo.xlsx\"\n",
    "nombre_archivo_informe = \"Planilla_informe.xlsx\"\n",
    "wb = load_workbook(nombre_archivo_modelo)\n",
    "ws = wb['GEOG. PROCEDIMIENTO']\n",
    "\n",
    "# Escribir los datos del DataFrame desde la fila 4\n",
    "for row_num, row in enumerate(hoja_procedimientos.itertuples(index=False), start=4):\n",
    "    for col_num, value in enumerate(row, start=2):  # Comienza desde la columna B (número 2)\n",
    "        ws.cell(row=row_num, column=col_num).value = value\n",
    "\n",
    "# Guardar los cambios\n",
    "wb.save(nombre_archivo_informe)\n",
    "\n",
    "print(f\"\\nArchivo Excel '{nombre_archivo_informe}' modificado con éxito.\")"
   ]
  },
  {
   "cell_type": "markdown",
   "metadata": {},
   "source": [
    "Control de salidad de la informacion"
   ]
  },
  {
   "cell_type": "code",
   "execution_count": 20,
   "metadata": {},
   "outputs": [],
   "source": [
    "# Aplicar la función procesar_causa_judicial a la copia\n",
    "\n",
    "# # Contar cuántos casos se procesaron vs. cuántos se mantuvieron igual\n",
    "# procesados = (wb_nueva_hoja['CAUSAJUDICIALNUMERO'] != wb_nueva_hoja['ID_OPERATIVO']).sum()\n",
    "# print(f\"\\nCasos procesados: {procesados}\")\n",
    "# print(f\"Casos sin cambios: {len(wb_nueva_hoja) - procesados}\")\n",
    "\n",
    "\n"
   ]
  }
 ],
 "metadata": {
  "kernelspec": {
   "display_name": "env",
   "language": "python",
   "name": "python3"
  },
  "language_info": {
   "codemirror_mode": {
    "name": "ipython",
    "version": 3
   },
   "file_extension": ".py",
   "mimetype": "text/x-python",
   "name": "python",
   "nbconvert_exporter": "python",
   "pygments_lexer": "ipython3",
   "version": "3.11.5"
  }
 },
 "nbformat": 4,
 "nbformat_minor": 2
}
