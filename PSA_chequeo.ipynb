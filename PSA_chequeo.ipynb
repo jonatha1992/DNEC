{
 "cells": [
  {
   "cell_type": "markdown",
   "id": "347688b1-9909-4bdf-9259-58363a1c1a75",
   "metadata": {},
   "source": [
    "## Levantar la data"
   ]
  },
  {
   "cell_type": "code",
   "execution_count": 1,
   "id": "d1fcbc4f-239d-4002-a2b8-79f1415f32b7",
   "metadata": {
    "tags": []
   },
   "outputs": [
    {
     "data": {
      "text/plain": [
       "'//marte/SSEstadisticaCriminal/44_Proyecto Base Unificada 2024/Data Fuerzas/noviembre/PSA_noviembre_4.xlsx'"
      ]
     },
     "execution_count": 1,
     "metadata": {},
     "output_type": "execute_result"
    }
   ],
   "source": [
    "import pandas as pd\n",
    "import numpy as np\n",
    "import datetime\n",
    "import locale\n",
    "import unicodedata\n",
    "locale.setlocale(locale.LC_TIME, 'es_ES.UTF-8')\n",
    "\n",
    "ruta = \"//marte/SSEstadisticaCriminal/44_Proyecto Base Unificada 2024/Data Fuerzas/\"\n",
    "#\"C:/Users/Usuario/Desktop/Data Fuerzas/\"\n",
    "mes = \"noviembre\"\n",
    "fuerza = \"PSA\"\n",
    "formato = \".xlsx\"\n",
    "\n",
    "semana = \"_4\"\n",
    "\n",
    "# OJO PSA SIEMPRE MANDA EN LOS SEMANALES TODO LA INFO, ES DECIR NO MANDA INCREMENTALES. \n",
    "\n",
    "año = 2024\n",
    "numero_mes = 11\n",
    "ultimo_dia = 27\n",
    "\n",
    "file = ruta + mes + f\"/{fuerza}_{mes}{semana}\" + formato\n",
    "file"
   ]
  },
  {
   "cell_type": "code",
   "execution_count": null,
   "id": "8810df24-0344-45fe-95b4-0bc952d12581",
   "metadata": {},
   "outputs": [
    {
     "name": "stdout",
     "output_type": "stream",
     "text": [
      "procedimiento: Index(['Unnamed: 0', 'FUERZA_INTERVINIENTE', 'ID_OPERATIVO',\n",
      "       'ID_PROCEDIMIENTO', 'UNIDAD_INTERVINIENTE', 'DESCRIPCIÓN',\n",
      "       'TIPO_INTERVENCION', 'PROVINCIA', 'DEPARTAMENTO O PARTIDO', 'LOCALIDAD',\n",
      "       'DIRECCION', 'ZONA_SEGURIDAD_FRONTERAS', 'PASO_FRONTERIZO', 'LATITUD',\n",
      "       'LONGITUD', 'FECHA', 'HORA', 'OTRAS AGENCIAS INTERVINIENTES',\n",
      "       'Observaciones - Detalles'],\n",
      "      dtype='object') \n",
      "\n",
      "controlado: Index(['Unnamed: 0', 'FUERZA_INTERVINIENTE', 'ID_OPERATIVO',\n",
      "       'ID_PROCEDIMIENTO', 'UNIDAD_INTERVINIENTE', 'DESCRIPCIÓN',\n",
      "       'TIPO_INTERVENCION', 'VEHICULOS_CONTROLADOS', 'PERSONAS_CONTROLADAS',\n",
      "       'CANT_AVERIGUACIONES_SECUESTRO', 'CANT_SOLICITUDES_ANTECEDENTES'],\n",
      "      dtype='object') \n",
      "\n",
      "elementos: Index(['Unnamed: 0', 'FUERZA_INTERVINIENTE', 'ID_OPERATIVO',\n",
      "       'ID_PROCEDIMIENTO', 'UNIDAD_INTERVINIENTE', 'DESCRIPCIÓN',\n",
      "       'TIPO_INTERVENCION', 'CANT_EFECTIVOS', 'CANT_AUTOS_CAMIONETAS',\n",
      "       'CANT_SCANNERS', 'CANT_EMBARCACIONES', 'CANT_MOTOS', 'CANT_CABALLOS',\n",
      "       'CANT_CANES', 'CANT_MORPHRAPID', 'CANT_LPR'],\n",
      "      dtype='object') \n",
      "\n",
      "detenidos: Index(['Unnamed: 0', 'FUERZA_INTERVINIENTE', 'ID_OPERATIVO',\n",
      "       'ID_PROCEDIMIENTO', 'UNIDAD_INTERVINIENTE', 'DESCRIPCIÓN',\n",
      "       'TIPO_INTERVENCION', 'EDAD', 'SEXO', 'GENERO', 'NACIONALIDAD',\n",
      "       'SITUACION_PROCESAL', 'DELITO_IMPUTADO', 'JUZGADO_INTERVINIENTE',\n",
      "       'CARATULA_CAUSA', 'NUM_CAUSA'],\n",
      "      dtype='object') \n",
      "\n",
      "incautaciones: Index(['Unnamed: 0', 'FUERZA_INTERVINIENTE', 'ID_OPERATIVO',\n",
      "       'ID_PROCEDIMIENTO', 'UNIDAD_INTERVINIENTE', 'DESCRIPCIÓN',\n",
      "       'TIPO_INTERVENCION', 'TIPO_INCAUTACION', 'TIPO', 'SUBTIPO', 'CANTIDAD',\n",
      "       'MEDIDAS', 'AFORO', 'OBSERVACIONES'],\n",
      "      dtype='object') \n",
      "\n",
      "trata: Index(['Unnamed: 0', 'FUERZA_INTERVINIENTE', 'ID_OPERATIVO',\n",
      "       'ID_PROCEDIMIENTO', 'UNIDAD_INTERVINIENTE', 'DESCRIPCIÓN',\n",
      "       'TIPO_INTERVENCION', 'TIPO_DELITO', 'SEXO_VICTIMA', 'GENERO_VICTIMA',\n",
      "       'EDAD_VICTIMA', 'NACIONALIDAD', 'JUZGADO_INTERVINIENTE',\n",
      "       'OBSERVACIONES'],\n",
      "      dtype='object') \n",
      "\n",
      "otros_eventos: Index(['Unnamed: 0', 'FUERZA_INTERVINIENTE', 'ID_OPERATIVO',\n",
      "       'ID_PROCEDIMIENTO', 'UNIDAD_INTERVINIENTE', 'DESCRIPCIÓN',\n",
      "       'TIPO_INTERVENCION', 'TIPO_SINIESTRO', 'CANT_ILESOS', 'CANT_LESIONADOS',\n",
      "       'CANT_MUERTOS', 'OBSERVACIONES'],\n",
      "      dtype='object') \n",
      "\n",
      "otros_delitos: Index(['Unnamed: 0', 'FUERZA_INTERVINIENTE', 'ID_OPERATIVO',\n",
      "       'ID_PROCEDIMIENTO', 'UNIDAD_INTERVINIENTE', 'DESCRIPCIÓN',\n",
      "       'TIPO_INTERVENCION', 'TIPO_OTRO_DELITO', 'GENERO_VICTIMA',\n",
      "       'EDAD_VICTIMA', 'NACIONALIDAD', 'OBSERVACIONES'],\n",
      "      dtype='object') \n",
      "\n",
      "fallecidos: Index(['Unnamed: 0', 'SERVICIO', 'FUERZA_INTERVINIENTE', 'ID_OPERATIVO',\n",
      "       'ID_PROCEDIMIENTO', 'UNIDAD_INTERVINIENTE', 'DESCRIPCION',\n",
      "       'TIPO_INTERVENCION', 'CANT_LESIONADOS', 'CANT_FALLECIDOS', 'PROVINCIA',\n",
      "       'DEPARTAMENTO O PARTIDO', 'LOCALIDAD', 'LATITUD', 'LONGITUD', 'FECHA',\n",
      "       'HORA'],\n",
      "      dtype='object') \n",
      "\n",
      "abatidos: Index(['Unnamed: 0', 'SERVICIO', 'FUERZA_INTERVINIENTE', 'ID_OPERATIVO',\n",
      "       'ID_PROCEDIMIENTO', 'UNIDAD_INTERVINIENTE', 'DESCRIPCION',\n",
      "       'TIPO_INTERVENCION', 'EDAD', 'SEXO', 'NACIONALIDAD',\n",
      "       'TERCEROS DAMNIFICADOS', 'PROVINCIA', 'DEPARTAMENTO O PARTIDO',\n",
      "       'LOCALIDAD', 'LATITUD', 'LONGITUD', 'FECHA', 'HORA'],\n",
      "      dtype='object') \n",
      "\n"
     ]
    }
   ],
   "source": [
    "header = 2\n",
    "\n",
    "procedimiento = pd.read_excel(file, header=header, sheet_name=\"GEOG. PROCEDIMIENTO\")\n",
    "controlado = pd.read_excel(file, header=header, sheet_name=\"VEHI. Y PERSO. CONTROLADAS\")\n",
    "elementos = pd.read_excel(file, header=header, sheet_name=\"PERSONAL Y ELEMENTOS AFECTADOS\")\n",
    "detenidos = pd.read_excel(file, header=header, sheet_name=\"DETENIDOS Y APREHENDIDOS\")\n",
    "incautaciones = pd.read_excel(file, header=header, sheet_name=\"INCAUTACIONES\")\n",
    "try:\n",
    "    trata = pd.read_excel(file, header=header, sheet_name=\"TRATA O TRAFIC PERSONAS\")\n",
    "except ValueError:\n",
    "    trata = pd.read_excel(file, header=header, sheet_name=\"TRATA O TRAFICO PERSONAS\")\n",
    "otros_eventos = pd.read_excel(file, header=header, sheet_name=\"OTROS EVENTOS\")\n",
    "otros_delitos = pd.read_excel(file, header=header, sheet_name=\"OTROS DELITOS\")\n",
    "fallecidos = pd.read_excel(file, header=header, sheet_name=\"FALLECIDOS\")\n",
    "fallecidos = fallecidos.rename(columns={\"FUERZA DE SEGURIDAD\": \"FUERZA_INTERVINIENTE\"})\n",
    "abatidos = pd.read_excel(file, header=header, sheet_name=\"ABATIDOS\")\n",
    "abatidos = abatidos.rename(columns={\"FUERZA DE SEGURIDAD\": \"FUERZA_INTERVINIENTE\"})\n",
    "\n",
    "# print(\"procedimiento:\", procedimiento.columns, \"\\n\")\n",
    "# print(\"controlado:\", controlado.columns, \"\\n\")\n",
    "# print(\"elementos:\", elementos.columns, \"\\n\")\n",
    "# print(\"detenidos:\", detenidos.columns, \"\\n\")\n",
    "# print(\"incautaciones:\", incautaciones.columns, \"\\n\")\n",
    "# print(\"trata:\", trata.columns, \"\\n\")\n",
    "# print(\"otros_eventos:\", otros_eventos.columns, \"\\n\")\n",
    "# print(\"otros_delitos:\", otros_delitos.columns, \"\\n\")\n",
    "# print(\"fallecidos:\", fallecidos.columns, \"\\n\")\n",
    "# print(\"abatidos:\", abatidos.columns, \"\\n\")"
   ]
  },
  {
   "cell_type": "code",
   "execution_count": 1,
   "id": "04092bb1-f3d5-4615-8a14-3a3ad6cec23b",
   "metadata": {},
   "outputs": [],
   "source": [
    "## Fecha"
   ]
  },
  {
   "cell_type": "code",
   "execution_count": 4,
   "id": "71015987-5d97-4a23-ac1b-a0459a11af00",
   "metadata": {},
   "outputs": [
    {
     "name": "stdout",
     "output_type": "stream",
     "text": [
      "desde: 2024-11-01, hasta: max_date = 2024-11-26\n"
     ]
    },
    {
     "data": {
      "text/plain": [
       "array([datetime.date(2024, 11, 1), datetime.date(2024, 11, 2),\n",
       "       datetime.date(2024, 11, 3), datetime.date(2024, 11, 4),\n",
       "       datetime.date(2024, 11, 5), datetime.date(2024, 11, 6),\n",
       "       datetime.date(2024, 11, 7), datetime.date(2024, 11, 8),\n",
       "       datetime.date(2024, 11, 9), datetime.date(2024, 11, 10),\n",
       "       datetime.date(2024, 11, 11), datetime.date(2024, 11, 12),\n",
       "       datetime.date(2024, 11, 13), datetime.date(2024, 11, 14),\n",
       "       datetime.date(2024, 11, 15), datetime.date(2024, 11, 16),\n",
       "       datetime.date(2024, 11, 17), datetime.date(2024, 11, 18),\n",
       "       datetime.date(2024, 11, 19), datetime.date(2024, 11, 20),\n",
       "       datetime.date(2024, 11, 21), datetime.date(2024, 11, 22),\n",
       "       datetime.date(2024, 11, 23), datetime.date(2024, 11, 24),\n",
       "       datetime.date(2024, 11, 25), datetime.date(2024, 11, 26)],\n",
       "      dtype=object)"
      ]
     },
     "execution_count": 4,
     "metadata": {},
     "output_type": "execute_result"
    }
   ],
   "source": [
    "enteros_df = procedimiento[procedimiento['FECHA'].apply(lambda x: isinstance(x, int))]\n",
    "string_df = procedimiento[procedimiento['FECHA'].apply(lambda x: isinstance(x, str))]\n",
    "fechas_df = procedimiento[procedimiento['FECHA'].apply(lambda x: isinstance(x, datetime.datetime))]\n",
    "\n",
    "if not string_df.empty:\n",
    "    string_df.loc[:, 'FECHA'] = pd.to_datetime(string_df['FECHA'], format='%d/%m/%Y').dt.date\n",
    "\n",
    "if not fechas_df.empty:\n",
    "    fechas_df = fechas_df.copy()\n",
    "    fechas_df['FECHA'] = pd.to_datetime(procedimiento['FECHA'], format='%d/%m/%Y').dt.date\n",
    "\n",
    "if not enteros_df.empty:\n",
    "    enteros_df = enteros_df.copy()\n",
    "    enteros_df['FECHA'] = enteros_df['FECHA'].astype(int)\n",
    "    enteros_df.loc[:, 'FECHA'] = pd.to_datetime(enteros_df['FECHA'], origin='1899-12-30', unit='D').dt.date\n",
    "\n",
    "procedimiento_casted = pd.concat([fechas_df, enteros_df, string_df]).sort_values(by='FECHA')\n",
    "\n",
    "if len(procedimiento) != len(procedimiento_casted):\n",
    "    print(\"warning: se perdieron filas en el casting\")\n",
    "\n",
    "print(f\"desde: {procedimiento_casted['FECHA'].min()}, hasta: max_date = {procedimiento_casted['FECHA'].max()}\")\n",
    "\n",
    "\n",
    "\n",
    "procedimiento_filtered = procedimiento_casted[\n",
    "# Linea para cuando las semana no tienen distintos meses\n",
    "(procedimiento_casted['FECHA'] >= datetime.date(año, numero_mes, 1)) & (procedimiento_casted['FECHA'] <= datetime.date(año, numero_mes, ultimo_dia))]\n",
    "\n",
    "# Linea para cuando las semana tienen distintos meses modificar el mes en el primera poniendo el mes anterior\n",
    "#(procedimiento_casted['FECHA'] >= datetime.date(año, 10, 1)) & (procedimiento_casted['FECHA'] <= datetime.date(año, numero_mes, ultimo_dia))]\n",
    "\n",
    "fechas_fuera_de_rango = len(procedimiento) - len(procedimiento_filtered)\n",
    "\n",
    "if fechas_fuera_de_rango != 0:\n",
    "    print(f\"warning: se perdieron {fechas_fuera_de_rango} filas en el filtro\")\n",
    "\n",
    "procedimiento_filtered['FECHA'].unique()"
   ]
  },
  {
   "cell_type": "markdown",
   "id": "610be6db-860a-4838-8dc2-09efb12bb2de",
   "metadata": {},
   "source": [
    "## ID y columnas"
   ]
  },
  {
   "cell_type": "code",
   "execution_count": 5,
   "id": "64c8f557-da68-4198-8d53-b3afff1c0576",
   "metadata": {},
   "outputs": [
    {
     "name": "stderr",
     "output_type": "stream",
     "text": [
      "C:\\Users\\paulo.dutra\\AppData\\Local\\Temp\\ipykernel_18352\\3250486245.py:18: FutureWarning: Downcasting behavior in `replace` is deprecated and will be removed in a future version. To retain the old behavior, explicitly call `result.infer_objects(copy=False)`. To opt-in to the future behavior, set `pd.set_option('future.no_silent_downcasting', True)`\n",
      "  df.replace('-', np.nan, inplace=True)\n",
      "C:\\Users\\paulo.dutra\\AppData\\Local\\Temp\\ipykernel_18352\\3250486245.py:18: FutureWarning: Downcasting behavior in `replace` is deprecated and will be removed in a future version. To retain the old behavior, explicitly call `result.infer_objects(copy=False)`. To opt-in to the future behavior, set `pd.set_option('future.no_silent_downcasting', True)`\n",
      "  df.replace('-', np.nan, inplace=True)\n",
      "C:\\Users\\paulo.dutra\\AppData\\Local\\Temp\\ipykernel_18352\\3250486245.py:18: FutureWarning: Downcasting behavior in `replace` is deprecated and will be removed in a future version. To retain the old behavior, explicitly call `result.infer_objects(copy=False)`. To opt-in to the future behavior, set `pd.set_option('future.no_silent_downcasting', True)`\n",
      "  df.replace('-', np.nan, inplace=True)\n",
      "C:\\Users\\paulo.dutra\\AppData\\Local\\Temp\\ipykernel_18352\\3250486245.py:18: FutureWarning: Downcasting behavior in `replace` is deprecated and will be removed in a future version. To retain the old behavior, explicitly call `result.infer_objects(copy=False)`. To opt-in to the future behavior, set `pd.set_option('future.no_silent_downcasting', True)`\n",
      "  df.replace('-', np.nan, inplace=True)\n",
      "C:\\Users\\paulo.dutra\\AppData\\Local\\Temp\\ipykernel_18352\\3250486245.py:18: FutureWarning: Downcasting behavior in `replace` is deprecated and will be removed in a future version. To retain the old behavior, explicitly call `result.infer_objects(copy=False)`. To opt-in to the future behavior, set `pd.set_option('future.no_silent_downcasting', True)`\n",
      "  df.replace('-', np.nan, inplace=True)\n",
      "C:\\Users\\paulo.dutra\\AppData\\Local\\Temp\\ipykernel_18352\\3250486245.py:18: FutureWarning: Downcasting behavior in `replace` is deprecated and will be removed in a future version. To retain the old behavior, explicitly call `result.infer_objects(copy=False)`. To opt-in to the future behavior, set `pd.set_option('future.no_silent_downcasting', True)`\n",
      "  df.replace('-', np.nan, inplace=True)\n",
      "C:\\Users\\paulo.dutra\\AppData\\Local\\Temp\\ipykernel_18352\\3250486245.py:18: FutureWarning: Downcasting behavior in `replace` is deprecated and will be removed in a future version. To retain the old behavior, explicitly call `result.infer_objects(copy=False)`. To opt-in to the future behavior, set `pd.set_option('future.no_silent_downcasting', True)`\n",
      "  df.replace('-', np.nan, inplace=True)\n",
      "C:\\Users\\paulo.dutra\\AppData\\Local\\Temp\\ipykernel_18352\\3250486245.py:18: FutureWarning: Downcasting behavior in `replace` is deprecated and will be removed in a future version. To retain the old behavior, explicitly call `result.infer_objects(copy=False)`. To opt-in to the future behavior, set `pd.set_option('future.no_silent_downcasting', True)`\n",
      "  df.replace('-', np.nan, inplace=True)\n",
      "C:\\Users\\paulo.dutra\\AppData\\Local\\Temp\\ipykernel_18352\\3250486245.py:18: FutureWarning: Downcasting behavior in `replace` is deprecated and will be removed in a future version. To retain the old behavior, explicitly call `result.infer_objects(copy=False)`. To opt-in to the future behavior, set `pd.set_option('future.no_silent_downcasting', True)`\n",
      "  df.replace('-', np.nan, inplace=True)\n",
      "C:\\Users\\paulo.dutra\\AppData\\Local\\Temp\\ipykernel_18352\\3250486245.py:18: FutureWarning: Downcasting behavior in `replace` is deprecated and will be removed in a future version. To retain the old behavior, explicitly call `result.infer_objects(copy=False)`. To opt-in to the future behavior, set `pd.set_option('future.no_silent_downcasting', True)`\n",
      "  df.replace('-', np.nan, inplace=True)\n"
     ]
    }
   ],
   "source": [
    "df = [\n",
    "    procedimiento_filtered,\n",
    "    controlado,\n",
    "    elementos,\n",
    "    detenidos,\n",
    "    incautaciones,\n",
    "    trata,\n",
    "    otros_eventos,\n",
    "    otros_delitos,\n",
    "    fallecidos,\n",
    "    abatidos\n",
    "]\n",
    "\n",
    "def clean_df(df):\n",
    "    df = df.copy()\n",
    "    df = df.loc[:, ~df.columns.str.startswith('unnamed')]\n",
    "        \n",
    "    df.replace('-', np.nan, inplace=True)\n",
    "    df.replace('- ', np.nan, inplace=True)\n",
    "    df.replace(' -', np.nan, inplace=True)\n",
    "    df.replace(' - ', np.nan, inplace=True)\n",
    "    df.replace('--', np.nan, inplace=True)\n",
    "    df.replace('-- ', np.nan, inplace=True)\n",
    "    df.replace(' --', np.nan, inplace=True)\n",
    "    df.replace(' -- ', np.nan, inplace=True)\n",
    "    \n",
    "    df.rename(columns=lambda x: x.lower().replace(' o ', '_').replace(' - ', '_').replace(' ', '_'), inplace=True)\n",
    "    \n",
    "    df[['fuerza_interviniente', 'id_operativo', 'id_procedimiento']] = df[['fuerza_interviniente', 'id_operativo', 'id_procedimiento']].astype(str)\n",
    "\n",
    "    df['id'] = df['fuerza_interviniente'] + '_' + df['id_operativo'] + '_' + df['id_procedimiento']\n",
    "\n",
    "    df = df[df['id'] != 'nan_nan_nan']\n",
    "    \n",
    "    return df\n",
    "\n",
    "df_cleaned = [] \n",
    "\n",
    "for i in df:\n",
    "    df_cleaned.append(clean_df(i))\n",
    "\n",
    "keys = [\n",
    "    \"procedimiento\",\n",
    "    \"controlado\",\n",
    "    \"elementos\",\n",
    "    \"detenidos\",\n",
    "    \"incautaciones\",\n",
    "    \"trata\",\n",
    "    \"otros_eventos\",\n",
    "    \"otros_delitos\",\n",
    "    \"fallecidos\",\n",
    "    \"abatidos\"\n",
    "]\n",
    "\n",
    "df_dict = {}\n",
    "\n",
    "for key, value in zip(keys, df_cleaned):\n",
    "    df_dict[key] = clean_df(value)\n",
    "\n",
    "df_dict['procedimiento']['provincia'] = df_dict['procedimiento']['provincia'].str.upper()"
   ]
  },
  {
   "cell_type": "code",
   "execution_count": 6,
   "id": "6def1a05-478b-467a-a53c-c638db994a35",
   "metadata": {},
   "outputs": [
    {
     "data": {
      "text/plain": [
       "'fallecidos, abatidos'"
      ]
     },
     "execution_count": 6,
     "metadata": {},
     "output_type": "execute_result"
    }
   ],
   "source": [
    "df_vacío = []\n",
    "for key, value in df_dict.items():\n",
    "    if value.empty:\n",
    "        df_vacío.append(key)\n",
    "        \n",
    "df_vacío = ', '.join(df_vacío)\n",
    "df_vacío"
   ]
  },
  {
   "cell_type": "code",
   "execution_count": 7,
   "id": "f76db54f",
   "metadata": {},
   "outputs": [
    {
     "name": "stdout",
     "output_type": "stream",
     "text": [
      "No hay id repetidos en envíos anteriores\n"
     ]
    }
   ],
   "source": [
    "## Chequea id repetidos en envíos anteriores\n",
    "\n",
    "id_file = ruta + \"produccion/id.csv\"\n",
    "\n",
    "id_df = pd.read_csv(id_file)\n",
    "\n",
    "if not id_df.empty:\n",
    "    \n",
    "    id_df = id_df[id_df.fuerza_interviniente == fuerza]\n",
    "    \n",
    "    # OJO PSA SIEMPRE MANDA EN LOS SEMANALES TODO LA INFO, ES DECIR NO MANDA INCREMENTALES. \n",
    "    \n",
    "    id_df = id_df[id_df.mes != mes]\n",
    "    valores_repetidos = df_dict['procedimiento']['id'].isin(id_df['id'])\n",
    "    repetidos = df_dict['procedimiento'][valores_repetidos]\n",
    "    \n",
    "    \n",
    "    if not repetidos.empty:\n",
    "        display(repetidos[[\n",
    "            \"fuerza_interviniente\",\n",
    "            \"id_operativo\",\n",
    "            \"id_procedimiento\",\n",
    "            \"id\",\n",
    "            \"fecha\",\n",
    "        ]].sort_values(by='fecha', ascending=True))\n",
    "        \n",
    "    else:\n",
    "        print(\"No hay id repetidos en envíos anteriores\")\n",
    "\n",
    "else:\n",
    "    print(\"id_df vacío\")"
   ]
  },
  {
   "cell_type": "markdown",
   "id": "ab8c2174-6c65-4008-8b4f-52d87cee59cc",
   "metadata": {},
   "source": [
    "## Provincias"
   ]
  },
  {
   "cell_type": "code",
   "execution_count": 8,
   "id": "60015bc3-4642-4425-a9ea-e61403b53e85",
   "metadata": {},
   "outputs": [],
   "source": [
    "provincias_map = {\n",
    "    \"TIERRA DEL FUEGO, ANTÁRTIDA E ISLAS DEL ATLÁNTICO SUR\": \"TIERRA DEL FUEGO\",\n",
    "    \"TIERRA DEL FUEGO, ANTARTIDA E ISLAS DEL ATLÁNTICO SUR\": \"TIERRA DEL FUEGO\",\n",
    "    \"TIERRA DEL FUEGO, ANTÁRTIDA E ISLAS DEL ATLANTICO SUR\": \"TIERRA DEL FUEGO\",\n",
    "    \"TIERRA DEL FUEGO, ANTARTIDA E ISLAS DEL ATLANTICO SUR\": \"TIERRA DEL FUEGO\",\n",
    "    \"TIERRA DEL FUEGO ANTÁRTIDA E ISLAS DEL ATLÁNTICO SUR\": \"TIERRA DEL FUEGO\",\n",
    "    \"TIERRA DEL FUEGO ANTARTIDA E ISLAS DEL ATLÁNTICO SUR\": \"TIERRA DEL FUEGO\",\n",
    "    \"TIERRA DEL FUEGO ANTÁRTIDA E ISLAS DEL ATLANTICO SUR\": \"TIERRA DEL FUEGO\",\n",
    "    \"TIERRA DEL FUEGO ANTARTIDA E ISLAS DEL ATLANTICO SUR\": \"TIERRA DEL FUEGO\",\n",
    "    \"TUCUMÁN\": \"TUCUMAN\",\n",
    "    \"CIUDAD AUTÓNOMA DE BUENOS AIRES\": \"CIUDAD AUTONOMA DE BUENOS AIRES\",\n",
    "    \"CAPITAL FEDERAL\": \"CIUDAD AUTONOMA DE BUENOS AIRES\",\n",
    "    \"CIUDAD DE BUENOS AIRES\": \"CIUDAD AUTONOMA DE BUENOS AIRES\",\n",
    "    \"CÓRDOBA\": \"CORDOBA\",\n",
    "    \"NEUQUÉN\": \"NEUQUEN\",\n",
    "    \"ENTRE RÍOS\": \"ENTRE RIOS\",\n",
    "    \"RÍO NEGRO\": \"RIO NEGRO\",\n",
    "    'DESCONOCIDA': 'SIN GEORREFERENCIAR'\n",
    "}\n",
    "    \n",
    "df_dict['procedimiento'] = df_dict['procedimiento'].replace(provincias_map)\n",
    "df_dict['fallecidos'] = df_dict['fallecidos'].replace(provincias_map)\n",
    "df_dict['abatidos'] = df_dict['abatidos'].replace(provincias_map)\n",
    "\n",
    "df_dict['procedimiento']['provincia'] = df_dict['procedimiento']['provincia'].fillna(\"SIN GEORREFERENCIAR\")\n",
    "df_dict['fallecidos']['provincia'] = df_dict['fallecidos']['provincia'].fillna(\"SIN GEORREFERENCIAR\")\n",
    "df_dict['abatidos']['provincia'] = df_dict['abatidos']['provincia'].fillna(\"SIN GEORREFERENCIAR\")"
   ]
  },
  {
   "cell_type": "code",
   "execution_count": 9,
   "id": "79720294",
   "metadata": {},
   "outputs": [],
   "source": [
    "df_dict['procedimiento']['zona_seguridad_fronteras'] = df_dict['procedimiento']['zona_seguridad_fronteras'].fillna('nan').astype(str)\n",
    "df_dict['procedimiento']['zona_seguridad_fronteras'] = df_dict['procedimiento']['zona_seguridad_fronteras'].apply(\n",
    "    lambda x: unicodedata.normalize('NFKD', x).encode('ASCII', 'ignore').decode('utf-8').upper())\n",
    "\n",
    "df_dict['procedimiento']['departamento_partido'] = df_dict['procedimiento']['departamento_partido'].fillna('nan').astype(str)\n",
    "df_dict['procedimiento']['departamento_partido'] = df_dict['procedimiento']['departamento_partido'].apply(\n",
    "    lambda x: unicodedata.normalize('NFKD', x).encode('ASCII', 'ignore').decode('utf-8').upper())\n",
    "\n",
    "df_dict['procedimiento']['localidad'] = df_dict['procedimiento']['localidad'].fillna('nan').astype(str)\n",
    "df_dict['procedimiento']['localidad'] = df_dict['procedimiento']['localidad'].apply(\n",
    "    lambda x: unicodedata.normalize('NFKD', x).encode('ASCII', 'ignore').decode('utf-8').upper())"
   ]
  },
  {
   "cell_type": "code",
   "execution_count": 10,
   "id": "2e881843-7e7c-4541-b089-2b0093fe7483",
   "metadata": {},
   "outputs": [
    {
     "data": {
      "text/plain": [
       "array(['CHUBUT', 'SANTA CRUZ', 'SANTA FE ', 'BUENOS AIRES',\n",
       "       'CIUDAD AUTONOMA DE BUENOS AIRES', 'MISIONES', 'MENDOZA',\n",
       "       'FORMOSA', 'NEUQUEN', 'RIO NEGRO', 'TIERRA DEL FUEGO',\n",
       "       'SANTIAGO DEL ESTERO', 'CHACO', 'CORDOBA', 'SALTA', 'TUCUMAN',\n",
       "       'SANTA FE', 'LA RIOJA', 'CATAMARCA', 'SAN JUAN', 'ENTRE RIOS',\n",
       "       'JUJUY'], dtype=object)"
      ]
     },
     "execution_count": 10,
     "metadata": {},
     "output_type": "execute_result"
    }
   ],
   "source": [
    "df_dict['procedimiento']['provincia'].unique()"
   ]
  },
  {
   "cell_type": "markdown",
   "id": "bb51ee02-4c51-4b88-89bc-5d3a387f3b1c",
   "metadata": {},
   "source": [
    "## Coordenadas"
   ]
  },
  {
   "cell_type": "code",
   "execution_count": 11,
   "id": "49e19a9f-05c3-4ef8-8455-45f6a2b7e630",
   "metadata": {},
   "outputs": [
    {
     "name": "stderr",
     "output_type": "stream",
     "text": [
      "C:\\Users\\paulo.dutra\\AppData\\Local\\Temp\\ipykernel_18352\\2400963752.py:15: FutureWarning: A value is trying to be set on a copy of a DataFrame or Series through chained assignment using an inplace method.\n",
      "The behavior will change in pandas 3.0. This inplace method will never work because the intermediate object on which we are setting values always behaves as a copy.\n",
      "\n",
      "For example, when doing 'df[col].method(value, inplace=True)', try using 'df.method({col: value}, inplace=True)' or df[col] = df[col].method(value) instead, to perform the operation inplace on the original object.\n",
      "\n",
      "\n",
      "  df_dict['procedimiento']['latitud'].replace('nan', np.nan, inplace=True)\n",
      "C:\\Users\\paulo.dutra\\AppData\\Local\\Temp\\ipykernel_18352\\2400963752.py:16: FutureWarning: A value is trying to be set on a copy of a DataFrame or Series through chained assignment using an inplace method.\n",
      "The behavior will change in pandas 3.0. This inplace method will never work because the intermediate object on which we are setting values always behaves as a copy.\n",
      "\n",
      "For example, when doing 'df[col].method(value, inplace=True)', try using 'df.method({col: value}, inplace=True)' or df[col] = df[col].method(value) instead, to perform the operation inplace on the original object.\n",
      "\n",
      "\n",
      "  df_dict['procedimiento']['longitud'].replace('nan', np.nan, inplace=True)\n"
     ]
    }
   ],
   "source": [
    "def corregir_coordenadas(coordenada):\n",
    "    if isinstance(coordenada, float) and not np.isnan(coordenada):\n",
    "        coordenada = int(coordenada)\n",
    "    if isinstance(coordenada, int):\n",
    "        coordenada = str(coordenada)\n",
    "    if isinstance(coordenada, str) and len(coordenada) >= 4 and coordenada[0] == '-' and coordenada[3] != '.':\n",
    "        coordenada = coordenada[:3] + '.' + coordenada[3:]\n",
    "    if isinstance(coordenada, str) and len(coordenada) >= 4 and coordenada[0] == '-' and coordenada[3] == '.' and coordenada[4] == ',':\n",
    "        coordenada = coordenada[:4] + coordenada[5:]\n",
    "    return coordenada\n",
    "        \n",
    "df_dict['procedimiento']['latitud'] = df_dict['procedimiento']['latitud'].apply(corregir_coordenadas)\n",
    "df_dict['procedimiento']['longitud'] = df_dict['procedimiento']['longitud'].apply(corregir_coordenadas)\n",
    "\n",
    "df_dict['procedimiento']['latitud'].replace('nan', np.nan, inplace=True)\n",
    "df_dict['procedimiento']['longitud'].replace('nan', np.nan, inplace=True)"
   ]
  },
  {
   "cell_type": "code",
   "execution_count": 12,
   "id": "6c5d4b07-4dca-4a60-90c0-39a32886fa8e",
   "metadata": {},
   "outputs": [
    {
     "name": "stdout",
     "output_type": "stream",
     "text": [
      "21\n",
      "Fuera de rango: ninguna. Filas sin coordenada: 187,198,214,226,237,247,258,367,385,403,416,432,444,463,554,568,590,601,614,625,639,\n"
     ]
    }
   ],
   "source": [
    "lat_min, lat_max = -55, -22\n",
    "lon_min, lon_max = -73, -53\n",
    "\n",
    "df_dict['procedimiento']['latitud'] = df_dict['procedimiento']['latitud'].apply(lambda x: float(x) if not pd.isnull(x) else x)\n",
    "df_dict['procedimiento']['longitud'] = df_dict['procedimiento']['longitud'].apply(lambda x: float(x) if not pd.isnull(x) else x)\n",
    "\n",
    "fuera_rango = []\n",
    "for index, row in df_dict['procedimiento'].iterrows():\n",
    "    if (not np.isnan(row['latitud']) and not np.isnan(row['longitud'])) and (not (lat_min <= row['latitud'] <= lat_max) or not (lon_min <= row['longitud'] <= lon_max)):\n",
    "        resultado = f\"Fila {index}: latitud={row['latitud']}, longitud={row['longitud']}. \"\n",
    "        fuera_rango.append(resultado)\n",
    "\n",
    "fuera_rango_cnt = len(fuera_rango)\n",
    "     \n",
    "sin_coordenada = []\n",
    "for index, row in df_dict['procedimiento'].iterrows():\n",
    "    if np.isnan(row['latitud']) or np.isnan(row['longitud']):\n",
    "        resultado = f\"{index},\"\n",
    "        sin_coordenada.append(resultado)\n",
    "        \n",
    "sin_coordenada_cnt = len(sin_coordenada)\n",
    "\n",
    "if fuera_rango == []:\n",
    "    fuera_rango.append(\"ninguna. \")\n",
    "    \n",
    "fuera_rango = [\"Fuera de rango: \"] + fuera_rango\n",
    "fuera_rango = ''.join(fuera_rango)\n",
    "\n",
    "if sin_coordenada == []:\n",
    "    sin_coordenada.append(\"ninguna.\")\n",
    "\n",
    "sin_coordenada = [\"Filas sin coordenada: \"] + sin_coordenada\n",
    "sin_coordenada = ''.join(sin_coordenada)\n",
    "\n",
    "coordenadas = fuera_rango + sin_coordenada\n",
    "coordenadas_cnt = fuera_rango_cnt + sin_coordenada_cnt\n",
    "\n",
    "print(coordenadas_cnt)\n",
    "print(coordenadas)"
   ]
  },
  {
   "cell_type": "markdown",
   "id": "8d64a8f2-7685-44e3-9522-6a2eeb55c5ae",
   "metadata": {},
   "source": [
    "## Datos faltantes"
   ]
  },
  {
   "cell_type": "code",
   "execution_count": 13,
   "id": "350f0273-9c7c-4c35-863c-62d4283bc6b4",
   "metadata": {},
   "outputs": [
    {
     "name": "stdout",
     "output_type": "stream",
     "text": [
      "latitud: 21\n",
      "longitud: 21\n",
      "fecha: 0\n",
      "fechas fuera de rango: 0\n",
      "error fechas: 0\n"
     ]
    }
   ],
   "source": [
    "print(\"latitud:\", df_dict['procedimiento'][\"latitud\"].isnull().sum())\n",
    "print(\"longitud:\", df_dict['procedimiento'][\"longitud\"].isnull().sum())\n",
    "sin_fecha = df_dict['procedimiento'][\"fecha\"].isnull().sum()\n",
    "print(\"fecha:\", sin_fecha)\n",
    "print(\"fechas fuera de rango:\", fechas_fuera_de_rango)\n",
    "error_fechas = sin_fecha + fechas_fuera_de_rango\n",
    "print(\"error fechas:\", error_fechas)"
   ]
  },
  {
   "cell_type": "code",
   "execution_count": 14,
   "id": "6ee082c6-22ac-4444-87de-247ecab666f7",
   "metadata": {},
   "outputs": [
    {
     "data": {
      "text/plain": [
       "641"
      ]
     },
     "execution_count": 14,
     "metadata": {},
     "output_type": "execute_result"
    }
   ],
   "source": [
    "len(df_dict['procedimiento'])"
   ]
  },
  {
   "cell_type": "code",
   "execution_count": 15,
   "id": "e4f01bc3-3b78-4fd8-ab88-882450a8bf4a",
   "metadata": {
    "scrolled": true
   },
   "outputs": [
    {
     "name": "stdout",
     "output_type": "stream",
     "text": [
      "procedimiento: \n",
      "\n",
      "fuerza_interviniente               0\n",
      "id_operativo                       0\n",
      "id_procedimiento                   0\n",
      "unidad_interviniente               0\n",
      "descripción                        0\n",
      "tipo_intervencion                  0\n",
      "provincia                          0\n",
      "departamento_partido               0\n",
      "localidad                          0\n",
      "direccion                        333\n",
      "zona_seguridad_fronteras           0\n",
      "paso_fronterizo                  641\n",
      "latitud                           21\n",
      "longitud                          21\n",
      "fecha                              0\n",
      "hora                               0\n",
      "otras_agencias_intervinientes    606\n",
      "observaciones_detalles           532\n",
      "id                                 0\n",
      "dtype: int64\n",
      "controlado: \n",
      "\n",
      "fuerza_interviniente               0\n",
      "id_operativo                       0\n",
      "id_procedimiento                   0\n",
      "unidad_interviniente               0\n",
      "descripción                        0\n",
      "tipo_intervencion                  0\n",
      "vehiculos_controlados            466\n",
      "personas_controladas             460\n",
      "cant_averiguaciones_secuestro    641\n",
      "cant_solicitudes_antecedentes    477\n",
      "id                                 0\n",
      "dtype: int64\n",
      "elementos: \n",
      "\n",
      "fuerza_interviniente       0\n",
      "id_operativo               0\n",
      "id_procedimiento           0\n",
      "unidad_interviniente       0\n",
      "descripción                0\n",
      "tipo_intervencion          0\n",
      "cant_efectivos            18\n",
      "cant_autos_camionetas    380\n",
      "cant_scanners            566\n",
      "cant_embarcaciones       641\n",
      "cant_motos               641\n",
      "cant_caballos            641\n",
      "cant_canes               639\n",
      "cant_morphrapid          641\n",
      "cant_lpr                 641\n",
      "id                         0\n",
      "dtype: int64\n",
      "detenidos: \n",
      "\n",
      "fuerza_interviniente       0\n",
      "id_operativo               0\n",
      "id_procedimiento           0\n",
      "unidad_interviniente       0\n",
      "descripción                0\n",
      "tipo_intervencion          0\n",
      "edad                     494\n",
      "sexo                     485\n",
      "genero                   485\n",
      "nacionalidad             485\n",
      "situacion_procesal       485\n",
      "delito_imputado          485\n",
      "juzgado_interviniente    487\n",
      "caratula_causa           487\n",
      "num_causa                485\n",
      "id                         0\n",
      "dtype: int64\n",
      "incautaciones: \n",
      "\n",
      "fuerza_interviniente      0\n",
      "id_operativo              0\n",
      "id_procedimiento          0\n",
      "unidad_interviniente      0\n",
      "descripción               0\n",
      "tipo_intervencion         0\n",
      "tipo_incautacion        560\n",
      "tipo                    560\n",
      "subtipo                 654\n",
      "cantidad                560\n",
      "medidas                 577\n",
      "aforo                   784\n",
      "observaciones           624\n",
      "id                        0\n",
      "dtype: int64\n",
      "trata: \n",
      "\n",
      "fuerza_interviniente     0\n",
      "id_operativo             0\n",
      "id_procedimiento         0\n",
      "unidad_interviniente     0\n",
      "descripción              0\n",
      "tipo_intervencion        0\n",
      "tipo_delito              0\n",
      "sexo_victima             0\n",
      "genero_victima           0\n",
      "edad_victima             1\n",
      "nacionalidad             0\n",
      "juzgado_interviniente    0\n",
      "observaciones            2\n",
      "id                       0\n",
      "dtype: int64\n",
      "otros_eventos: \n",
      "\n",
      "fuerza_interviniente    0\n",
      "id_operativo            0\n",
      "id_procedimiento        0\n",
      "unidad_interviniente    0\n",
      "descripción             0\n",
      "tipo_intervencion       0\n",
      "tipo_siniestro          0\n",
      "cant_ilesos             1\n",
      "cant_lesionados         1\n",
      "cant_muertos            1\n",
      "observaciones           0\n",
      "id                      0\n",
      "dtype: int64\n",
      "otros_delitos: \n",
      "\n",
      "fuerza_interviniente      0\n",
      "id_operativo              0\n",
      "id_procedimiento          0\n",
      "unidad_interviniente      0\n",
      "descripción               0\n",
      "tipo_intervencion         0\n",
      "tipo_otro_delito          0\n",
      "genero_victima            0\n",
      "edad_victima              9\n",
      "nacionalidad              0\n",
      "observaciones           143\n",
      "id                        0\n",
      "dtype: int64\n",
      "fallecidos: \n",
      "\n",
      "servicio                0\n",
      "fuerza_interviniente    0\n",
      "id_operativo            0\n",
      "id_procedimiento        0\n",
      "unidad_interviniente    0\n",
      "descripcion             0\n",
      "tipo_intervencion       0\n",
      "cant_lesionados         0\n",
      "cant_fallecidos         0\n",
      "provincia               0\n",
      "departamento_partido    0\n",
      "localidad               0\n",
      "latitud                 0\n",
      "longitud                0\n",
      "fecha                   0\n",
      "hora                    0\n",
      "id                      0\n",
      "dtype: int64\n",
      "abatidos: \n",
      "\n",
      "servicio                 0\n",
      "fuerza_interviniente     0\n",
      "id_operativo             0\n",
      "id_procedimiento         0\n",
      "unidad_interviniente     0\n",
      "descripcion              0\n",
      "tipo_intervencion        0\n",
      "edad                     0\n",
      "sexo                     0\n",
      "nacionalidad             0\n",
      "terceros_damnificados    0\n",
      "provincia                0\n",
      "departamento_partido     0\n",
      "localidad                0\n",
      "latitud                  0\n",
      "longitud                 0\n",
      "fecha                    0\n",
      "hora                     0\n",
      "id                       0\n",
      "dtype: int64\n"
     ]
    }
   ],
   "source": [
    "for key, value in df_dict.items():\n",
    "    print(f'{key}: \\n')\n",
    "    print(df_dict[key].isnull().sum())"
   ]
  },
  {
   "cell_type": "markdown",
   "id": "cde2b9e2-5496-46c2-8633-0a3ff3ae1555",
   "metadata": {},
   "source": [
    "## Inconsistencias de ID"
   ]
  },
  {
   "cell_type": "code",
   "execution_count": 16,
   "id": "4463bd82-1f1d-4085-b450-482dbb53f9fa",
   "metadata": {},
   "outputs": [
    {
     "data": {
      "text/plain": [
       "641"
      ]
     },
     "execution_count": 16,
     "metadata": {},
     "output_type": "execute_result"
    }
   ],
   "source": [
    "total = len(df_dict[\"procedimiento\"])\n",
    "total"
   ]
  },
  {
   "cell_type": "code",
   "execution_count": 17,
   "id": "780a8d95-11a2-4cbf-ae47-534bb8d18a08",
   "metadata": {},
   "outputs": [
    {
     "name": "stdout",
     "output_type": "stream",
     "text": [
      "procedimiento Series([], Name: count, dtype: int64) \n",
      "\n",
      "controlado Series([], Name: count, dtype: int64) \n",
      "\n",
      "elementos Series([], Name: count, dtype: int64) \n",
      "\n",
      "detenidos id\n",
      "PSA_PS-0438-EZE/24_PS-0438-EZE/24-(1)    3\n",
      "PSA_19479/2024_19479/2024-(1)            2\n",
      "PSA_FRO 22822/2016_FRO 22822/2016-(2)    2\n",
      "PSA_64196/2024_64196/2024-(1)            2\n",
      "PSA_FRO 22822/2016_FRO 22822/2016-(1)    2\n",
      "PSA_FPO 7451/2023_FPO 7451/2023-(2)      2\n",
      "PSA_PS-0025-USU/24_PS-0025-USU/24-(1)    2\n",
      "PSA_FRO 22822/2016_FRO 22822/2016-(3)    2\n",
      "PSA_FPO 7451/2023_FPO 7451/2023-(5)      2\n",
      "Name: count, dtype: int64 \n",
      "\n",
      "incautaciones id\n",
      "PSA_PS-0646-AER/24_PS-0646-AER/24-(1)                                                  23\n",
      "PSA_FPO 5319/2024_FPO 5319/2024-(1)                                                    16\n",
      "PSA_PS-0432-EZE/24_PS-0432-EZE/24-(1)                                                  15\n",
      "PSA_PS-0630-AER/24_PS-0630-AER/24-(1)                                                  12\n",
      "PSA_PS-0095-IGU/24_PS-0095-IGU/24-(1)                                                  11\n",
      "PSA_42786/14_42786/14-(1)                                                              10\n",
      "PSA_PS-0673-AER/24_PS-0673-AER/24-(1)                                                  10\n",
      "PSA_FPO 7451/2023_FPO 7451/2023-(4)                                                     8\n",
      "PSA_PS-0679-AER/24_PS-0679-AER/24-(1)                                                   7\n",
      "PSA_424/2023_424/2023-(5)                                                               7\n",
      "PSA_PS-0012-FSA/24_PS-0012-FSA/24-(1)                                                   6\n",
      "PSA_PS-0425-EZE/24_PS-0425-EZE/24-(1)                                                   5\n",
      "PSA_RESTRICCIÓN A LA LIBERTAD-0141-EZE/24_RESTRICCIÓN A LA LIBERTAD-0141-EZE/24-(1)     5\n",
      "PSA_FPO 5398/2024_FPO 5398/2024-(1)                                                     4\n",
      "PSA_64196/2024_64196/2024-(1)                                                           4\n",
      "PSA_FPO 7451/2023_FPO 7451/2023-(3)                                                     4\n",
      "PSA_FPO 7451/2023_FPO 7451/2023-(2)                                                     4\n",
      "PSA_FPO 7451/2023_FPO 7451/2023-(5)                                                     3\n",
      "PSA_PS-0143-COR/24_PS-0143-COR/24-(1)                                                   3\n",
      "PSA_PS-0028-USU/24_PS-0028-USU/24-(1)                                                   2\n",
      "PSA_FPO 7451/2023_FPO 7451/2023-(1)                                                     2\n",
      "PSA_AP-0137-RG4/24_AP-0137-RG4/24-(1)                                                   2\n",
      "PSA_PS-0025-USU/24_PS-0025-USU/24-(1)                                                   2\n",
      "PSA_PS-0160-MDZ/24_PS-0160-MDZ/24-(1)                                                   2\n",
      "Name: count, dtype: int64 \n",
      "\n",
      "trata Series([], Name: count, dtype: int64) \n",
      "\n",
      "otros_eventos Series([], Name: count, dtype: int64) \n",
      "\n",
      "otros_delitos id\n",
      "PSA_PS-0154-MDZ/24_PS-0154-MDZ/24-(1)    2\n",
      "PSA_PS-0679-AER/24_PS-0679-AER/24-(1)    2\n",
      "PSA_PS-0639-AER/24_PS-0639-AER/24-(1)    2\n",
      "PSA_PS-0149-COR/24_PS-0149-COR/24-(2)    2\n",
      "PSA_PS-0078-TUC/24_PS-0078-TUC/24-(1)    2\n",
      "Name: count, dtype: int64 \n",
      "\n",
      "fallecidos Series([], Name: count, dtype: int64) \n",
      "\n",
      "abatidos Series([], Name: count, dtype: int64) \n",
      "\n"
     ]
    }
   ],
   "source": [
    "lista_chequeo = [\"procedimiento\", \"controlado\", \"elementos\", \"otros_eventos\", \"fallecidos\"]\n",
    "duplicados = {}\n",
    "\n",
    "for key, value in df_dict.items():\n",
    "    check = df_dict[key]['id'].value_counts()\n",
    "    check = check.loc[check != 1]\n",
    "    if key in lista_chequeo:\n",
    "        duplicados[key] = (len(check)/total) * 100\n",
    "    print(key, check, \"\\n\")"
   ]
  },
  {
   "cell_type": "code",
   "execution_count": 18,
   "id": "fb5cf5d3-825d-45f2-94c8-cb9ee900cff3",
   "metadata": {},
   "outputs": [
    {
     "name": "stdout",
     "output_type": "stream",
     "text": [
      "{'controlado': array([], dtype=object), 'elementos': array([], dtype=object), 'detenidos': array([], dtype=object), 'incautaciones': array([], dtype=object), 'trata': array([], dtype=object), 'otros_eventos': array([], dtype=object), 'otros_delitos': array([], dtype=object), 'fallecidos': array([], dtype=object), 'abatidos': array([], dtype=object)}\n"
     ]
    }
   ],
   "source": [
    "procedimiento_ids = set(df_dict[\"procedimiento\"][\"id\"])\n",
    "\n",
    "faltante_id = {}\n",
    "for key, df in df_dict.items():\n",
    "    if key != \"procedimiento\":\n",
    "        unique_ids = df[~df[\"id\"].isin(procedimiento_ids)][\"id\"].unique()\n",
    "        faltante_id[key] = unique_ids\n",
    "        \n",
    "print(faltante_id)"
   ]
  },
  {
   "cell_type": "code",
   "execution_count": 19,
   "id": "6af4c70d-d1e7-4085-98a9-3b52b92daaaa",
   "metadata": {},
   "outputs": [
    {
     "name": "stdout",
     "output_type": "stream",
     "text": [
      "641\n",
      "controlado:\n",
      "0\n",
      "0.0\n",
      "elementos:\n",
      "0\n",
      "0.0\n",
      "detenidos:\n",
      "0\n",
      "0.0\n",
      "incautaciones:\n",
      "0\n",
      "0.0\n",
      "trata:\n",
      "0\n",
      "0.0\n",
      "otros_eventos:\n",
      "0\n",
      "0.0\n",
      "otros_delitos:\n",
      "0\n",
      "0.0\n",
      "fallecidos:\n",
      "0\n",
      "0.0\n",
      "abatidos:\n",
      "0\n",
      "0.0\n"
     ]
    }
   ],
   "source": [
    "casos = {}\n",
    "calidad = {}\n",
    "\n",
    "print(total)\n",
    "for key, value in faltante_id.items():\n",
    "    print(f'{key}:')\n",
    "    print(len(value))\n",
    "    casos[key] = len(value)\n",
    "    try:\n",
    "        porcentaje = (len(value)/total) * 100\n",
    "        calidad[key] = porcentaje\n",
    "        print(porcentaje)\n",
    "    except ZeroDivisionError:\n",
    "        porcentaje = 0.0\n",
    "        print(porcentaje)\n",
    "        calidad[key] = porcentaje"
   ]
  },
  {
   "cell_type": "code",
   "execution_count": 20,
   "id": "506a636f-f492-411b-bb77-ed0ff4fbf1bd",
   "metadata": {},
   "outputs": [
    {
     "data": {
      "text/plain": [
       "0"
      ]
     },
     "execution_count": 20,
     "metadata": {},
     "output_type": "execute_result"
    }
   ],
   "source": [
    "sum(casos.values())"
   ]
  },
  {
   "cell_type": "code",
   "execution_count": 21,
   "id": "df171051-1a63-48ba-a07a-17249987a28a",
   "metadata": {},
   "outputs": [
    {
     "data": {
      "text/plain": [
       "{'controlado': 0,\n",
       " 'elementos': 0,\n",
       " 'detenidos': 0,\n",
       " 'incautaciones': 0,\n",
       " 'trata': 0,\n",
       " 'otros_eventos': 0,\n",
       " 'otros_delitos': 0,\n",
       " 'fallecidos': 0,\n",
       " 'abatidos': 0}"
      ]
     },
     "execution_count": 21,
     "metadata": {},
     "output_type": "execute_result"
    }
   ],
   "source": [
    "casos"
   ]
  },
  {
   "cell_type": "code",
   "execution_count": 22,
   "id": "73b63947-e1ff-472a-9fff-dcc26b2cd666",
   "metadata": {},
   "outputs": [
    {
     "data": {
      "text/plain": [
       "0.0"
      ]
     },
     "execution_count": 22,
     "metadata": {},
     "output_type": "execute_result"
    }
   ],
   "source": [
    "sum(calidad.values())"
   ]
  },
  {
   "cell_type": "code",
   "execution_count": 23,
   "id": "ce88d363-db2f-4563-bf01-b4ead636309b",
   "metadata": {},
   "outputs": [
    {
     "data": {
      "text/plain": [
       "{'controlado': 0.0,\n",
       " 'elementos': 0.0,\n",
       " 'detenidos': 0.0,\n",
       " 'incautaciones': 0.0,\n",
       " 'trata': 0.0,\n",
       " 'otros_eventos': 0.0,\n",
       " 'otros_delitos': 0.0,\n",
       " 'fallecidos': 0.0,\n",
       " 'abatidos': 0.0}"
      ]
     },
     "execution_count": 23,
     "metadata": {},
     "output_type": "execute_result"
    }
   ],
   "source": [
    "calidad"
   ]
  },
  {
   "cell_type": "code",
   "execution_count": 24,
   "id": "e8a7f247-332e-45e8-99f7-85ea3481e672",
   "metadata": {},
   "outputs": [
    {
     "data": {
      "text/plain": [
       "{'procedimiento': 0.0,\n",
       " 'controlado': 0.0,\n",
       " 'elementos': 0.0,\n",
       " 'otros_eventos': 0.0,\n",
       " 'fallecidos': 0.0}"
      ]
     },
     "execution_count": 24,
     "metadata": {},
     "output_type": "execute_result"
    }
   ],
   "source": [
    "duplicados"
   ]
  },
  {
   "cell_type": "code",
   "execution_count": 25,
   "id": "5c5ef3fc-bd83-4199-9540-503d559369da",
   "metadata": {},
   "outputs": [],
   "source": [
    "for key in calidad.keys():\n",
    "    if key in duplicados:\n",
    "        calidad[key] = calidad[key] + duplicados[key]"
   ]
  },
  {
   "cell_type": "code",
   "execution_count": 26,
   "id": "a1792d76-87d5-431b-9dee-3287e2fb049b",
   "metadata": {},
   "outputs": [],
   "source": [
    "calidad[\"error fechas\"] = (error_fechas/total) * 100\n",
    "calidad[\"coordenadas\"] = (coordenadas_cnt/total) * 100"
   ]
  },
  {
   "cell_type": "code",
   "execution_count": 27,
   "id": "8523e54b-ce81-4b3a-834d-a731ed506e62",
   "metadata": {},
   "outputs": [
    {
     "name": "stdout",
     "output_type": "stream",
     "text": [
      "3.2761310452418098\n"
     ]
    },
    {
     "data": {
      "text/plain": [
       "{'controlado': 0.0,\n",
       " 'elementos': 0.0,\n",
       " 'detenidos': 0.0,\n",
       " 'incautaciones': 0.0,\n",
       " 'trata': 0.0,\n",
       " 'otros_eventos': 0.0,\n",
       " 'otros_delitos': 0.0,\n",
       " 'fallecidos': 0.0,\n",
       " 'abatidos': 0.0,\n",
       " 'error fechas': 0.0,\n",
       " 'coordenadas': 3.2761310452418098}"
      ]
     },
     "execution_count": 27,
     "metadata": {},
     "output_type": "execute_result"
    }
   ],
   "source": [
    "print(sum(calidad.values()))\n",
    "calidad"
   ]
  },
  {
   "cell_type": "markdown",
   "id": "37821d2e-03aa-4f5d-8bec-0162e3a25f6d",
   "metadata": {},
   "source": [
    "## Resumen"
   ]
  },
  {
   "cell_type": "code",
   "execution_count": 28,
   "id": "3bcd0bac-adc0-4e24-8497-b0d4a8a1a8ef",
   "metadata": {},
   "outputs": [
    {
     "data": {
      "text/html": [
       "<div>\n",
       "<style scoped>\n",
       "    .dataframe tbody tr th:only-of-type {\n",
       "        vertical-align: middle;\n",
       "    }\n",
       "\n",
       "    .dataframe tbody tr th {\n",
       "        vertical-align: top;\n",
       "    }\n",
       "\n",
       "    .dataframe thead th {\n",
       "        text-align: right;\n",
       "    }\n",
       "</style>\n",
       "<table border=\"1\" class=\"dataframe\">\n",
       "  <thead>\n",
       "    <tr style=\"text-align: right;\">\n",
       "      <th></th>\n",
       "      <th>mes</th>\n",
       "      <th>fuerza</th>\n",
       "      <th>procedimientos</th>\n",
       "      <th>casos</th>\n",
       "      <th>porcentaje calidad</th>\n",
       "      <th>error de fechas</th>\n",
       "      <th>fechas_text</th>\n",
       "      <th>error de coordenadas</th>\n",
       "      <th>coordenadas_text</th>\n",
       "      <th>latitud nulas</th>\n",
       "      <th>...</th>\n",
       "      <th>casos_otros_eventos</th>\n",
       "      <th>casos_otros_delitos</th>\n",
       "      <th>calidad_procedimiento</th>\n",
       "      <th>calidad_controlado</th>\n",
       "      <th>calidad_elementos</th>\n",
       "      <th>calidad_detenidos</th>\n",
       "      <th>calidad_incautaciones</th>\n",
       "      <th>calidad_trata</th>\n",
       "      <th>calidad_otros_eventos</th>\n",
       "      <th>calidad_otros_delitos</th>\n",
       "    </tr>\n",
       "  </thead>\n",
       "  <tbody>\n",
       "    <tr>\n",
       "      <th>0</th>\n",
       "      <td>noviembre</td>\n",
       "      <td>PSA</td>\n",
       "      <td>641</td>\n",
       "      <td>0</td>\n",
       "      <td>3.276131</td>\n",
       "      <td>0.0</td>\n",
       "      <td>Sin fecha: 0. Fechas fuera de rango: 0</td>\n",
       "      <td>3.276131</td>\n",
       "      <td>Fuera de rango: ninguna. Filas sin coordenada:...</td>\n",
       "      <td>21</td>\n",
       "      <td>...</td>\n",
       "      <td>0</td>\n",
       "      <td>0</td>\n",
       "      <td>0.0</td>\n",
       "      <td>0.0</td>\n",
       "      <td>0.0</td>\n",
       "      <td>vacío</td>\n",
       "      <td>0.0</td>\n",
       "      <td>0.0</td>\n",
       "      <td>0.0</td>\n",
       "      <td>0.0</td>\n",
       "    </tr>\n",
       "  </tbody>\n",
       "</table>\n",
       "<p>1 rows × 28 columns</p>\n",
       "</div>"
      ],
      "text/plain": [
       "         mes fuerza  procedimientos  casos  porcentaje calidad  \\\n",
       "0  noviembre    PSA             641      0            3.276131   \n",
       "\n",
       "   error de fechas                             fechas_text  \\\n",
       "0              0.0  Sin fecha: 0. Fechas fuera de rango: 0   \n",
       "\n",
       "   error de coordenadas                                   coordenadas_text  \\\n",
       "0              3.276131  Fuera de rango: ninguna. Filas sin coordenada:...   \n",
       "\n",
       "   latitud nulas  ...  casos_otros_eventos  casos_otros_delitos  \\\n",
       "0             21  ...                    0                    0   \n",
       "\n",
       "  calidad_procedimiento  calidad_controlado  calidad_elementos  \\\n",
       "0                   0.0                 0.0                0.0   \n",
       "\n",
       "  calidad_detenidos  calidad_incautaciones  calidad_trata  \\\n",
       "0             vacío                    0.0            0.0   \n",
       "\n",
       "   calidad_otros_eventos  calidad_otros_delitos  \n",
       "0                    0.0                    0.0  \n",
       "\n",
       "[1 rows x 28 columns]"
      ]
     },
     "execution_count": 28,
     "metadata": {},
     "output_type": "execute_result"
    }
   ],
   "source": [
    "calidad_df = pd.DataFrame()\n",
    "\n",
    "calidad_df['mes'] = [mes]\n",
    "calidad_df['fuerza'] = [fuerza]\n",
    "calidad_df['procedimientos'] = [total]\n",
    "calidad_df['casos'] = [sum(casos.values())]\n",
    "calidad_df['porcentaje calidad'] = [sum(calidad.values())]\n",
    "calidad_df['error de fechas'] = calidad[\"error fechas\"]\n",
    "calidad_df['fechas_text'] = [f\"Sin fecha: {sin_fecha}. Fechas fuera de rango: {fechas_fuera_de_rango}\"]\n",
    "calidad_df['error de coordenadas'] = calidad['coordenadas']\n",
    "calidad_df['coordenadas_text'] = coordenadas\n",
    "calidad_df['latitud nulas'] = df_dict['procedimiento'][\"latitud\"].isnull().sum()\n",
    "calidad_df['longitud nulas'] = df_dict['procedimiento'][\"longitud\"].isnull().sum()\n",
    "calidad_df['fechas nulas'] = df_dict['procedimiento'][\"fecha\"].isnull().sum()\n",
    "calidad_df['sin datos'] = df_vacío\n",
    "\n",
    "calidad_df['casos_controlado'] = casos['controlado']\n",
    "calidad_df['casos_elementos'] = casos['elementos']\n",
    "calidad_df['casos_detenidos'] = \"vacío\" #casos['detenidos']\n",
    "calidad_df['casos_incautaciones'] = casos['incautaciones']\n",
    "calidad_df['casos_trata'] = casos['trata']\n",
    "calidad_df['casos_otros_eventos'] = casos['otros_eventos']\n",
    "calidad_df['casos_otros_delitos'] = casos['otros_delitos']\n",
    "\n",
    "calidad_df['calidad_procedimiento'] = duplicados['procedimiento']\n",
    "calidad_df['calidad_controlado'] = calidad['controlado']\n",
    "calidad_df['calidad_elementos'] = calidad['elementos']\n",
    "calidad_df['calidad_detenidos'] = \"vacío\" #calidad['detenidos']\n",
    "calidad_df['calidad_incautaciones'] = calidad['incautaciones']\n",
    "calidad_df['calidad_trata'] = calidad['trata']\n",
    "calidad_df['calidad_otros_eventos'] = calidad['otros_eventos']\n",
    "calidad_df['calidad_otros_delitos'] = calidad['otros_delitos']\n",
    "\n",
    "calidad_df"
   ]
  },
  {
   "cell_type": "code",
   "execution_count": 29,
   "id": "098d7ea1-03ea-47da-a06c-2fe9bcc10f47",
   "metadata": {},
   "outputs": [],
   "source": [
    "calidad_df.to_csv(ruta + mes + f\"/chequeo/chequeo_{fuerza}{semana}.csv\", index=False)"
   ]
  },
  {
   "cell_type": "code",
   "execution_count": 30,
   "id": "47dd4f10-96a1-44f1-bb23-0ce2f9b1c5df",
   "metadata": {
    "tags": []
   },
   "outputs": [],
   "source": [
    "for key, value in df_dict.items():\n",
    "    value.to_csv(ruta + mes + f\"/data controlada/{fuerza}_{mes}{semana}_{key}_controlado.csv\", index=False)"
   ]
  },
  {
   "cell_type": "code",
   "execution_count": null,
   "id": "68759c06-77af-41b6-b67e-27ced909e791",
   "metadata": {},
   "outputs": [],
   "source": []
  }
 ],
 "metadata": {
  "kernelspec": {
   "display_name": ".venv",
   "language": "python",
   "name": "python3"
  },
  "language_info": {
   "codemirror_mode": {
    "name": "ipython",
    "version": 3
   },
   "file_extension": ".py",
   "mimetype": "text/x-python",
   "name": "python",
   "nbconvert_exporter": "python",
   "pygments_lexer": "ipython3",
   "version": "3.11.5"
  }
 },
 "nbformat": 4,
 "nbformat_minor": 5
}
