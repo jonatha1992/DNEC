{
 "cells": [
  {
   "cell_type": "markdown",
   "id": "347688b1-9909-4bdf-9259-58363a1c1a75",
   "metadata": {},
   "source": [
    "## Levantar la data"
   ]
  },
  {
   "cell_type": "code",
   "execution_count": null,
   "id": "d1fcbc4f-239d-4002-a2b8-79f1415f32b7",
   "metadata": {
    "tags": []
   },
   "outputs": [],
   "source": [
    "import pandas as pd\n",
    "import numpy as np\n",
    "import datetime\n",
    "import locale\n",
    "import unicodedata\n",
    "\n",
    "locale.setlocale(locale.LC_TIME, 'es_ES.UTF-8')\n",
    "\n",
    "ruta = \"//marte/SSEstadisticaCriminal/44_Proyecto Base Unificada 2024/Data Fuerzas/\"\n",
    "#\"C:/Users/Usuario/Desktop/Data Fuerzas/\"\n",
    "mes = \"noviembre\"\n",
    "fuerza = \"PSA\"\n",
    "formato = \".xlsx\"\n",
    "\n",
    "semana = \"_4\"\n",
    "\n",
    "# OJO PSA SIEMPRE MANDA EN LOS SEMANALES TODO LA INFO, ES DECIR NO MANDA INCREMENTALES. \n",
    "\n",
    "año = 2024\n",
    "numero_mes = 11\n",
    "ultimo_dia = 27\n",
    "\n",
    "file = ruta + mes + f\"/{fuerza}_{mes}{semana}\" + formato\n",
    "file"
   ]
  },
  {
   "cell_type": "code",
   "execution_count": null,
   "id": "8810df24-0344-45fe-95b4-0bc952d12581",
   "metadata": {},
   "outputs": [],
   "source": [
    "header = 2\n",
    "\n",
    "procedimiento = pd.read_excel(file, header=header, sheet_name=\"GEOG. PROCEDIMIENTO\")\n",
    "controlado = pd.read_excel(file, header=header, sheet_name=\"VEHI. Y PERSO. CONTROLADAS\")\n",
    "elementos = pd.read_excel(file, header=header, sheet_name=\"PERSONAL Y ELEMENTOS AFECTADOS\")\n",
    "detenidos = pd.read_excel(file, header=header, sheet_name=\"DETENIDOS Y APREHENDIDOS\")\n",
    "incautaciones = pd.read_excel(file, header=header, sheet_name=\"INCAUTACIONES\")\n",
    "try:\n",
    "    trata = pd.read_excel(file, header=header, sheet_name=\"TRATA O TRAFIC PERSONAS\")\n",
    "except ValueError:\n",
    "    trata = pd.read_excel(file, header=header, sheet_name=\"TRATA O TRAFICO PERSONAS\")\n",
    "otros_eventos = pd.read_excel(file, header=header, sheet_name=\"OTROS EVENTOS\")\n",
    "otros_delitos = pd.read_excel(file, header=header, sheet_name=\"OTROS DELITOS\")\n",
    "fallecidos = pd.read_excel(file, header=header, sheet_name=\"FALLECIDOS\")\n",
    "fallecidos = fallecidos.rename(columns={\"FUERZA DE SEGURIDAD\": \"FUERZA_INTERVINIENTE\"})\n",
    "abatidos = pd.read_excel(file, header=header, sheet_name=\"ABATIDOS\")\n",
    "abatidos = abatidos.rename(columns={\"FUERZA DE SEGURIDAD\": \"FUERZA_INTERVINIENTE\"})\n",
    "\n",
    "# print(\"procedimiento:\", procedimiento.columns, \"\\n\")\n",
    "# print(\"controlado:\", controlado.columns, \"\\n\")\n",
    "# print(\"elementos:\", elementos.columns, \"\\n\")\n",
    "# print(\"detenidos:\", detenidos.columns, \"\\n\")\n",
    "# print(\"incautaciones:\", incautaciones.columns, \"\\n\")\n",
    "# print(\"trata:\", trata.columns, \"\\n\")\n",
    "# print(\"otros_eventos:\", otros_eventos.columns, \"\\n\")\n",
    "# print(\"otros_delitos:\", otros_delitos.columns, \"\\n\")\n",
    "# print(\"fallecidos:\", fallecidos.columns, \"\\n\")\n",
    "# print(\"abatidos:\", abatidos.columns, \"\\n\")"
   ]
  },
  {
   "cell_type": "code",
   "execution_count": 1,
   "id": "04092bb1-f3d5-4615-8a14-3a3ad6cec23b",
   "metadata": {},
   "outputs": [],
   "source": [
    "## Fecha"
   ]
  },
  {
   "cell_type": "code",
   "execution_count": null,
   "id": "71015987-5d97-4a23-ac1b-a0459a11af00",
   "metadata": {},
   "outputs": [],
   "source": [
    "enteros_df = procedimiento[procedimiento['FECHA'].apply(lambda x: isinstance(x, int))]\n",
    "string_df = procedimiento[procedimiento['FECHA'].apply(lambda x: isinstance(x, str))]\n",
    "fechas_df = procedimiento[procedimiento['FECHA'].apply(lambda x: isinstance(x, datetime.datetime))]\n",
    "\n",
    "if not string_df.empty:\n",
    "    string_df.loc[:, 'FECHA'] = pd.to_datetime(string_df['FECHA'], format='%d/%m/%Y').dt.date\n",
    "\n",
    "if not fechas_df.empty:\n",
    "    fechas_df = fechas_df.copy()\n",
    "    fechas_df['FECHA'] = pd.to_datetime(procedimiento['FECHA'], format='%d/%m/%Y').dt.date\n",
    "\n",
    "if not enteros_df.empty:\n",
    "    enteros_df = enteros_df.copy()\n",
    "    enteros_df['FECHA'] = enteros_df['FECHA'].astype(int)\n",
    "    enteros_df.loc[:, 'FECHA'] = pd.to_datetime(enteros_df['FECHA'], origin='1899-12-30', unit='D').dt.date\n",
    "\n",
    "procedimiento_casted = pd.concat([fechas_df, enteros_df, string_df]).sort_values(by='FECHA')\n",
    "\n",
    "if len(procedimiento) != len(procedimiento_casted):\n",
    "    print(\"warning: se perdieron filas en el casting\")\n",
    "\n",
    "print(f\"desde: {procedimiento_casted['FECHA'].min()}, hasta: max_date = {procedimiento_casted['FECHA'].max()}\")\n",
    "\n",
    "\n",
    "\n",
    "procedimiento_filtered = procedimiento_casted[\n",
    "# Linea para cuando las semana no tienen distintos meses\n",
    "(procedimiento_casted['FECHA'] >= datetime.date(año, numero_mes, 1)) & (procedimiento_casted['FECHA'] <= datetime.date(año, numero_mes, ultimo_dia))]\n",
    "\n",
    "# Linea para cuando las semana tienen distintos meses modificar el mes en el primera poniendo el mes anterior\n",
    "#(procedimiento_casted['FECHA'] >= datetime.date(año, 10, 1)) & (procedimiento_casted['FECHA'] <= datetime.date(año, numero_mes, ultimo_dia))]\n",
    "\n",
    "fechas_fuera_de_rango = len(procedimiento) - len(procedimiento_filtered)\n",
    "\n",
    "if fechas_fuera_de_rango != 0:\n",
    "    print(f\"warning: se perdieron {fechas_fuera_de_rango} filas en el filtro\")\n",
    "\n",
    "procedimiento_filtered['FECHA'].unique()"
   ]
  },
  {
   "cell_type": "markdown",
   "id": "610be6db-860a-4838-8dc2-09efb12bb2de",
   "metadata": {},
   "source": [
    "## ID y columnas"
   ]
  },
  {
   "cell_type": "code",
   "execution_count": null,
   "id": "64c8f557-da68-4198-8d53-b3afff1c0576",
   "metadata": {},
   "outputs": [],
   "source": [
    "df = [\n",
    "    procedimiento_filtered,\n",
    "    controlado,\n",
    "    elementos,\n",
    "    detenidos,\n",
    "    incautaciones,\n",
    "    trata,\n",
    "    otros_eventos,\n",
    "    otros_delitos,\n",
    "    fallecidos,\n",
    "    abatidos\n",
    "]\n",
    "\n",
    "def clean_df(df):\n",
    "    df = df.copy()\n",
    "    df = df.loc[:, ~df.columns.str.startswith('unnamed')]\n",
    "        \n",
    "    df.replace('-', np.nan, inplace=True)\n",
    "    df.replace('- ', np.nan, inplace=True)\n",
    "    df.replace(' -', np.nan, inplace=True)\n",
    "    df.replace(' - ', np.nan, inplace=True)\n",
    "    df.replace('--', np.nan, inplace=True)\n",
    "    df.replace('-- ', np.nan, inplace=True)\n",
    "    df.replace(' --', np.nan, inplace=True)\n",
    "    df.replace(' -- ', np.nan, inplace=True)\n",
    "    \n",
    "    df.rename(columns=lambda x: x.lower().replace(' o ', '_').replace(' - ', '_').replace(' ', '_'), inplace=True)\n",
    "    \n",
    "    df[['fuerza_interviniente', 'id_operativo', 'id_procedimiento']] = df[['fuerza_interviniente', 'id_operativo', 'id_procedimiento']].astype(str)\n",
    "\n",
    "    df['id'] = df['fuerza_interviniente'] + '_' + df['id_operativo'] + '_' + df['id_procedimiento']\n",
    "\n",
    "    df = df[df['id'] != 'nan_nan_nan']\n",
    "    \n",
    "    return df\n",
    "\n",
    "df_cleaned = [] \n",
    "\n",
    "for i in df:\n",
    "    df_cleaned.append(clean_df(i))\n",
    "\n",
    "keys = [\n",
    "    \"procedimiento\",\n",
    "    \"controlado\",\n",
    "    \"elementos\",\n",
    "    \"detenidos\",\n",
    "    \"incautaciones\",\n",
    "    \"trata\",\n",
    "    \"otros_eventos\",\n",
    "    \"otros_delitos\",\n",
    "    \"fallecidos\",\n",
    "    \"abatidos\"\n",
    "]\n",
    "\n",
    "df_dict = {}\n",
    "\n",
    "for key, value in zip(keys, df_cleaned):\n",
    "    df_dict[key] = clean_df(value)\n",
    "\n",
    "df_dict['procedimiento']['provincia'] = df_dict['procedimiento']['provincia'].str.upper()"
   ]
  },
  {
   "cell_type": "code",
   "execution_count": null,
   "id": "6def1a05-478b-467a-a53c-c638db994a35",
   "metadata": {},
   "outputs": [],
   "source": [
    "df_vacío = []\n",
    "for key, value in df_dict.items():\n",
    "    if value.empty:\n",
    "        df_vacío.append(key)\n",
    "        \n",
    "df_vacío = ', '.join(df_vacío)\n",
    "df_vacío"
   ]
  },
  {
   "cell_type": "code",
   "execution_count": null,
   "id": "f76db54f",
   "metadata": {},
   "outputs": [],
   "source": [
    "## Chequea id repetidos en envíos anteriores\n",
    "\n",
    "id_file = ruta + \"produccion/id.csv\"\n",
    "\n",
    "id_df = pd.read_csv(id_file)\n",
    "\n",
    "if not id_df.empty:\n",
    "    \n",
    "    id_df = id_df[id_df.fuerza_interviniente == fuerza]\n",
    "    \n",
    "    # OJO PSA SIEMPRE MANDA EN LOS SEMANALES TODO LA INFO, ES DECIR NO MANDA INCREMENTALES. \n",
    "    \n",
    "    id_df = id_df[id_df.mes != mes]\n",
    "    valores_repetidos = df_dict['procedimiento']['id'].isin(id_df['id'])\n",
    "    repetidos = df_dict['procedimiento'][valores_repetidos]\n",
    "    \n",
    "    \n",
    "    if not repetidos.empty:\n",
    "        display(repetidos[[\n",
    "            \"fuerza_interviniente\",\n",
    "            \"id_operativo\",\n",
    "            \"id_procedimiento\",\n",
    "            \"id\",\n",
    "            \"fecha\",\n",
    "        ]].sort_values(by='fecha', ascending=True))\n",
    "        \n",
    "    else:\n",
    "        print(\"No hay id repetidos en envíos anteriores\")\n",
    "\n",
    "else:\n",
    "    print(\"id_df vacío\")"
   ]
  },
  {
   "cell_type": "markdown",
   "id": "ab8c2174-6c65-4008-8b4f-52d87cee59cc",
   "metadata": {},
   "source": [
    "## Provincias"
   ]
  },
  {
   "cell_type": "code",
   "execution_count": 8,
   "id": "60015bc3-4642-4425-a9ea-e61403b53e85",
   "metadata": {},
   "outputs": [],
   "source": [
    "provincias_map = {\n",
    "    \"TIERRA DEL FUEGO, ANTÁRTIDA E ISLAS DEL ATLÁNTICO SUR\": \"TIERRA DEL FUEGO\",\n",
    "    \"TIERRA DEL FUEGO, ANTARTIDA E ISLAS DEL ATLÁNTICO SUR\": \"TIERRA DEL FUEGO\",\n",
    "    \"TIERRA DEL FUEGO, ANTÁRTIDA E ISLAS DEL ATLANTICO SUR\": \"TIERRA DEL FUEGO\",\n",
    "    \"TIERRA DEL FUEGO, ANTARTIDA E ISLAS DEL ATLANTICO SUR\": \"TIERRA DEL FUEGO\",\n",
    "    \"TIERRA DEL FUEGO ANTÁRTIDA E ISLAS DEL ATLÁNTICO SUR\": \"TIERRA DEL FUEGO\",\n",
    "    \"TIERRA DEL FUEGO ANTARTIDA E ISLAS DEL ATLÁNTICO SUR\": \"TIERRA DEL FUEGO\",\n",
    "    \"TIERRA DEL FUEGO ANTÁRTIDA E ISLAS DEL ATLANTICO SUR\": \"TIERRA DEL FUEGO\",\n",
    "    \"TIERRA DEL FUEGO ANTARTIDA E ISLAS DEL ATLANTICO SUR\": \"TIERRA DEL FUEGO\",\n",
    "    \"TUCUMÁN\": \"TUCUMAN\",\n",
    "    \"CIUDAD AUTÓNOMA DE BUENOS AIRES\": \"CIUDAD AUTONOMA DE BUENOS AIRES\",\n",
    "    \"CAPITAL FEDERAL\": \"CIUDAD AUTONOMA DE BUENOS AIRES\",\n",
    "    \"CIUDAD DE BUENOS AIRES\": \"CIUDAD AUTONOMA DE BUENOS AIRES\",\n",
    "    \"CÓRDOBA\": \"CORDOBA\",\n",
    "    \"NEUQUÉN\": \"NEUQUEN\",\n",
    "    \"ENTRE RÍOS\": \"ENTRE RIOS\",\n",
    "    \"RÍO NEGRO\": \"RIO NEGRO\",\n",
    "    'DESCONOCIDA': 'SIN GEORREFERENCIAR'\n",
    "}\n",
    "    \n",
    "df_dict['procedimiento'] = df_dict['procedimiento'].replace(provincias_map)\n",
    "df_dict['fallecidos'] = df_dict['fallecidos'].replace(provincias_map)\n",
    "df_dict['abatidos'] = df_dict['abatidos'].replace(provincias_map)\n",
    "\n",
    "df_dict['procedimiento']['provincia'] = df_dict['procedimiento']['provincia'].fillna(\"SIN GEORREFERENCIAR\")\n",
    "df_dict['fallecidos']['provincia'] = df_dict['fallecidos']['provincia'].fillna(\"SIN GEORREFERENCIAR\")\n",
    "df_dict['abatidos']['provincia'] = df_dict['abatidos']['provincia'].fillna(\"SIN GEORREFERENCIAR\")"
   ]
  },
  {
   "cell_type": "code",
   "execution_count": 9,
   "id": "79720294",
   "metadata": {},
   "outputs": [],
   "source": [
    "df_dict['procedimiento']['zona_seguridad_fronteras'] = df_dict['procedimiento']['zona_seguridad_fronteras'].fillna('nan').astype(str)\n",
    "df_dict['procedimiento']['zona_seguridad_fronteras'] = df_dict['procedimiento']['zona_seguridad_fronteras'].apply(\n",
    "    lambda x: unicodedata.normalize('NFKD', x).encode('ASCII', 'ignore').decode('utf-8').upper())\n",
    "\n",
    "df_dict['procedimiento']['departamento_partido'] = df_dict['procedimiento']['departamento_partido'].fillna('nan').astype(str)\n",
    "df_dict['procedimiento']['departamento_partido'] = df_dict['procedimiento']['departamento_partido'].apply(\n",
    "    lambda x: unicodedata.normalize('NFKD', x).encode('ASCII', 'ignore').decode('utf-8').upper())\n",
    "\n",
    "df_dict['procedimiento']['localidad'] = df_dict['procedimiento']['localidad'].fillna('nan').astype(str)\n",
    "df_dict['procedimiento']['localidad'] = df_dict['procedimiento']['localidad'].apply(\n",
    "    lambda x: unicodedata.normalize('NFKD', x).encode('ASCII', 'ignore').decode('utf-8').upper())"
   ]
  },
  {
   "cell_type": "code",
   "execution_count": null,
   "id": "2e881843-7e7c-4541-b089-2b0093fe7483",
   "metadata": {},
   "outputs": [],
   "source": [
    "df_dict['procedimiento']['provincia'].unique()"
   ]
  },
  {
   "cell_type": "markdown",
   "id": "bb51ee02-4c51-4b88-89bc-5d3a387f3b1c",
   "metadata": {},
   "source": [
    "## Coordenadas"
   ]
  },
  {
   "cell_type": "code",
   "execution_count": null,
   "id": "49e19a9f-05c3-4ef8-8455-45f6a2b7e630",
   "metadata": {},
   "outputs": [],
   "source": [
    "def corregir_coordenadas(coordenada):\n",
    "    if isinstance(coordenada, float) and not np.isnan(coordenada):\n",
    "        coordenada = int(coordenada)\n",
    "    if isinstance(coordenada, int):\n",
    "        coordenada = str(coordenada)\n",
    "    if isinstance(coordenada, str) and len(coordenada) >= 4 and coordenada[0] == '-' and coordenada[3] != '.':\n",
    "        coordenada = coordenada[:3] + '.' + coordenada[3:]\n",
    "    if isinstance(coordenada, str) and len(coordenada) >= 4 and coordenada[0] == '-' and coordenada[3] == '.' and coordenada[4] == ',':\n",
    "        coordenada = coordenada[:4] + coordenada[5:]\n",
    "    return coordenada\n",
    "        \n",
    "df_dict['procedimiento']['latitud'] = df_dict['procedimiento']['latitud'].apply(corregir_coordenadas)\n",
    "df_dict['procedimiento']['longitud'] = df_dict['procedimiento']['longitud'].apply(corregir_coordenadas)\n",
    "\n",
    "df_dict['procedimiento']['latitud'].replace('nan', np.nan, inplace=True)\n",
    "df_dict['procedimiento']['longitud'].replace('nan', np.nan, inplace=True)"
   ]
  },
  {
   "cell_type": "code",
   "execution_count": null,
   "id": "6c5d4b07-4dca-4a60-90c0-39a32886fa8e",
   "metadata": {},
   "outputs": [],
   "source": [
    "lat_min, lat_max = -55, -22\n",
    "lon_min, lon_max = -73, -53\n",
    "\n",
    "df_dict['procedimiento']['latitud'] = df_dict['procedimiento']['latitud'].apply(lambda x: float(x) if not pd.isnull(x) else x)\n",
    "df_dict['procedimiento']['longitud'] = df_dict['procedimiento']['longitud'].apply(lambda x: float(x) if not pd.isnull(x) else x)\n",
    "\n",
    "fuera_rango = []\n",
    "for index, row in df_dict['procedimiento'].iterrows():\n",
    "    if (not np.isnan(row['latitud']) and not np.isnan(row['longitud'])) and (not (lat_min <= row['latitud'] <= lat_max) or not (lon_min <= row['longitud'] <= lon_max)):\n",
    "        resultado = f\"Fila {index}: latitud={row['latitud']}, longitud={row['longitud']}. \"\n",
    "        fuera_rango.append(resultado)\n",
    "\n",
    "fuera_rango_cnt = len(fuera_rango)\n",
    "     \n",
    "sin_coordenada = []\n",
    "for index, row in df_dict['procedimiento'].iterrows():\n",
    "    if np.isnan(row['latitud']) or np.isnan(row['longitud']):\n",
    "        resultado = f\"{index},\"\n",
    "        sin_coordenada.append(resultado)\n",
    "        \n",
    "sin_coordenada_cnt = len(sin_coordenada)\n",
    "\n",
    "if fuera_rango == []:\n",
    "    fuera_rango.append(\"ninguna. \")\n",
    "    \n",
    "fuera_rango = [\"Fuera de rango: \"] + fuera_rango\n",
    "fuera_rango = ''.join(fuera_rango)\n",
    "\n",
    "if sin_coordenada == []:\n",
    "    sin_coordenada.append(\"ninguna.\")\n",
    "\n",
    "sin_coordenada = [\"Filas sin coordenada: \"] + sin_coordenada\n",
    "sin_coordenada = ''.join(sin_coordenada)\n",
    "\n",
    "coordenadas = fuera_rango + sin_coordenada\n",
    "coordenadas_cnt = fuera_rango_cnt + sin_coordenada_cnt\n",
    "\n",
    "print(coordenadas_cnt)\n",
    "print(coordenadas)"
   ]
  },
  {
   "cell_type": "markdown",
   "id": "8d64a8f2-7685-44e3-9522-6a2eeb55c5ae",
   "metadata": {},
   "source": [
    "## Datos faltantes"
   ]
  },
  {
   "cell_type": "code",
   "execution_count": null,
   "id": "350f0273-9c7c-4c35-863c-62d4283bc6b4",
   "metadata": {},
   "outputs": [],
   "source": [
    "print(\"latitud:\", df_dict['procedimiento'][\"latitud\"].isnull().sum())\n",
    "print(\"longitud:\", df_dict['procedimiento'][\"longitud\"].isnull().sum())\n",
    "sin_fecha = df_dict['procedimiento'][\"fecha\"].isnull().sum()\n",
    "print(\"fecha:\", sin_fecha)\n",
    "print(\"fechas fuera de rango:\", fechas_fuera_de_rango)\n",
    "error_fechas = sin_fecha + fechas_fuera_de_rango\n",
    "print(\"error fechas:\", error_fechas)"
   ]
  },
  {
   "cell_type": "code",
   "execution_count": null,
   "id": "6ee082c6-22ac-4444-87de-247ecab666f7",
   "metadata": {},
   "outputs": [],
   "source": [
    "len(df_dict['procedimiento'])"
   ]
  },
  {
   "cell_type": "code",
   "execution_count": null,
   "id": "e4f01bc3-3b78-4fd8-ab88-882450a8bf4a",
   "metadata": {
    "scrolled": true
   },
   "outputs": [],
   "source": [
    "for key, value in df_dict.items():\n",
    "    print(f'{key}: \\n')\n",
    "    print(df_dict[key].isnull().sum())"
   ]
  },
  {
   "cell_type": "markdown",
   "id": "cde2b9e2-5496-46c2-8633-0a3ff3ae1555",
   "metadata": {},
   "source": [
    "## Inconsistencias de ID"
   ]
  },
  {
   "cell_type": "code",
   "execution_count": null,
   "id": "4463bd82-1f1d-4085-b450-482dbb53f9fa",
   "metadata": {},
   "outputs": [],
   "source": [
    "total = len(df_dict[\"procedimiento\"])\n",
    "total"
   ]
  },
  {
   "cell_type": "code",
   "execution_count": null,
   "id": "780a8d95-11a2-4cbf-ae47-534bb8d18a08",
   "metadata": {},
   "outputs": [],
   "source": [
    "lista_chequeo = [\"procedimiento\", \"controlado\", \"elementos\", \"otros_eventos\", \"fallecidos\"]\n",
    "duplicados = {}\n",
    "\n",
    "for key, value in df_dict.items():\n",
    "    check = df_dict[key]['id'].value_counts()\n",
    "    check = check.loc[check != 1]\n",
    "    if key in lista_chequeo:\n",
    "        duplicados[key] = (len(check)/total) * 100\n",
    "    print(key, check, \"\\n\")"
   ]
  },
  {
   "cell_type": "code",
   "execution_count": null,
   "id": "fb5cf5d3-825d-45f2-94c8-cb9ee900cff3",
   "metadata": {},
   "outputs": [],
   "source": [
    "procedimiento_ids = set(df_dict[\"procedimiento\"][\"id\"])\n",
    "\n",
    "faltante_id = {}\n",
    "for key, df in df_dict.items():\n",
    "    if key != \"procedimiento\":\n",
    "        unique_ids = df[~df[\"id\"].isin(procedimiento_ids)][\"id\"].unique()\n",
    "        faltante_id[key] = unique_ids\n",
    "        \n",
    "print(faltante_id)"
   ]
  },
  {
   "cell_type": "code",
   "execution_count": null,
   "id": "6af4c70d-d1e7-4085-98a9-3b52b92daaaa",
   "metadata": {},
   "outputs": [],
   "source": [
    "casos = {}\n",
    "calidad = {}\n",
    "\n",
    "print(total)\n",
    "for key, value in faltante_id.items():\n",
    "    print(f'{key}:')\n",
    "    print(len(value))\n",
    "    casos[key] = len(value)\n",
    "    try:\n",
    "        porcentaje = (len(value)/total) * 100\n",
    "        calidad[key] = porcentaje\n",
    "        print(porcentaje)\n",
    "    except ZeroDivisionError:\n",
    "        porcentaje = 0.0\n",
    "        print(porcentaje)\n",
    "        calidad[key] = porcentaje"
   ]
  },
  {
   "cell_type": "code",
   "execution_count": null,
   "id": "506a636f-f492-411b-bb77-ed0ff4fbf1bd",
   "metadata": {},
   "outputs": [],
   "source": [
    "sum(casos.values())"
   ]
  },
  {
   "cell_type": "code",
   "execution_count": null,
   "id": "df171051-1a63-48ba-a07a-17249987a28a",
   "metadata": {},
   "outputs": [],
   "source": [
    "casos"
   ]
  },
  {
   "cell_type": "code",
   "execution_count": null,
   "id": "73b63947-e1ff-472a-9fff-dcc26b2cd666",
   "metadata": {},
   "outputs": [],
   "source": [
    "sum(calidad.values())"
   ]
  },
  {
   "cell_type": "code",
   "execution_count": null,
   "id": "ce88d363-db2f-4563-bf01-b4ead636309b",
   "metadata": {},
   "outputs": [],
   "source": [
    "calidad"
   ]
  },
  {
   "cell_type": "code",
   "execution_count": null,
   "id": "e8a7f247-332e-45e8-99f7-85ea3481e672",
   "metadata": {},
   "outputs": [],
   "source": [
    "duplicados"
   ]
  },
  {
   "cell_type": "code",
   "execution_count": 25,
   "id": "5c5ef3fc-bd83-4199-9540-503d559369da",
   "metadata": {},
   "outputs": [],
   "source": [
    "for key in calidad.keys():\n",
    "    if key in duplicados:\n",
    "        calidad[key] = calidad[key] + duplicados[key]"
   ]
  },
  {
   "cell_type": "code",
   "execution_count": 26,
   "id": "a1792d76-87d5-431b-9dee-3287e2fb049b",
   "metadata": {},
   "outputs": [],
   "source": [
    "calidad[\"error fechas\"] = (error_fechas/total) * 100\n",
    "calidad[\"coordenadas\"] = (coordenadas_cnt/total) * 100"
   ]
  },
  {
   "cell_type": "code",
   "execution_count": null,
   "id": "8523e54b-ce81-4b3a-834d-a731ed506e62",
   "metadata": {},
   "outputs": [],
   "source": [
    "print(sum(calidad.values()))\n",
    "calidad"
   ]
  },
  {
   "cell_type": "markdown",
   "id": "37821d2e-03aa-4f5d-8bec-0162e3a25f6d",
   "metadata": {},
   "source": [
    "## Resumen"
   ]
  },
  {
   "cell_type": "code",
   "execution_count": null,
   "id": "3bcd0bac-adc0-4e24-8497-b0d4a8a1a8ef",
   "metadata": {},
   "outputs": [],
   "source": [
    "calidad_df = pd.DataFrame()\n",
    "\n",
    "calidad_df['mes'] = [mes]\n",
    "calidad_df['fuerza'] = [fuerza]\n",
    "calidad_df['procedimientos'] = [total]\n",
    "calidad_df['casos'] = [sum(casos.values())]\n",
    "calidad_df['porcentaje calidad'] = [sum(calidad.values())]\n",
    "calidad_df['error de fechas'] = calidad[\"error fechas\"]\n",
    "calidad_df['fechas_text'] = [f\"Sin fecha: {sin_fecha}. Fechas fuera de rango: {fechas_fuera_de_rango}\"]\n",
    "calidad_df['error de coordenadas'] = calidad['coordenadas']\n",
    "calidad_df['coordenadas_text'] = coordenadas\n",
    "calidad_df['latitud nulas'] = df_dict['procedimiento'][\"latitud\"].isnull().sum()\n",
    "calidad_df['longitud nulas'] = df_dict['procedimiento'][\"longitud\"].isnull().sum()\n",
    "calidad_df['fechas nulas'] = df_dict['procedimiento'][\"fecha\"].isnull().sum()\n",
    "calidad_df['sin datos'] = df_vacío\n",
    "\n",
    "calidad_df['casos_controlado'] = casos['controlado']\n",
    "calidad_df['casos_elementos'] = casos['elementos']\n",
    "calidad_df['casos_detenidos'] = \"vacío\" #casos['detenidos']\n",
    "calidad_df['casos_incautaciones'] = casos['incautaciones']\n",
    "calidad_df['casos_trata'] = casos['trata']\n",
    "calidad_df['casos_otros_eventos'] = casos['otros_eventos']\n",
    "calidad_df['casos_otros_delitos'] = casos['otros_delitos']\n",
    "\n",
    "calidad_df['calidad_procedimiento'] = duplicados['procedimiento']\n",
    "calidad_df['calidad_controlado'] = calidad['controlado']\n",
    "calidad_df['calidad_elementos'] = calidad['elementos']\n",
    "calidad_df['calidad_detenidos'] = \"vacío\" #calidad['detenidos']\n",
    "calidad_df['calidad_incautaciones'] = calidad['incautaciones']\n",
    "calidad_df['calidad_trata'] = calidad['trata']\n",
    "calidad_df['calidad_otros_eventos'] = calidad['otros_eventos']\n",
    "calidad_df['calidad_otros_delitos'] = calidad['otros_delitos']\n",
    "\n",
    "calidad_df"
   ]
  },
  {
   "cell_type": "code",
   "execution_count": 29,
   "id": "098d7ea1-03ea-47da-a06c-2fe9bcc10f47",
   "metadata": {},
   "outputs": [],
   "source": [
    "calidad_df.to_csv(ruta + mes + f\"/chequeo/chequeo_{fuerza}{semana}.csv\", index=False)"
   ]
  },
  {
   "cell_type": "code",
   "execution_count": 30,
   "id": "47dd4f10-96a1-44f1-bb23-0ce2f9b1c5df",
   "metadata": {
    "tags": []
   },
   "outputs": [],
   "source": [
    "for key, value in df_dict.items():\n",
    "    value.to_csv(ruta + mes + f\"/data controlada/{fuerza}_{mes}{semana}_{key}_controlado.csv\", index=False)"
   ]
  },
  {
   "cell_type": "code",
   "execution_count": null,
   "id": "68759c06-77af-41b6-b67e-27ced909e791",
   "metadata": {},
   "outputs": [],
   "source": []
  }
 ],
 "metadata": {
  "kernelspec": {
   "display_name": ".venv",
   "language": "python",
   "name": "python3"
  },
  "language_info": {
   "codemirror_mode": {
    "name": "ipython",
    "version": 3
   },
   "file_extension": ".py",
   "mimetype": "text/x-python",
   "name": "python",
   "nbconvert_exporter": "python",
   "pygments_lexer": "ipython3",
   "version": "3.11.5"
  }
 },
 "nbformat": 4,
 "nbformat_minor": 5
}
