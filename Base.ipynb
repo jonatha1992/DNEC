{
 "cells": [
  {
   "cell_type": "markdown",
   "metadata": {},
   "source": [
    "# Base de Datos\n",
    "### Leer base de datos\n",
    "\n",
    "leer la base de datos \"data/Base_informada\" \n"
   ]
  },
  {
   "cell_type": "code",
   "execution_count": 4,
   "metadata": {},
   "outputs": [],
   "source": [
    "import re\n",
    "import pandas as pd\n",
    "from openpyxl import load_workbook\n",
    "\n",
    "# Definir una función para leer la hoja de Excel en un DataFrame\n",
    "def leer_excel_a_df(worksheet):\n",
    "    data = []\n",
    "    titulos = [worksheet.cell(row=3, column=col).value for col in range(2, worksheet.max_column + 1)]\n",
    "    for row in worksheet.iter_rows(min_row=4, min_col=2, max_col=worksheet.max_column, values_only=True):\n",
    "        data.append(row)\n",
    "    \n",
    "    df = pd.DataFrame(data, columns=titulos)\n",
    "    return df\n",
    "\n",
    "\n",
    "# Función para eliminar el contador del final del texto\n",
    "def formatear_contador(texto):\n",
    "    # Eliminar cualquier \"-(número)\" al final del texto\n",
    "    texto_procesado = re.sub(r'-+\\(\\d+\\)$', '', texto)\n",
    "    return texto_procesado"
   ]
  },
  {
   "cell_type": "code",
   "execution_count": 5,
   "metadata": {},
   "outputs": [],
   "source": [
    "import re\n",
    "\n",
    "def colocar_guion_espacio_v9(texto):\n",
    "    # Remove extra spaces and specific unwanted terms\n",
    "    texto = texto.strip().replace(\"N°\", \"\").replace(\" N\", \"\").replace(\".\", \"\").replace(\"EXPTE\", \"\").replace(\"EXP\", \"\").replace(\":\", \"\").replace(\"-\", \"\").replace('\"',\"\")\n",
    "    \n",
    "    # Specific phrases and prefixes that should trigger the special format\n",
    "    triggers = [\n",
    "        \"RESTRICCIÓN A LA LIBERTAD\", \"OTRO MANDATO JUDICIAL\", \"ACTUACIÓN JUDICIAL\", \n",
    "        \"ACTUACIONES JUDICIALES\", \"IPP PP\", \"LEG CONTRAVENCIONAL\", \"LEGAJO FISCAL\", \n",
    "        \"LEGAJO AC\", \"LEG INVEST FISCAL\", \"OSL\", \"OSR\", \"OSC\", \"AP\", \"PS\"\n",
    "    ]\n",
    "    \n",
    "    # Check if text starts with any special trigger phrase or prefix\n",
    "    for trigger in triggers:\n",
    "        if texto.upper().startswith(trigger.upper()):\n",
    "            texto = texto[len(trigger):].strip()\n",
    "            \n",
    "            # Extract leading number or default to \"0000\"\n",
    "            match_number = re.match(r\"(\\d+)\", texto)\n",
    "            numero = match_number.group(0).zfill(4) if match_number else \"\"\n",
    "            texto = texto[len(numero):].strip() if match_number else texto\n",
    "            \n",
    "            # Extract location (letters and/or numbers)\n",
    "            match_location = re.match(r\"([A-Za-z0-9]+)\", texto)\n",
    "            location = match_location.group(0).upper() if match_location else \"\"\n",
    "            texto = texto[len(location):].strip() if match_location else texto\n",
    "            \n",
    "            # Set year and suffix\n",
    "            year = \"/24\"\n",
    "            match_suffix = re.search(r'\\((\\d+)\\)$', texto)\n",
    "            suffix = f\"-({match_suffix.group(1)})\" if match_suffix else \"-(1)\"\n",
    "            \n",
    "            return f\"{trigger}-{numero}-{location}{year}{suffix}\"\n",
    "    \n",
    "    # Step to identify and protect any prefix that matches a pattern like 'LL4', 'UR5', etc.\n",
    "    texto = re.sub(r'\\b([A-Za-z]{2,3}\\d)\\b', r'\\1', texto)\n",
    "\n",
    "    # Replace spaces with hyphens and insert hyphens between letters and numbers\n",
    "    texto = re.sub(r'\\s+', '-', texto)  \n",
    "    texto = re.sub(r'([A-Za-z])(\\d)', r'\\1-\\2', texto)\n",
    "    texto = re.sub(r'(\\d)([A-Za-z])', r'\\1-\\2', texto)\n",
    "\n",
    "    # Restore protected prefixes by removing '' markers\n",
    "    texto = re.sub(r'([A-Za-z]{2,3}\\d)', r'\\1', texto)\n",
    "\n",
    "    # Remove unnecessary hyphens before slashes and format suffix\n",
    "    texto = re.sub(r'-+/', '/', texto)\n",
    "    if re.search(r'\\(\\d+\\)$', texto):\n",
    "        texto = re.sub(r'\\((\\d+)\\)$', r'-(\\1)', texto)\n",
    "    else:\n",
    "        texto += \"-(1)\"\n",
    "    \n",
    "    # Remove multiple consecutive hyphens\n",
    "    texto = re.sub(r'-+', '-', texto)\n",
    "\n",
    "    return texto\n",
    "\n"
   ]
  },
  {
   "cell_type": "code",
   "execution_count": 6,
   "metadata": {},
   "outputs": [
    {
     "name": "stdout",
     "output_type": "stream",
     "text": [
      "Los cambios han sido guardados correctamente.\n"
     ]
    }
   ],
   "source": [
    "# Cargar el archivo Excel y la hoja requerida\n",
    "nombre_base = \"data/BASE_JORGE.xlsx\"\n",
    "wb = load_workbook(nombre_base)\n",
    "hoja = wb['GEOG. PROCEDIMIENTO']\n",
    "\n",
    "# Crear un DataFrame a partir de los datos de la hoja\n",
    "df_base_informada = leer_excel_a_df(hoja)\n",
    "\n",
    "# Aplicar las funciones de procesamiento a las columnas necesarias\n",
    "df_base_informada[\"ID_PROCEDIMIENTO\"] = df_base_informada[\"ID_PROCEDIMIENTO\"].apply(colocar_guion_espacio_v9)\n",
    "df_base_informada[\"ID_OPERATIVO\"] = df_base_informada[\"ID_PROCEDIMIENTO\"].apply(formatear_contador)\n",
    "\n",
    "# Escribir los datos del DataFrame en la hoja 'GEOG. PROCEDIMIENTO' desde la fila 4\n",
    "for row_num, row in enumerate(df_base_informada.itertuples(index=False), start=4):\n",
    "    for col_num, value in enumerate(row, start=2):  # Comienza desde la columna B (número 2)\n",
    "        hoja.cell(row=row_num, column=col_num).value = value\n",
    "\n",
    "# Guardar los cambios en el archivo original o en un nuevo archivo\n",
    "wb.save(\"data/BASE_PROCESADO.xlsx\")\n",
    "\n",
    "print(\"Los cambios han sido guardados correctamente.\")"
   ]
  }
 ],
 "metadata": {
  "kernelspec": {
   "display_name": "venv",
   "language": "python",
   "name": "python3"
  },
  "language_info": {
   "codemirror_mode": {
    "name": "ipython",
    "version": 3
   },
   "file_extension": ".py",
   "mimetype": "text/x-python",
   "name": "python",
   "nbconvert_exporter": "python",
   "pygments_lexer": "ipython3",
   "version": "3.11.5"
  }
 },
 "nbformat": 4,
 "nbformat_minor": 2
}
