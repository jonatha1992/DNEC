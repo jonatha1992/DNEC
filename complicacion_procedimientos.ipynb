{
 "cells": [
  {
   "cell_type": "markdown",
   "metadata": {},
   "source": [
    "# Base de Datos de PROCEDIMIENTOS\n",
    "### Leer base de datos\n",
    "\n",
    "leer la base de datos \"data/Base_informada\" \n"
   ]
  },
  {
   "cell_type": "code",
   "execution_count": 1,
   "metadata": {},
   "outputs": [],
   "source": [
    "import re\n",
    "import pandas as pd \n",
    "from openpyxl import load_workbook\n",
    "import numpy as np\n",
    "from Parametros import *\n",
    "from Funciones import *"
   ]
  },
  {
   "cell_type": "markdown",
   "metadata": {},
   "source": [
    "* Funciones de procedimientos "
   ]
  },
  {
   "cell_type": "code",
   "execution_count": null,
   "metadata": {},
   "outputs": [
    {
     "name": "stdout",
     "output_type": "stream",
     "text": [
      "Estadistica de Partes\n",
      "\n",
      "Cantidad de Partes inicial: 4679\n",
      "Cantidad Duplicado: 22\n",
      "Cantidad No diponible: 217\n",
      "Cantidad de Partes final: 4440\n"
     ]
    }
   ],
   "source": [
    "# Lista de años\n",
    "años = [ 2023, 2024 ]\n",
    "\n",
    "# Lista de arrays\n",
    "arrays = []\n",
    "\n",
    "# Leer cada archivo Excel y agregarlo a la lista de arrays\n",
    "for año in años:\n",
    "    archivo = f\"data/BASE_{año}.xls\"\n",
    "    array = pd.read_excel(archivo).values\n",
    "    arrays.append(array)\n",
    "\n",
    "# Concatenar los arrays para crear el DataFrame finalw\n",
    "compilado = np.concatenate(arrays, axis=0)\n",
    "# Convertir el array a un DataFrame\n",
    "compilado = pd.DataFrame(compilado)\n",
    "\n",
    "# Establecer los nombres de las columnas\n",
    "compilado.columns = pd.read_excel(f\"data/BASE_{años[0]}.xls\").columns\n",
    "\n",
    "compilado.to_excel(\"Compilado.xlsx\")\n",
    "compilado = filtrar_procedimientos_generales(\"Compilado.xlsx\")\n"
   ]
  },
  {
   "cell_type": "markdown",
   "metadata": {},
   "source": [
    "* Filtro cargo lo ya informado de operaciones y lo que se informo lo concateno  a lo de operaciones de 2024"
   ]
  },
  {
   "cell_type": "code",
   "execution_count": 4,
   "metadata": {},
   "outputs": [],
   "source": [
    "from Funciones import *\n",
    "Base_procedimientos = pd.DataFrame()\n",
    "Base_procedimientos['UID'] = compilado.apply(generar_uid_sigpol, axis=1)\n",
    "Base_procedimientos['ID_OPERATIVO'] = compilado.apply(procesar_causa_judicial, axis=1)\n",
    "Base_procedimientos['FUERZA_INTERVINIENTE'] = \"PSA\"\n",
    "Base_procedimientos['ID_PROCEDIMIENTO'] = Base_procedimientos['UID']\n",
    "Base_procedimientos['CAUSAJUDICIALNUMERO'] = compilado['CAUSAJUDICIALNUMERO'].copy()\n",
    "Base_procedimientos['UNIDAD_INTERVINIENTE'] = compilado['UOSP']\n",
    "Base_procedimientos['DESCRIPCIÓN'] = compilado.apply(procesar_descripcion, axis=1)\n",
    "Base_procedimientos['TIPO_INTERVENCION'] = compilado.apply(procesar_tipo, axis=1)\n",
    "Base_procedimientos['PROVINCIA'] = compilado.apply(procesar_provincia, axis=1)\n",
    "Base_procedimientos['DEPARTAMENTO O PARTIDO'] = compilado.apply(procesar_municipio, axis=1)\n",
    "Base_procedimientos['LOCALIDAD'] = \"-\"\n",
    "Base_procedimientos['DIRECCION'] = compilado.apply(procesar_direccion, axis=1)\n",
    "Base_procedimientos['LATITUD'] = compilado['GEOREFERENCIA_Y']\n",
    "Base_procedimientos['LONGITUD'] = compilado['GEOREFERENCIA_X']\n",
    "Base_procedimientos['FECHA'] = pd.to_datetime(compilado['DENUNCIAFECHA'], errors='coerce').dt.strftime('%d/%m/%Y')\n",
    "Base_procedimientos['HORA'] = pd.to_datetime(compilado['DENUNCIAFECHA'], errors='coerce').dt.strftime('%H:%M')\n",
    "Base_procedimientos['ZONA_SEGURIDAD_FRONTERAS'] = \"-\"\n",
    "Base_procedimientos['PASO_FRONTERIZO'] = \"-\"\n",
    "Base_procedimientos['OTRAS AGENCIAS INTERVINIENTES'] = \"-\"\n",
    "Base_procedimientos['Observaciones - Detalles'] = \"-\"\n",
    "\n",
    "Base_procedimientos = Base_procedimientos[[ \"UID\",'FUERZA_INTERVINIENTE', 'ID_OPERATIVO', 'ID_PROCEDIMIENTO',\n",
    "                                     'UNIDAD_INTERVINIENTE', 'DESCRIPCIÓN', 'TIPO_INTERVENCION',\n",
    "                                     'PROVINCIA', 'DEPARTAMENTO O PARTIDO', 'LOCALIDAD', 'DIRECCION',\n",
    "                                     'ZONA_SEGURIDAD_FRONTERAS', 'PASO_FRONTERIZO', 'LATITUD', 'LONGITUD',\n",
    "                                     'FECHA', 'HORA', 'OTRAS AGENCIAS INTERVINIENTES', 'Observaciones - Detalles']]\n",
    "\n",
    "\n",
    "Base_procedimientos.to_excel(\"data/Base_procedimientos.xlsx\",index= False)\n",
    "\n",
    "# Convertir la columna 'FECHA' a formato datetime para poder aplicar los filtros\n",
    "# Base_procedimientos['FECHA'] = pd.to_datetime(Base_procedimientos['FECHA'], format='%d/%m/%Y', errors='coerce')\n",
    "\n",
    "# Filtrar los registros desde septiembre hacia atrás (incluido)\n",
    "# filtro_hasta_septiembre = Base_procedimientos['FECHA'] <= '2024-09-30'\n",
    "# base_procedimientos_hasta_septiembre = Base_procedimientos[filtro_hasta_septiembre]\n",
    "\n",
    "# Filtrar los registros a partir de octubre\n",
    "# filtro_octubre_en_adelante = Base_procedimientos['FECHA'] >= '2024-10-01'\n",
    "# base_procedimientos_octubre_en_adelante = Base_procedimientos[filtro_octubre_en_adelante]\n",
    "\n",
    "# Guardar ambos DataFrames en archivos separados para su revisión\n",
    "# base_procedimientos_hasta_septiembre.to_excel(\"Base_procedimientos_hasta_septiembre_2024.xlsx\", index=False)\n",
    "# base_procedimientos_octubre_en_adelante.to_excel(\"Base_procedimientos_octubre_en_adelante_2024.xlsx\", index=False)\n",
    "\n"
   ]
  }
 ],
 "metadata": {
  "kernelspec": {
   "display_name": ".venv",
   "language": "python",
   "name": "python3"
  },
  "language_info": {
   "codemirror_mode": {
    "name": "ipython",
    "version": 3
   },
   "file_extension": ".py",
   "mimetype": "text/x-python",
   "name": "python",
   "nbconvert_exporter": "python",
   "pygments_lexer": "ipython3",
   "version": "3.11.5"
  }
 },
 "nbformat": 4,
 "nbformat_minor": 2
}
