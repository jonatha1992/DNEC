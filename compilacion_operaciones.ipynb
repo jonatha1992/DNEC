{
 "cells": [
  {
   "cell_type": "markdown",
   "metadata": {},
   "source": [
    "# Bae de Operaciones\n",
    "### Funciones de filtro para operaciones"
   ]
  },
  {
   "cell_type": "code",
   "execution_count": null,
   "metadata": {},
   "outputs": [],
   "source": [
    "import re\n",
    "import pandas as pd \n",
    "from openpyxl import load_workbook\n",
    "import numpy as np\n",
    "from Parametros import *\n",
    "from Funciones import *"
   ]
  },
  {
   "cell_type": "markdown",
   "metadata": {},
   "source": [
    "* Filtro cargo lo ya informado de operaciones y lo que se informo lo concateno  a lo de operaciones de 2024"
   ]
  },
  {
   "cell_type": "code",
   "execution_count": 24,
   "metadata": {},
   "outputs": [
    {
     "name": "stdout",
     "output_type": "stream",
     "text": [
      "FILTRADO': 947\n"
     ]
    }
   ],
   "source": [
    "base_2023_file = load_workbook(\"data/PLANILLA PSA CARGA DE DATOS - 2023 (OPERACIONES POLICIALES).xlsx\")['GEOG. PROCEDIMIENTO']\n",
    "base_opera_proce= leer_excel_a_df( base_2023_file )\n",
    "base_opera_2023 = base_opera_proce [base_opera_proce['ID_PROCEDIMIENTO'].str.contains('OSL|OSR|OSC|DOL', na=False)]\n",
    "\n",
    "print(f\"FILTRADO': {base_opera_2023['ID_PROCEDIMIENTO'].count()}\")\n"
   ]
  },
  {
   "cell_type": "markdown",
   "metadata": {},
   "source": [
    "* Cargo lo informado de operaciones de 202 lo proceso y lo concate a lo que esta ya informado "
   ]
  },
  {
   "cell_type": "code",
   "execution_count": 25,
   "metadata": {},
   "outputs": [
    {
     "name": "stdout",
     "output_type": "stream",
     "text": [
      "FILTRADO': 1233\n"
     ]
    }
   ],
   "source": [
    "base_2024_file = load_workbook(\"data/BASE_JORGE.xlsx\")['GEOG. PROCEDIMIENTO']\n",
    "base_opera_proce =  leer_excel_a_df( base_2024_file )\n",
    "\n",
    "base_opera_2024 = base_opera_proce [base_opera_proce['ID_PROCEDIMIENTO'].str.contains('OSL|OSR|OSC|DOL', na=False)]\n",
    "print(f\"FILTRADO': {base_opera_2024['ID_PROCEDIMIENTO'].count()}\")\n"
   ]
  },
  {
   "cell_type": "markdown",
   "metadata": {},
   "source": [
    "*  Concateno las bases de 2023 y 2024 de operaciones y trato de estandarizar el formato "
   ]
  },
  {
   "cell_type": "code",
   "execution_count": null,
   "metadata": {},
   "outputs": [],
   "source": [
    "base_operaciones = pd.concat([base_opera_2023 , base_opera_2024.iloc[1:]], ignore_index=True)\n",
    "\n",
    "base_operaciones[\"ID_PROCEDIMIENTO\"] = base_operaciones[\"ID_PROCEDIMIENTO\"].apply(colocar_guion_espacio)\n",
    "base_operaciones[\"ID_OPERATIVO\"] = base_operaciones[\"ID_PROCEDIMIENTO\"].apply(formatear_contador)\n",
    "base_operaciones[\"UID\"] = base_operaciones.apply(generar_uid_operaciones , axis=1)\n",
    "\n",
    "base_operaciones.to_excel(\"data/Base_operaciones_2023_2024.xlsx\", index=False)\n"
   ]
  },
  {
   "cell_type": "markdown",
   "metadata": {},
   "source": [
    "# CARGA DE NUEVA PLANILLA SEMANAL\n",
    "\n"
   ]
  }
 ],
 "metadata": {
  "kernelspec": {
   "display_name": ".venv",
   "language": "python",
   "name": "python3"
  },
  "language_info": {
   "codemirror_mode": {
    "name": "ipython",
    "version": 3
   },
   "file_extension": ".py",
   "mimetype": "text/x-python",
   "name": "python",
   "nbconvert_exporter": "python",
   "pygments_lexer": "ipython3",
   "version": "3.11.5"
  }
 },
 "nbformat": 4,
 "nbformat_minor": 2
}
