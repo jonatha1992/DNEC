{
 "cells": [
  {
   "cell_type": "markdown",
   "metadata": {},
   "source": [
    "# Importante \n",
    "\n",
    "* Tener en cuenta bajadas de Procedimientos, Personas Armas, Divisas , vehiculos (secuestrados, ministerio), Narcotrafico general,Objetos y pegar en la carpeta bajadas de fecha del primero del 1 del mes en informar hasta fecha del informe "
   ]
  },
  {
   "cell_type": "markdown",
   "metadata": {
    "notebookRunGroups": {
     "groupValue": "1"
    }
   },
   "source": [
    "### IMPORTACIÓN DE LIBREARIAS\n"
   ]
  },
  {
   "cell_type": "code",
   "execution_count": 2,
   "metadata": {
    "notebookRunGroups": {
     "groupValue": "1"
    }
   },
   "outputs": [],
   "source": [
    "import pandas as pd\n",
    "from  Parametros import * \n",
    "from  Funciones import * \n",
    "from openpyxl import load_workbook\n"
   ]
  },
  {
   "cell_type": "markdown",
   "metadata": {},
   "source": [
    "### ACCEDER BASE DE DATOS"
   ]
  },
  {
   "cell_type": "code",
   "execution_count": 4,
   "metadata": {},
   "outputs": [],
   "source": [
    "df_base_procedimientos = pd.read_excel(\"db/Base_procedimientos_2023_2024.xlsx\")\n",
    "df_base_operaciones = pd.read_excel(\"db/Base_operaciones_2023_2024.xlsx\")\n"
   ]
  },
  {
   "cell_type": "markdown",
   "metadata": {},
   "source": [
    "### PROCEDIMIENTOS GENERALES\n",
    "\n",
    "\n"
   ]
  },
  {
   "cell_type": "code",
   "execution_count": null,
   "metadata": {},
   "outputs": [
    {
     "name": "stdout",
     "output_type": "stream",
     "text": [
      "\n",
      "Casos ya informados: 8738\n",
      "Casos nuevos para informar : 51\n"
     ]
    }
   ],
   "source": [
    "excel_bajada_procedimientos_generales = filtrar_procedimientos_generales(\"bajadas/bajada_general.xls\")\n",
    "\n",
    "df_geog = pd.DataFrame()\n",
    "df_geog['UID'] = excel_bajada_procedimientos_generales.apply(generar_uid_sigpol, axis=1)\n",
    "df_geog['ID_OPERATIVO'] = excel_bajada_procedimientos_generales.apply(procesar_causa_judicial, axis=1)\n",
    "df_geog['FUERZA_INTERVINIENTE'] = \"PSA\"\n",
    "df_geog['ID_PROCEDIMIENTO'] = df_geog['UID']\n",
    "df_geog['CAUSAJUDICIALNUMERO'] = excel_bajada_procedimientos_generales['CAUSAJUDICIALNUMERO'].copy()\n",
    "df_geog['UNIDAD_INTERVINIENTE'] = excel_bajada_procedimientos_generales['UOSP']\n",
    "df_geog['DESCRIPCIÓN'] = excel_bajada_procedimientos_generales.apply(procesar_descripcion, axis=1)\n",
    "df_geog['TIPO_INTERVENCION'] = excel_bajada_procedimientos_generales.apply(procesar_tipo_procedimiento, axis=1)\n",
    "df_geog['PROVINCIA'] = excel_bajada_procedimientos_generales.apply(procesar_provincia, axis=1)\n",
    "df_geog['DEPARTAMENTO O PARTIDO'] = excel_bajada_procedimientos_generales.apply(procesar_municipio, axis=1)\n",
    "df_geog['LOCALIDAD'] = \"-\"\n",
    "df_geog['DIRECCION'] = excel_bajada_procedimientos_generales.apply(procesar_direccion, axis=1)\n",
    "df_geog['LATITUD'] = excel_bajada_procedimientos_generales['GEOREFERENCIA_Y']\n",
    "df_geog['LONGITUD'] = excel_bajada_procedimientos_generales['GEOREFERENCIA_X']\n",
    "df_geog['FECHA'] = pd.to_datetime(excel_bajada_procedimientos_generales['DENUNCIAFECHA'], errors='coerce').dt.strftime('%d/%m/%Y')\n",
    "df_geog['HORA'] = pd.to_datetime(excel_bajada_procedimientos_generales['DENUNCIAFECHA'], errors='coerce').dt.strftime('%H:%M')\n",
    "df_geog['ZONA_SEGURIDAD_FRONTERAS'] = \"-\"\n",
    "df_geog['PASO_FRONTERIZO'] = \"-\"\n",
    "df_geog['OTRAS AGENCIAS INTERVINIENTES'] = \"-\"\n",
    "df_geog['Observaciones - Detalles'] = \"-\"\n",
    "\n",
    "df_geog = df_geog[[ \"UID\",'FUERZA_INTERVINIENTE', 'ID_OPERATIVO', 'ID_PROCEDIMIENTO',\n",
    "                                     'UNIDAD_INTERVINIENTE', 'DESCRIPCIÓN', 'TIPO_INTERVENCION',\n",
    "                                     'PROVINCIA', 'DEPARTAMENTO O PARTIDO', 'LOCALIDAD', 'DIRECCION',\n",
    "                                     'ZONA_SEGURIDAD_FRONTERAS', 'PASO_FRONTERIZO', 'LATITUD', 'LONGITUD',\n",
    "                                     'FECHA', 'HORA', 'OTRAS AGENCIAS INTERVINIENTES', 'Observaciones - Detalles']]\n",
    "\n",
    "\n",
    "df_geog_final = df_geog[~df_geog['UID'].isin(set(df_base_procedimientos['UID']))]\n",
    "print(f\"\\nCasos ya informados: {len(df_base_procedimientos)}\")\n",
    "print(f\"Casos nuevos para informar : {len(df_geog_final)}\")\n"
   ]
  },
  {
   "cell_type": "markdown",
   "metadata": {},
   "source": [
    "### HOJA PERSONAS"
   ]
  },
  {
   "cell_type": "code",
   "execution_count": null,
   "metadata": {},
   "outputs": [
    {
     "name": "stdout",
     "output_type": "stream",
     "text": [
      "Total de registros cargados: 533\n",
      "Cantidad de registros con UID coincidente: 32\n",
      "Total de registros después del procesamiento de columnas específicas: 32\n",
      "Cantidad tras exclusión de 'NO INFORMAR': 28\n",
      "Total de registros después de la fusión con df_geog_final: 51\n",
      "Total de registros después de seleccionar y reordenar columnas: 51\n",
      "Cantidad total de partes procesadas: 533\n",
      "Cantidad de detenidos: 0\n",
      "Cantidad de liberados: 11\n",
      "Cantidad de víctimas: 17\n"
     ]
    }
   ],
   "source": [
    "import pandas as pd\n",
    "\n",
    "# Paso 1: Cargar datos iniciales\n",
    "excel_bajada_personas = pd.read_excel(\"bajadas/bajada_general_persona.xls\")\n",
    "print(f\"Total de registros cargados: {len(excel_bajada_personas)}\")\n",
    "\n",
    "# Paso 2: Generar UID\n",
    "excel_bajada_personas['UID'] = excel_bajada_personas.apply(generar_uid_sigpol, axis=1)\n",
    "\n",
    "# Paso 3: Coincidencia de UID entre excel_bajada_personas y df_geog_final\n",
    "uid_coincidentes = excel_bajada_personas[excel_bajada_personas['UID'].isin(df_geog_final['UID'])]\n",
    "print(f\"Cantidad de registros con UID coincidente: {len(uid_coincidentes)}\")\n",
    "\n",
    "# Crear DataFrame de detenidos y aprendidos\n",
    "df_detenidos_aprendidos = pd.DataFrame()\n",
    "df_detenidos_aprendidos['UID'] = uid_coincidentes['UID']\n",
    "df_detenidos_aprendidos['EDAD'] = uid_coincidentes.apply(procesar_edad, axis=1)\n",
    "df_detenidos_aprendidos['SEXO'] = uid_coincidentes.apply(procesar_sexo, axis=1)\n",
    "df_detenidos_aprendidos['GENERO'] = uid_coincidentes.apply(procesar_genero, axis=1)\n",
    "df_detenidos_aprendidos['NACIONALIDAD'] = uid_coincidentes.apply(procesar_nacionalidad, axis=1)\n",
    "df_detenidos_aprendidos['SITUACION_PROCESAL'] = uid_coincidentes.apply(procesar_situacion_judicial, axis=1)\n",
    "df_detenidos_aprendidos['DELITO_IMPUTADO'] = uid_coincidentes.apply(procesar_tipo_delito, axis=1)\n",
    "df_detenidos_aprendidos['JUZGADO_INTERVINIENTE'] = uid_coincidentes.apply(procesar_juzgado, axis=1)\n",
    "df_detenidos_aprendidos['CARATULA_CAUSA'] = uid_coincidentes.apply(procesar_caratula, axis=1)\n",
    "\n",
    "print(f\"Total de registros después del procesamiento de columnas específicas: {len(df_detenidos_aprendidos)}\")\n",
    "\n",
    "# Paso 4: Filtrar SITUACION_PROCESAL 'NO INFORMAR'\n",
    "df_detenidos_aprendidos = df_detenidos_aprendidos[df_detenidos_aprendidos['SITUACION_PROCESAL'] != 'NO INFORMAR']\n",
    "print(f\"Cantidad tras exclusión de 'NO INFORMAR': {len(df_detenidos_aprendidos)}\")\n",
    "\n",
    "# Paso 5: Fusionar df_geog_final y df_detenidos_aprendidos en base al UID\n",
    "df_detenidos_aprendidos = pd.merge(df_geog_final, df_detenidos_aprendidos, on='UID', how='left')\n",
    "print(f\"Total de registros después de la fusión con df_geog_final: {len(df_detenidos_aprendidos)}\")\n",
    "\n",
    "# Paso 6: Relleno de valores vacíos con '-'\n",
    "df_detenidos_aprendidos = df_detenidos_aprendidos.apply(lambda x: x.fillna('-') if x.dtype == 'object' else x)\n",
    "\n",
    "\n",
    "# Paso 7: Selección y reordenamiento de columnas\n",
    "df_detenidos_aprendidos_final = df_detenidos_aprendidos[[\n",
    "    \"UID\",\n",
    "    'FUERZA_INTERVINIENTE',\n",
    "    'ID_OPERATIVO',\n",
    "    'ID_PROCEDIMIENTO',\n",
    "    'UNIDAD_INTERVINIENTE',\n",
    "    'DESCRIPCIÓN',\n",
    "    'TIPO_INTERVENCION',\n",
    "    'EDAD',\n",
    "    'SEXO',\n",
    "    'GENERO',\n",
    "    'NACIONALIDAD',\n",
    "    'SITUACION_PROCESAL',\n",
    "    \"DELITO_IMPUTADO\",\n",
    "    'JUZGADO_INTERVINIENTE',\n",
    "    'CARATULA_CAUSA'\n",
    "]]\n",
    "print(f\"Total de registros después de seleccionar y reordenar columnas: {len(df_detenidos_aprendidos_final)}\")\n",
    "\n",
    "# Paso 8: Verificación final de cantidades por situación procesal\n",
    "print(f\"Cantidad total de partes procesadas: {len(excel_bajada_personas)}\")\n",
    "print(f\"Cantidad de detenidos: {len(df_detenidos_aprendidos[df_detenidos_aprendidos['SITUACION_PROCESAL'] == 'DETENIDO'])}\")\n",
    "print(f\"Cantidad de liberados: {len(df_detenidos_aprendidos[df_detenidos_aprendidos['SITUACION_PROCESAL'] == 'LIBERADO'])}\")\n",
    "print(f\"Cantidad de víctimas: {len(df_detenidos_aprendidos[df_detenidos_aprendidos['SITUACION_PROCESAL'] == 'VICTIMA'])}\")\n"
   ]
  },
  {
   "cell_type": "markdown",
   "metadata": {},
   "source": [
    "### HOJA OTROS DELITOS"
   ]
  },
  {
   "cell_type": "code",
   "execution_count": 8,
   "metadata": {},
   "outputs": [
    {
     "name": "stdout",
     "output_type": "stream",
     "text": [
      "Cantidad de registros en df_otros_delitos: 0\n"
     ]
    }
   ],
   "source": [
    "# Crear un nuevo dataframe para otro delitos\n",
    "df_otros_delitos = df_detenidos_aprendidos[df_detenidos_aprendidos['SITUACION_PROCESAL'] == 'VICTIMA']\n",
    "# Filtro los que son victima de detenidos y aprendidos\n",
    "df_detenidos_aprendidos = df_detenidos_aprendidos[df_detenidos_aprendidos['SITUACION_PROCESAL'] != 'VICTIMA']\n",
    "\n",
    "# Cambiar el nombre de algunas columnas en el DataFrame de víctimas\n",
    "df_otros_delitos = df_otros_delitos.rename(columns={\n",
    "    'DELITO_IMPUTADO': 'TIPO_OTRO_DELITO',\n",
    "    'GENERO': 'GENERO_VICTIMA',\n",
    "    'EDAD': 'EDAD_VICTIMA',\n",
    "})\n",
    "\n",
    "df_otros_delitos[\"OBSERVACIONES\"] =\"-\"\n",
    "# Seleccionar las columnas deseadas en el DataFrame de víctimas\n",
    "df_otros_delitos_final = df_otros_delitos[[\n",
    "    \"UID\",\n",
    "    'FUERZA_INTERVINIENTE',\n",
    "    'ID_OPERATIVO',\n",
    "    'ID_PROCEDIMIENTO',\n",
    "    'UNIDAD_INTERVINIENTE',\n",
    "    'DESCRIPCIÓN',\n",
    "    'TIPO_INTERVENCION',\n",
    "    \"TIPO_OTRO_DELITO\",\n",
    "    'GENERO_VICTIMA',\n",
    "    'EDAD_VICTIMA',\n",
    "    'NACIONALIDAD',\n",
    "    'OBSERVACIONES'\n",
    "]]\n",
    "\n",
    "\n",
    "# Imprimir la cantidad de registros en el DataFrame de otros delitos para verificar\n",
    "print(f\"Cantidad de registros en df_otros_delitos: {len(df_otros_delitos)}\")\n"
   ]
  },
  {
   "cell_type": "markdown",
   "metadata": {},
   "source": [
    "### INCAUTACIONES"
   ]
  },
  {
   "cell_type": "markdown",
   "metadata": {},
   "source": [
    "# OPERACIONES"
   ]
  },
  {
   "cell_type": "markdown",
   "metadata": {},
   "source": [
    "### ORDEN DE SERVICIOS"
   ]
  },
  {
   "cell_type": "code",
   "execution_count": null,
   "metadata": {},
   "outputs": [],
   "source": [
    "excel_bajada_operaciones = load_workbook(\"bajadas/operaciones.xlsx\")\n",
    "hoja_geog = excel_bajada_operaciones['GEOG. PROCEDIMIENTO']\n",
    "\n",
    "df_operaciones = leer_excel_a_df(hoja_geog)\n",
    "df_operaciones = df_operaciones.dropna(subset=['ID_PROCEDIMIENTO'], how='any').copy()\n",
    "df_operaciones[\"UID\"] = df_operaciones.apply(generar_uid_operaciones , axis=1)\n",
    "df_operaciones['ID_PROCEDIMIENTO'] = df_operaciones['ID_PROCEDIMIENTO'].apply(colocar_guion_espacio)\n",
    "df_operaciones['UNIDAD_INTERVINIENTE'] = df_operaciones.apply(procesar_unidad, axis=1)\n",
    "df_operaciones['ID_OPERATIVO'] = df_operaciones['ID_PROCEDIMIENTO'].copy()\n",
    "df_operaciones['FECHA'] = pd.to_datetime(df_operaciones['FECHA'], errors='coerce')\n",
    "\n",
    "# Aplicar la función para identificar las filas que son diferentes\n",
    "\n",
    "df_operaciones = colocar_contador(df_operaciones , df_base_operaciones)"
   ]
  }
 ],
 "metadata": {
  "kernelspec": {
   "display_name": ".venv",
   "language": "python",
   "name": "python3"
  },
  "language_info": {
   "codemirror_mode": {
    "name": "ipython",
    "version": 3
   },
   "file_extension": ".py",
   "mimetype": "text/x-python",
   "name": "python",
   "nbconvert_exporter": "python",
   "pygments_lexer": "ipython3",
   "version": "3.11.5"
  }
 },
 "nbformat": 4,
 "nbformat_minor": 2
}
