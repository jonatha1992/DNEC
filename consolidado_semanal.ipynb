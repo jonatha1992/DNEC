{
 "cells": [
  {
   "cell_type": "markdown",
   "metadata": {},
   "source": [
    "# LIBRERIAS \n",
    "\n",
    "* Tener en cuenta bajadas de Procedimientos, Personas Armas, Divisas , vehiculos (secuestrados, ministerio), Narcotrafico general,Objetos y pegar en la carpeta bajadas de fecha del primero del 1 del mes en informar hasta fecha del informe "
   ]
  },
  {
   "cell_type": "markdown",
   "metadata": {
    "notebookRunGroups": {
     "groupValue": "1"
    }
   },
   "source": [
    "### IMPORTACIÓN DE LIBREARIAS\n"
   ]
  },
  {
   "cell_type": "code",
   "execution_count": 1,
   "metadata": {
    "notebookRunGroups": {
     "groupValue": "1"
    }
   },
   "outputs": [],
   "source": [
    "import pandas as pd\n",
    "from  Parametros import * \n",
    "from  Funciones import * \n",
    "from openpyxl import load_workbook\n"
   ]
  },
  {
   "cell_type": "markdown",
   "metadata": {},
   "source": [
    "### ACCEDER BASE DE DATOS"
   ]
  },
  {
   "cell_type": "code",
   "execution_count": 2,
   "metadata": {},
   "outputs": [
    {
     "name": "stdout",
     "output_type": "stream",
     "text": [
      "Estadistica de Partes\n",
      "\n",
      "Cantidad de Partes inicial: 4679\n",
      "Cantidad Duplicado: 22\n",
      "Cantidad No diponible: 217\n",
      "Cantidad de Partes final: 4440\n",
      "URSA                           5\n",
      "UOSP                          49\n",
      "CAUSA_INTERNA_NUMERO        2946\n",
      "TIPO_PARTE                     1\n",
      "AMPLIACION                    36\n",
      "NUMERO_PARTE                4426\n",
      "ANIO_PARTE                     2\n",
      "FECHA_CREACION              4407\n",
      "TIPO_HECHO                     2\n",
      "CLASIFICACION_NIVEL_1         31\n",
      "CLASIFICACION_NIVEL_2         52\n",
      "CLASIFICACION_NIVEL_3         79\n",
      "TENTATIVA                      2\n",
      "INFRAGANTI                     2\n",
      "JUZGADO                     1144\n",
      "JUEZ                         751\n",
      "SECRETARIA_JUZGADO           395\n",
      "FISCALIA                     649\n",
      "CARATULAJUDICIAL             884\n",
      "CARATULAINTERNA             1781\n",
      "TIPO_CAUSA_INTERNA             5\n",
      "CAUSAJUDICIALNUMERO          742\n",
      "JURISDICCION                  24\n",
      "DENUNCIAFECHA               4186\n",
      "HECHOFECHA                  3558\n",
      "LUGAR_CATALOGADO_NIVEL_1       6\n",
      "LUGAR_CATALOGADO_NIVEL_2      20\n",
      "LUGAR_CATALOGADO_NIVEL_3      15\n",
      "UBICACION                    480\n",
      "PUNTO_REFERENCIA            1209\n",
      "PROVINCIA                     24\n",
      "CALLE                        466\n",
      "NUMERO                       440\n",
      "PISO                          34\n",
      "BARRIO                       100\n",
      "CIUDAD                       155\n",
      "DEPARTAMENTO                  55\n",
      "PARTIDO                       62\n",
      "CODIGO_POSTAL                 53\n",
      "CUADRICULA                    49\n",
      "TIPO_PROCEDIMIENTO            11\n",
      "RESULTADO_PROCEDIMIENTO        2\n",
      "GEOREFERENCIA_X              842\n",
      "GEOREFERENCIA_Y              836\n",
      "RELATO                      4410\n",
      "ESTADO_PARTE                   1\n",
      "UID                         4440\n",
      "dtype: int64\n"
     ]
    }
   ],
   "source": [
    "# df_base_operaciones = pd.read_excel(\"db/Base_operaciones_2023_2024.xlsx\")\n",
    "df_base_procedimientos = filtrar_procedimientos_generales(\"data/BASE_2023.xls\")\n",
    "\n",
    "\n",
    "# print(df_base_procedimientos.info())\n",
    "# print(df_base_procedimientos.describe())\n",
    "print(df_base_procedimientos.nunique())"
   ]
  },
  {
   "cell_type": "markdown",
   "metadata": {},
   "source": [
    "# SIGIPOL"
   ]
  },
  {
   "cell_type": "markdown",
   "metadata": {},
   "source": [
    "### PROCEDIMIENTOS GENERALES\n",
    "\n",
    "\n"
   ]
  },
  {
   "cell_type": "code",
   "execution_count": 3,
   "metadata": {},
   "outputs": [
    {
     "name": "stdout",
     "output_type": "stream",
     "text": [
      "Estadistica de Partes\n",
      "\n",
      "Cantidad de Partes inicial: 355\n",
      "Cantidad Duplicado: 0\n",
      "Cantidad No diponible: 28\n",
      "Cantidad de Partes final: 327\n",
      "UID                              327\n",
      "FUERZA_INTERVINIENTE               1\n",
      "ID_OPERATIVO                     312\n",
      "ID_PROCEDIMIENTO                 327\n",
      "UNIDAD_INTERVINIENTE              33\n",
      "DESCRIPCIÓN                        8\n",
      "TIPO_INTERVENCION                  2\n",
      "PROVINCIA                         21\n",
      "DEPARTAMENTO O PARTIDO            26\n",
      "LOCALIDAD                          1\n",
      "DIRECCION                         21\n",
      "ZONA_SEGURIDAD_FRONTERAS           1\n",
      "PASO_FRONTERIZO                    1\n",
      "LATITUD                           78\n",
      "LONGITUD                          81\n",
      "FECHA                             26\n",
      "HORA                             173\n",
      "OTRAS AGENCIAS INTERVINIENTES      1\n",
      "Observaciones - Detalles           1\n",
      "dtype: int64\n"
     ]
    }
   ],
   "source": [
    "excel_bajada_procedimientos_generales = filtrar_procedimientos_generales(\"bajadas/bajada_general.xls\")\n",
    "\n",
    "df_geog = pd.DataFrame()\n",
    "df_geog['UID'] = excel_bajada_procedimientos_generales.apply(generar_uid_sigpol, axis=1)\n",
    "df_geog['ID_OPERATIVO'] = excel_bajada_procedimientos_generales.apply(procesar_causa_judicial, axis=1)\n",
    "df_geog['FUERZA_INTERVINIENTE'] = \"PSA\"\n",
    "df_geog['ID_PROCEDIMIENTO'] = df_geog['UID']\n",
    "df_geog['CAUSAJUDICIALNUMERO'] = excel_bajada_procedimientos_generales['CAUSAJUDICIALNUMERO'].copy()\n",
    "df_geog['UNIDAD_INTERVINIENTE'] = excel_bajada_procedimientos_generales['UOSP'].fillna(excel_bajada_procedimientos_generales['URSA'])\n",
    "df_geog['DESCRIPCIÓN'] = excel_bajada_procedimientos_generales.apply(procesar_descripcion, axis=1)\n",
    "df_geog['TIPO_INTERVENCION'] = excel_bajada_procedimientos_generales.apply(procesar_tipo_procedimiento, axis=1)\n",
    "df_geog['PROVINCIA'] = excel_bajada_procedimientos_generales.apply(procesar_provincia, axis=1)\n",
    "df_geog['DEPARTAMENTO O PARTIDO'] = excel_bajada_procedimientos_generales.apply(procesar_municipio, axis=1)\n",
    "df_geog['LOCALIDAD'] = \"-\"\n",
    "df_geog['DIRECCION'] = excel_bajada_procedimientos_generales.apply(procesar_direccion, axis=1)\n",
    "\n",
    "\n",
    "df_geog[['LATITUD', 'LONGITUD']] = excel_bajada_procedimientos_generales.apply(procesar_geog, axis=1, result_type='expand')\n",
    "df_geog['FECHA'] = pd.to_datetime(excel_bajada_procedimientos_generales['DENUNCIAFECHA'], errors='coerce').dt.strftime('%d/%m/%Y')\n",
    "df_geog['HORA'] = pd.to_datetime(excel_bajada_procedimientos_generales['DENUNCIAFECHA'], errors='coerce').dt.strftime('%H:%M')\n",
    "df_geog['ZONA_SEGURIDAD_FRONTERAS'] = \"-\"\n",
    "df_geog['PASO_FRONTERIZO'] = \"-\"\n",
    "df_geog['OTRAS AGENCIAS INTERVINIENTES'] = \"-\"\n",
    "df_geog['Observaciones - Detalles'] = \"-\"\n",
    "\n",
    "\n",
    "df_geog['LATITUD'] = df_geog['LATITUD'].astype(str).str.replace(',', '.')\n",
    "df_geog['LONGITUD'] = df_geog['LONGITUD'].astype(str).str.replace(',', '.')\n",
    "\n",
    "df_geog_completado = df_geog[[ \"UID\",'FUERZA_INTERVINIENTE', 'ID_OPERATIVO', 'ID_PROCEDIMIENTO',\n",
    "                                     'UNIDAD_INTERVINIENTE', 'DESCRIPCIÓN', 'TIPO_INTERVENCION',\n",
    "                                     'PROVINCIA', 'DEPARTAMENTO O PARTIDO', 'LOCALIDAD', 'DIRECCION',\n",
    "                                     'ZONA_SEGURIDAD_FRONTERAS', 'PASO_FRONTERIZO', 'LATITUD', 'LONGITUD',\n",
    "                                     'FECHA', 'HORA', 'OTRAS AGENCIAS INTERVINIENTES', 'Observaciones - Detalles']]\n",
    "\n",
    "print(df_geog_completado.nunique())\n",
    "\n",
    "\n"
   ]
  },
  {
   "cell_type": "markdown",
   "metadata": {},
   "source": [
    "### FILTRO CON LA BASE DE DATOS DE LO QUE SE FUE INFORMADO\n",
    "\n",
    "\n"
   ]
  },
  {
   "cell_type": "code",
   "execution_count": 4,
   "metadata": {},
   "outputs": [
    {
     "name": "stdout",
     "output_type": "stream",
     "text": [
      "\n",
      "Casos ya informados: 4440\n",
      "Casos nuevos para informar : 327\n",
      "UID                              327\n",
      "FUERZA_INTERVINIENTE               1\n",
      "ID_OPERATIVO                     312\n",
      "ID_PROCEDIMIENTO                 327\n",
      "UNIDAD_INTERVINIENTE              33\n",
      "DESCRIPCIÓN                        8\n",
      "TIPO_INTERVENCION                  2\n",
      "PROVINCIA                         21\n",
      "DEPARTAMENTO O PARTIDO            26\n",
      "LOCALIDAD                          1\n",
      "DIRECCION                         21\n",
      "ZONA_SEGURIDAD_FRONTERAS           1\n",
      "PASO_FRONTERIZO                    1\n",
      "LATITUD                           78\n",
      "LONGITUD                          81\n",
      "FECHA                             26\n",
      "HORA                             173\n",
      "OTRAS AGENCIAS INTERVINIENTES      1\n",
      "Observaciones - Detalles           1\n",
      "dtype: int64\n"
     ]
    }
   ],
   "source": [
    "df_geog_final = df_geog_completado[~df_geog_completado['UID'].isin(set(df_base_procedimientos['UID']))]\n",
    "print(f\"\\nCasos ya informados: {len(df_base_procedimientos)}\")\n",
    "print(f\"Casos nuevos para informar : {len(df_geog_final)}\")\n",
    "\n",
    "\n",
    "print(df_geog_final.nunique())"
   ]
  },
  {
   "cell_type": "markdown",
   "metadata": {},
   "source": [
    "### HOJA PERSONAS"
   ]
  },
  {
   "cell_type": "code",
   "execution_count": null,
   "metadata": {},
   "outputs": [
    {
     "name": "stdout",
     "output_type": "stream",
     "text": [
      "Total de registros cargados: 377\n",
      "Cantidad de registros con UID coincidente: 361\n",
      "Total de registros después del procesamiento de columnas específicas: 361\n",
      "Cantidad tras exclusión de 'NO INFORMAR': 312\n",
      "Total de registros después de la fusión con df_geog_final: 358\n",
      "Total de registros después de seleccionar y reordenar columnas: 358\n"
     ]
    }
   ],
   "source": [
    "\n",
    "# Paso 1: Cargar datos iniciales\n",
    "excel_bajada_personas = pd.read_excel(\"bajadas/bajada_general_persona.xls\")\n",
    "print(f\"Total de registros cargados: {len(excel_bajada_personas)}\")\n",
    "\n",
    "# Paso 2: Generar UID\n",
    "excel_bajada_personas['UOSP'] = excel_bajada_personas['UOSP'].fillna(excel_bajada_personas['URSA'])\n",
    "excel_bajada_personas['TIPO_CAUSA_INTERNA'] = excel_bajada_personas.apply( procesar_tipo_causa_interna, axis=1)\n",
    "excel_bajada_personas['UID'] = excel_bajada_personas.apply(generar_uid_sigpol, axis=1)\n",
    "\n",
    "# Paso 3: Coincidencia de UID entre excel_bajada_personas y df_geog_final\n",
    "uid_coincidentes = excel_bajada_personas[excel_bajada_personas['UID'].isin(df_geog_final['UID'])]\n",
    "print(f\"Cantidad de registros con UID coincidente: {len(uid_coincidentes)}\")\n",
    "\n",
    "# Crear DataFrame de detenidos y aprendidos\n",
    "df_detenidos_aprendidos = pd.DataFrame()\n",
    "df_detenidos_aprendidos['UID'] = uid_coincidentes['UID']\n",
    "df_detenidos_aprendidos['EDAD'] = uid_coincidentes.apply(procesar_edad, axis=1)\n",
    "df_detenidos_aprendidos['SEXO'] = uid_coincidentes.apply(procesar_sexo, axis=1)\n",
    "df_detenidos_aprendidos['GENERO'] = uid_coincidentes.apply(procesar_genero, axis=1)\n",
    "df_detenidos_aprendidos['NACIONALIDAD'] = uid_coincidentes.apply(procesar_nacionalidad, axis=1)\n",
    "df_detenidos_aprendidos['SITUACION_PROCESAL'] = uid_coincidentes.apply(procesar_situacion_judicial, axis=1)\n",
    "df_detenidos_aprendidos['DELITO_IMPUTADO'] = uid_coincidentes.apply(procesar_tipo_delito, axis=1)\n",
    "df_detenidos_aprendidos['JUZGADO_INTERVINIENTE'] = uid_coincidentes.apply(procesar_juzgado, axis=1)\n",
    "df_detenidos_aprendidos['CARATULA_CAUSA'] = uid_coincidentes.apply(procesar_caratula, axis=1)\n",
    "df_detenidos_aprendidos['NUM_CAUSA'] = uid_coincidentes['UID']\n",
    "\n",
    "print(f\"Total de registros después del procesamiento de columnas específicas: {len(df_detenidos_aprendidos)}\")\n",
    "\n",
    "# Paso 4: Filtrar SITUACION_PROCESAL 'NO INFORMAR'\n",
    "df_detenidos_aprendidos = df_detenidos_aprendidos[df_detenidos_aprendidos['SITUACION_PROCESAL'] != 'NO INFORMAR']\n",
    "print(f\"Cantidad tras exclusión de 'NO INFORMAR': {len(df_detenidos_aprendidos)}\")\n",
    "\n",
    "# Paso 5: Fusionar df_geog_final y df_detenidos_aprendidos en base al UID\n",
    "df_detenidos_aprendidos = pd.merge(df_geog_final, df_detenidos_aprendidos, on='UID', how='left')\n",
    "print(f\"Total de registros después de la fusión con df_geog_final: {len(df_detenidos_aprendidos)}\")\n",
    "\n",
    "# Paso 6: Relleno de valores vacíos con '-'\n",
    "df_detenidos_aprendidos = df_detenidos_aprendidos.apply(lambda x: x.fillna('-') if x.dtype == 'object' else x)\n",
    "\n",
    "\n",
    "# Paso 7: Selección y reordenamiento de columnas\n",
    "df_detenidos_aprendidos = df_detenidos_aprendidos[[\n",
    "    \"UID\",\n",
    "    'FUERZA_INTERVINIENTE',\n",
    "    'ID_OPERATIVO',\n",
    "    'ID_PROCEDIMIENTO',\n",
    "    'UNIDAD_INTERVINIENTE',\n",
    "    'DESCRIPCIÓN',\n",
    "    'TIPO_INTERVENCION',\n",
    "    'EDAD',\n",
    "    'SEXO',\n",
    "    'GENERO',\n",
    "    'NACIONALIDAD',\n",
    "    'SITUACION_PROCESAL',\n",
    "    \"DELITO_IMPUTADO\",\n",
    "    'JUZGADO_INTERVINIENTE',\n",
    "    'CARATULA_CAUSA',\n",
    "    \"NUM_CAUSA\"\n",
    "    \n",
    "]]\n",
    "\n",
    "print(f\"Total de registros después de seleccionar y reordenar columnas: {len(df_detenidos_aprendidos)}\")\n"
   ]
  },
  {
   "cell_type": "markdown",
   "metadata": {},
   "source": [
    "### HOJA OTROS DELITOS"
   ]
  },
  {
   "cell_type": "code",
   "execution_count": 6,
   "metadata": {},
   "outputs": [
    {
     "name": "stdout",
     "output_type": "stream",
     "text": [
      "Cantidad de registros en geog: 327\n",
      "Cantidad de registros en detenidos_aprendidos: 217\n",
      "Cantidad de registros en otros_delitos: 141\n"
     ]
    }
   ],
   "source": [
    "# Crear un nuevo dataframe para otro delitos\n",
    "df_otros_delitos = df_detenidos_aprendidos[df_detenidos_aprendidos['SITUACION_PROCESAL'] == 'VICTIMA']\n",
    "# Filtro los que son victima de detenidos y aprendidos\n",
    "df_detenidos_aprendidos_final = df_detenidos_aprendidos[df_detenidos_aprendidos['SITUACION_PROCESAL'] != 'VICTIMA']\n",
    "\n",
    "# Cambiar el nombre de algunas columnas en el DataFrame de víctimas\n",
    "df_otros_delitos = df_otros_delitos.rename(columns={\n",
    "    'DELITO_IMPUTADO': 'TIPO_OTRO_DELITO',\n",
    "    'GENERO': 'GENERO_VICTIMA',\n",
    "    'EDAD': 'EDAD_VICTIMA',\n",
    "}) # type: ignore\n",
    "\n",
    "df_otros_delitos[\"OBSERVACIONES\"] =\"-\"\n",
    "# Seleccionar las columnas deseadas en el DataFrame de víctimas\n",
    "df_otros_delitos_final = df_otros_delitos[[\n",
    "    \"UID\",\n",
    "    'FUERZA_INTERVINIENTE',\n",
    "    'ID_OPERATIVO',\n",
    "    'ID_PROCEDIMIENTO',\n",
    "    'UNIDAD_INTERVINIENTE',\n",
    "    'DESCRIPCIÓN',\n",
    "    'TIPO_INTERVENCION',\n",
    "    \"TIPO_OTRO_DELITO\",\n",
    "    'GENERO_VICTIMA',\n",
    "    'EDAD_VICTIMA',\n",
    "    'NACIONALIDAD',\n",
    "    'OBSERVACIONES'\n",
    "]]\n",
    "\n",
    "\n",
    "# Imprimir la cantidad de registros en el DataFrame de otros delitos para verificar\n",
    "print(f\"Cantidad de registros en geog: {len(df_geog_final)}\")\n",
    "print(f\"Cantidad de registros en detenidos_aprendidos: {len(df_detenidos_aprendidos_final)}\")\n",
    "print(f\"Cantidad de registros en otros_delitos: {len(df_otros_delitos_final)}\")"
   ]
  },
  {
   "cell_type": "markdown",
   "metadata": {},
   "source": [
    "### INCAUTACIONES ARMA"
   ]
  },
  {
   "cell_type": "code",
   "execution_count": 7,
   "metadata": {},
   "outputs": [
    {
     "name": "stdout",
     "output_type": "stream",
     "text": [
      "Total de registros cargados: 8\n",
      "                UID TIPO_INCAUTACION        TIPO SUBTIPO  CANTIDAD   MEDIDAS  \\\n",
      "0  PS-4693-USU-2024            ARMAS     PISTOLA       -       1.0  UNIDADES   \n",
      "1  PS-4693-USU-2024            ARMAS  MUNICIONES       -      50.0  UNIDADES   \n",
      "2  PS-4700-AER-2024            ARMAS    REVÓLVER       -       1.0  UNIDADES   \n",
      "3  PS-4706-EZE-2024            ARMAS    PISTOLÓN       -       1.0  UNIDADES   \n",
      "4  PS-4821-SAL-2024            ARMAS  MUNICIONES       -       1.0  UNIDADES   \n",
      "5  PS-4944-UC4-2024            ARMAS    REVÓLVER       -       1.0  UNIDADES   \n",
      "6  PS-4944-UC4-2024            ARMAS  MUNICIONES       -       6.0  UNIDADES   \n",
      "\n",
      "  AFORO                                  OBSERVACIONES  \n",
      "0     -                    MARCA: GLOCK - CALIBRE: 9MM  \n",
      "1     -                                   CALIBRE: 9MM  \n",
      "2     -           MARCA: SMITH & WESSON - CALIBRE: .32  \n",
      "3     -  MARCA: SIN DETERMINAR - CALIBRE: OTRO CALIBRE  \n",
      "4     -                                   CALIBRE: .22  \n",
      "5     -                       MARCA: SD - CALIBRE: .32  \n",
      "6     -                   MARCA: S&W SP - CALIBRE: .32  \n"
     ]
    }
   ],
   "source": [
    "# Paso 1: Cargar datos iniciales\n",
    "excel_bajada_arma = pd.read_excel(\"bajadas/bajada_arma.xls\")\n",
    "print(f\"Total de registros cargados: {len(excel_bajada_arma)}\")\n",
    "\n",
    "# Paso 2: Generar UID\n",
    "excel_bajada_arma = excel_bajada_arma[excel_bajada_arma[\"TIPO_ESTADO_OBJETO\"] == \"SECUESTRADO\"]\n",
    "excel_bajada_arma['UOSP'] = excel_bajada_arma['UOSP'].fillna(excel_bajada_arma['URSA'])\n",
    "excel_bajada_arma['TIPO_CAUSA_INTERNA'] = excel_bajada_arma.apply( procesar_tipo_causa_interna, axis=1)\n",
    "excel_bajada_arma['UID'] = excel_bajada_arma.apply(generar_uid_sigpol, axis=1)\n",
    "\n",
    "\n",
    "# Crear DataFrame de arma\n",
    "df_arma = pd.DataFrame()\n",
    "df_arma['UID'] = excel_bajada_arma['UID']\n",
    "df_arma['TIPO_INCAUTACION'] = \"ARMAS\"\n",
    "df_arma['TIPO'] = excel_bajada_arma['TIPO_ARMA']\n",
    "df_arma['SUBTIPO'] = \"-\"\n",
    "df_arma['CANTIDAD'] = excel_bajada_arma.apply(procesar_cantidad_arma, axis=1)\n",
    "df_arma['MEDIDAS'] = \"UNIDADES\"\n",
    "df_arma['AFORO'] = \"-\"\n",
    "df_arma['OBSERVACIONES'] = excel_bajada_arma.apply(procesar_observaciones_arma, axis=1)\n",
    "\n",
    "# Paso 3: Coincidencia de UID entre excel_bajada_arma y df_geog_final\n",
    "df_arma_final = df_arma[df_arma['UID'].isin(df_geog_final['UID'])]\n",
    "print(df_arma_final)\n"
   ]
  },
  {
   "cell_type": "markdown",
   "metadata": {},
   "source": [
    "### INCAUTACIONES DIVISA"
   ]
  },
  {
   "cell_type": "code",
   "execution_count": 8,
   "metadata": {},
   "outputs": [
    {
     "name": "stdout",
     "output_type": "stream",
     "text": [
      "Total de registros cargados: 59\n",
      "UID                 11\n",
      "TIPO_INCAUTACION     1\n",
      "TIPO                 5\n",
      "SUBTIPO              1\n",
      "CANTIDAD            17\n",
      "MEDIDAS              1\n",
      "AFORO                1\n",
      "OBSERVACIONES        1\n",
      "dtype: int64\n",
      "                 UID TIPO_INCAUTACION                  TIPO SUBTIPO  CANTIDAD  \\\n",
      "0   AJ-5006-EZE-2024          DIVISAS             BOLIVIANO       -    1572.0   \n",
      "1   AJ-5006-EZE-2024          DIVISAS  DÓLAR ESTADOUNIDENSE       -    1201.0   \n",
      "2   AJ-5006-EZE-2024          DIVISAS        PESO ARGENTINO       -   58800.0   \n",
      "3   AJ-5006-EZE-2024          DIVISAS          PESO CHILENO       -     900.0   \n",
      "4   AP-4735-RG4-2024          DIVISAS        PESO ARGENTINO       -   10000.0   \n",
      "5   AP-5003-AER-2024          DIVISAS        PESO ARGENTINO       -   10070.0   \n",
      "6   PS-4777-AER-2024          DIVISAS  DÓLAR ESTADOUNIDENSE       -     400.0   \n",
      "7   PS-4790-EZE-2024          DIVISAS                 EURO        -     850.0   \n",
      "8   PS-4790-EZE-2024          DIVISAS        PESO ARGENTINO       -   44150.0   \n",
      "9   PS-4865-UC4-2024          DIVISAS        PESO ARGENTINO       -  183000.0   \n",
      "10  PS-4932-AER-2024          DIVISAS  DÓLAR ESTADOUNIDENSE       -       2.0   \n",
      "11  PS-4932-AER-2024          DIVISAS        PESO ARGENTINO       -   17932.0   \n",
      "12  PS-4933-UC4-2024          DIVISAS        PESO ARGENTINO       -  182000.0   \n",
      "13  PS-4941-UC4-2024          DIVISAS        PESO ARGENTINO       -   42200.0   \n",
      "14  PS-4963-USU-2024          DIVISAS  DÓLAR ESTADOUNIDENSE       -   16500.0   \n",
      "15  RL-4755-AER-2024          DIVISAS  DÓLAR ESTADOUNIDENSE       -       1.0   \n",
      "16  RL-4755-AER-2024          DIVISAS        PESO ARGENTINO       -      35.0   \n",
      "\n",
      "     MEDIDAS AFORO OBSERVACIONES  \n",
      "0   UNIDADES     -             -  \n",
      "1   UNIDADES     -             -  \n",
      "2   UNIDADES     -             -  \n",
      "3   UNIDADES     -             -  \n",
      "4   UNIDADES     -             -  \n",
      "5   UNIDADES     -             -  \n",
      "6   UNIDADES     -             -  \n",
      "7   UNIDADES     -             -  \n",
      "8   UNIDADES     -             -  \n",
      "9   UNIDADES     -             -  \n",
      "10  UNIDADES     -             -  \n",
      "11  UNIDADES     -             -  \n",
      "12  UNIDADES     -             -  \n",
      "13  UNIDADES     -             -  \n",
      "14  UNIDADES     -             -  \n",
      "15  UNIDADES     -             -  \n",
      "16  UNIDADES     -             -  \n"
     ]
    }
   ],
   "source": [
    "# Paso 1: Cargar datos iniciales\n",
    "excel_bajada_divisa = pd.read_excel(\"bajadas/bajada_divisas_secuestradas.xls\")\n",
    "print(f\"Total de registros cargados: {len(excel_bajada_divisa)}\")\n",
    "\n",
    "excel_bajada_procedimientos_generales['PARTE_ANIO'] = excel_bajada_procedimientos_generales['NUMERO_PARTE'].astype(str) + \"/\" + excel_bajada_procedimientos_generales['ANIO_PARTE'].astype(str)\n",
    "excel_bajada_divisa['PARTE_ANIO'] = excel_bajada_divisa['NUMERO_PARTE'].astype(str) + \"/\" + excel_bajada_divisa['ANIO_PARTE'].astype(str)\n",
    "\n",
    "excel_bajada_divisa['UOSP'] = excel_bajada_divisa['UOSP'].fillna(excel_bajada_divisa['URSA'])\n",
    "# Hacer el merge para traer la columna TIPO_CAUSA_INTERNA a excel_bajada_divisa\n",
    "excel_bajada_divisa = pd.merge(excel_bajada_divisa, \n",
    "                               excel_bajada_procedimientos_generales[['PARTE_ANIO', 'TIPO_CAUSA_INTERNA']], \n",
    "                               on='PARTE_ANIO', \n",
    "                               how='left')\n",
    "\n",
    "excel_bajada_divisa['UID'] = excel_bajada_divisa.apply(generar_uid_sigpol, axis=1)\n",
    "excel_bajada_divisa = excel_bajada_divisa[~pd.isnull(excel_bajada_divisa['TOTAL_DIVISAS_SECUESTRADAS'])]\n",
    "\n",
    "\n",
    "# Agrupar por 'UID' (y 'TIPO' si se necesita) para sumar las cantidades\n",
    "cantidad_por_uid = excel_bajada_divisa.groupby(['UID', 'TIPO_DIVISA'], as_index=False)['TOTAL_DIVISAS_SECUESTRADAS'].sum()\n",
    "\n",
    "# Paso 2: Crear df_divisa con las cantidades sumadas\n",
    "df_divisa = pd.DataFrame()\n",
    "df_divisa['UID'] = cantidad_por_uid['UID']\n",
    "df_divisa['TIPO_INCAUTACION'] = \"DIVISAS\"\n",
    "df_divisa['TIPO'] = cantidad_por_uid['TIPO_DIVISA']\n",
    "df_divisa['SUBTIPO'] = \"-\"\n",
    "df_divisa['CANTIDAD'] = cantidad_por_uid['TOTAL_DIVISAS_SECUESTRADAS']\n",
    "df_divisa['MEDIDAS'] = \"UNIDADES\"\n",
    "df_divisa['AFORO'] = \"-\"\n",
    "df_divisa['OBSERVACIONES'] = \"-\"\n",
    "\n",
    "# Mostrar el resultado final\n",
    "df_divisa_final = df_divisa[df_divisa['UID'].isin(df_geog_final['UID'])]\n",
    "\n",
    "\n",
    "print(df_divisa_final.nunique())\n",
    "print(df_divisa_final)"
   ]
  },
  {
   "cell_type": "markdown",
   "metadata": {},
   "source": [
    "### INCAUTACIONES OBJETOS"
   ]
  },
  {
   "cell_type": "code",
   "execution_count": 9,
   "metadata": {},
   "outputs": [
    {
     "name": "stdout",
     "output_type": "stream",
     "text": [
      "Total de registros cargados: 680\n",
      "UID                 19\n",
      "TIPO_INCAUTACION     1\n",
      "TIPO                12\n",
      "SUBTIPO              1\n",
      "CANTIDAD             4\n",
      "MEDIDAS              1\n",
      "AFORO                1\n",
      "OBSERVACIONES        1\n",
      "dtype: int64\n",
      "                  UID TIPO_INCAUTACION                        TIPO SUBTIPO  \\\n",
      "5    PS-4676-IGU-2024       MERCADERIA  COMUNICACIONES - CELULARES       -   \n",
      "6    PS-4676-IGU-2024       MERCADERIA  COMUNICACIONES - CELULARES       -   \n",
      "7    PS-4676-IGU-2024       MERCADERIA  COMUNICACIONES - CELULARES       -   \n",
      "8    PS-4676-IGU-2024       MERCADERIA  COMUNICACIONES - CELULARES       -   \n",
      "9    PS-4676-IGU-2024       MERCADERIA  COMUNICACIONES - CELULARES       -   \n",
      "..                ...              ...                         ...     ...   \n",
      "615  PS-4946-AER-2024       MERCADERIA        PERSONALES - ALHAJAS       -   \n",
      "618  PS-4946-AER-2024       MERCADERIA   PERSONALES - INDUMENTARIA       -   \n",
      "619  PS-4946-AER-2024       MERCADERIA   PERSONALES - INDUMENTARIA       -   \n",
      "621  PS-4946-AER-2024       MERCADERIA       COMUNICACIONES - CHIP       -   \n",
      "627  PS-4963-USU-2024       MERCADERIA  COMUNICACIONES - CELULARES       -   \n",
      "\n",
      "     CANTIDAD   MEDIDAS AFORO OBSERVACIONES  \n",
      "5         2.0  UNIDADES     -             -  \n",
      "6         3.0  UNIDADES     -             -  \n",
      "7         1.0  UNIDADES     -             -  \n",
      "8         1.0  UNIDADES     -             -  \n",
      "9         1.0  UNIDADES     -             -  \n",
      "..        ...       ...   ...           ...  \n",
      "615       1.0  UNIDADES     -             -  \n",
      "618       1.0  UNIDADES     -             -  \n",
      "619       1.0  UNIDADES     -             -  \n",
      "621       1.0  UNIDADES     -             -  \n",
      "627       1.0  UNIDADES     -             -  \n",
      "\n",
      "[122 rows x 8 columns]\n"
     ]
    }
   ],
   "source": [
    "# Paso 1: Cargar datos iniciales\n",
    "excel_bajada_objetos = pd.read_excel(\"bajadas/bajada_objetos.xls\")\n",
    "print(f\"Total de registros cargados: {len(excel_bajada_objetos)}\")\n",
    "\n",
    "excel_bajada_objetos = excel_bajada_objetos[excel_bajada_objetos[\"ESTADO\"] == \"SECUESTRADO\"]\n",
    "\n",
    "excel_bajada_objetos['UOSP'] = excel_bajada_objetos['UOSP'].fillna(excel_bajada_objetos['URSA'])\n",
    "excel_bajada_objetos['TIPO_CAUSA_INTERNA'] = excel_bajada_objetos.apply( procesar_tipo_causa_interna, axis=1)\n",
    "excel_bajada_objetos['UID'] = excel_bajada_objetos.apply(generar_uid_sigpol, axis=1)\n",
    "excel_bajada_objetos = excel_bajada_objetos[excel_bajada_objetos['TIPO_OBJETO'].isin(TIPO_OBJETO)]\n",
    "excel_bajada_objetos = excel_bajada_objetos[~pd.isnull(excel_bajada_objetos['CANTIDAD'])]\n",
    "\n",
    "# Paso 2: Crear df_divisa con las cantidades sumadas\n",
    "df_objetos = pd.DataFrame()\n",
    "df_objetos['UID'] = excel_bajada_objetos['UID']\n",
    "df_objetos['TIPO_INCAUTACION'] = \"MERCADERIA\"\n",
    "df_objetos['TIPO'] = excel_bajada_objetos['TIPO_OBJETO']\n",
    "df_objetos['SUBTIPO'] = \"-\"\n",
    "df_objetos['CANTIDAD'] = excel_bajada_objetos['CANTIDAD']\n",
    "df_objetos['MEDIDAS'] = \"UNIDADES\"\n",
    "df_objetos['AFORO'] = \"-\"\n",
    "df_objetos['OBSERVACIONES'] = \"-\"\n",
    "\n",
    "# Mostrar el resultado final\n",
    "\n",
    "\n",
    "df_objetos_final = df_objetos[df_objetos['UID'].isin(df_geog_final['UID'])]\n",
    "\n",
    "print(df_objetos_final.nunique())\n",
    "print(df_objetos_final)"
   ]
  },
  {
   "cell_type": "markdown",
   "metadata": {},
   "source": [
    "### INCAUTACIONES VEHICULOS"
   ]
  },
  {
   "cell_type": "code",
   "execution_count": 10,
   "metadata": {},
   "outputs": [
    {
     "name": "stdout",
     "output_type": "stream",
     "text": [
      "Total de registros vehiculos secuestrados: 37\n",
      "Cantidad de registros con UID coincidente: 361\n",
      "UID                 9\n",
      "TIPO_INCAUTACION    1\n",
      "TIPO                3\n",
      "SUBTIPO             1\n",
      "CANTIDAD            1\n",
      "MEDIDAS             1\n",
      "AFORO               1\n",
      "OBSERVACIONES       8\n",
      "dtype: int64\n",
      "                 UID        TIPO_INCAUTACION         TIPO SUBTIPO  CANTIDAD  \\\n",
      "1   PS-4875-EZE-2024  SECUESTRO DE VEHICULOS    AUTOMOVIL       -         1   \n",
      "2   AP-4797-EZE-2024  SECUESTRO DE VEHICULOS  MOTOCICLETA       -         1   \n",
      "3   AP-4798-EZE-2024  SECUESTRO DE VEHICULOS    AUTOMOVIL       -         1   \n",
      "20  AP-4826-EZE-2024  SECUESTRO DE VEHICULOS    AUTOMOVIL       -         1   \n",
      "21  PS-4941-UC4-2024  SECUESTRO DE VEHICULOS  MOTOCICLETA       -         1   \n",
      "24  AP-4972-EZE-2024  SECUESTRO DE VEHICULOS    AUTOMOVIL       -         1   \n",
      "25  AP-4871-EZE-2024  SECUESTRO DE VEHICULOS    AUTOMOVIL       -         1   \n",
      "29  PS-4860-UC4-2024  SECUESTRO DE VEHICULOS    AUTOMOVIL       -         1   \n",
      "33  AP-4749-EZE-2024  SECUESTRO DE VEHICULOS    CAMIONETA       -         1   \n",
      "\n",
      "     MEDIDAS AFORO                          OBSERVACIONES  \n",
      "1   UNIDADES     -          VOLKSWAGEN - VOYAGE - LVG932   \n",
      "2   UNIDADES     -         CORVEN - MIRAGE 110 - A208FRT   \n",
      "3   UNIDADES     -             RENAULT - LOGAN - AG192KS   \n",
      "20  UNIDADES     -  FIAT - CRONOS DRIVE 1.3 MT - AD445MD   \n",
      "21  UNIDADES     -               SUZUKI - AX100 - 238BHJ   \n",
      "24  UNIDADES     -                 FORD - FOCUS - EPO491   \n",
      "25  UNIDADES     -          VOLKSWAGEN - VOYAGE - LVG932   \n",
      "29  UNIDADES     -        FIAT - UNO S (1.4-3P) - CWJ219   \n",
      "33  UNIDADES     -                TOYOTA - SW4 - AE168GY   \n"
     ]
    }
   ],
   "source": [
    "# Paso 1: Cargar datos iniciales\n",
    "excel_bajada_vehiculos = pd.read_excel(\"bajadas/bajada_vehiculos_secuestrados.xls\")\n",
    "# excel_bajada_ministerio_vehiculos = pd.read_excel(\"bajadas/bajada_ministerio_vehiculos.xls\")\n",
    "print(f\"Total de registros vehiculos secuestrados: {len(excel_bajada_vehiculos)}\")\n",
    "\n",
    "\n",
    "excel_bajada_vehiculos = excel_bajada_vehiculos[excel_bajada_vehiculos[\"VEHICULO_ESTADO\"] == \"SECUESTRADO\"]\n",
    "\n",
    "excel_bajada_vehiculos['TIPO_CAUSA_INTERNA'] = excel_bajada_vehiculos.apply( procesar_tipo_causa_interna, axis=1)\n",
    "excel_bajada_vehiculos['UOSP'] = excel_bajada_vehiculos['UOSP'].fillna(excel_bajada_vehiculos['URSA'])\n",
    "excel_bajada_vehiculos['TIPO_CAUSA_INTERNA'] = excel_bajada_vehiculos.apply( procesar_tipo_causa_interna, axis=1)\n",
    "excel_bajada_vehiculos['UID'] = excel_bajada_vehiculos.apply(generar_uid_sigpol, axis=1)\n",
    "\n",
    "\n",
    "# Paso 2: Crear df_divisa con las cantidades sumadas\n",
    "df_vehiculos = pd.DataFrame()\n",
    "df_vehiculos['UID'] = excel_bajada_vehiculos['UID']\n",
    "df_vehiculos['TIPO_INCAUTACION'] = \"SECUESTRO DE VEHICULOS\"\n",
    "df_vehiculos['TIPO'] = excel_bajada_vehiculos['VEHICULO_TIPO']\n",
    "df_vehiculos['SUBTIPO'] = \"-\"\n",
    "df_vehiculos['CANTIDAD'] = excel_bajada_vehiculos['CANTIDAD']\n",
    "df_vehiculos['MEDIDAS'] = \"UNIDADES\"\n",
    "df_vehiculos['AFORO'] = \"-\"\n",
    "df_vehiculos['OBSERVACIONES'] = excel_bajada_vehiculos.apply(observaciones_vehiculo,axis=1)\n",
    "\n",
    "\n",
    "df_vehiculos_final = df_vehiculos[df_vehiculos['UID'].isin(df_geog_final['UID'])]\n",
    "print(f\"Cantidad de registros con UID coincidente: {len(uid_coincidentes)}\")\n",
    "\n",
    "print(df_vehiculos_final.nunique())\n",
    "print(df_vehiculos_final)"
   ]
  },
  {
   "cell_type": "markdown",
   "metadata": {},
   "source": [
    "### INCAUTACIONES NARCOTRAFICO"
   ]
  },
  {
   "cell_type": "code",
   "execution_count": 11,
   "metadata": {},
   "outputs": [
    {
     "name": "stdout",
     "output_type": "stream",
     "text": [
      "Total de registros narcostrafico secuestrados: 67\n"
     ]
    }
   ],
   "source": [
    "# Paso 1: Cargar datos iniciales\n",
    "excel_bajada_narcotrafico = pd.read_excel(\"bajadas/bajada_general_narcotrafico.xls\")\n",
    "print(f\"Total de registros narcostrafico secuestrados: {len(excel_bajada_narcotrafico)}\")\n",
    "\n",
    "excel_bajada_narcotrafico['UOSP'] = excel_bajada_narcotrafico['UOSP'].fillna(excel_bajada_narcotrafico['URSA'])\n",
    "excel_bajada_narcotrafico['TIPO_CAUSA_INTERNA'] = excel_bajada_narcotrafico.apply( procesar_tipo_causa_interna, axis=1)\n",
    "excel_bajada_narcotrafico['UID'] = excel_bajada_narcotrafico.apply(generar_uid_sigpol, axis=1)\n",
    "\n",
    "excel_bajada_narcotrafico = excel_bajada_narcotrafico[~pd.isnull(excel_bajada_narcotrafico['TIPO_ESTUPEFACIENTE'])]\n",
    "\n",
    "\n",
    "#Paso 2: Crear df_divisa con las cantidades sumadas\n",
    "df_narcotrafico = pd.DataFrame()\n",
    "df_narcotrafico['UID'] = excel_bajada_narcotrafico['UID']\n",
    "df_narcotrafico['TIPO_INCAUTACION'] = \"ESTUPEFACIENTE\"\n",
    "df_narcotrafico['TIPO'] = excel_bajada_narcotrafico.apply(clasificar_tipo_sustancia, axis=1)\n",
    "df_narcotrafico['SUBTIPO'] = \"-\"\n",
    "df_narcotrafico[['CANTIDAD', 'MEDIDAS']] = excel_bajada_narcotrafico.apply(clasificar_medida, axis=1, result_type='expand')\n",
    "df_narcotrafico['AFORO'] = \"-\"\n",
    "df_narcotrafico['OBSERVACIONES'] = excel_bajada_narcotrafico.apply(observaciones_sustancia, axis=1)\n",
    "\n"
   ]
  },
  {
   "cell_type": "markdown",
   "metadata": {},
   "source": [
    "### UNION DE ARMAS, DIVISAS, OBJETOS , VEHICULOS , NARCOTRAFICO"
   ]
  },
  {
   "cell_type": "code",
   "execution_count": 12,
   "metadata": {},
   "outputs": [
    {
     "name": "stdout",
     "output_type": "stream",
     "text": [
      "Total de registros incautados sin filtracion de lo que ya se informo: 155\n",
      "Total de registros incautados con filtracion de lo que ya se informo: 155\n",
      "UID                     33\n",
      "FUERZA_INTERVINIENTE     1\n",
      "ID_OPERATIVO            29\n",
      "ID_PROCEDIMIENTO        33\n",
      "UNIDAD_INTERVINIENTE     8\n",
      "DESCRIPCIÓN              6\n",
      "TIPO_INTERVENCION        2\n",
      "TIPO_INCAUTACION         4\n",
      "TIPO                    24\n",
      "SUBTIPO                  1\n",
      "CANTIDAD                21\n",
      "MEDIDAS                  1\n",
      "AFORO                    1\n",
      "OBSERVACIONES           16\n",
      "dtype: int64\n",
      "                  UID FUERZA_INTERVINIENTE    ID_OPERATIVO  ID_PROCEDIMIENTO  \\\n",
      "0    PS-4676-IGU-2024                  PSA   FPO-5319/2024  PS-4676-IGU-2024   \n",
      "1    PS-4676-IGU-2024                  PSA   FPO-5319/2024  PS-4676-IGU-2024   \n",
      "2    PS-4676-IGU-2024                  PSA   FPO-5319/2024  PS-4676-IGU-2024   \n",
      "3    PS-4676-IGU-2024                  PSA   FPO-5319/2024  PS-4676-IGU-2024   \n",
      "4    PS-4676-IGU-2024                  PSA   FPO-5319/2024  PS-4676-IGU-2024   \n",
      "..                ...                  ...             ...               ...   \n",
      "150  PS-4933-UC4-2024                  PSA   FPO-7451/2023  PS-4933-UC4-2024   \n",
      "151  PS-4941-UC4-2024                  PSA   FPO-7451/2023  PS-4941-UC4-2024   \n",
      "152  PS-4963-USU-2024                  PSA  PS-0028-USU/24  PS-4963-USU-2024   \n",
      "153  RL-4755-AER-2024                  PSA        42786/14  RL-4755-AER-2024   \n",
      "154  RL-4755-AER-2024                  PSA        42786/14  RL-4755-AER-2024   \n",
      "\n",
      "    UNIDAD_INTERVINIENTE                                        DESCRIPCIÓN  \\\n",
      "0                    IGU  CONTROL PREVENTIVO - SECTOR DE SEGURIDAD RESTR...   \n",
      "1                    IGU  CONTROL PREVENTIVO - SECTOR DE SEGURIDAD RESTR...   \n",
      "2                    IGU  CONTROL PREVENTIVO - SECTOR DE SEGURIDAD RESTR...   \n",
      "3                    IGU  CONTROL PREVENTIVO - SECTOR DE SEGURIDAD RESTR...   \n",
      "4                    IGU  CONTROL PREVENTIVO - SECTOR DE SEGURIDAD RESTR...   \n",
      "..                   ...                                                ...   \n",
      "150                  UC4                              ORDEN DE ALLANAMIENTO   \n",
      "151                  UC4                              ORDEN DE ALLANAMIENTO   \n",
      "152                  USU  CONTROL PREVENTIVO - SECTOR DE SEGURIDAD RESTR...   \n",
      "153                  AER                                  DENUNCIA POLICIAL   \n",
      "154                  AER                                  DENUNCIA POLICIAL   \n",
      "\n",
      "    TIPO_INTERVENCION TIPO_INCAUTACION                        TIPO SUBTIPO  \\\n",
      "0      ORDEN POLICIAL       MERCADERIA  COMUNICACIONES - CELULARES       -   \n",
      "1      ORDEN POLICIAL       MERCADERIA  COMUNICACIONES - CELULARES       -   \n",
      "2      ORDEN POLICIAL       MERCADERIA  COMUNICACIONES - CELULARES       -   \n",
      "3      ORDEN POLICIAL       MERCADERIA  COMUNICACIONES - CELULARES       -   \n",
      "4      ORDEN POLICIAL       MERCADERIA  COMUNICACIONES - CELULARES       -   \n",
      "..                ...              ...                         ...     ...   \n",
      "150    ORDEN JUDICIAL          DIVISAS              PESO ARGENTINO       -   \n",
      "151    ORDEN JUDICIAL          DIVISAS              PESO ARGENTINO       -   \n",
      "152    ORDEN POLICIAL          DIVISAS        DÓLAR ESTADOUNIDENSE       -   \n",
      "153    ORDEN POLICIAL          DIVISAS        DÓLAR ESTADOUNIDENSE       -   \n",
      "154    ORDEN POLICIAL          DIVISAS              PESO ARGENTINO       -   \n",
      "\n",
      "     CANTIDAD   MEDIDAS AFORO OBSERVACIONES  \n",
      "0         2.0  UNIDADES     -             -  \n",
      "1         3.0  UNIDADES     -             -  \n",
      "2         1.0  UNIDADES     -             -  \n",
      "3         1.0  UNIDADES     -             -  \n",
      "4         1.0  UNIDADES     -             -  \n",
      "..        ...       ...   ...           ...  \n",
      "150  182000.0  UNIDADES     -             -  \n",
      "151   42200.0  UNIDADES     -             -  \n",
      "152   16500.0  UNIDADES     -             -  \n",
      "153       1.0  UNIDADES     -             -  \n",
      "154      35.0  UNIDADES     -             -  \n",
      "\n",
      "[155 rows x 14 columns]\n"
     ]
    }
   ],
   "source": [
    "# df_incautados = pd.concat([df_objetos, df_vehiculos, df_narcotrafico, df_arma, df_divisa])\n",
    "# df_incautados = pd.concat([df_objetos, df_vehiculos, df_arma, df_divisa])\n",
    "df_incautados = pd.concat([df_objetos_final, df_vehiculos_final, df_arma_final, df_divisa_final])\n",
    "df_incautados = df_incautados.apply(lambda x: x.fillna('-') if x.dtype == 'object' else x)\n",
    "\n",
    "\n",
    "print(f\"Total de registros incautados sin filtracion de lo que ya se informo: {len(df_incautados)}\")\n",
    "\n",
    "\n",
    "df_incautados_filtrado = df_incautados[df_incautados['UID'].isin(df_geog_final['UID'])]\n",
    "\n",
    "\n",
    "print(f\"Total de registros incautados con filtracion de lo que ya se informo: {len(df_incautados_filtrado)}\")\n",
    "\n",
    "df_incautados_completado = pd.merge(df_geog_final, df_incautados, on='UID', how='right')\n",
    "# Paso 6: Relleno de valores vacíos con '-'\n",
    "\n",
    "\n",
    "# Paso 7: Selección y reordenamiento de columnas\n",
    "df_incautados_final = df_incautados_completado[[\n",
    "    \"UID\",\n",
    "    'FUERZA_INTERVINIENTE',\n",
    "    'ID_OPERATIVO',\n",
    "    'ID_PROCEDIMIENTO',\n",
    "    'UNIDAD_INTERVINIENTE',\n",
    "    'DESCRIPCIÓN',\n",
    "    'TIPO_INTERVENCION',\n",
    "    'TIPO_INCAUTACION',\n",
    "    'TIPO',\n",
    "    'SUBTIPO',\n",
    "    'CANTIDAD',\n",
    "    'MEDIDAS',\n",
    "    \"AFORO\",\n",
    "    'OBSERVACIONES'\n",
    "]]\n",
    "\n",
    "\n",
    "print(df_incautados_final.nunique())\n",
    "print(df_incautados_final)"
   ]
  },
  {
   "cell_type": "markdown",
   "metadata": {},
   "source": [
    "### TRATA DE PERSONA"
   ]
  },
  {
   "cell_type": "code",
   "execution_count": 13,
   "metadata": {},
   "outputs": [
    {
     "name": "stdout",
     "output_type": "stream",
     "text": [
      "Total de registros tratas: 2\n",
      "UID                      2\n",
      "FUERZA_INTERVINIENTE     1\n",
      "ID_OPERATIVO             2\n",
      "ID_PROCEDIMIENTO         2\n",
      "UNIDAD_INTERVINIENTE     2\n",
      "DESCRIPCIÓN              2\n",
      "TIPO_INTERVENCION        2\n",
      "TIPO_DELITO              1\n",
      "SEXO_VICTIMA             2\n",
      "GENERO_VICTIMA           2\n",
      "EDAD_VICTIMA             2\n",
      "NACIONALIDAD             1\n",
      "JUZGADO_INTERVINIENTE    2\n",
      "OBSERVACIONES            1\n",
      "dtype: int64\n",
      "                UID FUERZA_INTERVINIENTE    ID_OPERATIVO  ID_PROCEDIMIENTO  \\\n",
      "0  AJ-4664-UCC-2024                  PSA  FLP-23610/2024  AJ-4664-UCC-2024   \n",
      "1  PS-4711-EZE-2024                  PSA  PS-0419-EZE/24  PS-4711-EZE-2024   \n",
      "\n",
      "  UNIDAD_INTERVINIENTE            DESCRIPCIÓN TIPO_INTERVENCION  \\\n",
      "0                  UCC  OTRO MANDATO JUDICIAL    ORDEN JUDICIAL   \n",
      "1                  EZE      DENUNCIA POLICIAL    ORDEN POLICIAL   \n",
      "\n",
      "      TIPO_DELITO SEXO_VICTIMA GENERO_VICTIMA EDAD_VICTIMA NACIONALIDAD  \\\n",
      "0  SIN DETERMINAR    MASCULINO          VARON            -    ARGENTINA   \n",
      "1  SIN DETERMINAR     FEMENINO          MUJER         23.0    ARGENTINA   \n",
      "\n",
      "                               JUZGADO_INTERVINIENTE OBSERVACIONES  \n",
      "0  JUZGADO FEDERAL EN LO CRIMINAL Y CORRECCIONAL ...             -  \n",
      "1  JUZGADO FEDERAL DE PRIMERA INSTANCIA EN LO CRI...             -  \n"
     ]
    }
   ],
   "source": [
    "excel_bajada_trata = pd.read_excel(\"bajadas/bajada_trata.xls\")\n",
    "print(f\"Total de registros tratas: {len(excel_bajada_trata)}\")\n",
    "\n",
    "excel_bajada_trata['UOSP'] = excel_bajada_trata['UOSP'].fillna(excel_bajada_trata['URSA'])\n",
    "excel_bajada_trata['TIPO_CAUSA_INTERNA'] = excel_bajada_trata.apply( procesar_tipo_causa_interna, axis=1)\n",
    "excel_bajada_trata['UID'] = excel_bajada_trata.apply(generar_uid_sigpol, axis=1)\n",
    "\n",
    "# Crear DataFrame de detenidos y aprendidos\n",
    "df_trata = pd.DataFrame()\n",
    "df_trata['UID'] = excel_bajada_trata['UID']\n",
    "df_trata['TIPO_DELITO'] = excel_bajada_trata[\"TIPO_EXPLOTACION\"].fillna(\"-\")\n",
    "df_trata['SEXO_VICTIMA'] = excel_bajada_trata.apply(procesar_sexo, axis=1)\n",
    "df_trata['GENERO_VICTIMA'] = excel_bajada_trata.apply(procesar_genero, axis=1)\n",
    "df_trata['EDAD_VICTIMA'] = excel_bajada_trata['EDAD'].fillna(\"-\")\n",
    "df_trata['NACIONALIDAD'] = excel_bajada_trata['NACIONALIDAD'].fillna(\"-\")\n",
    "df_trata['NACIONALIDAD'] = excel_bajada_trata['NACIONALIDAD'].str.upper()\n",
    "df_trata['JUZGADO_INTERVINIENTE'] = excel_bajada_trata.apply(procesar_juzgado, axis=1)\n",
    "df_trata['OBSERVACIONES'] = \"-\"\n",
    "\n",
    "df_trata_filtrado = df_trata[df_trata['UID'].isin(df_geog_final['UID'])]\n",
    "\n",
    "df_trata_completado = pd.merge(df_geog_final, df_trata_filtrado, on='UID', how='right')\n",
    "\n",
    "\n",
    "df_trata_final = df_trata_completado[[\n",
    "    \"UID\",\n",
    "    'FUERZA_INTERVINIENTE',\n",
    "    'ID_OPERATIVO',\n",
    "    'ID_PROCEDIMIENTO',\n",
    "    'UNIDAD_INTERVINIENTE',\n",
    "    'DESCRIPCIÓN',\n",
    "    'TIPO_INTERVENCION',\n",
    "    \"TIPO_DELITO\",\n",
    "    'SEXO_VICTIMA',\n",
    "    'GENERO_VICTIMA',\n",
    "    'EDAD_VICTIMA',\n",
    "    'NACIONALIDAD',\n",
    "    'JUZGADO_INTERVINIENTE',\n",
    "    'OBSERVACIONES'\n",
    "]]\n",
    "\n",
    "\n",
    "print(df_trata_final.nunique())\n",
    "print(df_trata_final)"
   ]
  },
  {
   "cell_type": "markdown",
   "metadata": {},
   "source": [
    "# OPERACIONES"
   ]
  },
  {
   "cell_type": "markdown",
   "metadata": {},
   "source": [
    "### ORDEN DE SERVICIOS"
   ]
  },
  {
   "cell_type": "code",
   "execution_count": 14,
   "metadata": {},
   "outputs": [
    {
     "name": "stderr",
     "output_type": "stream",
     "text": [
      "c:\\Users\\DICA\\Desktop\\Repositorio\\DNEC\\.venv\\Lib\\site-packages\\openpyxl\\worksheet\\_reader.py:329: UserWarning: Data Validation extension is not supported and will be removed\n",
      "  warn(msg)\n"
     ]
    }
   ],
   "source": [
    "excel_bajada_operaciones = pd.read_excel(\"bajadas/NUEVA PLANILLA DE CARGA DE DATOS.xlsx\", \n",
    "                                         sheet_name=\"ORDEN_SERVICIOS\", \n",
    "                                         skiprows=1)\n",
    "\n",
    "# Usar .strftime('%H:%M') en cada valor para obtener solo la hora y el minuto\n",
    "excel_bajada_operaciones['HORA'] = excel_bajada_operaciones['HORA'].apply(lambda x: x.strftime('%H:%M') if pd.notnull(x) else None)\n",
    "\n",
    "# Ahora copiamos esta columna al nuevo DataFrame\n",
    "\n",
    "\n",
    "\n",
    "df_operaciones= pd.DataFrame()\n",
    "\n",
    "df_operaciones[\"UID\"] = excel_bajada_operaciones[\"ID_PROCEDIMIENTO\"]\n",
    "df_operaciones[\"FUERZA_INTERVINIENTE\"] = \"PSA\"\n",
    "df_operaciones[\"ID_PROCEDIMIENTO\"] = excel_bajada_operaciones[\"ID_PROCEDIMIENTO\"]\n",
    "df_operaciones[\"ID_OPERATIVO\"] = excel_bajada_operaciones[\"ID_OPERATIVO\"]\n",
    "df_operaciones[\"UNIDAD_INTERVINIENTE\"] = excel_bajada_operaciones[\"UNIDAD_INTERVINIENTE\"]\n",
    "df_operaciones[\"DESCRIPCIÓN\"] = excel_bajada_operaciones[\"DESCRIPCIÓN\"]\n",
    "df_operaciones[\"TIPO_INTERVENCION\"] = excel_bajada_operaciones[\"TIPO_INTERVENCION\"]\n",
    "df_operaciones[\"PROVINCIA\"] = excel_bajada_operaciones[\"PROVINCIA\"]\n",
    "df_operaciones[\"DEPARTAMENTO O PARTIDO\"] = excel_bajada_operaciones[\"DEPARTAMENTO O PARTIDO\"]\n",
    "df_operaciones[\"LOCALIDAD\"] = excel_bajada_operaciones[\"LOCALIDAD\"]\n",
    "df_operaciones[\"DIRECCION\"] = excel_bajada_operaciones[\"DIRECCION\"]\n",
    "df_operaciones[\"LATITUD\"] = excel_bajada_operaciones[\"LATITUD\"]\n",
    "df_operaciones[\"LONGITUD\"] = excel_bajada_operaciones[\"LONGITUD\"]\n",
    "df_operaciones['FECHA'] = excel_bajada_operaciones[\"FECHA\"]\n",
    "df_operaciones['HORA'] = excel_bajada_operaciones['HORA']\n",
    "df_operaciones[\"ZONA_SEGURIDAD_FRONTERAS\"] = \"-\"\n",
    "df_operaciones[\"PASO_FRONTERIZO\"] = \"-\"\n",
    "df_operaciones['OTRAS AGENCIAS INTERVINIENTES'] =  excel_bajada_operaciones[\"OTRAS AGENCIAS INTERVINIENTES\"]\n",
    "df_operaciones['Observaciones - Detalles'] = \"PATRULLAJE DINAMICO\"\n",
    "\n",
    "\n",
    "df_operaciones_final = df_operaciones[[ \"UID\",'FUERZA_INTERVINIENTE', 'ID_OPERATIVO', 'ID_PROCEDIMIENTO',\n",
    "                                     'UNIDAD_INTERVINIENTE', 'DESCRIPCIÓN', 'TIPO_INTERVENCION',\n",
    "                                     'PROVINCIA', 'DEPARTAMENTO O PARTIDO', 'LOCALIDAD', 'DIRECCION',\n",
    "                                     'ZONA_SEGURIDAD_FRONTERAS', 'PASO_FRONTERIZO', 'LATITUD', 'LONGITUD',\n",
    "                                     'FECHA', 'HORA', 'OTRAS AGENCIAS INTERVINIENTES', 'Observaciones - Detalles']]\n",
    "\n",
    "\n",
    "\n",
    "# Reemplazar \"S/D\" y \"N/C\" por \"-\"\n",
    "df_operaciones_final.replace([\"S/D\", \"N/C\"], \"-\", inplace=True)\n",
    "\n",
    "# Reemplazar los valores vacíos (NaN) por \"-\"\n",
    "df_operaciones_final.fillna(\"-\", inplace=True)\n",
    "\n",
    "\n",
    "\n",
    "df_geog_final = pd.concat ([df_geog_final, df_operaciones_final]) \n",
    "\n",
    "\n",
    "\n",
    "\n",
    "\n"
   ]
  },
  {
   "cell_type": "markdown",
   "metadata": {},
   "source": [
    "### HOJA DE VEHI. Y PERSO. CONTROLADAS"
   ]
  },
  {
   "cell_type": "code",
   "execution_count": 15,
   "metadata": {},
   "outputs": [
    {
     "name": "stderr",
     "output_type": "stream",
     "text": [
      "C:\\Users\\DICA\\AppData\\Local\\Temp\\ipykernel_18980\\2902374703.py:19: FutureWarning: Setting an item of incompatible dtype is deprecated and will raise an error in a future version of pandas. Value '-' has dtype incompatible with float64, please explicitly cast to a compatible dtype first.\n",
      "  df_cotrolados_final.fillna(\"-\", inplace=True)\n"
     ]
    }
   ],
   "source": [
    "df_cotrolados_final = pd.DataFrame()\n",
    "df_cotrolados_final[\"UID\"] = excel_bajada_operaciones[\"ID_PROCEDIMIENTO\"]\n",
    "df_cotrolados_final[\"FUERZA_INTERVINIENTE\"] = \"PSA\"\n",
    "df_cotrolados_final[\"ID_PROCEDIMIENTO\"] = excel_bajada_operaciones[\"ID_PROCEDIMIENTO\"]\n",
    "df_cotrolados_final[\"ID_OPERATIVO\"] = excel_bajada_operaciones[\"ID_OPERATIVO\"]\n",
    "df_cotrolados_final[\"UNIDAD_INTERVINIENTE\"] = excel_bajada_operaciones[\"UNIDAD_INTERVINIENTE\"]\n",
    "df_cotrolados_final[\"DESCRIPCIÓN\"] = excel_bajada_operaciones[\"DESCRIPCIÓN\"]\n",
    "df_cotrolados_final[\"TIPO_INTERVENCION\"] = excel_bajada_operaciones[\"TIPO_INTERVENCION\"]\n",
    "df_cotrolados_final[\"VEHICULOS_CONTROLADOS\"] = excel_bajada_operaciones[\"VEHICULOS_CONTROLADOS\"]\n",
    "df_cotrolados_final[\"PERSONAS_CONTROLADAS\"] = excel_bajada_operaciones[\"PERSONAS_CONTROLADAS\"]\n",
    "df_cotrolados_final[\"CANT_AVERIGUACIONES_SECUESTRO\"] = excel_bajada_operaciones[\"CANT_AVERIGUACIONES_SECUESTRO\"]\n",
    "df_cotrolados_final[\"CANT_SOLICITUDES_ANTECEDENTES\"] = excel_bajada_operaciones[\"CANT_SOLICITUDES_ANTECEDENTES\"]\n",
    "\n",
    "\n",
    "# Reemplazar \"S/D\" y \"N/C\" por \"-\"\n",
    "df_cotrolados_final.replace([\"S/D\", \"N/C\"], \"-\", inplace=True)\n",
    "\n",
    "# Reemplazar los valores vacíos (NaN) por \"-\"\n",
    "df_cotrolados_final.fillna(\"-\", inplace=True)\n",
    "\n",
    "\n",
    "\n"
   ]
  },
  {
   "cell_type": "markdown",
   "metadata": {},
   "source": [
    "### PERSONAL Y ELEMENTOS AFECTADOS"
   ]
  },
  {
   "cell_type": "code",
   "execution_count": 16,
   "metadata": {},
   "outputs": [
    {
     "name": "stderr",
     "output_type": "stream",
     "text": [
      "C:\\Users\\DICA\\AppData\\Local\\Temp\\ipykernel_18980\\1176547235.py:26: FutureWarning: Setting an item of incompatible dtype is deprecated and will raise an error in a future version of pandas. Value '-' has dtype incompatible with float64, please explicitly cast to a compatible dtype first.\n",
      "  df_afectados_final.fillna(\"-\", inplace=True)\n"
     ]
    }
   ],
   "source": [
    "df_afectados_final = pd.DataFrame()\n",
    "\n",
    "\n",
    "df_afectados_final[\"UID\"] = excel_bajada_operaciones[\"ID_PROCEDIMIENTO\"]\n",
    "df_afectados_final[\"FUERZA_INTERVINIENTE\"] = \"PSA\"\n",
    "df_afectados_final[\"ID_PROCEDIMIENTO\"] = excel_bajada_operaciones[\"ID_PROCEDIMIENTO\"]\n",
    "df_afectados_final[\"ID_OPERATIVO\"] = excel_bajada_operaciones[\"ID_OPERATIVO\"]\n",
    "df_afectados_final[\"UNIDAD_INTERVINIENTE\"] = excel_bajada_operaciones[\"UNIDAD_INTERVINIENTE\"]\n",
    "df_afectados_final[\"DESCRIPCIÓN\"] = excel_bajada_operaciones[\"DESCRIPCIÓN\"]\n",
    "df_afectados_final[\"TIPO_INTERVENCION\"] = excel_bajada_operaciones[\"TIPO_INTERVENCION\"]\n",
    "df_afectados_final[\"CANT_EFECTIVOS\"] = excel_bajada_operaciones[\"CANT_EFECTIVOS\"]\n",
    "df_afectados_final[\"CANT_AUTOS_CAMIONETAS\"] = excel_bajada_operaciones[\"CANT_AUTOS_CAMIONETAS\"]\n",
    "df_afectados_final[\"CANT_SCANNERS\"] = excel_bajada_operaciones[\"CANT_SCANNERS\"]\n",
    "df_afectados_final[\"CANT_EMBARCACIONES\"] = excel_bajada_operaciones[\"CANT_EMBARCACIONES\"]\n",
    "df_afectados_final[\"CANT_MOTOS\"] = excel_bajada_operaciones[\"CANT_MOTOS\"]\n",
    "df_afectados_final[\"CANT_CABALLOS\"] = excel_bajada_operaciones[\"CANT_CABALLOS\"]\n",
    "df_afectados_final[\"CANT_CANES\"] = excel_bajada_operaciones[\"CANT_CANES\"]\n",
    "df_afectados_final[\"CANT_MORPHRAPID\"] = excel_bajada_operaciones[\"CANT_MORPHRAPID\"]\n",
    "df_afectados_final[\"CANT_LPR\"] = excel_bajada_operaciones[\"CANT_LPR\"]\n",
    "\n",
    "\n",
    "# Reemplazar \"S/D\" y \"N/C\" por \"-\"\n",
    "df_afectados_final.replace([\"S/D\", \"N/C\"], \"-\", inplace=True)\n",
    "\n",
    "# Reemplazar los valores vacíos (NaN) por \"-\"\n",
    "df_afectados_final.fillna(\"-\", inplace=True)\n"
   ]
  },
  {
   "cell_type": "markdown",
   "metadata": {},
   "source": [
    "# GENERACIÓN DE INFORME"
   ]
  },
  {
   "cell_type": "code",
   "execution_count": 17,
   "metadata": {},
   "outputs": [
    {
     "name": "stdout",
     "output_type": "stream",
     "text": [
      "Archivo generado: Informe_semanal_20241127.xlsx\n"
     ]
    }
   ],
   "source": [
    "from datetime import datetime\n",
    "from openpyxl import load_workbook\n",
    "from openpyxl.styles import Alignment\n",
    "\n",
    "\n",
    "# # Preparar los DataFrames\n",
    "# dataframes = {\n",
    "#     'GEOG. PROCEDIMIENTO': df_geog_final.drop(columns=['UID'], errors='ignore').reset_index(drop=True).fillna(\"\"),\n",
    "#     'VEHI. Y PERSO. CONTROLADAS': df_cotrolados_final.drop(columns=['UID'], errors='ignore').reset_index(drop=True).fillna(\"\"),\n",
    "#     'PERSONAL Y ELEMENTOS AFECTADOS': df_afectados_final.drop(columns=['UID'], errors='ignore').reset_index(drop=True).fillna(\"\"),\n",
    "#     'INCAUTACIONES': df_incautados_final.drop(columns=['UID'], errors='ignore').reset_index(drop=True).fillna(\"\"),\n",
    "#     'DETENIDOS Y APREHENDIDOS': df_detenidos_aprendidos_final.drop(columns=['UID'], errors='ignore').reset_index(drop=True).fillna(\"\"),\n",
    "#     'OTROS DELITOS': df_otros_delitos_final.drop(columns=['UID'], errors='ignore').reset_index(drop=True).fillna(\"\"),\n",
    "#     'TRATA O TRAFIC PERSONAS': df_trata_final.drop(columns=['UID'], errors='ignore').reset_index(drop=True).fillna(\"\")\n",
    "# }\n",
    "\n",
    "\n",
    "\n",
    "dataframes = {\n",
    "    'GEOG. PROCEDIMIENTO': df_geog_final.drop(columns=['UID'], errors='ignore').reset_index(drop=True).fillna(\"\").replace(\"\", \"-\"),\n",
    "    'VEHI. Y PERSO. CONTROLADAS': df_cotrolados_final.drop(columns=['UID'], errors='ignore').reset_index(drop=True).fillna(\"\").replace(\"\", \"-\"),\n",
    "    'PERSONAL Y ELEMENTOS AFECTADOS': df_afectados_final.drop(columns=['UID'], errors='ignore').reset_index(drop=True).fillna(\"\").replace(\"\", \"-\"),\n",
    "    'INCAUTACIONES': df_incautados_final.drop(columns=['UID'], errors='ignore').reset_index(drop=True).fillna(\"\").replace(\"\", \"-\"),\n",
    "    'DETENIDOS Y APREHENDIDOS': df_detenidos_aprendidos_final.drop(columns=['UID'], errors='ignore').reset_index(drop=True).fillna(\"\").replace(\"\", \"-\"),\n",
    "    'OTROS DELITOS': df_otros_delitos_final.drop(columns=['UID'], errors='ignore').reset_index(drop=True).fillna(\"\").replace(\"\", \"-\"),\n",
    "    'TRATA O TRAFIC PERSONAS': df_trata_final.drop(columns=['UID'], errors='ignore').reset_index(drop=True).fillna(\"\").replace(\"\", \"-\")\n",
    "}\n",
    "\n",
    "# Cargar la plantilla\n",
    "wb = load_workbook('Planilla_modelo.xlsx')\n",
    "\n",
    "# Escribir los datos\n",
    "for sheet_name, df in dataframes.items():\n",
    "    sheet = wb[sheet_name]\n",
    "    for i, row in df.iterrows():\n",
    "        for j, value in enumerate(row):\n",
    "            cell= sheet.cell(row=i+4, column=j+2, value=value) # type: ignore\n",
    "            cell.alignment = Alignment(horizontal='center')\n",
    "            \n",
    "\n",
    "\n",
    "for sheet in wb.worksheets:\n",
    "    sheet.conditional_formatting = []\n",
    "    sheet.auto_filter.ref = None\n",
    "    sheet.auto_filter = None\n",
    "# Guardar el archivo\n",
    "output_file = f'Informe_semanal_{datetime.now().strftime(\"%Y%m%d\")}.xlsx'\n",
    "wb.save(output_file)\n",
    "print(f\"Archivo generado: {output_file}\")\n"
   ]
  }
 ],
 "metadata": {
  "kernelspec": {
   "display_name": ".venv",
   "language": "python",
   "name": "python3"
  },
  "language_info": {
   "codemirror_mode": {
    "name": "ipython",
    "version": 3
   },
   "file_extension": ".py",
   "mimetype": "text/x-python",
   "name": "python",
   "nbconvert_exporter": "python",
   "pygments_lexer": "ipython3",
   "version": "3.11.5"
  }
 },
 "nbformat": 4,
 "nbformat_minor": 2
}
