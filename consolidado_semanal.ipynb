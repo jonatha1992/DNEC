{
 "cells": [
  {
   "cell_type": "markdown",
   "metadata": {},
   "source": [
    "# LIBRERIAS \n",
    "\n",
    "* Tener en cuenta bajadas de Procedimientos, Personas Armas, Divisas , vehiculos (secuestrados, ministerio), Narcotrafico general,Objetos y pegar en la carpeta bajadas de fecha del primero del 1 del mes en informar hasta fecha del informe "
   ]
  },
  {
   "cell_type": "markdown",
   "metadata": {
    "notebookRunGroups": {
     "groupValue": "1"
    }
   },
   "source": [
    "### IMPORTACIÓN DE LIBREARIAS\n"
   ]
  },
  {
   "cell_type": "code",
   "execution_count": null,
   "metadata": {
    "notebookRunGroups": {
     "groupValue": "1"
    }
   },
   "outputs": [],
   "source": [
    "import pandas as pd\n",
    "from  Parametros import * \n",
    "from  Funciones import * \n",
    "from openpyxl import load_workbook\n"
   ]
  },
  {
   "cell_type": "markdown",
   "metadata": {},
   "source": [
    "### ACCEDER BASE DE DATOS"
   ]
  },
  {
   "cell_type": "code",
   "execution_count": null,
   "metadata": {},
   "outputs": [],
   "source": [
    "# df_base_operaciones = pd.read_excel(\"db/Base_operaciones_2023_2024.xlsx\")\n",
    "df_base_procedimientos = filtrar_procedimientos_generales(\"data/BASE_2023.xls\")\n",
    "\n",
    "\n",
    "# print(df_base_procedimientos.info())\n",
    "# print(df_base_procedimientos.describe())\n",
    "print(df_base_procedimientos.nunique())"
   ]
  },
  {
   "cell_type": "markdown",
   "metadata": {},
   "source": [
    "# SIGIPOL"
   ]
  },
  {
   "cell_type": "markdown",
   "metadata": {},
   "source": [
    "### PROCEDIMIENTOS GENERALES\n",
    "\n",
    "\n"
   ]
  },
  {
   "cell_type": "code",
   "execution_count": null,
   "metadata": {},
   "outputs": [],
   "source": [
    "excel_bajada_procedimientos_generales = filtrar_procedimientos_generales(\"bajadas/bajada_general.xls\")\n",
    "\n",
    "df_geog = pd.DataFrame()\n",
    "df_geog['UID'] = excel_bajada_procedimientos_generales.apply(generar_uid_sigpol, axis=1)\n",
    "df_geog['ID_OPERATIVO'] = excel_bajada_procedimientos_generales.apply(procesar_causa_judicial, axis=1)\n",
    "df_geog['FUERZA_INTERVINIENTE'] = \"PSA\"\n",
    "df_geog['ID_PROCEDIMIENTO'] = df_geog['UID']\n",
    "df_geog['CAUSAJUDICIALNUMERO'] = excel_bajada_procedimientos_generales['CAUSAJUDICIALNUMERO'].copy()\n",
    "\n",
    "df_geog['UNIDAD_INTERVINIENTE'] = excel_bajada_procedimientos_generales['UOSP'].fillna(excel_bajada_procedimientos_generales['URSA'])\n",
    "\n",
    "df_geog['DESCRIPCIÓN'] = excel_bajada_procedimientos_generales.apply(procesar_descripcion, axis=1)\n",
    "df_geog['TIPO_INTERVENCION'] = excel_bajada_procedimientos_generales.apply(procesar_tipo_procedimiento, axis=1)\n",
    "df_geog['PROVINCIA'] = excel_bajada_procedimientos_generales.apply(procesar_provincia, axis=1)\n",
    "df_geog['DEPARTAMENTO O PARTIDO'] = excel_bajada_procedimientos_generales.apply(procesar_municipio, axis=1)\n",
    "df_geog['LOCALIDAD'] = \"-\"\n",
    "df_geog['DIRECCION'] = excel_bajada_procedimientos_generales.apply(procesar_direccion, axis=1)\n",
    "\n",
    "\n",
    "df_geog[['LATITUD', 'LONGITUD']] = excel_bajada_procedimientos_generales.apply(procesar_geog, axis=1, result_type='expand')\n",
    "df_geog['FECHA'] = pd.to_datetime(excel_bajada_procedimientos_generales['DENUNCIAFECHA'], errors='coerce').dt.strftime('%d/%m/%Y')\n",
    "df_geog['HORA'] = pd.to_datetime(excel_bajada_procedimientos_generales['DENUNCIAFECHA'], errors='coerce').dt.strftime('%H:%M')\n",
    "df_geog['ZONA_SEGURIDAD_FRONTERAS'] = \"-\"\n",
    "df_geog['PASO_FRONTERIZO'] = \"-\"\n",
    "df_geog['OTRAS AGENCIAS INTERVINIENTES'] = \"-\"\n",
    "df_geog['Observaciones - Detalles'] = \"-\"\n",
    "\n",
    "\n",
    "df_geog['LATITUD'] = df_geog['LATITUD'].astype(str).str.replace(',', '.')\n",
    "df_geog['LONGITUD'] = df_geog['LONGITUD'].astype(str).str.replace(',', '.')\n",
    "\n",
    "df_geog_completado = df_geog[[ \"UID\",'FUERZA_INTERVINIENTE', 'ID_OPERATIVO', 'ID_PROCEDIMIENTO',\n",
    "                                     'UNIDAD_INTERVINIENTE', 'DESCRIPCIÓN', 'TIPO_INTERVENCION',\n",
    "                                     'PROVINCIA', 'DEPARTAMENTO O PARTIDO', 'LOCALIDAD', 'DIRECCION',\n",
    "                                     'ZONA_SEGURIDAD_FRONTERAS', 'PASO_FRONTERIZO', 'LATITUD', 'LONGITUD',\n",
    "                                     'FECHA', 'HORA', 'OTRAS AGENCIAS INTERVINIENTES', 'Observaciones - Detalles']]\n",
    "\n",
    "print(df_geog_completado.nunique())\n",
    "\n",
    "\n"
   ]
  },
  {
   "cell_type": "markdown",
   "metadata": {},
   "source": [
    "### FILTRO CON LA BASE DE DATOS DE LO QUE SE FUE INFORMADO\n",
    "\n",
    "\n"
   ]
  },
  {
   "cell_type": "code",
   "execution_count": null,
   "metadata": {},
   "outputs": [],
   "source": [
    "df_geog_final = df_geog_completado[~df_geog_completado['UID'].isin(set(df_base_procedimientos['UID']))]\n",
    "print(f\"\\nCasos ya informados: {len(df_base_procedimientos)}\")\n",
    "print(f\"Casos nuevos para informar : {len(df_geog_final)}\")\n",
    "\n",
    "\n",
    "print(df_geog_final.nunique())"
   ]
  },
  {
   "cell_type": "markdown",
   "metadata": {},
   "source": [
    "### HOJA PERSONAS"
   ]
  },
  {
   "cell_type": "code",
   "execution_count": null,
   "metadata": {},
   "outputs": [],
   "source": [
    "\n",
    "# Paso 1: Cargar datos iniciales\n",
    "excel_bajada_personas = pd.read_excel(\"bajadas/bajada_general_persona.xls\")\n",
    "print(f\"Total de registros cargados: {len(excel_bajada_personas)}\")\n",
    "\n",
    "# Paso 2: Generar UID\n",
    "excel_bajada_personas['UOSP'] = excel_bajada_personas['UOSP'].fillna(excel_bajada_personas['URSA'])\n",
    "excel_bajada_personas['TIPO_CAUSA_INTERNA'] = excel_bajada_personas.apply( procesar_tipo_causa_interna, axis=1)\n",
    "excel_bajada_personas['UID'] = excel_bajada_personas.apply(generar_uid_sigpol, axis=1)\n",
    "\n",
    "# Paso 3: Coincidencia de UID entre excel_bajada_personas y df_geog_final\n",
    "uid_coincidentes = excel_bajada_personas[excel_bajada_personas['UID'].isin(df_geog_final['UID'])]\n",
    "print(f\"Cantidad de registros con UID coincidente: {len(uid_coincidentes)}\")\n",
    "\n",
    "# Crear DataFrame de detenidos y aprendidos\n",
    "df_detenidos_aprendidos = pd.DataFrame()\n",
    "df_detenidos_aprendidos['UID'] = uid_coincidentes['UID']\n",
    "df_detenidos_aprendidos['EDAD'] = uid_coincidentes.apply(procesar_edad, axis=1)\n",
    "df_detenidos_aprendidos['SEXO'] = uid_coincidentes.apply(procesar_sexo, axis=1)\n",
    "df_detenidos_aprendidos['GENERO'] = uid_coincidentes.apply(procesar_genero, axis=1)\n",
    "df_detenidos_aprendidos['NACIONALIDAD'] = uid_coincidentes.apply(procesar_nacionalidad, axis=1)\n",
    "df_detenidos_aprendidos['SITUACION_PROCESAL'] = uid_coincidentes.apply(procesar_situacion_judicial, axis=1)\n",
    "df_detenidos_aprendidos['DELITO_IMPUTADO'] = uid_coincidentes.apply(procesar_tipo_delito, axis=1)\n",
    "df_detenidos_aprendidos['JUZGADO_INTERVINIENTE'] = uid_coincidentes.apply(procesar_juzgado, axis=1)\n",
    "df_detenidos_aprendidos['CARATULA_CAUSA'] = uid_coincidentes.apply(procesar_caratula, axis=1)\n",
    "\n",
    "print(f\"Total de registros después del procesamiento de columnas específicas: {len(df_detenidos_aprendidos)}\")\n",
    "\n",
    "# Paso 4: Filtrar SITUACION_PROCESAL 'NO INFORMAR'\n",
    "df_detenidos_aprendidos = df_detenidos_aprendidos[df_detenidos_aprendidos['SITUACION_PROCESAL'] != 'NO INFORMAR']\n",
    "print(f\"Cantidad tras exclusión de 'NO INFORMAR': {len(df_detenidos_aprendidos)}\")\n",
    "\n",
    "# Paso 5: Fusionar df_geog_final y df_detenidos_aprendidos en base al UID\n",
    "df_detenidos_aprendidos = pd.merge(df_geog_final, df_detenidos_aprendidos, on='UID', how='left')\n",
    "print(f\"Total de registros después de la fusión con df_geog_final: {len(df_detenidos_aprendidos)}\")\n",
    "\n",
    "# Paso 6: Relleno de valores vacíos con '-'\n",
    "df_detenidos_aprendidos = df_detenidos_aprendidos.apply(lambda x: x.fillna('-') if x.dtype == 'object' else x)\n",
    "\n",
    "\n",
    "# Paso 7: Selección y reordenamiento de columnas\n",
    "df_detenidos_aprendidos = df_detenidos_aprendidos[[\n",
    "    \"UID\",\n",
    "    'FUERZA_INTERVINIENTE',\n",
    "    'ID_OPERATIVO',\n",
    "    'ID_PROCEDIMIENTO',\n",
    "    'UNIDAD_INTERVINIENTE',\n",
    "    'DESCRIPCIÓN',\n",
    "    'TIPO_INTERVENCION',\n",
    "    'EDAD',\n",
    "    'SEXO',\n",
    "    'GENERO',\n",
    "    'NACIONALIDAD',\n",
    "    'SITUACION_PROCESAL',\n",
    "    \"DELITO_IMPUTADO\",\n",
    "    'JUZGADO_INTERVINIENTE',\n",
    "    'CARATULA_CAUSA'\n",
    "]]\n",
    "\n",
    "print(f\"Total de registros después de seleccionar y reordenar columnas: {len(df_detenidos_aprendidos)}\")\n"
   ]
  },
  {
   "cell_type": "markdown",
   "metadata": {},
   "source": [
    "### HOJA OTROS DELITOS"
   ]
  },
  {
   "cell_type": "code",
   "execution_count": null,
   "metadata": {},
   "outputs": [],
   "source": [
    "# Crear un nuevo dataframe para otro delitos\n",
    "df_otros_delitos = df_detenidos_aprendidos[df_detenidos_aprendidos['SITUACION_PROCESAL'] == 'VICTIMA']\n",
    "# Filtro los que son victima de detenidos y aprendidos\n",
    "df_detenidos_aprendidos_final = df_detenidos_aprendidos[df_detenidos_aprendidos['SITUACION_PROCESAL'] != 'VICTIMA']\n",
    "\n",
    "# Cambiar el nombre de algunas columnas en el DataFrame de víctimas\n",
    "df_otros_delitos = df_otros_delitos.rename(columns={\n",
    "    'DELITO_IMPUTADO': 'TIPO_OTRO_DELITO',\n",
    "    'GENERO': 'GENERO_VICTIMA',\n",
    "    'EDAD': 'EDAD_VICTIMA',\n",
    "}) # type: ignore\n",
    "\n",
    "df_otros_delitos[\"OBSERVACIONES\"] =\"-\"\n",
    "# Seleccionar las columnas deseadas en el DataFrame de víctimas\n",
    "df_otros_delitos_final = df_otros_delitos[[\n",
    "    \"UID\",\n",
    "    'FUERZA_INTERVINIENTE',\n",
    "    'ID_OPERATIVO',\n",
    "    'ID_PROCEDIMIENTO',\n",
    "    'UNIDAD_INTERVINIENTE',\n",
    "    'DESCRIPCIÓN',\n",
    "    'TIPO_INTERVENCION',\n",
    "    \"TIPO_OTRO_DELITO\",\n",
    "    'GENERO_VICTIMA',\n",
    "    'EDAD_VICTIMA',\n",
    "    'NACIONALIDAD',\n",
    "    'OBSERVACIONES'\n",
    "]]\n",
    "\n",
    "\n",
    "# Imprimir la cantidad de registros en el DataFrame de otros delitos para verificar\n",
    "print(f\"Cantidad de registros en geog: {len(df_geog_final)}\")\n",
    "print(f\"Cantidad de registros en detenidos_aprendidos: {len(df_detenidos_aprendidos_final)}\")\n",
    "print(f\"Cantidad de registros en otros_delitos: {len(df_otros_delitos_final)}\")"
   ]
  },
  {
   "cell_type": "markdown",
   "metadata": {},
   "source": [
    "### INCAUTACIONES ARMA"
   ]
  },
  {
   "cell_type": "code",
   "execution_count": null,
   "metadata": {},
   "outputs": [],
   "source": [
    "# Paso 1: Cargar datos iniciales\n",
    "excel_bajada_arma = pd.read_excel(\"bajadas/bajada_arma.xls\")\n",
    "print(f\"Total de registros cargados: {len(excel_bajada_arma)}\")\n",
    "\n",
    "# Paso 2: Generar UID\n",
    "excel_bajada_arma = excel_bajada_arma[excel_bajada_arma[\"TIPO_ESTADO_OBJETO\"] == \"SECUESTRADO\"]\n",
    "excel_bajada_arma['UOSP'] = excel_bajada_arma['UOSP'].fillna(excel_bajada_arma['URSA'])\n",
    "excel_bajada_arma['TIPO_CAUSA_INTERNA'] = excel_bajada_arma.apply( procesar_tipo_causa_interna, axis=1)\n",
    "excel_bajada_arma['UID'] = excel_bajada_arma.apply(generar_uid_sigpol, axis=1)\n",
    "\n",
    "\n",
    "# Crear DataFrame de arma\n",
    "df_arma = pd.DataFrame()\n",
    "df_arma['UID'] = excel_bajada_arma['UID']\n",
    "df_arma['TIPO_INCAUTACION'] = \"ARMAS\"\n",
    "df_arma['TIPO'] = excel_bajada_arma['TIPO_ARMA']\n",
    "df_arma['SUBTIPO'] = \"-\"\n",
    "df_arma['CANTIDAD'] = excel_bajada_arma.apply(procesar_cantidad_arma, axis=1)\n",
    "df_arma['MEDIDAS'] = \"UNIDADES\"\n",
    "df_arma['AFORO'] = \"-\"\n",
    "df_arma['OBSERVACIONES'] = excel_bajada_arma.apply(procesar_observaciones_arma, axis=1)\n",
    "\n",
    "# Paso 3: Coincidencia de UID entre excel_bajada_arma y df_geog_final\n",
    "df_arma_final = df_arma[df_arma['UID'].isin(df_geog_final['UID'])]\n",
    "print(df_arma_final)\n"
   ]
  },
  {
   "cell_type": "markdown",
   "metadata": {},
   "source": [
    "### INCAUTACIONES DIVISA"
   ]
  },
  {
   "cell_type": "code",
   "execution_count": null,
   "metadata": {},
   "outputs": [],
   "source": [
    "# Paso 1: Cargar datos iniciales\n",
    "excel_bajada_divisa = pd.read_excel(\"bajadas/bajada_divisas_secuestradas.xls\")\n",
    "print(f\"Total de registros cargados: {len(excel_bajada_divisa)}\")\n",
    "\n",
    "excel_bajada_procedimientos_generales['PARTE_ANIO'] = excel_bajada_procedimientos_generales['NUMERO_PARTE'].astype(str) + \"/\" + excel_bajada_procedimientos_generales['ANIO_PARTE'].astype(str)\n",
    "excel_bajada_divisa['PARTE_ANIO'] = excel_bajada_divisa['NUMERO_PARTE'].astype(str) + \"/\" + excel_bajada_divisa['ANIO_PARTE'].astype(str)\n",
    "\n",
    "excel_bajada_divisa['UOSP'] = excel_bajada_divisa['UOSP'].fillna(excel_bajada_divisa['URSA'])\n",
    "# Hacer el merge para traer la columna TIPO_CAUSA_INTERNA a excel_bajada_divisa\n",
    "excel_bajada_divisa = pd.merge(excel_bajada_divisa, \n",
    "                               excel_bajada_procedimientos_generales[['PARTE_ANIO', 'TIPO_CAUSA_INTERNA']], \n",
    "                               on='PARTE_ANIO', \n",
    "                               how='left')\n",
    "\n",
    "excel_bajada_divisa['UID'] = excel_bajada_divisa.apply(generar_uid_sigpol, axis=1)\n",
    "excel_bajada_divisa = excel_bajada_divisa[~pd.isnull(excel_bajada_divisa['TOTAL_DIVISAS_SECUESTRADAS'])]\n",
    "\n",
    "\n",
    "# Agrupar por 'UID' (y 'TIPO' si se necesita) para sumar las cantidades\n",
    "cantidad_por_uid = excel_bajada_divisa.groupby(['UID', 'TIPO_DIVISA'], as_index=False)['TOTAL_DIVISAS_SECUESTRADAS'].sum()\n",
    "\n",
    "# Paso 2: Crear df_divisa con las cantidades sumadas\n",
    "df_divisa = pd.DataFrame()\n",
    "df_divisa['UID'] = cantidad_por_uid['UID']\n",
    "df_divisa['TIPO_INCAUTACION'] = \"DIVISAS\"\n",
    "df_divisa['TIPO'] = cantidad_por_uid['TIPO_DIVISA']\n",
    "df_divisa['SUBTIPO'] = \"-\"\n",
    "df_divisa['CANTIDAD'] = cantidad_por_uid['TOTAL_DIVISAS_SECUESTRADAS']\n",
    "df_divisa['MEDIDAS'] = \"UNIDADES\"\n",
    "df_divisa['AFORO'] = \"-\"\n",
    "df_divisa['OBSERVACIONES'] = \"-\"\n",
    "\n",
    "# Mostrar el resultado final\n",
    "df_divisa_final = df_divisa[df_divisa['UID'].isin(df_geog_final['UID'])]\n",
    "\n",
    "\n",
    "print(df_divisa_final.nunique())\n",
    "print(df_divisa_final)"
   ]
  },
  {
   "cell_type": "markdown",
   "metadata": {},
   "source": [
    "### INCAUTACIONES OBJETOS"
   ]
  },
  {
   "cell_type": "code",
   "execution_count": null,
   "metadata": {},
   "outputs": [],
   "source": [
    "# Paso 1: Cargar datos iniciales\n",
    "excel_bajada_objetos = pd.read_excel(\"bajadas/bajada_objetos.xls\")\n",
    "print(f\"Total de registros cargados: {len(excel_bajada_objetos)}\")\n",
    "\n",
    "excel_bajada_objetos = excel_bajada_objetos[excel_bajada_objetos[\"ESTADO\"] == \"SECUESTRADO\"]\n",
    "\n",
    "excel_bajada_objetos['UOSP'] = excel_bajada_objetos['UOSP'].fillna(excel_bajada_objetos['URSA'])\n",
    "excel_bajada_objetos['TIPO_CAUSA_INTERNA'] = excel_bajada_objetos.apply( procesar_tipo_causa_interna, axis=1)\n",
    "excel_bajada_objetos['UID'] = excel_bajada_objetos.apply(generar_uid_sigpol, axis=1)\n",
    "excel_bajada_objetos = excel_bajada_objetos[excel_bajada_objetos['TIPO_OBJETO'].isin(TIPO_OBJETO)]\n",
    "excel_bajada_objetos = excel_bajada_objetos[~pd.isnull(excel_bajada_objetos['CANTIDAD'])]\n",
    "\n",
    "# Paso 2: Crear df_divisa con las cantidades sumadas\n",
    "df_objetos = pd.DataFrame()\n",
    "df_objetos['UID'] = excel_bajada_objetos['UID']\n",
    "df_objetos['TIPO_INCAUTACION'] = \"MERCADERIA\"\n",
    "df_objetos['TIPO'] = excel_bajada_objetos['TIPO_OBJETO']\n",
    "df_objetos['SUBTIPO'] = \"-\"\n",
    "df_objetos['CANTIDAD'] = excel_bajada_objetos['CANTIDAD']\n",
    "df_objetos['MEDIDAS'] = \"UNIDADES\"\n",
    "df_objetos['AFORO'] = \"-\"\n",
    "df_objetos['OBSERVACIONES'] = \"-\"\n",
    "\n",
    "# Mostrar el resultado final\n",
    "\n",
    "\n",
    "df_objetos_final = df_objetos[df_objetos['UID'].isin(df_geog_final['UID'])]\n",
    "\n",
    "print(df_objetos_final.nunique())\n",
    "print(df_objetos_final)"
   ]
  },
  {
   "cell_type": "markdown",
   "metadata": {},
   "source": [
    "### INCAUTACIONES VEHICULOS"
   ]
  },
  {
   "cell_type": "code",
   "execution_count": null,
   "metadata": {},
   "outputs": [],
   "source": [
    "# Paso 1: Cargar datos iniciales\n",
    "excel_bajada_vehiculos = pd.read_excel(\"bajadas/bajada_vehiculos_secuestrados.xls\")\n",
    "excel_bajada_ministerio_vehiculos = pd.read_excel(\"bajadas/bajada_ministerio_vehiculos.xls\")\n",
    "print(f\"Total de registros vehiculos secuestrados: {len(excel_bajada_vehiculos)}\")\n",
    "print(f\"Total de registros ministerio vehiculos secuestrados: {len(excel_bajada_ministerio_vehiculos)}\")\n",
    "\n",
    "\n",
    "excel_bajada_vehiculos = excel_bajada_vehiculos[excel_bajada_vehiculos[\"VEHICULO_ESTADO\"] == \"SECUESTRADO\"]\n",
    "\n",
    "excel_bajada_ministerio_vehiculos['TIPO_CAUSA_INTERNA'] = excel_bajada_vehiculos.apply( procesar_tipo_causa_interna, axis=1)\n",
    "excel_bajada_vehiculos['UOSP'] = excel_bajada_vehiculos['UOSP'].fillna(excel_bajada_vehiculos['URSA'])\n",
    "excel_bajada_vehiculos = pd.merge(\n",
    "    excel_bajada_vehiculos, \n",
    "    excel_bajada_ministerio_vehiculos[[  'NUMERO_PARTE', 'ANIO_PARTE', 'VEHICULO_DOMINIO']], \n",
    "    on='VEHICULO_DOMINIO', \n",
    "    how='left'\n",
    ")\n",
    "excel_bajada_vehiculos['TIPO_CAUSA_INTERNA'] = excel_bajada_vehiculos.apply( procesar_tipo_causa_interna, axis=1)\n",
    "excel_bajada_vehiculos['UID'] = excel_bajada_vehiculos.apply(generar_uid_sigpol, axis=1)\n",
    "\n",
    "\n",
    "# Paso 2: Crear df_divisa con las cantidades sumadas\n",
    "df_vehiculos = pd.DataFrame()\n",
    "df_vehiculos['UID'] = excel_bajada_vehiculos['UID']\n",
    "df_vehiculos['TIPO_INCAUTACION'] = \"SECUESTRO DE VEHICULOS\"\n",
    "# df_vehiculos['TIPO'] = excel_bajada_vehiculos.apply(clasificar_tipo_vehiculo, axis=1)\n",
    "df_vehiculos['TIPO'] = excel_bajada_vehiculos['VEHICULO_TIPO']\n",
    "df_vehiculos['SUBTIPO'] = \"-\"\n",
    "df_vehiculos['CANTIDAD'] = excel_bajada_vehiculos['CANTIDAD']\n",
    "df_vehiculos['MEDIDAS'] = \"UNIDADES\"\n",
    "df_vehiculos['AFORO'] = \"-\"\n",
    "df_vehiculos['OBSERVACIONES'] = excel_bajada_vehiculos.apply(observaciones_vehiculo,axis=1)\n",
    "\n",
    "\n",
    "df_vehiculos_final = df_vehiculos[df_vehiculos['UID'].isin(df_geog_final['UID'])]\n",
    "print(f\"Cantidad de registros con UID coincidente: {len(uid_coincidentes)}\")\n",
    "\n",
    "print(df_vehiculos_final.nunique())\n",
    "print(df_vehiculos_final)"
   ]
  },
  {
   "cell_type": "markdown",
   "metadata": {},
   "source": [
    "### INCAUTACIONES NARCOTRAFICO"
   ]
  },
  {
   "cell_type": "code",
   "execution_count": null,
   "metadata": {},
   "outputs": [],
   "source": [
    "# # Paso 1: Cargar datos iniciales\n",
    "# excel_bajada_narcotrafico = pd.read_excel(\"bajadas/bajada_general_narcotrafico.xls\")\n",
    "# print(f\"Total de registros narcostrafico secuestrados: {len(excel_bajada_narcotrafico)}\")\n",
    "\n",
    "# excel_bajada_narcotrafico['UOSP'] = excel_bajada_narcotrafico['UOSP'].fillna(excel_bajada_narcotrafico['URSA'])\n",
    "# excel_bajada_narcotrafico['TIPO_CAUSA_INTERNA'] = excel_bajada_narcotrafico.apply( procesar_tipo_causa_interna, axis=1)\n",
    "# excel_bajada_narcotrafico['UID'] = excel_bajada_narcotrafico.apply(generar_uid_sigpol, axis=1)\n",
    "\n",
    "# excel_bajada_narcotrafico = excel_bajada_narcotrafico[~pd.isnull(excel_bajada_narcotrafico['TIPO_ESTUPEFACIENTE'])]\n",
    "\n",
    "\n",
    "# #Paso 2: Crear df_divisa con las cantidades sumadas\n",
    "# df_narcotrafico = pd.DataFrame()\n",
    "# df_narcotrafico['UID'] = excel_bajada_narcotrafico['UID']\n",
    "# df_narcotrafico['TIPO_INCAUTACION'] = \"ESTUPEFACIENTE\"\n",
    "# df_narcotrafico['TIPO'] = excel_bajada_narcotrafico.apply(clasificar_tipo_sustancia, axis=1)\n",
    "# df_narcotrafico['SUBTIPO'] = \"-\"\n",
    "# df_narcotrafico[['CANTIDAD', 'MEDIDAS']] = excel_bajada_narcotrafico.apply(clasificar_medida, axis=1, result_type='expand')\n",
    "# df_narcotrafico['AFORO'] = \"-\"\n",
    "# df_narcotrafico['OBSERVACIONES'] = excel_bajada_narcotrafico.apply(observaciones_sustancia, axis=1)\n",
    "\n"
   ]
  },
  {
   "cell_type": "markdown",
   "metadata": {},
   "source": [
    "### UNION DE ARMAS, DIVISAS, OBJETOS , VEHICULOS , NARCOTRAFICO"
   ]
  },
  {
   "cell_type": "code",
   "execution_count": null,
   "metadata": {},
   "outputs": [],
   "source": [
    "# df_incautados = pd.concat([df_objetos, df_vehiculos, df_narcotrafico, df_arma, df_divisa])\n",
    "# df_incautados = pd.concat([df_objetos, df_vehiculos, df_arma, df_divisa])\n",
    "df_incautados = pd.concat([df_objetos_final, df_vehiculos_final, df_arma_final, df_divisa_final])\n",
    "df_incautados = df_incautados.apply(lambda x: x.fillna('-') if x.dtype == 'object' else x)\n",
    "\n",
    "\n",
    "print(f\"Total de registros incautados sin filtracion de lo que ya se informo: {len(df_incautados)}\")\n",
    "\n",
    "\n",
    "df_incautados_filtrado = df_incautados[df_incautados['UID'].isin(df_geog_final['UID'])]\n",
    "\n",
    "\n",
    "print(f\"Total de registros incautados con filtracion de lo que ya se informo: {len(df_incautados_filtrado)}\")\n",
    "\n",
    "df_incautados_completado = pd.merge(df_geog_final, df_incautados, on='UID', how='right')\n",
    "# Paso 6: Relleno de valores vacíos con '-'\n",
    "\n",
    "\n",
    "# Paso 7: Selección y reordenamiento de columnas\n",
    "df_incautados_final = df_incautados_completado[[\n",
    "    \"UID\",\n",
    "    'FUERZA_INTERVINIENTE',\n",
    "    'ID_OPERATIVO',\n",
    "    'ID_PROCEDIMIENTO',\n",
    "    'UNIDAD_INTERVINIENTE',\n",
    "    'DESCRIPCIÓN',\n",
    "    'TIPO_INTERVENCION',\n",
    "    'TIPO_INCAUTACION',\n",
    "    'TIPO',\n",
    "    'SUBTIPO',\n",
    "    'CANTIDAD',\n",
    "    'MEDIDAS',\n",
    "    \"AFORO\",\n",
    "    'OBSERVACIONES'\n",
    "]]\n",
    "\n",
    "\n",
    "print(df_incautados_final.nunique())\n",
    "print(df_incautados_final)"
   ]
  },
  {
   "cell_type": "markdown",
   "metadata": {},
   "source": [
    "### TRATA DE PERSONA"
   ]
  },
  {
   "cell_type": "code",
   "execution_count": null,
   "metadata": {},
   "outputs": [],
   "source": [
    "excel_bajada_trata = pd.read_excel(\"bajadas/bajada_trata.xls\")\n",
    "print(f\"Total de registros tratas: {len(excel_bajada_trata)}\")\n",
    "\n",
    "excel_bajada_trata['UOSP'] = excel_bajada_trata['UOSP'].fillna(excel_bajada_trata['URSA'])\n",
    "excel_bajada_trata['TIPO_CAUSA_INTERNA'] = excel_bajada_trata.apply( procesar_tipo_causa_interna, axis=1)\n",
    "excel_bajada_trata['UID'] = excel_bajada_trata.apply(generar_uid_sigpol, axis=1)\n",
    "\n",
    "# Crear DataFrame de detenidos y aprendidos\n",
    "df_trata = pd.DataFrame()\n",
    "df_trata['UID'] = excel_bajada_trata['UID']\n",
    "df_trata['TIPO_DELITO'] = excel_bajada_trata[\"TIPO_EXPLOTACION\"].fillna(\"-\")\n",
    "df_trata['SEXO_VICTIMA'] = excel_bajada_trata.apply(procesar_sexo, axis=1)\n",
    "df_trata['GENERO_VICTIMA'] = excel_bajada_trata.apply(procesar_genero, axis=1)\n",
    "df_trata['EDAD_VICTIMA'] = excel_bajada_trata['EDAD'].fillna(\"-\")\n",
    "df_trata['NACIONALIDAD'] = excel_bajada_trata['NACIONALIDAD'].fillna(\"-\")\n",
    "df_trata['NACIONALIDAD'] = excel_bajada_trata['NACIONALIDAD'].str.upper()\n",
    "df_trata['JUZGADO_INTERVINIENTE'] = excel_bajada_trata.apply(procesar_juzgado, axis=1)\n",
    "df_trata['OBSERVACIONES'] = \"-\"\n",
    "\n",
    "df_trata_filtrado = df_trata[df_trata['UID'].isin(df_geog_final['UID'])]\n",
    "\n",
    "df_trata_completado = pd.merge(df_geog_final, df_trata_filtrado, on='UID', how='right')\n",
    "\n",
    "\n",
    "df_trata_final = df_trata_completado[[\n",
    "    \"UID\",\n",
    "    'FUERZA_INTERVINIENTE',\n",
    "    'ID_OPERATIVO',\n",
    "    'ID_PROCEDIMIENTO',\n",
    "    'UNIDAD_INTERVINIENTE',\n",
    "    'DESCRIPCIÓN',\n",
    "    'TIPO_INTERVENCION',\n",
    "    \"TIPO_DELITO\",\n",
    "    'SEXO_VICTIMA',\n",
    "    'GENERO_VICTIMA',\n",
    "    'EDAD_VICTIMA',\n",
    "    'NACIONALIDAD',\n",
    "    'JUZGADO_INTERVINIENTE',\n",
    "    'OBSERVACIONES'\n",
    "]]\n",
    "\n",
    "\n",
    "print(df_trata_final.nunique())\n",
    "print(df_trata_final)"
   ]
  },
  {
   "cell_type": "markdown",
   "metadata": {},
   "source": [
    "# OPERACIONES"
   ]
  },
  {
   "cell_type": "markdown",
   "metadata": {},
   "source": [
    "### ORDEN DE SERVICIOS"
   ]
  },
  {
   "cell_type": "code",
   "execution_count": null,
   "metadata": {},
   "outputs": [],
   "source": [
    "excel_bajada_operaciones = pd.read_excel(\"bajadas/PLANILLA DE CARGA OPERACIONES.xlsm\", \n",
    "                                         sheet_name=\"ORDEN_SERVICIOS\", \n",
    "                                         skiprows=1)\n",
    "\n",
    "\n",
    "df_operaciones= pd.DataFrame()\n",
    "df_operaciones[\"UID\"] = excel_bajada_operaciones[\"ID_PROCEDIMIENTO\"]\n",
    "df_operaciones[\"FUERZA_INTERVINIENTE\"] = excel_bajada_operaciones[\"FUERZA_INTERVINIENTE\"]\n",
    "df_operaciones[\"ID_PROCEDIMIENTO\"] = excel_bajada_operaciones[\"ID_PROCEDIMIENTO\"]\n",
    "df_operaciones[\"ID_OPERATIVO\"] = excel_bajada_operaciones[\"ID_OPERATIVO\"]\n",
    "df_operaciones[\"UNIDAD_INTERVINIENTE\"] = excel_bajada_operaciones[\"UNIDAD_INTERVINIENTE\"]\n",
    "df_operaciones[\"DESCRIPCION\"] = excel_bajada_operaciones[\"DESCRIPCION\"]\n",
    "df_operaciones[\"TIPO_INTERVENCION\"] = excel_bajada_operaciones[\"TIPO_INTERVENCION\"]\n",
    "df_operaciones[\"PROVINCIA\"] = excel_bajada_operaciones[\"PROVINCIA\"]\n",
    "df_operaciones[\"DEPARTAMENTO O PARTIDO\"] = excel_bajada_operaciones[\"DEPARTAMENTO O PARTIDO\"]\n",
    "df_operaciones[\"LOCALIDAD\"] = excel_bajada_operaciones[\"LOCALIDAD\"]\n",
    "df_operaciones[\"DIRECCION\"] = excel_bajada_operaciones[\"DIRECCION\"]\n",
    "df_operaciones[\"ZONA_SEGURIDAD_FRONTERAS\"] = \"-\"\n",
    "df_operaciones[\"PASO_FRONTERIZO\"] = \"-\"\n",
    "df_operaciones[\"LATITUD\"] = excel_bajada_operaciones[\"LATITUD\"]\n",
    "df_operaciones[\"LONGITUD\"] = excel_bajada_operaciones[\"LONGITUD\"]\n",
    "df_operaciones[\"FECHA\"] = excel_bajada_operaciones[\"FECHA\"]\n",
    "df_operaciones[\"HORA\"] = excel_bajada_operaciones[\"HORA\"]\n",
    "\n",
    "\n",
    "\n",
    "df_geog['DESCRIPCIÓN'] = excel_bajada_procedimientos_generales.apply(procesar_descripcion, axis=1)\n",
    "df_geog['TIPO_INTERVENCION'] = excel_bajada_procedimientos_generales.apply(procesar_tipo_procedimiento, axis=1)\n",
    "df_geog['PROVINCIA'] = excel_bajada_procedimientos_generales.apply(procesar_provincia, axis=1)\n",
    "df_geog['DEPARTAMENTO O PARTIDO'] = excel_bajada_procedimientos_generales.apply(procesar_municipio, axis=1)\n",
    "df_geog['LOCALIDAD'] = \"-\"\n",
    "df_geog['DIRECCION'] = excel_bajada_procedimientos_generales.apply(procesar_direccion, axis=1)\n",
    "\n",
    "\n",
    "df_geog[['LATITUD', 'LONGITUD']] = excel_bajada_procedimientos_generales.apply(procesar_geog, axis=1, result_type='expand')\n",
    "df_geog['FECHA'] = pd.to_datetime(excel_bajada_procedimientos_generales['DENUNCIAFECHA'], errors='coerce').dt.strftime('%d/%m/%Y')\n",
    "df_geog['HORA'] = pd.to_datetime(excel_bajada_procedimientos_generales['DENUNCIAFECHA'], errors='coerce').dt.strftime('%H:%M')\n",
    "df_geog['ZONA_SEGURIDAD_FRONTERAS'] = \"-\"\n",
    "df_geog['PASO_FRONTERIZO'] = \"-\"\n",
    "df_geog['OTRAS AGENCIAS INTERVINIENTES'] = \"-\"\n",
    "df_geog['Observaciones - Detalles'] = \"-\"\n",
    "# df_operaciones = df_operaciones[[ \"UID\",'FUERZA_INTERVINIENTE', 'ID_OPERATIVO', 'ID_PROCEDIMIENTO',\n",
    "#                                      'UNIDAD_INTERVINIENTE', 'DESCRIPCIÓN', 'TIPO_INTERVENCION',\n",
    "#                                      'PROVINCIA', 'DEPARTAMENTO O PARTIDO', 'LOCALIDAD', 'DIRECCION',\n",
    "#                                      'ZONA_SEGURIDAD_FRONTERAS', 'PASO_FRONTERIZO', 'LATITUD', 'LONGITUD',\n",
    "#                                      'FECHA', 'HORA', 'OTRAS AGENCIAS INTERVINIENTES', 'Observaciones - Detalles']]\n",
    "\n",
    "\n",
    "# print(f\"Cantidad de registros en df_otros_delitos: {len(df_operaciones)}\")\n",
    "\n",
    "# Aplicar la función para identificar las filas que son diferentes\n",
    "\n",
    "# df_operaciones = colocar_contador(df_operaciones , df_base_operaciones)\n",
    "\n",
    "\n"
   ]
  },
  {
   "cell_type": "markdown",
   "metadata": {},
   "source": [
    "### GENERACIÓN DE INFORME"
   ]
  },
  {
   "cell_type": "code",
   "execution_count": null,
   "metadata": {},
   "outputs": [],
   "source": [
    "from datetime import datetime\n",
    "from openpyxl import load_workbook\n",
    "from openpyxl.styles import Alignment\n",
    "\n",
    "\n",
    "# Preparar los DataFrames\n",
    "dataframes = {\n",
    "    'GEOG. PROCEDIMIENTO': df_geog_final.drop(columns=['UID'], errors='ignore').reset_index(drop=True).fillna(\"\"),\n",
    "    'INCAUTACIONES': df_incautados_final.drop(columns=['UID'], errors='ignore').reset_index(drop=True).fillna(\"\"),\n",
    "    'DETENIDOS Y APREHENDIDOS': df_detenidos_aprendidos_final.drop(columns=['UID'], errors='ignore').reset_index(drop=True).fillna(\"\"),\n",
    "    'OTROS DELITOS': df_otros_delitos_final.drop(columns=['UID'], errors='ignore').reset_index(drop=True).fillna(\"\"),\n",
    "    'TRATA O TRAFIC PERSONAS': df_trata_final.drop(columns=['UID'], errors='ignore').reset_index(drop=True).fillna(\"\")\n",
    "}\n",
    "\n",
    "# Cargar la plantilla\n",
    "wb = load_workbook('Planilla_modelo.xlsx')\n",
    "\n",
    "# Escribir los datos\n",
    "for sheet_name, df in dataframes.items():\n",
    "    sheet = wb[sheet_name]\n",
    "    for i, row in df.iterrows():\n",
    "        for j, value in enumerate(row):\n",
    "            cell= sheet.cell(row=i+4, column=j+2, value=value) # type: ignore\n",
    "            cell.alignment = Alignment(horizontal='center')\n",
    "            \n",
    "\n",
    "\n",
    "for sheet in wb.worksheets:\n",
    "    sheet.conditional_formatting = []\n",
    "    sheet.auto_filter.ref = None\n",
    "    sheet.auto_filter = None\n",
    "# Guardar el archivo\n",
    "output_file = f'Informe_semanal_{datetime.now().strftime(\"%Y%m%d\")}.xlsx'\n",
    "wb.save(output_file)\n",
    "print(f\"Archivo generado: {output_file}\")\n"
   ]
  }
 ],
 "metadata": {
  "kernelspec": {
   "display_name": ".venv",
   "language": "python",
   "name": "python3"
  },
  "language_info": {
   "codemirror_mode": {
    "name": "ipython",
    "version": 3
   },
   "file_extension": ".py",
   "mimetype": "text/x-python",
   "name": "python",
   "nbconvert_exporter": "python",
   "pygments_lexer": "ipython3",
   "version": "3.11.5"
  }
 },
 "nbformat": 4,
 "nbformat_minor": 2
}
