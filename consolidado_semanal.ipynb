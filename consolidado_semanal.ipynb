{
 "cells": [
  {
   "cell_type": "markdown",
   "metadata": {},
   "source": [
    "# LIBRERIAS \n",
    "\n",
    "* Tener en cuenta bajadas de Procedimientos, Personas Armas, Divisas , vehiculos (secuestrados, ministerio), Narcotrafico general,Objetos y pegar en la carpeta bajadas de fecha del primero del 1 del mes en informar hasta fecha del informe "
   ]
  },
  {
   "cell_type": "markdown",
   "metadata": {
    "notebookRunGroups": {
     "groupValue": "1"
    }
   },
   "source": [
    "### IMPORTACIÓN DE LIBREARIAS\n"
   ]
  },
  {
   "cell_type": "code",
   "execution_count": 1,
   "metadata": {
    "notebookRunGroups": {
     "groupValue": "1"
    }
   },
   "outputs": [],
   "source": [
    "import pandas as pd\n",
    "from  Parametros import * \n",
    "from  Funciones import * \n",
    "from openpyxl import load_workbook , Workbook\n",
    "import os\n",
    "from datetime import datetime\n",
    "from openpyxl.styles import Alignment\n"
   ]
  },
  {
   "cell_type": "markdown",
   "metadata": {},
   "source": [
    "### PARAMETROS"
   ]
  },
  {
   "cell_type": "code",
   "execution_count": 2,
   "metadata": {},
   "outputs": [],
   "source": [
    "PATH_BASE = 'db/base_informada.xlsx'\n",
    "PATH_PROCEDIMIENTOS = 'bajadas/bajada_general.xls'\n",
    "PATH_ARMAS = 'bajadas/bajada_arma.xls'\n",
    "PATH_DIVISAS = 'bajadas/bajada_divisas_secuestradas.xls'\n",
    "PATH_NARCOTRAFICO = 'bajadas/bajada_general_narcotrafico.xls'\n",
    "PATH_OBJETOS = 'bajadas/bajada_objetos.xls'\n",
    "PATH_PERSONAS = 'bajadas/bajada_general_persona.xls'\n",
    "PATH_VEHICULOS = 'bajadas/bajada_vehiculos_secuestrados.xls'\n",
    "PATH_OPERACIONES = 'bajadas/PLANILLA DE CARGA DE DATOS.xlsx'\n",
    "PATH_TRATA = 'bajadas/bajada_trata.xls'\n"
   ]
  },
  {
   "cell_type": "markdown",
   "metadata": {},
   "source": [
    "### ACCEDER BASE DE DATOS"
   ]
  },
  {
   "cell_type": "code",
   "execution_count": 3,
   "metadata": {},
   "outputs": [
    {
     "name": "stdout",
     "output_type": "stream",
     "text": [
      "El archivo 'base_informada.xlsx' no fue encontrado en la ruta 'db/'. Verifica su existencia.\n",
      "Empty DataFrame\n",
      "Columns: []\n",
      "Index: []\n"
     ]
    }
   ],
   "source": [
    "try:\n",
    "    # Intentar leer el archivo\n",
    "    df_base_informada = pd.read_excel(\n",
    "        PATH_BASE,\n",
    "        sheet_name=\"GEOG. PROCEDIMIENTO\",  # Hoja como cadena, no como lista\n",
    "        skiprows=2,# Saltar las dos primeras filas\n",
    "        usecols=lambda col: True if col != 0 else False \n",
    "        \n",
    "    )\n",
    "    \n",
    "    # Operaciones con el DataFrame si se lee correctamente\n",
    "    print(\"Información del DataFrame:\")\n",
    "    print(df_base_informada.info())  # Información general del DataFrame\n",
    "    print(\"\\nDescripción estadística:\")\n",
    "    print(df_base_informada.describe())  # Estadísticas descriptivas\n",
    "    print(\"\\nValores únicos por columna:\")\n",
    "    print(df_base_informada.nunique())  \n",
    "\n",
    "except FileNotFoundError:\n",
    "    # Manejar el error de archivo no encontrado\n",
    "    print(\"El archivo 'base_informada.xlsx' no fue encontrado en la ruta 'db/'. Verifica su existencia.\")\n",
    "    df_base_informada = pd.DataFrame()\n",
    "    print(df_base_informada)"
   ]
  },
  {
   "cell_type": "markdown",
   "metadata": {},
   "source": [
    "# SIGIPOL\n"
   ]
  },
  {
   "cell_type": "markdown",
   "metadata": {},
   "source": [
    "### PROCEDIMIENTOS GENERALES\n",
    "\n",
    "\n"
   ]
  },
  {
   "cell_type": "code",
   "execution_count": 4,
   "metadata": {},
   "outputs": [
    {
     "name": "stdout",
     "output_type": "stream",
     "text": [
      "Estadistica de Partes\n",
      "\n",
      "Total de Partes: 327\n",
      "Cantidad Duplicado: 0\n",
      "Cantidad No diponible: 28\n",
      "Cantidad de Partes final: 327\n",
      "FUERZA_INTERVINIENTE               1\n",
      "ID_OPERATIVO                     312\n",
      "ID_PROCEDIMIENTO                 327\n",
      "UNIDAD_INTERVINIENTE              33\n",
      "DESCRIPCIÓN                        8\n",
      "TIPO_INTERVENCION                  2\n",
      "PROVINCIA                         21\n",
      "DEPARTAMENTO O PARTIDO            26\n",
      "LOCALIDAD                          1\n",
      "DIRECCION                         21\n",
      "ZONA_SEGURIDAD_FRONTERAS           1\n",
      "PASO_FRONTERIZO                    1\n",
      "LATITUD                           78\n",
      "LONGITUD                          81\n",
      "FECHA                             26\n",
      "HORA                             173\n",
      "OTRAS AGENCIAS INTERVINIENTES      1\n",
      "Observaciones - Detalles           1\n",
      "dtype: int64\n"
     ]
    }
   ],
   "source": [
    "excel_bajada_procedimientos_generales = filtrar_procedimientos_generales(PATH_PROCEDIMIENTOS)\n",
    "\n",
    "df_procedimientos = pd.DataFrame()\n",
    "df_procedimientos['ID_OPERATIVO'] = excel_bajada_procedimientos_generales.apply(procesar_causa_judicial, axis=1)\n",
    "df_procedimientos['FUERZA_INTERVINIENTE'] = \"PSA\"\n",
    "df_procedimientos['ID_PROCEDIMIENTO'] = excel_bajada_procedimientos_generales.apply(generar_uid_sigpol, axis=1)\n",
    "df_procedimientos['CAUSAJUDICIALNUMERO'] = excel_bajada_procedimientos_generales['CAUSAJUDICIALNUMERO'].copy()\n",
    "df_procedimientos['UNIDAD_INTERVINIENTE'] = excel_bajada_procedimientos_generales['UOSP'].fillna(excel_bajada_procedimientos_generales['URSA'])\n",
    "df_procedimientos['DESCRIPCIÓN'] = excel_bajada_procedimientos_generales.apply(procesar_descripcion, axis=1)\n",
    "df_procedimientos['TIPO_INTERVENCION'] = excel_bajada_procedimientos_generales.apply(procesar_tipo_procedimiento, axis=1)\n",
    "df_procedimientos['PROVINCIA'] = excel_bajada_procedimientos_generales.apply(procesar_provincia, axis=1)\n",
    "df_procedimientos['DEPARTAMENTO O PARTIDO'] = excel_bajada_procedimientos_generales.apply(procesar_municipio, axis=1)\n",
    "df_procedimientos['LOCALIDAD'] = \"-\"\n",
    "df_procedimientos['DIRECCION'] = excel_bajada_procedimientos_generales.apply(procesar_direccion, axis=1)\n",
    "df_procedimientos[['LATITUD', 'LONGITUD']] = excel_bajada_procedimientos_generales.apply(procesar_geog, axis=1, result_type='expand')\n",
    "df_procedimientos['FECHA'] = pd.to_datetime(excel_bajada_procedimientos_generales['DENUNCIAFECHA'], errors='coerce').dt.strftime('%d/%m/%Y')\n",
    "df_procedimientos['HORA'] = pd.to_datetime(excel_bajada_procedimientos_generales['DENUNCIAFECHA'], errors='coerce').dt.strftime('%H:%M')\n",
    "df_procedimientos['ZONA_SEGURIDAD_FRONTERAS'] = \"-\"\n",
    "df_procedimientos['PASO_FRONTERIZO'] = \"-\"\n",
    "df_procedimientos['OTRAS AGENCIAS INTERVINIENTES'] = \"-\"\n",
    "df_procedimientos['Observaciones - Detalles'] = \"-\"\n",
    "\n",
    "\n",
    "df_procedimientos['LATITUD'] = df_procedimientos['LATITUD'].astype(str).str.replace(',', '.')\n",
    "df_procedimientos['LONGITUD'] = df_procedimientos['LONGITUD'].astype(str).str.replace(',', '.')\n",
    "\n",
    "df_procedimientos_completado = df_procedimientos[['FUERZA_INTERVINIENTE', 'ID_OPERATIVO', 'ID_PROCEDIMIENTO',\n",
    "                                     'UNIDAD_INTERVINIENTE', 'DESCRIPCIÓN', 'TIPO_INTERVENCION',\n",
    "                                     'PROVINCIA', 'DEPARTAMENTO O PARTIDO', 'LOCALIDAD', 'DIRECCION',\n",
    "                                     'ZONA_SEGURIDAD_FRONTERAS', 'PASO_FRONTERIZO', 'LATITUD', 'LONGITUD',\n",
    "                                     'FECHA', 'HORA', 'OTRAS AGENCIAS INTERVINIENTES', 'Observaciones - Detalles']]\n",
    "\n",
    "print(df_procedimientos_completado.nunique())\n"
   ]
  },
  {
   "cell_type": "markdown",
   "metadata": {},
   "source": [
    "### FILTRO CON LA BASE DE DATOS DE LO QUE SE FUE INFORMADO\n",
    "\n",
    "\n"
   ]
  },
  {
   "cell_type": "code",
   "execution_count": 5,
   "metadata": {},
   "outputs": [
    {
     "name": "stdout",
     "output_type": "stream",
     "text": [
      "No hay casos en la base de datos \n",
      "\n",
      "Casos ya informados: 0\n",
      "Casos nuevos para informar : 327\n",
      "FUERZA_INTERVINIENTE               1\n",
      "ID_OPERATIVO                     312\n",
      "ID_PROCEDIMIENTO                 327\n",
      "UNIDAD_INTERVINIENTE              33\n",
      "DESCRIPCIÓN                        8\n",
      "TIPO_INTERVENCION                  2\n",
      "PROVINCIA                         21\n",
      "DEPARTAMENTO O PARTIDO            26\n",
      "LOCALIDAD                          1\n",
      "DIRECCION                         21\n",
      "ZONA_SEGURIDAD_FRONTERAS           1\n",
      "PASO_FRONTERIZO                    1\n",
      "LATITUD                           78\n",
      "LONGITUD                          81\n",
      "FECHA                             26\n",
      "HORA                             173\n",
      "OTRAS AGENCIAS INTERVINIENTES      1\n",
      "Observaciones - Detalles           1\n",
      "dtype: int64\n"
     ]
    }
   ],
   "source": [
    "if  df_base_informada.empty:\n",
    "    print(\"No hay casos en la base de datos \")\n",
    "    df_procedimientos_final = df_procedimientos_completado\n",
    "else:\n",
    "    df_procedimientos_final = df_procedimientos_completado[~df_procedimientos_completado['ID_PROCEDIMIENTO'].isin(set(df_base_informada['ID_PROCEDIMIENTO']))]\n",
    "    \n",
    "print(f\"\\nCasos ya informados: {len(df_base_informada)}\")\n",
    "print(f\"Casos nuevos para informar : {len(df_procedimientos_final)}\")\n",
    "\n",
    "print(df_procedimientos_final.nunique())\n",
    "\n",
    "\n"
   ]
  },
  {
   "cell_type": "markdown",
   "metadata": {},
   "source": [
    "### HOJA PERSONAS  "
   ]
  },
  {
   "cell_type": "code",
   "execution_count": 6,
   "metadata": {},
   "outputs": [
    {
     "name": "stdout",
     "output_type": "stream",
     "text": [
      "Total de registros en la bajadas de personas: 377\n",
      "ID_PROCEDIMIENTO         281\n",
      "EDAD                      56\n",
      "SEXO                       2\n",
      "GENERO                     2\n",
      "NACIONALIDAD              19\n",
      "SITUACION_PROCESAL         6\n",
      "DELITO_IMPUTADO           23\n",
      "JUZGADO_INTERVINIENTE     76\n",
      "CARATULA_CAUSA            61\n",
      "NUM_CAUSA                281\n",
      "dtype: int64\n"
     ]
    }
   ],
   "source": [
    "# Paso 1: Cargar datos iniciales\n",
    "excel_bajada_personas = pd.read_excel(PATH_PERSONAS)\n",
    "print(f\"Total de registros en la bajadas de personas: {len(excel_bajada_personas)}\")\n",
    "\n",
    "# Paso 2: Generar UID\n",
    "excel_bajada_personas['UOSP'] = excel_bajada_personas['UOSP'].fillna(excel_bajada_personas['URSA'])\n",
    "excel_bajada_personas['TIPO_CAUSA_INTERNA'] = excel_bajada_personas.apply( procesar_tipo_causa_interna, axis=1)\n",
    "excel_bajada_personas['ID_PROCEDIMIENTO'] = excel_bajada_personas.apply(generar_uid_sigpol, axis=1)\n",
    "\n",
    "# Paso 3: Coincidencia de UID entre excel_bajada_personas y df_geog_final\n",
    "uid_coincidentes = excel_bajada_personas[excel_bajada_personas['ID_PROCEDIMIENTO'].isin(df_procedimientos_final['ID_PROCEDIMIENTO'])]\n",
    "\n",
    "# Crear DataFrame de detenidos y aprendidos\n",
    "df_detenidos_aprendidos = pd.DataFrame()\n",
    "df_detenidos_aprendidos['ID_PROCEDIMIENTO'] = uid_coincidentes['ID_PROCEDIMIENTO']\n",
    "df_detenidos_aprendidos['EDAD'] = uid_coincidentes.apply(procesar_edad, axis=1)\n",
    "df_detenidos_aprendidos['SEXO'] = uid_coincidentes.apply(procesar_sexo, axis=1)\n",
    "df_detenidos_aprendidos['GENERO'] = uid_coincidentes.apply(procesar_genero, axis=1)\n",
    "df_detenidos_aprendidos['NACIONALIDAD'] = uid_coincidentes.apply(procesar_nacionalidad, axis=1)\n",
    "df_detenidos_aprendidos['SITUACION_PROCESAL'] = uid_coincidentes.apply(procesar_situacion_judicial, axis=1)\n",
    "df_detenidos_aprendidos['DELITO_IMPUTADO'] = uid_coincidentes.apply(procesar_tipo_delito, axis=1)\n",
    "df_detenidos_aprendidos['JUZGADO_INTERVINIENTE'] = uid_coincidentes.apply(procesar_juzgado, axis=1)\n",
    "df_detenidos_aprendidos['CARATULA_CAUSA'] = uid_coincidentes.apply(procesar_caratula, axis=1)\n",
    "df_detenidos_aprendidos['NUM_CAUSA'] = uid_coincidentes['ID_PROCEDIMIENTO']\n",
    "\n",
    "\n",
    "df_detenidos_aprendidos = df_detenidos_aprendidos[df_detenidos_aprendidos['SITUACION_PROCESAL'] != 'NO INFORMAR']\n",
    "df_detenidos_aprendidos = df_detenidos_aprendidos[df_detenidos_aprendidos['ID_PROCEDIMIENTO'].isin(df_procedimientos_final['ID_PROCEDIMIENTO'])]\n",
    "\n",
    "\n",
    "print(df_detenidos_aprendidos.nunique())"
   ]
  },
  {
   "cell_type": "markdown",
   "metadata": {},
   "source": [
    "### HOJA OTROS DELITOS"
   ]
  },
  {
   "cell_type": "code",
   "execution_count": 7,
   "metadata": {},
   "outputs": [
    {
     "name": "stdout",
     "output_type": "stream",
     "text": [
      "ID_PROCEDIMIENTO         137\n",
      "EDAD_VICTIMA              55\n",
      "SEXO                       2\n",
      "GENERO_VICTIMA             2\n",
      "NACIONALIDAD              12\n",
      "SITUACION_PROCESAL         1\n",
      "TIPO_OTRO_DELITO          16\n",
      "JUZGADO_INTERVINIENTE     21\n",
      "CARATULA_CAUSA             7\n",
      "NUM_CAUSA                137\n",
      "OBSERVACIONES              1\n",
      "dtype: int64\n"
     ]
    }
   ],
   "source": [
    "df_otros_delitos = df_detenidos_aprendidos[df_detenidos_aprendidos['SITUACION_PROCESAL'] == 'VICTIMA']\n",
    "# Filtro los que son victima de detenidos y aprendidos\n",
    "df_detenidos_aprendidos_completado = df_detenidos_aprendidos[df_detenidos_aprendidos['SITUACION_PROCESAL'] != 'VICTIMA']\n",
    "\n",
    "# Cambiar el nombre de algunas columnas en el DataFrame de víctimas\n",
    "df_otros_delitos_completado = df_otros_delitos.rename(columns={\n",
    "    'DELITO_IMPUTADO': 'TIPO_OTRO_DELITO',\n",
    "    'GENERO': 'GENERO_VICTIMA',\n",
    "    'EDAD': 'EDAD_VICTIMA',\n",
    "})\n",
    "df_otros_delitos_completado[\"OBSERVACIONES\"] =\"-\"\n",
    "\n",
    "print(df_otros_delitos_completado.nunique())\n"
   ]
  },
  {
   "cell_type": "markdown",
   "metadata": {},
   "source": [
    "### INCAUTACIONES ARMA"
   ]
  },
  {
   "cell_type": "code",
   "execution_count": 8,
   "metadata": {},
   "outputs": [
    {
     "name": "stdout",
     "output_type": "stream",
     "text": [
      "Total de registros cargados: 8\n",
      "ID_PROCEDIMIENTO    5\n",
      "TIPO_INCAUTACION    1\n",
      "TIPO                4\n",
      "SUBTIPO             1\n",
      "CANTIDAD            3\n",
      "MEDIDAS             1\n",
      "AFORO               1\n",
      "OBSERVACIONES       7\n",
      "dtype: int64\n"
     ]
    }
   ],
   "source": [
    "# Paso 1: Cargar datos iniciales\n",
    "excel_bajada_arma = pd.read_excel(PATH_ARMAS)\n",
    "print(f\"Total de registros cargados: {len(excel_bajada_arma)}\")\n",
    "\n",
    "excel_bajada_arma = excel_bajada_arma[excel_bajada_arma[\"TIPO_ESTADO_OBJETO\"] == \"SECUESTRADO\"]\n",
    "excel_bajada_arma['UOSP'] = excel_bajada_arma['UOSP'].fillna(excel_bajada_arma['URSA'])\n",
    "excel_bajada_arma['TIPO_CAUSA_INTERNA'] = excel_bajada_arma.apply( procesar_tipo_causa_interna, axis=1)\n",
    "excel_bajada_arma['ID_PROCEDIMIENTO'] = excel_bajada_arma.apply(generar_uid_sigpol, axis=1)\n",
    "\n",
    "\n",
    "df_arma = pd.DataFrame()\n",
    "df_arma['ID_PROCEDIMIENTO'] = excel_bajada_arma['ID_PROCEDIMIENTO']\n",
    "df_arma['TIPO_INCAUTACION'] = \"ARMAS\"\n",
    "df_arma['TIPO'] = excel_bajada_arma['TIPO_ARMA']\n",
    "df_arma['SUBTIPO'] = \"-\"\n",
    "df_arma['CANTIDAD'] = excel_bajada_arma.apply(procesar_cantidad_arma, axis=1)\n",
    "df_arma['MEDIDAS'] = \"UNIDADES\"\n",
    "df_arma['AFORO'] = \"-\"\n",
    "df_arma['OBSERVACIONES'] = excel_bajada_arma.apply(procesar_observaciones_arma, axis=1)\n",
    "\n",
    "df_arma_completado = df_arma[df_arma['ID_PROCEDIMIENTO'].isin(df_procedimientos_final['ID_PROCEDIMIENTO'])]\n",
    "\n",
    "\n",
    "print(df_arma_completado.nunique())"
   ]
  },
  {
   "cell_type": "markdown",
   "metadata": {},
   "source": [
    "### INCAUTACIONES DIVISA"
   ]
  },
  {
   "cell_type": "code",
   "execution_count": 9,
   "metadata": {},
   "outputs": [
    {
     "name": "stdout",
     "output_type": "stream",
     "text": [
      "Total de registros cargados: 59\n",
      "ID_PROCEDIMIENTO    11\n",
      "TIPO_INCAUTACION     1\n",
      "TIPO                 5\n",
      "SUBTIPO              1\n",
      "CANTIDAD            17\n",
      "MEDIDAS              1\n",
      "AFORO                1\n",
      "OBSERVACIONES        1\n",
      "dtype: int64\n"
     ]
    }
   ],
   "source": [
    "excel_bajada_divisa = pd.read_excel(PATH_DIVISAS)\n",
    "print(f\"Total de registros cargados: {len(excel_bajada_divisa)}\")\n",
    "\n",
    "excel_bajada_procedimientos_generales['PARTE_ANIO'] = excel_bajada_procedimientos_generales['NUMERO_PARTE'].astype(str) + \"/\" + excel_bajada_procedimientos_generales['ANIO_PARTE'].astype(str)\n",
    "excel_bajada_divisa['PARTE_ANIO'] = excel_bajada_divisa['NUMERO_PARTE'].astype(str) + \"/\" + excel_bajada_divisa['ANIO_PARTE'].astype(str)\n",
    "\n",
    "excel_bajada_divisa['UOSP'] = excel_bajada_divisa['UOSP'].fillna(excel_bajada_divisa['URSA'])\n",
    "\n",
    "excel_bajada_divisa = pd.merge(excel_bajada_divisa, \n",
    "                               excel_bajada_procedimientos_generales[['PARTE_ANIO', 'TIPO_CAUSA_INTERNA']], \n",
    "                               on='PARTE_ANIO', \n",
    "                               how='left')\n",
    "\n",
    "excel_bajada_divisa['ID_PROCEDIMIENTO'] = excel_bajada_divisa.apply(generar_uid_sigpol, axis=1)\n",
    "excel_bajada_divisa = excel_bajada_divisa[~pd.isnull(excel_bajada_divisa['TOTAL_DIVISAS_SECUESTRADAS'])]\n",
    "\n",
    "\n",
    "# Agrupar por 'UID' (y 'TIPO' si se necesita) para sumar las cantidades\n",
    "cantidad_por_uid = excel_bajada_divisa.groupby(['ID_PROCEDIMIENTO', 'TIPO_DIVISA'], as_index=False)['TOTAL_DIVISAS_SECUESTRADAS'].sum()\n",
    "\n",
    "# Paso 2: Crear df_divisa con las cantidades sumadas\n",
    "df_divisa = pd.DataFrame()\n",
    "df_divisa['ID_PROCEDIMIENTO'] = cantidad_por_uid['ID_PROCEDIMIENTO']\n",
    "df_divisa['TIPO_INCAUTACION'] = \"DIVISAS\"\n",
    "df_divisa['TIPO'] = cantidad_por_uid['TIPO_DIVISA']\n",
    "df_divisa['SUBTIPO'] = \"-\"\n",
    "df_divisa['CANTIDAD'] = cantidad_por_uid['TOTAL_DIVISAS_SECUESTRADAS']\n",
    "df_divisa['MEDIDAS'] = \"UNIDADES\"\n",
    "df_divisa['AFORO'] = \"-\"\n",
    "df_divisa['OBSERVACIONES'] = \"-\"\n",
    "\n",
    "# Mostrar el resultado final\n",
    "df_divisa_completado = df_divisa[df_divisa['ID_PROCEDIMIENTO'].isin(df_procedimientos_final['ID_PROCEDIMIENTO'])]\n",
    "\n",
    "print(df_divisa_completado.nunique())"
   ]
  },
  {
   "cell_type": "markdown",
   "metadata": {},
   "source": [
    "### INCAUTACIONES OBJETOS"
   ]
  },
  {
   "cell_type": "code",
   "execution_count": 10,
   "metadata": {},
   "outputs": [
    {
     "name": "stdout",
     "output_type": "stream",
     "text": [
      "Total de registros cargados: 680\n",
      "ID_PROCEDIMIENTO    19\n",
      "TIPO_INCAUTACION     1\n",
      "TIPO                12\n",
      "SUBTIPO              1\n",
      "CANTIDAD             4\n",
      "MEDIDAS              1\n",
      "AFORO                1\n",
      "OBSERVACIONES        1\n",
      "dtype: int64\n"
     ]
    }
   ],
   "source": [
    "# Paso 1: Cargar datos iniciales\n",
    "excel_bajada_objetos = pd.read_excel(PATH_OBJETOS)\n",
    "print(f\"Total de registros cargados: {len(excel_bajada_objetos)}\")\n",
    "\n",
    "excel_bajada_objetos = excel_bajada_objetos[excel_bajada_objetos[\"ESTADO\"] == \"SECUESTRADO\"]\n",
    "\n",
    "excel_bajada_objetos['UOSP'] = excel_bajada_objetos['UOSP'].fillna(excel_bajada_objetos['URSA'])\n",
    "excel_bajada_objetos['TIPO_CAUSA_INTERNA'] = excel_bajada_objetos.apply( procesar_tipo_causa_interna, axis=1)\n",
    "excel_bajada_objetos['ID_PROCEDIMIENTO'] = excel_bajada_objetos.apply(generar_uid_sigpol, axis=1)\n",
    "excel_bajada_objetos = excel_bajada_objetos[excel_bajada_objetos['TIPO_OBJETO'].isin(TIPO_OBJETO)]\n",
    "excel_bajada_objetos = excel_bajada_objetos[~pd.isnull(excel_bajada_objetos['CANTIDAD'])]\n",
    "\n",
    "df_objetos = pd.DataFrame()\n",
    "df_objetos['ID_PROCEDIMIENTO'] = excel_bajada_objetos['ID_PROCEDIMIENTO']\n",
    "df_objetos['TIPO_INCAUTACION'] = \"MERCADERIA\"\n",
    "df_objetos['TIPO'] = excel_bajada_objetos['TIPO_OBJETO']\n",
    "df_objetos['SUBTIPO'] = \"-\"\n",
    "df_objetos['CANTIDAD'] = excel_bajada_objetos['CANTIDAD']\n",
    "df_objetos['MEDIDAS'] = \"UNIDADES\"\n",
    "df_objetos['AFORO'] = \"-\"\n",
    "df_objetos['OBSERVACIONES'] = \"-\"\n",
    "\n",
    "df_objetos_completado = df_objetos[df_objetos['ID_PROCEDIMIENTO'].isin(df_procedimientos_final['ID_PROCEDIMIENTO'])]\n",
    "\n",
    "print(df_objetos_completado.nunique())"
   ]
  },
  {
   "cell_type": "markdown",
   "metadata": {},
   "source": [
    "### INCAUTACIONES VEHICULOS"
   ]
  },
  {
   "cell_type": "code",
   "execution_count": 11,
   "metadata": {},
   "outputs": [
    {
     "name": "stdout",
     "output_type": "stream",
     "text": [
      "Total de registros vehiculos secuestrados: 37\n",
      "ID_PROCEDIMIENTO    9\n",
      "TIPO_INCAUTACION    1\n",
      "TIPO                3\n",
      "SUBTIPO             1\n",
      "CANTIDAD            1\n",
      "MEDIDAS             1\n",
      "AFORO               1\n",
      "OBSERVACIONES       8\n",
      "dtype: int64\n"
     ]
    }
   ],
   "source": [
    "excel_bajada_vehiculos = pd.read_excel(PATH_VEHICULOS)\n",
    "print(f\"Total de registros vehiculos secuestrados: {len(excel_bajada_vehiculos)}\")\n",
    "\n",
    "\n",
    "excel_bajada_vehiculos = excel_bajada_vehiculos[excel_bajada_vehiculos[\"VEHICULO_ESTADO\"] == \"SECUESTRADO\"]\n",
    "\n",
    "excel_bajada_vehiculos['TIPO_CAUSA_INTERNA'] = excel_bajada_vehiculos.apply( procesar_tipo_causa_interna, axis=1)\n",
    "excel_bajada_vehiculos['UOSP'] = excel_bajada_vehiculos['UOSP'].fillna(excel_bajada_vehiculos['URSA'])\n",
    "excel_bajada_vehiculos['TIPO_CAUSA_INTERNA'] = excel_bajada_vehiculos.apply( procesar_tipo_causa_interna, axis=1)\n",
    "excel_bajada_vehiculos['ID_PROCEDIMIENTO'] = excel_bajada_vehiculos.apply(generar_uid_sigpol, axis=1)\n",
    "\n",
    "\n",
    "df_vehiculos = pd.DataFrame()\n",
    "df_vehiculos['ID_PROCEDIMIENTO'] = excel_bajada_vehiculos['ID_PROCEDIMIENTO']\n",
    "df_vehiculos['TIPO_INCAUTACION'] = \"SECUESTRO DE VEHICULOS\"\n",
    "df_vehiculos['TIPO'] = excel_bajada_vehiculos['VEHICULO_TIPO']\n",
    "df_vehiculos['SUBTIPO'] = \"-\"\n",
    "df_vehiculos['CANTIDAD'] = excel_bajada_vehiculos['CANTIDAD']\n",
    "df_vehiculos['MEDIDAS'] = \"UNIDADES\"\n",
    "df_vehiculos['AFORO'] = \"-\"\n",
    "df_vehiculos['OBSERVACIONES'] = excel_bajada_vehiculos.apply(observaciones_vehiculo,axis=1)\n",
    "\n",
    "\n",
    "df_vehiculos_completado = df_vehiculos[df_vehiculos['ID_PROCEDIMIENTO'].isin(df_procedimientos_final['ID_PROCEDIMIENTO'])]\n",
    "\n",
    "print(df_vehiculos_completado.nunique())"
   ]
  },
  {
   "cell_type": "markdown",
   "metadata": {},
   "source": [
    "### INCAUTACIONES NARCOTRAFICO"
   ]
  },
  {
   "cell_type": "code",
   "execution_count": 12,
   "metadata": {},
   "outputs": [
    {
     "name": "stdout",
     "output_type": "stream",
     "text": [
      "Total de registros narcostrafico secuestrados: 67\n",
      "ID_PROCEDIMIENTO    52\n",
      "TIPO_INCAUTACION     1\n",
      "TIPO                 5\n",
      "SUBTIPO              1\n",
      "CANTIDAD            33\n",
      "MEDIDAS              3\n",
      "AFORO                1\n",
      "OBSERVACIONES        4\n",
      "dtype: int64\n"
     ]
    }
   ],
   "source": [
    "# Paso 1: Cargar datos iniciales\n",
    "excel_bajada_narcotrafico = pd.read_excel(PATH_NARCOTRAFICO)\n",
    "print(f\"Total de registros narcostrafico secuestrados: {len(excel_bajada_narcotrafico)}\")\n",
    "\n",
    "excel_bajada_narcotrafico['UOSP'] = excel_bajada_narcotrafico['UOSP'].fillna(excel_bajada_narcotrafico['URSA'])\n",
    "excel_bajada_narcotrafico['TIPO_CAUSA_INTERNA'] = excel_bajada_narcotrafico.apply( procesar_tipo_causa_interna, axis=1)\n",
    "excel_bajada_narcotrafico['ID_PROCEDIMIENTO'] = excel_bajada_narcotrafico.apply(generar_uid_sigpol, axis=1)\n",
    "\n",
    "excel_bajada_narcotrafico = excel_bajada_narcotrafico[~pd.isnull(excel_bajada_narcotrafico['TIPO_ESTUPEFACIENTE'])]\n",
    "\n",
    "\n",
    "#Paso 2: Crear df_divisa con las cantidades sumadas\n",
    "df_narcotrafico = pd.DataFrame()\n",
    "df_narcotrafico['ID_PROCEDIMIENTO'] = excel_bajada_narcotrafico['ID_PROCEDIMIENTO']\n",
    "df_narcotrafico['TIPO_INCAUTACION'] = \"ESTUPEFACIENTE\"\n",
    "df_narcotrafico['TIPO'] = excel_bajada_narcotrafico.apply(clasificar_tipo_sustancia, axis=1)\n",
    "df_narcotrafico['SUBTIPO'] = \"-\"\n",
    "df_narcotrafico[['CANTIDAD', 'MEDIDAS']] = excel_bajada_narcotrafico.apply(clasificar_medida, axis=1, result_type='expand')\n",
    "df_narcotrafico['AFORO'] = \"-\"\n",
    "df_narcotrafico['OBSERVACIONES'] = excel_bajada_narcotrafico.apply(observaciones_sustancia, axis=1)\n",
    "\n",
    "df_narcotrafico_completado = df_narcotrafico[df_narcotrafico['ID_PROCEDIMIENTO'].isin(df_procedimientos_final['ID_PROCEDIMIENTO'])]\n",
    "\n",
    "print(df_narcotrafico_completado.nunique())"
   ]
  },
  {
   "cell_type": "markdown",
   "metadata": {},
   "source": [
    "### UNION DE INCAUTACIONES \n",
    "ARMAS, DIVISAS, OBJETOS , VEHICULOS , NARCOTRAFICO"
   ]
  },
  {
   "cell_type": "code",
   "execution_count": 13,
   "metadata": {},
   "outputs": [
    {
     "name": "stdout",
     "output_type": "stream",
     "text": [
      "ID_PROCEDIMIENTO    76\n",
      "TIPO_INCAUTACION     5\n",
      "TIPO                29\n",
      "SUBTIPO              1\n",
      "CANTIDAD            50\n",
      "MEDIDAS              3\n",
      "AFORO                1\n",
      "OBSERVACIONES       19\n",
      "dtype: int64\n"
     ]
    }
   ],
   "source": [
    "df_incautados_completado= pd.concat([df_objetos_completado, df_vehiculos_completado, df_arma_completado, df_divisa_completado , df_narcotrafico_completado])\n",
    "print(df_incautados_completado.nunique())"
   ]
  },
  {
   "cell_type": "markdown",
   "metadata": {},
   "source": [
    "### TRATA DE PERSONA"
   ]
  },
  {
   "cell_type": "code",
   "execution_count": 14,
   "metadata": {},
   "outputs": [
    {
     "name": "stdout",
     "output_type": "stream",
     "text": [
      "Total de registros tratas: 2\n",
      "ID_PROCEDIMIENTO         2\n",
      "TIPO_DELITO              1\n",
      "SEXO_VICTIMA             2\n",
      "GENERO_VICTIMA           2\n",
      "EDAD_VICTIMA             2\n",
      "NACIONALIDAD             1\n",
      "JUZGADO_INTERVINIENTE    2\n",
      "OBSERVACIONES            1\n",
      "dtype: int64\n"
     ]
    }
   ],
   "source": [
    "excel_bajada_trata = pd.read_excel(PATH_TRATA)\n",
    "print(f\"Total de registros tratas: {len(excel_bajada_trata)}\")\n",
    "\n",
    "excel_bajada_trata['UOSP'] = excel_bajada_trata['UOSP'].fillna(excel_bajada_trata['URSA'])\n",
    "excel_bajada_trata['TIPO_CAUSA_INTERNA'] = excel_bajada_trata.apply( procesar_tipo_causa_interna, axis=1)\n",
    "excel_bajada_trata['ID_PROCEDIMIENTO'] = excel_bajada_trata.apply(generar_uid_sigpol, axis=1)\n",
    "\n",
    "# Crear DataFrame de detenidos y aprendidos\n",
    "df_trata = pd.DataFrame()\n",
    "df_trata['ID_PROCEDIMIENTO'] = excel_bajada_trata['ID_PROCEDIMIENTO']\n",
    "df_trata['TIPO_DELITO'] = excel_bajada_trata[\"TIPO_EXPLOTACION\"].fillna(\"-\")\n",
    "df_trata['SEXO_VICTIMA'] = excel_bajada_trata.apply(procesar_sexo, axis=1)\n",
    "df_trata['GENERO_VICTIMA'] = excel_bajada_trata.apply(procesar_genero, axis=1)\n",
    "df_trata['EDAD_VICTIMA'] = excel_bajada_trata['EDAD'].fillna(\"-\")\n",
    "df_trata['NACIONALIDAD'] = excel_bajada_trata['NACIONALIDAD'].fillna(\"-\")\n",
    "df_trata['NACIONALIDAD'] = excel_bajada_trata['NACIONALIDAD'].str.upper()\n",
    "df_trata['JUZGADO_INTERVINIENTE'] = excel_bajada_trata.apply(procesar_juzgado, axis=1)\n",
    "df_trata['OBSERVACIONES'] = \"-\"\n",
    "\n",
    "df_trata_completado = df_trata[df_trata['ID_PROCEDIMIENTO'].isin(df_procedimientos_final['ID_PROCEDIMIENTO'])]\n",
    "\n",
    "\n",
    "print(df_trata_completado.nunique())\n"
   ]
  },
  {
   "cell_type": "markdown",
   "metadata": {},
   "source": [
    "# OPERACIONES"
   ]
  },
  {
   "cell_type": "markdown",
   "metadata": {},
   "source": [
    "### ORDEN DE SERVICIOS"
   ]
  },
  {
   "cell_type": "code",
   "execution_count": 15,
   "metadata": {},
   "outputs": [
    {
     "name": "stdout",
     "output_type": "stream",
     "text": [
      "FUERZA_INTERVINIENTE               1\n",
      "ID_OPERATIVO                      95\n",
      "ID_PROCEDIMIENTO                 277\n",
      "UNIDAD_INTERVINIENTE              22\n",
      "DESCRIPCIÓN                       81\n",
      "TIPO_INTERVENCION                  2\n",
      "PROVINCIA                         10\n",
      "DEPARTAMENTO O PARTIDO            13\n",
      "LOCALIDAD                         20\n",
      "DIRECCION                         58\n",
      "ZONA_SEGURIDAD_FRONTERAS           1\n",
      "PASO_FRONTERIZO                    1\n",
      "LATITUD                           54\n",
      "LONGITUD                          60\n",
      "FECHA                              9\n",
      "HORA                              61\n",
      "OTRAS AGENCIAS INTERVINIENTES      3\n",
      "Observaciones - Detalles           1\n",
      "dtype: int64\n"
     ]
    },
    {
     "name": "stderr",
     "output_type": "stream",
     "text": [
      "c:\\Users\\DICA\\Desktop\\Repositorio\\DNEC\\.venv\\Lib\\site-packages\\openpyxl\\worksheet\\_reader.py:329: UserWarning: Data Validation extension is not supported and will be removed\n",
      "  warn(msg)\n"
     ]
    }
   ],
   "source": [
    "excel_bajada_operaciones = pd.read_excel(PATH_OPERACIONES, \n",
    "                                         sheet_name=\"ORDEN_SERVICIOS\", \n",
    "                                         skiprows=1)\n",
    "\n",
    "# Usar .strftime('%H:%M') en cada valor para obtener solo la hora y el minuto\n",
    "excel_bajada_operaciones['HORA'] = excel_bajada_operaciones['HORA'].apply(lambda x: x.strftime('%H:%M') if pd.notnull(x) else None)\n",
    "# Ahora copiamos esta columna al nuevo DataFrame\n",
    "\n",
    "\n",
    "df_operaciones= pd.DataFrame()\n",
    "df_operaciones[\"ID_PROCEDIMIENTO\"] = excel_bajada_operaciones[\"ID_PROCEDIMIENTO\"]\n",
    "df_operaciones[\"FUERZA_INTERVINIENTE\"] = \"PSA\"\n",
    "df_operaciones[\"ID_OPERATIVO\"] = excel_bajada_operaciones[\"ID_OPERATIVO\"]\n",
    "df_operaciones[\"UNIDAD_INTERVINIENTE\"] = excel_bajada_operaciones[\"UNIDAD_INTERVINIENTE\"]\n",
    "df_operaciones[\"DESCRIPCIÓN\"] = excel_bajada_operaciones[\"DESCRIPCIÓN\"]\n",
    "df_operaciones[\"TIPO_INTERVENCION\"] = excel_bajada_operaciones[\"TIPO_INTERVENCION\"]\n",
    "df_operaciones[\"PROVINCIA\"] = excel_bajada_operaciones[\"PROVINCIA\"].str.upper().replace(\"_\", \" \")\n",
    "df_operaciones[\"DEPARTAMENTO O PARTIDO\"] = excel_bajada_operaciones[\"DEPARTAMENTO O PARTIDO\"].str.upper()\n",
    "df_operaciones[\"LOCALIDAD\"] = excel_bajada_operaciones[\"LOCALIDAD\"]\n",
    "df_operaciones[\"DIRECCION\"] = excel_bajada_operaciones[\"DIRECCION\"]\n",
    "df_operaciones['FECHA'] = excel_bajada_operaciones[\"FECHA\"]\n",
    "df_operaciones['HORA'] = excel_bajada_operaciones['HORA']\n",
    "df_operaciones[\"ZONA_SEGURIDAD_FRONTERAS\"] = \"-\"\n",
    "df_operaciones[\"PASO_FRONTERIZO\"] = \"-\"\n",
    "df_operaciones['OTRAS AGENCIAS INTERVINIENTES'] =  excel_bajada_operaciones[\"OTRAS AGENCIAS INTERVINIENTES\"]\n",
    "df_operaciones['Observaciones - Detalles'] = \"PATRULLAJE DINAMICO\"\n",
    "df_operaciones[['LATITUD', 'LONGITUD']] = excel_bajada_operaciones.apply(procesar_geog_oper, axis=1, result_type='expand')\n",
    "\n",
    "\n",
    "df_operaciones_final = df_operaciones[['FUERZA_INTERVINIENTE', 'ID_OPERATIVO', 'ID_PROCEDIMIENTO',\n",
    "                                     'UNIDAD_INTERVINIENTE', 'DESCRIPCIÓN', 'TIPO_INTERVENCION',\n",
    "                                     'PROVINCIA', 'DEPARTAMENTO O PARTIDO', 'LOCALIDAD', 'DIRECCION',\n",
    "                                     'ZONA_SEGURIDAD_FRONTERAS', 'PASO_FRONTERIZO', 'LATITUD', 'LONGITUD',\n",
    "                                     'FECHA', 'HORA', 'OTRAS AGENCIAS INTERVINIENTES', 'Observaciones - Detalles']]\n",
    "\n",
    "\n",
    "\n",
    "# Reemplazar \"S/D\" y \"N/C\" por \"-\"\n",
    "df_operaciones_final.replace([\"S/D\", \"N/C\"], \"-\", inplace=True)\n",
    "\n",
    "# Reemplazar los valores vacíos (NaN) por \"-\"\n",
    "df_operaciones_final.fillna(\"-\", inplace=True)\n",
    "\n",
    "\n",
    "print(df_operaciones_final.nunique())\n"
   ]
  },
  {
   "cell_type": "markdown",
   "metadata": {},
   "source": [
    "### HOJA DE VEHI. Y PERSO. CONTROLADAS"
   ]
  },
  {
   "cell_type": "code",
   "execution_count": 16,
   "metadata": {},
   "outputs": [
    {
     "name": "stdout",
     "output_type": "stream",
     "text": [
      "UID                              277\n",
      "FUERZA_INTERVINIENTE               1\n",
      "ID_PROCEDIMIENTO                 277\n",
      "ID_OPERATIVO                      95\n",
      "UNIDAD_INTERVINIENTE              22\n",
      "DESCRIPCIÓN                       81\n",
      "TIPO_INTERVENCION                  2\n",
      "VEHICULOS_CONTROLADOS             20\n",
      "PERSONAS_CONTROLADAS              26\n",
      "CANT_AVERIGUACIONES_SECUESTRO      1\n",
      "CANT_SOLICITUDES_ANTECEDENTES     28\n",
      "dtype: int64\n"
     ]
    },
    {
     "name": "stderr",
     "output_type": "stream",
     "text": [
      "C:\\Users\\DICA\\AppData\\Local\\Temp\\ipykernel_48224\\1778806577.py:19: FutureWarning: Setting an item of incompatible dtype is deprecated and will raise an error in a future version of pandas. Value '-' has dtype incompatible with float64, please explicitly cast to a compatible dtype first.\n",
      "  df_controlados_controlado.fillna(\"-\", inplace=True)\n"
     ]
    }
   ],
   "source": [
    "df_controlados_controlado = pd.DataFrame()\n",
    "df_controlados_controlado[\"UID\"] = excel_bajada_operaciones[\"ID_PROCEDIMIENTO\"]\n",
    "df_controlados_controlado[\"FUERZA_INTERVINIENTE\"] = \"PSA\"\n",
    "df_controlados_controlado[\"ID_PROCEDIMIENTO\"] = excel_bajada_operaciones[\"ID_PROCEDIMIENTO\"]\n",
    "df_controlados_controlado[\"ID_OPERATIVO\"] = excel_bajada_operaciones[\"ID_OPERATIVO\"]\n",
    "df_controlados_controlado[\"UNIDAD_INTERVINIENTE\"] = excel_bajada_operaciones[\"UNIDAD_INTERVINIENTE\"]\n",
    "df_controlados_controlado[\"DESCRIPCIÓN\"] = excel_bajada_operaciones[\"DESCRIPCIÓN\"]\n",
    "df_controlados_controlado[\"TIPO_INTERVENCION\"] = excel_bajada_operaciones[\"TIPO_INTERVENCION\"]\n",
    "df_controlados_controlado[\"VEHICULOS_CONTROLADOS\"] = excel_bajada_operaciones[\"VEHICULOS_CONTROLADOS\"]\n",
    "df_controlados_controlado[\"PERSONAS_CONTROLADAS\"] = excel_bajada_operaciones[\"PERSONAS_CONTROLADAS\"]\n",
    "df_controlados_controlado[\"CANT_AVERIGUACIONES_SECUESTRO\"] = excel_bajada_operaciones[\"CANT_AVERIGUACIONES_SECUESTRO\"]\n",
    "df_controlados_controlado[\"CANT_SOLICITUDES_ANTECEDENTES\"] = excel_bajada_operaciones[\"CANT_SOLICITUDES_ANTECEDENTES\"]\n",
    "\n",
    "\n",
    "# Reemplazar \"S/D\" y \"N/C\" por \"-\"\n",
    "df_controlados_controlado.replace([\"S/D\", \"N/C\"], \"-\", inplace=True)\n",
    "\n",
    "# Reemplazar los valores vacíos (NaN) por \"-\"\n",
    "df_controlados_controlado.fillna(\"-\", inplace=True)\n",
    "\n",
    "print(df_controlados_controlado.nunique())\n"
   ]
  },
  {
   "cell_type": "markdown",
   "metadata": {},
   "source": [
    "### PERSONAL Y ELEMENTOS AFECTADOS"
   ]
  },
  {
   "cell_type": "code",
   "execution_count": 17,
   "metadata": {},
   "outputs": [
    {
     "name": "stdout",
     "output_type": "stream",
     "text": [
      "UID                      277\n",
      "FUERZA_INTERVINIENTE       1\n",
      "ID_PROCEDIMIENTO         277\n",
      "ID_OPERATIVO              95\n",
      "UNIDAD_INTERVINIENTE      22\n",
      "DESCRIPCIÓN               81\n",
      "TIPO_INTERVENCION          2\n",
      "CANT_EFECTIVOS            24\n",
      "CANT_AUTOS_CAMIONETAS      7\n",
      "CANT_SCANNERS              2\n",
      "CANT_EMBARCACIONES         1\n",
      "CANT_MOTOS                 1\n",
      "CANT_CABALLOS              1\n",
      "CANT_CANES                 3\n",
      "CANT_MORPHRAPID            1\n",
      "CANT_LPR                   1\n",
      "dtype: int64\n"
     ]
    },
    {
     "name": "stderr",
     "output_type": "stream",
     "text": [
      "C:\\Users\\DICA\\AppData\\Local\\Temp\\ipykernel_48224\\2143040399.py:26: FutureWarning: Setting an item of incompatible dtype is deprecated and will raise an error in a future version of pandas. Value '-' has dtype incompatible with float64, please explicitly cast to a compatible dtype first.\n",
      "  df_afectados_completado.fillna(\"-\", inplace=True)\n"
     ]
    }
   ],
   "source": [
    "df_afectados_completado = pd.DataFrame()\n",
    "\n",
    "\n",
    "df_afectados_completado[\"UID\"] = excel_bajada_operaciones[\"ID_PROCEDIMIENTO\"]\n",
    "df_afectados_completado[\"FUERZA_INTERVINIENTE\"] = \"PSA\"\n",
    "df_afectados_completado[\"ID_PROCEDIMIENTO\"] = excel_bajada_operaciones[\"ID_PROCEDIMIENTO\"]\n",
    "df_afectados_completado[\"ID_OPERATIVO\"] = excel_bajada_operaciones[\"ID_OPERATIVO\"]\n",
    "df_afectados_completado[\"UNIDAD_INTERVINIENTE\"] = excel_bajada_operaciones[\"UNIDAD_INTERVINIENTE\"]\n",
    "df_afectados_completado[\"DESCRIPCIÓN\"] = excel_bajada_operaciones[\"DESCRIPCIÓN\"]\n",
    "df_afectados_completado[\"TIPO_INTERVENCION\"] = excel_bajada_operaciones[\"TIPO_INTERVENCION\"]\n",
    "df_afectados_completado[\"CANT_EFECTIVOS\"] = excel_bajada_operaciones[\"CANT_EFECTIVOS\"]\n",
    "df_afectados_completado[\"CANT_AUTOS_CAMIONETAS\"] = excel_bajada_operaciones[\"CANT_AUTOS_CAMIONETAS\"]\n",
    "df_afectados_completado[\"CANT_SCANNERS\"] = excel_bajada_operaciones[\"CANT_SCANNERS\"]\n",
    "df_afectados_completado[\"CANT_EMBARCACIONES\"] = excel_bajada_operaciones[\"CANT_EMBARCACIONES\"]\n",
    "df_afectados_completado[\"CANT_MOTOS\"] = excel_bajada_operaciones[\"CANT_MOTOS\"]\n",
    "df_afectados_completado[\"CANT_CABALLOS\"] = excel_bajada_operaciones[\"CANT_CABALLOS\"]\n",
    "df_afectados_completado[\"CANT_CANES\"] = excel_bajada_operaciones[\"CANT_CANES\"]\n",
    "df_afectados_completado[\"CANT_MORPHRAPID\"] = excel_bajada_operaciones[\"CANT_MORPHRAPID\"]\n",
    "df_afectados_completado[\"CANT_LPR\"] = excel_bajada_operaciones[\"CANT_LPR\"]\n",
    "\n",
    "\n",
    "# Reemplazar \"S/D\" y \"N/C\" por \"-\"\n",
    "df_afectados_completado.replace([\"S/D\", \"N/C\"], \"-\", inplace=True)\n",
    "\n",
    "# Reemplazar los valores vacíos (NaN) por \"-\"\n",
    "df_afectados_completado.fillna(\"-\", inplace=True)\n",
    "\n",
    "\n",
    "print(df_afectados_completado.nunique())"
   ]
  },
  {
   "cell_type": "markdown",
   "metadata": {},
   "source": [
    "### CODIGO OPERATIVO"
   ]
  },
  {
   "cell_type": "code",
   "execution_count": 18,
   "metadata": {},
   "outputs": [
    {
     "name": "stdout",
     "output_type": "stream",
     "text": [
      "UID                     277\n",
      "FUERZA_INTERVINIENTE      1\n",
      "ID_PROCEDIMIENTO        277\n",
      "ID_OPERATIVO             95\n",
      "UNIDAD_INTERVINIENTE     22\n",
      "DESCRIPCIÓN              81\n",
      "TIPO_INTERVENCION         2\n",
      "CODIGO_OPERATIVO          4\n",
      "dtype: int64\n"
     ]
    },
    {
     "name": "stderr",
     "output_type": "stream",
     "text": [
      "C:\\Users\\DICA\\AppData\\Local\\Temp\\ipykernel_48224\\1120024258.py:17: FutureWarning: Setting an item of incompatible dtype is deprecated and will raise an error in a future version of pandas. Value '-' has dtype incompatible with float64, please explicitly cast to a compatible dtype first.\n",
      "  df_codigo_operativo_final.fillna(\"-\", inplace=True)\n"
     ]
    }
   ],
   "source": [
    "df_codigo_operativo_final = pd.DataFrame()\n",
    "\n",
    "df_codigo_operativo_final[\"UID\"] = excel_bajada_operaciones[\"ID_PROCEDIMIENTO\"]\n",
    "df_codigo_operativo_final[\"FUERZA_INTERVINIENTE\"] = \"PSA\"\n",
    "df_codigo_operativo_final[\"ID_PROCEDIMIENTO\"] = excel_bajada_operaciones[\"ID_PROCEDIMIENTO\"]\n",
    "df_codigo_operativo_final[\"ID_OPERATIVO\"] = excel_bajada_operaciones[\"ID_OPERATIVO\"]\n",
    "df_codigo_operativo_final[\"UNIDAD_INTERVINIENTE\"] = excel_bajada_operaciones[\"UNIDAD_INTERVINIENTE\"]\n",
    "df_codigo_operativo_final[\"DESCRIPCIÓN\"] = excel_bajada_operaciones[\"DESCRIPCIÓN\"]\n",
    "df_codigo_operativo_final[\"TIPO_INTERVENCION\"] = excel_bajada_operaciones[\"TIPO_INTERVENCION\"]\n",
    "df_codigo_operativo_final[\"CODIGO_OPERATIVO\"] = excel_bajada_operaciones[\"CODIGO_OPERATIVO\"]\n",
    "\n",
    "\n",
    "# Reemplazar \"S/D\" y \"N/C\" por \"-\"\n",
    "df_codigo_operativo_final.replace([\"S/D\", \"N/C\"], \"-\", inplace=True)\n",
    "\n",
    "# Reemplazar los valores vacíos (NaN) por \"-\"\n",
    "df_codigo_operativo_final.fillna(\"-\", inplace=True)\n",
    "\n",
    "\n",
    "print(df_codigo_operativo_final.nunique())"
   ]
  },
  {
   "cell_type": "markdown",
   "metadata": {},
   "source": [
    "# UNION DE DE DATAFRAMES "
   ]
  },
  {
   "cell_type": "markdown",
   "metadata": {},
   "source": [
    " CONCATENACION DE PROCEDIMIENTOS Y ORDEN DE SERVICIOS , TAMBIEN SE UNEN LAS "
   ]
  },
  {
   "cell_type": "code",
   "execution_count": 19,
   "metadata": {},
   "outputs": [
    {
     "name": "stdout",
     "output_type": "stream",
     "text": [
      "FUERZA_INTERVINIENTE               1\n",
      "ID_OPERATIVO                     407\n",
      "ID_PROCEDIMIENTO                 604\n",
      "UNIDAD_INTERVINIENTE              42\n",
      "DESCRIPCIÓN                       89\n",
      "TIPO_INTERVENCION                  2\n",
      "PROVINCIA                         25\n",
      "DEPARTAMENTO O PARTIDO            30\n",
      "LOCALIDAD                         20\n",
      "DIRECCION                         78\n",
      "ZONA_SEGURIDAD_FRONTERAS           1\n",
      "PASO_FRONTERIZO                    1\n",
      "LATITUD                          132\n",
      "LONGITUD                         141\n",
      "FECHA                             35\n",
      "HORA                             205\n",
      "OTRAS AGENCIAS INTERVINIENTES      3\n",
      "Observaciones - Detalles           2\n",
      "dtype: int64\n"
     ]
    }
   ],
   "source": [
    "\n",
    "df_geog_final = pd.concat ([df_procedimientos_final, df_operaciones_final]) \n",
    "\n",
    "print(df_geog_final.nunique())"
   ]
  },
  {
   "cell_type": "markdown",
   "metadata": {},
   "source": [
    "COMPLETO LA INFORMACION DE TRATA Y OTROS DELITOS DADO QUE \"TENGO\" QUE PEGAR TODA LA INFORMACION DE LA GEOG FINAL"
   ]
  },
  {
   "cell_type": "code",
   "execution_count": 20,
   "metadata": {},
   "outputs": [
    {
     "name": "stdout",
     "output_type": "stream",
     "text": [
      "OTROS TRATA FINAL\n",
      "FUERZA_INTERVINIENTE     1\n",
      "ID_OPERATIVO             2\n",
      "ID_PROCEDIMIENTO         2\n",
      "UNIDAD_INTERVINIENTE     2\n",
      "DESCRIPCIÓN              2\n",
      "TIPO_INTERVENCION        2\n",
      "TIPO_DELITO              1\n",
      "SEXO_VICTIMA             2\n",
      "GENERO_VICTIMA           2\n",
      "EDAD_VICTIMA             2\n",
      "NACIONALIDAD             1\n",
      "JUZGADO_INTERVINIENTE    2\n",
      "OBSERVACIONES            1\n",
      "dtype: int64\n",
      "\n",
      "OTROS DELITOS FINAL\n",
      "FUERZA_INTERVINIENTE      1\n",
      "ID_OPERATIVO            137\n",
      "ID_PROCEDIMIENTO        137\n",
      "UNIDAD_INTERVINIENTE     19\n",
      "DESCRIPCIÓN               5\n",
      "TIPO_INTERVENCION         1\n",
      "TIPO_OTRO_DELITO         16\n",
      "GENERO_VICTIMA            2\n",
      "EDAD_VICTIMA             55\n",
      "NACIONALIDAD             12\n",
      "OBSERVACIONES             1\n",
      "dtype: int64\n"
     ]
    }
   ],
   "source": [
    "# *TIENE QUE TRAER LA INFORMACION DE GEOG FINAL Y COMPLETAR LA INFORMACION \n",
    "df_trata_final = pd.merge(df_geog_final, df_trata_completado, on='ID_PROCEDIMIENTO', how='right')\n",
    "print(\"OTROS TRATA FINAL\")\n",
    "\n",
    "df_trata_final = df_trata_final[[\n",
    "    'FUERZA_INTERVINIENTE',\n",
    "    'ID_OPERATIVO',\n",
    "    'ID_PROCEDIMIENTO',\n",
    "    'UNIDAD_INTERVINIENTE',\n",
    "    'DESCRIPCIÓN',\n",
    "    'TIPO_INTERVENCION',\n",
    "    \"TIPO_DELITO\",\n",
    "    'SEXO_VICTIMA',\n",
    "    'GENERO_VICTIMA',\n",
    "    'EDAD_VICTIMA',\n",
    "    'NACIONALIDAD',\n",
    "    'JUZGADO_INTERVINIENTE',\n",
    "    'OBSERVACIONES'\n",
    "]]\n",
    "print(df_trata_final.nunique())\n",
    "\n",
    "df_otros_delitos_final = pd.merge(df_geog_final, df_otros_delitos_completado, on='ID_PROCEDIMIENTO', how='right')\n",
    "print(\"\\nOTROS DELITOS FINAL\")\n",
    "\n",
    "df_otros_delitos_final = df_otros_delitos_final[[\n",
    "    'FUERZA_INTERVINIENTE',\n",
    "    'ID_OPERATIVO',\n",
    "    'ID_PROCEDIMIENTO',\n",
    "    'UNIDAD_INTERVINIENTE',\n",
    "    'DESCRIPCIÓN',\n",
    "    'TIPO_INTERVENCION',\n",
    "    \"TIPO_OTRO_DELITO\",\n",
    "    'GENERO_VICTIMA',\n",
    "    'EDAD_VICTIMA',\n",
    "    'NACIONALIDAD',\n",
    "    'OBSERVACIONES'\n",
    "]]\n",
    "\n",
    "print(df_otros_delitos_final.nunique())"
   ]
  },
  {
   "cell_type": "markdown",
   "metadata": {},
   "source": [
    "COMPLETO LA INFORMACION DE TRATA Y OTROS DELITOS DADO QUE NO TENGO QUE PEGAR TODA LA INFORMACION DE LA GEOG FINAL"
   ]
  },
  {
   "cell_type": "code",
   "execution_count": 21,
   "metadata": {},
   "outputs": [
    {
     "name": "stdout",
     "output_type": "stream",
     "text": [
      "\n",
      "INCAUTADOS FINAL\n",
      "FUERZA_INTERVINIENTE      1\n",
      "ID_OPERATIVO            407\n",
      "ID_PROCEDIMIENTO        604\n",
      "UNIDAD_INTERVINIENTE     42\n",
      "DESCRIPCIÓN              89\n",
      "TIPO_INTERVENCION         2\n",
      "TIPO_INCAUTACION          5\n",
      "TIPO                     29\n",
      "SUBTIPO                   1\n",
      "CANTIDAD                 50\n",
      "MEDIDAS                   3\n",
      "AFORO                     1\n",
      "OBSERVACIONES            19\n",
      "dtype: int64\n",
      "\n",
      "DETENIDOS FINAL\n",
      "FUERZA_INTERVINIENTE       1\n",
      "ID_OPERATIVO             407\n",
      "ID_PROCEDIMIENTO         604\n",
      "UNIDAD_INTERVINIENTE      42\n",
      "DESCRIPCIÓN               89\n",
      "TIPO_INTERVENCION          2\n",
      "EDAD                      50\n",
      "SEXO                       2\n",
      "GENERO                     2\n",
      "NACIONALIDAD              15\n",
      "SITUACION_PROCESAL         5\n",
      "DELITO_IMPUTADO           15\n",
      "JUZGADO_INTERVINIENTE     64\n",
      "CARATULA_CAUSA            55\n",
      "NUM_CAUSA                157\n",
      "dtype: int64\n",
      "\n",
      "AFECTADOS FINAL\n",
      "FUERZA_INTERVINIENTE       1\n",
      "ID_OPERATIVO             407\n",
      "ID_PROCEDIMIENTO         604\n",
      "UNIDAD_INTERVINIENTE      42\n",
      "DESCRIPCIÓN               89\n",
      "TIPO_INTERVENCION          2\n",
      "CANT_EFECTIVOS            24\n",
      "CANT_AUTOS_CAMIONETAS      7\n",
      "CANT_SCANNERS              2\n",
      "CANT_EMBARCACIONES         1\n",
      "CANT_MOTOS                 1\n",
      "CANT_CABALLOS              1\n",
      "CANT_CANES                 3\n",
      "CANT_MORPHRAPID            1\n",
      "CANT_LPR                   1\n",
      "dtype: int64\n",
      "\n",
      "CONTROLADOS FINAL\n",
      "FUERZA_INTERVINIENTE               1\n",
      "ID_OPERATIVO                     407\n",
      "ID_PROCEDIMIENTO                 604\n",
      "UNIDAD_INTERVINIENTE              42\n",
      "DESCRIPCIÓN                       89\n",
      "TIPO_INTERVENCION                  2\n",
      "VEHICULOS_CONTROLADOS             20\n",
      "PERSONAS_CONTROLADAS              26\n",
      "CANT_AVERIGUACIONES_SECUESTRO      1\n",
      "CANT_SOLICITUDES_ANTECEDENTES     28\n",
      "dtype: int64\n",
      "\n",
      "CODIGO FINAL\n",
      "FUERZA_INTERVINIENTE      1\n",
      "ID_OPERATIVO            407\n",
      "ID_PROCEDIMIENTO        604\n",
      "UNIDAD_INTERVINIENTE     42\n",
      "DESCRIPCIÓN              89\n",
      "TIPO_INTERVENCION         2\n",
      "CODIGO_OPERATIVO          4\n",
      "dtype: int64\n"
     ]
    }
   ],
   "source": [
    "\n",
    "# *TIENE QUE PEGAR TODAS LAS FILAS DE  GEOG AUNQUE NO TENGA INFORMACION ES DECIR TIENE QUE SER MAYOR A LA HOJA GEO\n",
    "\n",
    "df_incautados_final= pd.merge(df_geog_final, df_incautados_completado, on='ID_PROCEDIMIENTO', how='left')\n",
    "df_incautados_final = df_incautados_final[[\n",
    "    'FUERZA_INTERVINIENTE',\n",
    "    'ID_OPERATIVO',\n",
    "    'ID_PROCEDIMIENTO',\n",
    "    'UNIDAD_INTERVINIENTE',\n",
    "    'DESCRIPCIÓN',\n",
    "    'TIPO_INTERVENCION',\n",
    "    'TIPO_INCAUTACION',\n",
    "    'TIPO',\n",
    "    'SUBTIPO',\n",
    "    'CANTIDAD',\n",
    "    'MEDIDAS',\n",
    "    \"AFORO\",\n",
    "    'OBSERVACIONES'\n",
    "]]\n",
    "\n",
    "\n",
    "print(\"\\nINCAUTADOS FINAL\")\n",
    "print(df_incautados_final.nunique())\n",
    "\n",
    "df_detenidos_aprendidos_final = pd.merge(df_geog_final, df_detenidos_aprendidos_completado, on='ID_PROCEDIMIENTO', how='left')\n",
    "\n",
    "print(\"\\nDETENIDOS FINAL\")\n",
    "df_detenidos_aprendidos_final = df_detenidos_aprendidos_final[[\n",
    "    'FUERZA_INTERVINIENTE',\n",
    "    'ID_OPERATIVO',\n",
    "    'ID_PROCEDIMIENTO',\n",
    "    'UNIDAD_INTERVINIENTE',\n",
    "    'DESCRIPCIÓN',\n",
    "    'TIPO_INTERVENCION',\n",
    "    'EDAD',\n",
    "    'SEXO',\n",
    "    'GENERO',\n",
    "    'NACIONALIDAD',\n",
    "    'SITUACION_PROCESAL',\n",
    "    \"DELITO_IMPUTADO\",\n",
    "    'JUZGADO_INTERVINIENTE',\n",
    "    'CARATULA_CAUSA',\n",
    "    \"NUM_CAUSA\"\n",
    "]]\n",
    "print(df_detenidos_aprendidos_final.nunique())\n",
    "\n",
    "\n",
    "\n",
    "\n",
    "print(\"\\nAFECTADOS FINAL\")\n",
    "df_afectados_final = pd.merge(df_geog_final, df_afectados_completado, on='ID_PROCEDIMIENTO', how='left',     suffixes=('', '_afectados')  # Evitar sufijos por defecto\n",
    " )\n",
    "df_afectados_final = df_afectados_final[[\n",
    "    'FUERZA_INTERVINIENTE',\n",
    "    'ID_OPERATIVO',\n",
    "    'ID_PROCEDIMIENTO',\n",
    "    'UNIDAD_INTERVINIENTE',\n",
    "    'DESCRIPCIÓN',\n",
    "    'TIPO_INTERVENCION',\n",
    "    'CANT_EFECTIVOS',\n",
    "    'CANT_AUTOS_CAMIONETAS',\n",
    "    'CANT_SCANNERS',\n",
    "    'CANT_EMBARCACIONES',\n",
    "    'CANT_MOTOS',\n",
    "    \"CANT_CABALLOS\",\n",
    "    'CANT_CANES',\n",
    "    'CANT_MORPHRAPID',\n",
    "    \"CANT_LPR\"\n",
    "]]\n",
    "\n",
    "print(df_afectados_final.nunique())\n",
    "\n",
    "\n",
    "\n",
    "\n",
    "\n",
    "df_controlados_final = pd.merge(df_geog_final, df_controlados_controlado, on='ID_PROCEDIMIENTO', how='left', suffixes=('', '_controlados'))\n",
    "print(\"\\nCONTROLADOS FINAL\")\n",
    "\n",
    "df_controlados_final = df_controlados_final[[\n",
    "    'FUERZA_INTERVINIENTE',\n",
    "    'ID_OPERATIVO',\n",
    "    'ID_PROCEDIMIENTO',\n",
    "    'UNIDAD_INTERVINIENTE',\n",
    "    'DESCRIPCIÓN',\n",
    "    'TIPO_INTERVENCION',\n",
    "    'VEHICULOS_CONTROLADOS',\n",
    "    'PERSONAS_CONTROLADAS',\n",
    "    \"CANT_AVERIGUACIONES_SECUESTRO\",\n",
    "    'CANT_SOLICITUDES_ANTECEDENTES',\n",
    "]]\n",
    "\n",
    "print(df_controlados_final.nunique())\n",
    "\n",
    "\n",
    "\n",
    "\n",
    "df_codigo_operativo_final = pd.merge(df_geog_final, df_codigo_operativo_final, on='ID_PROCEDIMIENTO', how='left',suffixes=('', '_codigos'))\n",
    "print(\"\\nCODIGO FINAL\")\n",
    "\n",
    "\n",
    "df_codigo_operativo_final = df_codigo_operativo_final[[\n",
    "    'FUERZA_INTERVINIENTE',\n",
    "    'ID_OPERATIVO',\n",
    "    'ID_PROCEDIMIENTO',\n",
    "    'UNIDAD_INTERVINIENTE',\n",
    "    'DESCRIPCIÓN',\n",
    "    'TIPO_INTERVENCION',\n",
    "    'CODIGO_OPERATIVO',\n",
    "]]\n",
    "print(df_codigo_operativo_final.nunique())\n",
    "\n"
   ]
  },
  {
   "cell_type": "markdown",
   "metadata": {},
   "source": [
    "# GENERACIÓN DE INFORME"
   ]
  },
  {
   "cell_type": "markdown",
   "metadata": {},
   "source": [
    " ### CREACION DE INFORME SEMANAL CON FECHA HOY"
   ]
  },
  {
   "cell_type": "code",
   "execution_count": 22,
   "metadata": {},
   "outputs": [
    {
     "name": "stdout",
     "output_type": "stream",
     "text": [
      "Archivo generado: Informe_semanal_20241210.xlsx\n"
     ]
    }
   ],
   "source": [
    "\n",
    "dataframes = {\n",
    "    'GEOG. PROCEDIMIENTO': df_geog_final.reset_index(drop=True).fillna(\"\").replace(\"\", \"-\"),\n",
    "    'VEHI. Y PERSO. CONTROLADAS': df_controlados_final.reset_index(drop=True).fillna(\"\").replace(\"\", \"-\"),\n",
    "    'PERSONAL Y ELEMENTOS AFECTADOS': df_afectados_final.reset_index(drop=True).fillna(\"\").replace(\"\", \"-\"),\n",
    "    'INCAUTACIONES': df_incautados_final.reset_index(drop=True).fillna(\"\").replace(\"\", \"-\"),\n",
    "    'DETENIDOS Y APREHENDIDOS': df_detenidos_aprendidos_final.reset_index(drop=True).fillna(\"\").replace(\"\", \"-\"),\n",
    "    'OTROS DELITOS': df_otros_delitos_final.reset_index(drop=True).fillna(\"\").replace(\"\", \"-\"),\n",
    "    'TRATA O TRAFIC PERSONAS': df_trata_final.reset_index(drop=True).fillna(\"\").replace(\"\", \"-\"),\n",
    "    'CODIGO OPERATIVO': df_codigo_operativo_final.reset_index(drop=True).fillna(\"\").replace(\"\", \"-\")\n",
    "}\n",
    "\n",
    "\n",
    "# Cargar la plantilla\n",
    "wb = load_workbook('Planilla_modelo.xlsx')\n",
    "\n",
    "# Escribir los datos\n",
    "for sheet_name, df in dataframes.items():\n",
    "    sheet = wb[sheet_name]\n",
    "    for i, row in df.iterrows():\n",
    "        for j, value in enumerate(row):\n",
    "            cell= sheet.cell(row=i+4, column=j+2, value=value) # type: ignore\n",
    "            cell.alignment = Alignment(horizontal='center')\n",
    "            \n",
    "\n",
    "for sheet in wb.worksheets:\n",
    "    sheet.conditional_formatting = []\n",
    "    sheet.auto_filter.ref = None\n",
    "    sheet.auto_filter = None\n",
    "# Guardar el archivo\n",
    "output_file = f'Informe_semanal_{datetime.now().strftime(\"%Y%m%d\")}.xlsx'\n",
    "wb.save(output_file)\n",
    "print(f\"Archivo generado: {output_file}\")\n",
    "\n",
    "\n",
    "\n"
   ]
  },
  {
   "cell_type": "markdown",
   "metadata": {},
   "source": [
    "### GUARDAR EN LA BASE DE DATOS LA INFORMACION ACTUALIZADA"
   ]
  },
  {
   "cell_type": "code",
   "execution_count": 23,
   "metadata": {},
   "outputs": [
    {
     "name": "stdout",
     "output_type": "stream",
     "text": [
      "Base de datos actualizada: db/base_informada.xlsx\n"
     ]
    }
   ],
   "source": [
    "\n",
    "\n",
    "# Verificar si el archivo de Excel existe\n",
    "if os.path.exists(PATH_BASE):\n",
    "    # Cargar el archivo de Excel existente\n",
    "    book_base = load_workbook(PATH_BASE)\n",
    "else:\n",
    "    # Crear un nuevo archivo de Excel\n",
    "    book_base = Workbook()\n",
    "\n",
    "# Iterar sobre cada hoja del archivo\n",
    "for sheet_name in wb.sheetnames:\n",
    "    sheet = wb[sheet_name]\n",
    "    \n",
    "    # Obtener el último índice de fila con datos\n",
    "    last_row = sheet.max_row\n",
    "    \n",
    "    # Concatenar la información al final de la hoja\n",
    "    for df_name, df in dataframes.items():\n",
    "        if df_name == sheet_name:\n",
    "            for index, row in df.iterrows():\n",
    "                sheet.append(list(row))\n",
    "    \n",
    "    # Guardar los cambios\n",
    "    wb.save(PATH_BASE)\n",
    "    \n",
    "    \n",
    "print(f\"Base de datos actualizada: {PATH_BASE}\")\n"
   ]
  }
 ],
 "metadata": {
  "kernelspec": {
   "display_name": ".venv",
   "language": "python",
   "name": "python3"
  },
  "language_info": {
   "codemirror_mode": {
    "name": "ipython",
    "version": 3
   },
   "file_extension": ".py",
   "mimetype": "text/x-python",
   "name": "python",
   "nbconvert_exporter": "python",
   "pygments_lexer": "ipython3",
   "version": "3.11.5"
  }
 },
 "nbformat": 4,
 "nbformat_minor": 2
}
