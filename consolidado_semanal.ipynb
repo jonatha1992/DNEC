{
 "cells": [
  {
   "cell_type": "markdown",
   "metadata": {},
   "source": [
    "# Importante \n",
    "\n",
    "* Tener en cuenta bajadas de Procedimientos, Personas Armas, Divisas , vehiculos (secuestrados, ministerio), Narcotrafico general,Objetos y pegar en la carpeta bajadas de fecha del primero del 1 del mes en informar hasta fecha del informe "
   ]
  },
  {
   "cell_type": "markdown",
   "metadata": {
    "notebookRunGroups": {
     "groupValue": "1"
    }
   },
   "source": [
    "### IMPORTACIÓN DE LIBREARIAS\n"
   ]
  },
  {
   "cell_type": "code",
   "execution_count": 1,
   "metadata": {
    "notebookRunGroups": {
     "groupValue": "1"
    }
   },
   "outputs": [],
   "source": [
    "import pandas as pd\n",
    "from  Parametros import * \n",
    "from  Funciones import * \n",
    "from openpyxl import load_workbook\n"
   ]
  },
  {
   "cell_type": "markdown",
   "metadata": {},
   "source": [
    "### ACCEDER BASE DE DATOS"
   ]
  },
  {
   "cell_type": "code",
   "execution_count": 2,
   "metadata": {},
   "outputs": [],
   "source": [
    "df_base_procedimientos = pd.read_excel(\"db/Base_procedimientos_2023_2024.xlsx\")\n",
    "df_base_operaciones = pd.read_excel(\"db/Base_operaciones_2023_2024.xlsx\")\n"
   ]
  },
  {
   "cell_type": "markdown",
   "metadata": {},
   "source": [
    "### PROCEDIMIENTOS GENERALES\n",
    "\n",
    "\n"
   ]
  },
  {
   "cell_type": "code",
   "execution_count": 3,
   "metadata": {},
   "outputs": [
    {
     "name": "stdout",
     "output_type": "stream",
     "text": [
      "Estadistica de Partes\n",
      "\n",
      "Cantidad de Partes inicial: 564\n",
      "Cantidad Duplicado: 3\n",
      "Cantidad No diponible: 34\n",
      "Cantidad de Partes final: 527\n",
      "\n",
      "Casos ya informados: 8738\n",
      "Casos nuevos para informar : 92\n"
     ]
    }
   ],
   "source": [
    "excel_bajada_procedimientos_generales = filtrar_procedimientos_generales(\"bajadas/bajada_general.xls\")\n",
    "\n",
    "df_geog = pd.DataFrame()\n",
    "df_geog['UID'] = excel_bajada_procedimientos_generales.apply(generar_uid_sigpol, axis=1)\n",
    "df_geog['ID_OPERATIVO'] = excel_bajada_procedimientos_generales.apply(procesar_causa_judicial, axis=1)\n",
    "df_geog['FUERZA_INTERVINIENTE'] = \"PSA\"\n",
    "df_geog['ID_PROCEDIMIENTO'] = df_geog['UID']\n",
    "df_geog['CAUSAJUDICIALNUMERO'] = excel_bajada_procedimientos_generales['CAUSAJUDICIALNUMERO'].copy()\n",
    "df_geog['UNIDAD_INTERVINIENTE'] = excel_bajada_procedimientos_generales['UOSP']\n",
    "df_geog['DESCRIPCIÓN'] = excel_bajada_procedimientos_generales.apply(procesar_descripcion, axis=1)\n",
    "df_geog['TIPO_INTERVENCION'] = excel_bajada_procedimientos_generales.apply(procesar_tipo_procedimiento, axis=1)\n",
    "df_geog['PROVINCIA'] = excel_bajada_procedimientos_generales.apply(procesar_provincia, axis=1)\n",
    "df_geog['DEPARTAMENTO O PARTIDO'] = excel_bajada_procedimientos_generales.apply(procesar_municipio, axis=1)\n",
    "df_geog['LOCALIDAD'] = \"-\"\n",
    "df_geog['DIRECCION'] = excel_bajada_procedimientos_generales.apply(procesar_direccion, axis=1)\n",
    "df_geog['LATITUD'] = excel_bajada_procedimientos_generales['GEOREFERENCIA_Y']\n",
    "df_geog['LONGITUD'] = excel_bajada_procedimientos_generales['GEOREFERENCIA_X']\n",
    "df_geog['FECHA'] = pd.to_datetime(excel_bajada_procedimientos_generales['DENUNCIAFECHA'], errors='coerce').dt.strftime('%d/%m/%Y')\n",
    "df_geog['HORA'] = pd.to_datetime(excel_bajada_procedimientos_generales['DENUNCIAFECHA'], errors='coerce').dt.strftime('%H:%M')\n",
    "df_geog['ZONA_SEGURIDAD_FRONTERAS'] = \"-\"\n",
    "df_geog['PASO_FRONTERIZO'] = \"-\"\n",
    "df_geog['OTRAS AGENCIAS INTERVINIENTES'] = \"-\"\n",
    "df_geog['Observaciones - Detalles'] = \"-\"\n",
    "\n",
    "df_geog = df_geog[[ \"UID\",'FUERZA_INTERVINIENTE', 'ID_OPERATIVO', 'ID_PROCEDIMIENTO',\n",
    "                                     'UNIDAD_INTERVINIENTE', 'DESCRIPCIÓN', 'TIPO_INTERVENCION',\n",
    "                                     'PROVINCIA', 'DEPARTAMENTO O PARTIDO', 'LOCALIDAD', 'DIRECCION',\n",
    "                                     'ZONA_SEGURIDAD_FRONTERAS', 'PASO_FRONTERIZO', 'LATITUD', 'LONGITUD',\n",
    "                                     'FECHA', 'HORA', 'OTRAS AGENCIAS INTERVINIENTES', 'Observaciones - Detalles']]\n",
    "\n",
    "\n",
    "df_geog_final = df_geog[~df_geog['UID'].isin(set(df_base_procedimientos['UID']))]\n",
    "print(f\"\\nCasos ya informados: {len(df_base_procedimientos)}\")\n",
    "print(f\"Casos nuevos para informar : {len(df_geog_final)}\")\n"
   ]
  },
  {
   "cell_type": "markdown",
   "metadata": {},
   "source": [
    "### HOJA PERSONAS"
   ]
  },
  {
   "cell_type": "code",
   "execution_count": 4,
   "metadata": {},
   "outputs": [
    {
     "name": "stdout",
     "output_type": "stream",
     "text": [
      "Total de registros cargados: 562\n",
      "Cantidad de registros con UID coincidente: 94\n",
      "Total de registros después del procesamiento de columnas específicas: 94\n",
      "Cantidad tras exclusión de 'NO INFORMAR': 85\n",
      "Total de registros después de la fusión con df_geog_final: 96\n",
      "Total de registros después de seleccionar y reordenar columnas: 96\n"
     ]
    }
   ],
   "source": [
    "\n",
    "# Paso 1: Cargar datos iniciales\n",
    "excel_bajada_personas = pd.read_excel(\"bajadas/bajada_general_persona.xls\")\n",
    "print(f\"Total de registros cargados: {len(excel_bajada_personas)}\")\n",
    "\n",
    "# Paso 2: Generar UID\n",
    "\n",
    "excel_bajada_personas['TIPO_CAUSA_INTERNA'] = excel_bajada_personas.apply( procesar_tipo_causa_interna, axis=1)\n",
    "excel_bajada_personas['UID'] = excel_bajada_personas.apply(generar_uid_sigpol, axis=1)\n",
    "\n",
    "# Paso 3: Coincidencia de UID entre excel_bajada_personas y df_geog_final\n",
    "uid_coincidentes = excel_bajada_personas[excel_bajada_personas['UID'].isin(df_geog_final['UID'])]\n",
    "print(f\"Cantidad de registros con UID coincidente: {len(uid_coincidentes)}\")\n",
    "\n",
    "# Crear DataFrame de detenidos y aprendidos\n",
    "df_detenidos_aprendidos = pd.DataFrame()\n",
    "df_detenidos_aprendidos['UID'] = uid_coincidentes['UID']\n",
    "df_detenidos_aprendidos['EDAD'] = uid_coincidentes.apply(procesar_edad, axis=1)\n",
    "df_detenidos_aprendidos['SEXO'] = uid_coincidentes.apply(procesar_sexo, axis=1)\n",
    "df_detenidos_aprendidos['GENERO'] = uid_coincidentes.apply(procesar_genero, axis=1)\n",
    "df_detenidos_aprendidos['NACIONALIDAD'] = uid_coincidentes.apply(procesar_nacionalidad, axis=1)\n",
    "df_detenidos_aprendidos['SITUACION_PROCESAL'] = uid_coincidentes.apply(procesar_situacion_judicial, axis=1)\n",
    "df_detenidos_aprendidos['DELITO_IMPUTADO'] = uid_coincidentes.apply(procesar_tipo_delito, axis=1)\n",
    "df_detenidos_aprendidos['JUZGADO_INTERVINIENTE'] = uid_coincidentes.apply(procesar_juzgado, axis=1)\n",
    "df_detenidos_aprendidos['CARATULA_CAUSA'] = uid_coincidentes.apply(procesar_caratula, axis=1)\n",
    "\n",
    "print(f\"Total de registros después del procesamiento de columnas específicas: {len(df_detenidos_aprendidos)}\")\n",
    "\n",
    "# Paso 4: Filtrar SITUACION_PROCESAL 'NO INFORMAR'\n",
    "df_detenidos_aprendidos = df_detenidos_aprendidos[df_detenidos_aprendidos['SITUACION_PROCESAL'] != 'NO INFORMAR']\n",
    "print(f\"Cantidad tras exclusión de 'NO INFORMAR': {len(df_detenidos_aprendidos)}\")\n",
    "\n",
    "# Paso 5: Fusionar df_geog_final y df_detenidos_aprendidos en base al UID\n",
    "df_detenidos_aprendidos = pd.merge(df_geog_final, df_detenidos_aprendidos, on='UID', how='left')\n",
    "print(f\"Total de registros después de la fusión con df_geog_final: {len(df_detenidos_aprendidos)}\")\n",
    "\n",
    "# Paso 6: Relleno de valores vacíos con '-'\n",
    "df_detenidos_aprendidos = df_detenidos_aprendidos.apply(lambda x: x.fillna('-') if x.dtype == 'object' else x)\n",
    "\n",
    "\n",
    "# Paso 7: Selección y reordenamiento de columnas\n",
    "df_detenidos_aprendidos = df_detenidos_aprendidos[[\n",
    "    \"UID\",\n",
    "    'FUERZA_INTERVINIENTE',\n",
    "    'ID_OPERATIVO',\n",
    "    'ID_PROCEDIMIENTO',\n",
    "    'UNIDAD_INTERVINIENTE',\n",
    "    'DESCRIPCIÓN',\n",
    "    'TIPO_INTERVENCION',\n",
    "    'EDAD',\n",
    "    'SEXO',\n",
    "    'GENERO',\n",
    "    'NACIONALIDAD',\n",
    "    'SITUACION_PROCESAL',\n",
    "    \"DELITO_IMPUTADO\",\n",
    "    'JUZGADO_INTERVINIENTE',\n",
    "    'CARATULA_CAUSA'\n",
    "]]\n",
    "\n",
    "print(f\"Total de registros después de seleccionar y reordenar columnas: {len(df_detenidos_aprendidos)}\")\n"
   ]
  },
  {
   "cell_type": "markdown",
   "metadata": {},
   "source": [
    "### HOJA OTROS DELITOS"
   ]
  },
  {
   "cell_type": "code",
   "execution_count": 5,
   "metadata": {},
   "outputs": [],
   "source": [
    "# Crear un nuevo dataframe para otro delitos\n",
    "df_otros_delitos = df_detenidos_aprendidos[df_detenidos_aprendidos['SITUACION_PROCESAL'] == 'VICTIMA']\n",
    "# Filtro los que son victima de detenidos y aprendidos\n",
    "df_detenidos_aprendidos_final = df_detenidos_aprendidos[df_detenidos_aprendidos['SITUACION_PROCESAL'] != 'VICTIMA']\n",
    "\n",
    "# Cambiar el nombre de algunas columnas en el DataFrame de víctimas\n",
    "df_otros_delitos = df_otros_delitos.rename(columns={\n",
    "    'DELITO_IMPUTADO': 'TIPO_OTRO_DELITO',\n",
    "    'GENERO': 'GENERO_VICTIMA',\n",
    "    'EDAD': 'EDAD_VICTIMA',\n",
    "}) # type: ignore\n",
    "\n",
    "df_otros_delitos[\"OBSERVACIONES\"] =\"-\"\n",
    "# Seleccionar las columnas deseadas en el DataFrame de víctimas\n",
    "df_otros_delitos_final = df_otros_delitos[[\n",
    "    \"UID\",\n",
    "    'FUERZA_INTERVINIENTE',\n",
    "    'ID_OPERATIVO',\n",
    "    'ID_PROCEDIMIENTO',\n",
    "    'UNIDAD_INTERVINIENTE',\n",
    "    'DESCRIPCIÓN',\n",
    "    'TIPO_INTERVENCION',\n",
    "    \"TIPO_OTRO_DELITO\",\n",
    "    'GENERO_VICTIMA',\n",
    "    'EDAD_VICTIMA',\n",
    "    'NACIONALIDAD',\n",
    "    'OBSERVACIONES'\n",
    "]]\n",
    "\n",
    "\n"
   ]
  },
  {
   "cell_type": "code",
   "execution_count": 6,
   "metadata": {},
   "outputs": [
    {
     "name": "stdout",
     "output_type": "stream",
     "text": [
      "Cantidad de registros en geog: 92\n",
      "Cantidad de registros en detenidos_aprendidos: 51\n",
      "Cantidad de registros en otros_delitos: 45\n"
     ]
    }
   ],
   "source": [
    "# Imprimir la cantidad de registros en el DataFrame de otros delitos para verificar\n",
    "print(f\"Cantidad de registros en geog: {len(df_geog_final)}\")\n",
    "print(f\"Cantidad de registros en detenidos_aprendidos: {len(df_detenidos_aprendidos_final)}\")\n",
    "print(f\"Cantidad de registros en otros_delitos: {len(df_otros_delitos_final)}\")\n"
   ]
  },
  {
   "cell_type": "markdown",
   "metadata": {},
   "source": [
    "### INCAUTACIONES ARMA"
   ]
  },
  {
   "cell_type": "code",
   "execution_count": null,
   "metadata": {},
   "outputs": [
    {
     "name": "stdout",
     "output_type": "stream",
     "text": [
      "Total de registros cargados: 38\n",
      "Cantidad de registros con UID coincidente: 10\n",
      "nan\n",
      "nan\n",
      "CALIBRE: .22\n",
      "HAFDASA\n",
      "HAFDASA\n",
      "MARCA: HAFDASA - CALIBRE: .22\n",
      "BERSA\n",
      "BERSA\n",
      "MARCA: BERSA - CALIBRE: .22\n",
      "nan\n",
      "nan\n",
      "CALIBRE: .38\n",
      "\n",
      "\n",
      "MARCA:  - CALIBRE: .38\n",
      "\n",
      "\n",
      "MARCA:  - CALIBRE: .22\n",
      "GLOCK\n",
      "GLOCK\n",
      "MARCA: GLOCK - CALIBRE: 9MM\n",
      "nan\n",
      "nan\n",
      "CALIBRE: 9MM\n",
      "SMITH & WESSON\n",
      "SMITH & WESSON\n",
      "MARCA: SMITH & WESSON - CALIBRE: .32\n",
      "SIN DETERMINAR\n",
      "SIN DETERMINAR\n",
      "MARCA: SIN DETERMINAR - CALIBRE: OTRO CALIBRE\n",
      "                 UID TIPO_INCAUTACION        TIPO SUB_TIPO  CANTIDAD  \\\n",
      "28  AJ-4626-UC5-2024            ARMAS  MUNICIONES        -       9.0   \n",
      "29  AJ-4635-UC5-2024            ARMAS     PISTOLA        -       1.0   \n",
      "30  AJ-4635-UC5-2024            ARMAS     PISTOLA        -       1.0   \n",
      "31  AJ-4635-UC5-2024            ARMAS    REVÓLVER        -       1.0   \n",
      "32  AJ-4635-UC5-2024            ARMAS  MUNICIONES        -       6.0   \n",
      "33  AJ-4635-UC5-2024            ARMAS  MUNICIONES        -      13.0   \n",
      "34  PS-4693-USU-2024            ARMAS     PISTOLA        -       1.0   \n",
      "35  PS-4693-USU-2024            ARMAS  MUNICIONES        -      50.0   \n",
      "36  PS-4700-AER-2024            ARMAS    REVÓLVER        -       1.0   \n",
      "37  PS-4706-EZE-2024            ARMAS    PISTOLÓN        -       1.0   \n",
      "\n",
      "     MEDIDAS AFORO                                  OBSERVACIONES  \n",
      "28  UNIDADES     -                                   CALIBRE: .22  \n",
      "29  UNIDADES     -                  MARCA: HAFDASA - CALIBRE: .22  \n",
      "30  UNIDADES     -                    MARCA: BERSA - CALIBRE: .22  \n",
      "31  UNIDADES     -                                   CALIBRE: .38  \n",
      "32  UNIDADES     -                         MARCA:  - CALIBRE: .38  \n",
      "33  UNIDADES     -                         MARCA:  - CALIBRE: .22  \n",
      "34  UNIDADES     -                    MARCA: GLOCK - CALIBRE: 9MM  \n",
      "35  UNIDADES     -                                   CALIBRE: 9MM  \n",
      "36  UNIDADES     -           MARCA: SMITH & WESSON - CALIBRE: .32  \n",
      "37  UNIDADES     -  MARCA: SIN DETERMINAR - CALIBRE: OTRO CALIBRE  \n",
      "0             BERSA\n",
      "1               NaN\n",
      "2            MAHELY\n",
      "3            ARMUSA\n",
      "4               CBC\n",
      "5        RUBI EXTRA\n",
      "6         BATAAM 17\n",
      "7               NaN\n",
      "8    STOPPING POWER\n",
      "9               NaN\n",
      "Name: MARCA, dtype: object\n"
     ]
    }
   ],
   "source": [
    "# Paso 1: Cargar datos iniciales\n",
    "excel_bajada_arma = pd.read_excel(\"bajadas/bajada_arma.xls\")\n",
    "print(f\"Total de registros cargados: {len(excel_bajada_arma)}\")\n",
    "\n",
    "# Paso 2: Generar UID\n",
    "\n",
    "excel_bajada_arma['TIPO_CAUSA_INTERNA'] = excel_bajada_arma.apply( procesar_tipo_causa_interna, axis=1)\n",
    "excel_bajada_arma['UID'] = excel_bajada_arma.apply(generar_uid_sigpol, axis=1)\n",
    "\n",
    "\n",
    "# Crear DataFrame de arma\n",
    "df_arma = pd.DataFrame()\n",
    "df_arma['UID'] = excel_bajada_arma['UID']\n",
    "df_arma['TIPO_INCAUTACION'] = \"ARMAS\"\n",
    "df_arma['TIPO'] = excel_bajada_arma['TIPO_ARMA']\n",
    "df_arma['SUB_TIPO'] = \"-\"\n",
    "df_arma['CANTIDAD'] = excel_bajada_arma.apply(procesar_cantidad_arma, axis=1)\n",
    "df_arma['MEDIDAS'] = \"UNIDADES\"\n",
    "df_arma['AFORO'] = \"-\"\n",
    "df_arma['OBSERVACIONES'] = excel_bajada_arma.apply(procesar_observaciones_arma, axis=1)\n",
    "\n",
    "# Paso 3: Coincidencia de UID entre excel_bajada_arma y df_geog_final\n",
    "df_arma_final = excel_bajada_arma[excel_bajada_arma['UID'].isin(df_geog_final['UID'])]\n",
    "print(f\"Cantidad de registros con UID coincidente: {len(uid_coincidentes)}\")\n",
    "\n",
    "\n"
   ]
  },
  {
   "cell_type": "markdown",
   "metadata": {},
   "source": [
    "### INCAUTACIONES DIVISA"
   ]
  },
  {
   "cell_type": "code",
   "execution_count": null,
   "metadata": {},
   "outputs": [
    {
     "name": "stdout",
     "output_type": "stream",
     "text": [
      "Total de registros cargados: 85\n",
      "                UID TIPO_INCAUTACION                  TIPO SUB_TIPO  CANTIDAD  \\\n",
      "0  AJ-4201-EZE-2024          DIVISAS  DÓLAR ESTADOUNIDENSE        -        10   \n",
      "1  AJ-4201-EZE-2024          DIVISAS                 EURO         -      2087   \n",
      "2  AJ-4201-EZE-2024          DIVISAS        PESO ARGENTINO        -     56904   \n",
      "3  AJ-4201-EZE-2024          DIVISAS                  REAL        -        39   \n",
      "4  AJ-4267-UC1-2024          DIVISAS  DÓLAR ESTADOUNIDENSE        -      1474   \n",
      "\n",
      "  MEDIDAS AFORO OBSERVACIONES  \n",
      "0       -     -             -  \n",
      "1       -     -             -  \n",
      "2       -     -             -  \n",
      "3       -     -             -  \n",
      "4       -     -             -  \n",
      "Cantidad de registros con UID coincidente: 10\n"
     ]
    }
   ],
   "source": [
    "# Paso 1: Cargar datos iniciales\n",
    "excel_bajada_divisa = pd.read_excel(\"bajadas/bajada_divisas_secuestradas.xls\")\n",
    "print(f\"Total de registros cargados: {len(excel_bajada_divisa)}\")\n",
    "\n",
    "excel_bajada_procedimientos_generales['PARTE_ANIO'] = excel_bajada_procedimientos_generales['NUMERO_PARTE'].astype(str) + \"/\" + excel_bajada_procedimientos_generales['ANIO_PARTE'].astype(str)\n",
    "excel_bajada_divisa['PARTE_ANIO'] = excel_bajada_divisa['NUMERO_PARTE'].astype(str) + \"/\" + excel_bajada_divisa['ANIO_PARTE'].astype(str)\n",
    "\n",
    "# Hacer el merge para traer la columna TIPO_CAUSA_INTERNA a excel_bajada_divisa\n",
    "excel_bajada_divisa = pd.merge(excel_bajada_divisa, \n",
    "                               excel_bajada_procedimientos_generales[['PARTE_ANIO', 'TIPO_CAUSA_INTERNA']], \n",
    "                               on='PARTE_ANIO', \n",
    "                               how='left')\n",
    "\n",
    "excel_bajada_divisa['UID'] = excel_bajada_divisa.apply(generar_uid_sigpol, axis=1)\n",
    "\n",
    "\n",
    "# Agrupar por 'UID' (y 'TIPO' si se necesita) para sumar las cantidades\n",
    "cantidad_por_uid = excel_bajada_divisa.groupby(['UID', 'TIPO_DIVISA'], as_index=False)['TOTAL_DIVISAS_SECUESTRADAS'].sum()\n",
    "\n",
    "# Paso 2: Crear df_divisa con las cantidades sumadas\n",
    "df_divisa = pd.DataFrame()\n",
    "df_divisa['UID'] = cantidad_por_uid['UID']\n",
    "df_divisa['TIPO_INCAUTACION'] = \"DIVISAS\"\n",
    "df_divisa['TIPO'] = cantidad_por_uid['TIPO_DIVISA']\n",
    "df_divisa['SUB_TIPO'] = \"-\"\n",
    "df_divisa['CANTIDAD'] = cantidad_por_uid['TOTAL_DIVISAS_SECUESTRADAS']\n",
    "df_divisa['MEDIDAS'] = \"-\"\n",
    "df_divisa['AFORO'] = \"-\"\n",
    "df_divisa['OBSERVACIONES'] = \"-\"\n",
    "\n",
    "# Mostrar el resultado final\n",
    "print(df_divisa.head())\n",
    "\n",
    "\n",
    "df_divisa_final = df_divisa[df_divisa['UID'].isin(df_geog_final['UID'])]\n",
    "print(f\"Cantidad de registros con UID coincidente: {len(uid_coincidentes)}\")"
   ]
  },
  {
   "cell_type": "markdown",
   "metadata": {},
   "source": [
    "### INCAUTACIONES OBJETOS"
   ]
  },
  {
   "cell_type": "code",
   "execution_count": null,
   "metadata": {},
   "outputs": [
    {
     "name": "stdout",
     "output_type": "stream",
     "text": [
      "Total de registros cargados: 285\n",
      "                UID TIPO_INCAUTACION                        TIPO SUB_TIPO  \\\n",
      "0  PS-4150-EZE-2024       MERCADERIA  COMUNICACIONES - CELULARES        -   \n",
      "1  PS-4158-COR-2024       MERCADERIA                 OTRO - ROBO        -   \n",
      "2  PS-4160-NEU-2024       MERCADERIA         OTRO - NARCOTRAFICO        -   \n",
      "3  PS-4161-COR-2024       MERCADERIA       PERSONALES - PERFUMES        -   \n",
      "4  PS-4161-COR-2024       MERCADERIA   PERSONALES - INDUMENTARIA        -   \n",
      "\n",
      "   CANTIDAD MEDIDAS AFORO OBSERVACIONES  \n",
      "0       1.0       -     -             -  \n",
      "1       1.0       -     -             -  \n",
      "2       1.0       -     -             -  \n",
      "3       1.0       -     -             -  \n",
      "4       1.0       -     -             -  \n",
      "Cantidad de registros con UID coincidente: 0\n"
     ]
    }
   ],
   "source": [
    "# Paso 1: Cargar datos iniciales\n",
    "excel_bajada_objetos = pd.read_excel(\"bajadas/bajada_objetos.xls\")\n",
    "print(f\"Total de registros cargados: {len(excel_bajada_objetos)}\")\n",
    "\n",
    "excel_bajada_objetos['TIPO_CAUSA_INTERNA'] = excel_bajada_objetos.apply( procesar_tipo_causa_interna, axis=1)\n",
    "excel_bajada_objetos['UID'] = excel_bajada_objetos.apply(generar_uid_sigpol, axis=1)\n",
    "\n",
    "\n",
    "\n",
    "# Paso 2: Crear df_divisa con las cantidades sumadas\n",
    "df_objetos = pd.DataFrame()\n",
    "df_objetos['UID'] = excel_bajada_objetos['UID']\n",
    "df_objetos['TIPO_INCAUTACION'] = \"MERCADERIA\"\n",
    "df_objetos['TIPO'] = excel_bajada_objetos.apply(clasificar_tipo_objeto, axis=1)\n",
    "df_objetos['SUB_TIPO'] = \"-\"\n",
    "df_objetos['CANTIDAD'] = excel_bajada_objetos['CANTIDAD']\n",
    "df_objetos['MEDIDAS'] = \"-\"\n",
    "df_objetos['AFORO'] = \"-\"\n",
    "df_objetos['OBSERVACIONES'] = \"-\"\n",
    "\n",
    "# Mostrar el resultado final\n",
    "print(df_objetos.head())\n",
    "\n",
    "\n",
    "df_objetos_final = df_objetos[df_objetos['UID'].isin(df_geog_final['UID'])]\n",
    "print(f\"Cantidad de registros con UID coincidente: {len(uid_coincidentes)}\")"
   ]
  },
  {
   "cell_type": "markdown",
   "metadata": {},
   "source": [
    "### INCAUTACIONES NARCOTRAFICO"
   ]
  },
  {
   "cell_type": "code",
   "execution_count": null,
   "metadata": {},
   "outputs": [],
   "source": [
    "\n"
   ]
  },
  {
   "cell_type": "markdown",
   "metadata": {},
   "source": [
    "# OPERACIONES"
   ]
  },
  {
   "cell_type": "markdown",
   "metadata": {},
   "source": [
    "### ORDEN DE SERVICIOS"
   ]
  },
  {
   "cell_type": "code",
   "execution_count": null,
   "metadata": {},
   "outputs": [],
   "source": [
    "excel_bajada_operaciones = load_workbook(\"bajadas/operaciones.xlsx\")\n",
    "hoja_geog = excel_bajada_operaciones['GEOG. PROCEDIMIENTO']\n",
    "\n",
    "df_operaciones = leer_excel_a_df(hoja_geog)\n",
    "df_operaciones = df_operaciones.dropna(subset=['ID_PROCEDIMIENTO'], how='any')\n",
    "df_operaciones[\"ID_PROCEDIMIENTO\"] = df_operaciones[\"ID_PROCEDIMIENTO\"].apply(colocar_guion_espacio)\n",
    "df_operaciones[\"ID_OPERATIVO\"] = df_operaciones[\"ID_PROCEDIMIENTO\"].apply(formatear_contador)\n",
    "df_operaciones[\"UID\"] = df_operaciones.apply(generar_uid_operaciones , axis=1)\n",
    "df_operaciones['FECHA'] = pd.to_datetime(df_operaciones['FECHA'], errors='coerce')\n",
    "\n",
    "df_operaciones = df_operaciones[[ \"UID\",'FUERZA_INTERVINIENTE', 'ID_OPERATIVO', 'ID_PROCEDIMIENTO',\n",
    "                                     'UNIDAD_INTERVINIENTE', 'DESCRIPCIÓN', 'TIPO_INTERVENCION',\n",
    "                                     'PROVINCIA', 'DEPARTAMENTO O PARTIDO', 'LOCALIDAD', 'DIRECCION',\n",
    "                                     'ZONA_SEGURIDAD_FRONTERAS', 'PASO_FRONTERIZO', 'LATITUD', 'LONGITUD',\n",
    "                                     'FECHA', 'HORA', 'OTRAS AGENCIAS INTERVINIENTES', 'Observaciones - Detalles']]\n",
    "\n",
    "\n",
    "print(f\"Cantidad de registros en df_otros_delitos: {len(df_operaciones)}\")\n",
    "\n",
    "# # Aplicar la función para identificar las filas que son diferentes\n",
    "\n",
    "# df_operaciones = colocar_contador(df_operaciones , df_base_operaciones)\n",
    "\n",
    "\n"
   ]
  },
  {
   "cell_type": "markdown",
   "metadata": {},
   "source": [
    "### GENERACIÓN DE INFORME"
   ]
  },
  {
   "cell_type": "code",
   "execution_count": null,
   "metadata": {},
   "outputs": [],
   "source": [
    "\n",
    "# Cargar la plantilla de Excel\n",
    "wb = load_workbook('Planilla_modelo.xlsx')\n",
    "hoja_geog= wb['GEOG. PROCEDIMIENTO']\n",
    "hoja_vehiculo = wb['VEHI. Y PERSO. CONTROLADAS']\n",
    "hoja_personal= wb['PERSONAL Y ELEMENTOS AFECTADOS']\n",
    "hoja_detenidos= wb['DETENIDOS Y APRENDIDOS']\n",
    "hoja_incautaciones = wb['INCAUTACIONES']\n",
    "hoja_trata= wb['TRATA O TRAFIC PERSONAS']\n",
    "hoja_otros_delitos= wb['OTROS DELITOS']\n",
    "hoja_otros_eventos= wb['OTROS EVENTOS']\n",
    "hoja_fallecidos= wb['FALLECIDOS']\n",
    "hoja_abatidos= wb['ABATIDOS']\n",
    "\n",
    "\n",
    "# Cargar la plantilla de Excel\n",
    "wb = load_workbook('Planilla_modelo.xlsx')\n",
    "\n",
    "# Escribir el DataFrame en la hoja de trabajo\n",
    "df_geog_final.to_excel(hoja_geog, header=False, index=False, startrow=3)\n",
    "\n",
    "# Guardar la planilla modelo con los datos llenados\n",
    "wb.save(f'Informe_semanal_{datetime.now().strftime(\"%Y%m%d\")}.xlsx')\n",
    "\n",
    "\n"
   ]
  }
 ],
 "metadata": {
  "kernelspec": {
   "display_name": ".venv",
   "language": "python",
   "name": "python3"
  },
  "language_info": {
   "codemirror_mode": {
    "name": "ipython",
    "version": 3
   },
   "file_extension": ".py",
   "mimetype": "text/x-python",
   "name": "python",
   "nbconvert_exporter": "python",
   "pygments_lexer": "ipython3",
   "version": "3.11.5"
  }
 },
 "nbformat": 4,
 "nbformat_minor": 2
}
