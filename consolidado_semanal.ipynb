{
 "cells": [
  {
   "cell_type": "markdown",
   "metadata": {},
   "source": [
    "# LIBRERIAS \n",
    "\n",
    "* Tener en cuenta bajadas de Procedimientos, Personas Armas, Divisas , vehiculos (secuestrados, ministerio), Narcotrafico general,Objetos y pegar en la carpeta bajadas de fecha del primero del 1 del mes en informar hasta fecha del informe "
   ]
  },
  {
   "cell_type": "markdown",
   "metadata": {
    "notebookRunGroups": {
     "groupValue": "1"
    }
   },
   "source": [
    "### IMPORTACIÓN DE LIBREARIAS\n"
   ]
  },
  {
   "cell_type": "code",
   "execution_count": 1,
   "metadata": {
    "notebookRunGroups": {
     "groupValue": "1"
    }
   },
   "outputs": [],
   "source": [
    "import pandas as pd\n",
    "from  Parametros import * \n",
    "from  Funciones import * \n",
    "from openpyxl import load_workbook , Workbook\n",
    "import os\n",
    "from datetime import datetime\n",
    "from openpyxl.styles import Alignment\n"
   ]
  },
  {
   "cell_type": "markdown",
   "metadata": {},
   "source": [
    "### RUTAS"
   ]
  },
  {
   "cell_type": "code",
   "execution_count": 2,
   "metadata": {},
   "outputs": [
    {
     "name": "stdout",
     "output_type": "stream",
     "text": [
      "Archivo encontrado: bajadas\\bajada_general_procedimientos.xls\n",
      "Archivo encontrado: bajadas\\bajada_arma.xls\n",
      "Archivo encontrado: bajadas\\bajada_divisas_secuestradas.xls\n",
      "Archivo encontrado: bajadas\\bajada_general_narcotrafico.xls\n",
      "Archivo encontrado: bajadas\\bajada_objetos.xls\n",
      "Archivo encontrado: bajadas\\bajada_general_persona.xls\n",
      "Archivo encontrado: bajadas\\bajada_vehiculos_secuestrados.xls\n",
      "Archivo encontrado: bajadas\\PLANILLA DE CARGA OPERACIONES.xlsx\n",
      "Archivo encontrado: bajadas\\bajada_trata.xls\n"
     ]
    }
   ],
   "source": [
    "PATH_BASE = 'db/base_informada.xlsx'\n",
    "TEMPLATE_PATH = 'models/Planilla_modelo.xlsx'\n",
    "PATH_PROCEDIMIENTOS = obtener_ruta_bajada('procedimiento')\n",
    "PATH_ARMAS = obtener_ruta_bajada('arma')\n",
    "PATH_DIVISAS = obtener_ruta_bajada('divisa')\n",
    "PATH_NARCOTRAFICO =  obtener_ruta_bajada('narcotrafico')\n",
    "PATH_OBJETOS =  obtener_ruta_bajada('objetos')\n",
    "PATH_PERSONAS =  obtener_ruta_bajada('persona')\n",
    "PATH_VEHICULOS =  obtener_ruta_bajada('vehiculo')\n",
    "PATH_OPERACIONES =  obtener_ruta_bajada('OPER')\n",
    "PATH_TRATA =  obtener_ruta_bajada('trata')\n",
    "\n",
    "\n"
   ]
  },
  {
   "cell_type": "markdown",
   "metadata": {},
   "source": [
    "### PARAMETROS\n"
   ]
  },
  {
   "cell_type": "code",
   "execution_count": 3,
   "metadata": {},
   "outputs": [],
   "source": [
    "\n",
    "FECHA_MINIMA = '2024-01-01'\n",
    "FECHA_MAYOR = '2024-01-01'\n",
    "VERIFICAR_CON_BASE = True\n",
    "CONTADOR={\n",
    "    \"OPERATIVOS_INFORMADOS\":0,\n",
    "    \"PROCEDIMIENTOS_INFORMADOS\":0,\n",
    "    'PROCEDIMIENTOS_NUEVOS': 0,\n",
    "    'ORDEN_SERVICIOS_NUEVOS': 0,\n",
    "    'BAJADA_ORDEN_SERVICIOS': 0,\n",
    "    'BAJADA_PROCEDIMIENTOS': 0,\n",
    "    'BAJADA_ARMAS': 0,\n",
    "    'BAJADA_DIVISAS': 0,\n",
    "    'BAJADA_NARCOTRAFICO': 0,\n",
    "    'BAJADA_OBJETOS': 0,\n",
    "    'BAJADA_PERSONAS': 0,\n",
    "    'BAJADA_VEHICULOS': 0,\n",
    "    'BAJADA_TRATA': 0,\n",
    "    'GEOG_FINAL': 0,\n",
    "    'VICTIMAS_FINAL': 0,\n",
    "    'DETENIDOS_FINAL': 0,\n",
    "    'ARMAS_FINAL': 0,\n",
    "    'DIVISAS_FINAL': 0,\n",
    "    'NARCOTRAFICO_FINAL': 0,\n",
    "    'OBJETOS_FINAL': 0,\n",
    "    'VEHICULOS_FINAL': 0,\n",
    "    'TRATA_FINAL': 0,\n",
    "}\n"
   ]
  },
  {
   "cell_type": "markdown",
   "metadata": {},
   "source": [
    "### ACCEDER BASE DE DATOS"
   ]
  },
  {
   "cell_type": "code",
   "execution_count": 4,
   "metadata": {},
   "outputs": [
    {
     "name": "stdout",
     "output_type": "stream",
     "text": [
      "\n",
      "Valores únicos por columna:\n",
      "FUERZA_INTERVINIENTE               1\n",
      "ID_OPERATIVO                     130\n",
      "ID_PROCEDIMIENTO                 323\n",
      "UNIDAD_INTERVINIENTE              32\n",
      "DESCRIPCIÓN                       43\n",
      "TIPO_INTERVENCION                  2\n",
      "PROVINCIA                         21\n",
      "DEPARTAMENTO O PARTIDO            26\n",
      "LOCALIDAD                          9\n",
      "DIRECCION                         43\n",
      "ZONA_SEGURIDAD_FRONTERAS           1\n",
      "PASO_FRONTERIZO                    1\n",
      "LATITUD                           61\n",
      "LONGITUD                          60\n",
      "FECHA                              7\n",
      "HORA                              92\n",
      "OTRAS AGENCIAS INTERVINIENTES      2\n",
      "Observaciones - Detalles           2\n",
      "dtype: int64\n",
      "MENOR FECHA DE BASE DATOS: 2024-12-04 00:00:00\n",
      "MAYOR FECHA DE BASE DATOS: 2024-12-10 00:00:00\n"
     ]
    }
   ],
   "source": [
    "try:\n",
    "    # Intentar leer el archivo\n",
    "    book_base_geo = pd.read_excel(\n",
    "        PATH_BASE,\n",
    "        sheet_name=\"GEOG. PROCEDIMIENTO\",  # Hoja como cadena, no como lista\n",
    "    )\n",
    "    \n",
    "    print(\"\\nValores únicos por columna:\")\n",
    "    print(book_base_geo.nunique())  \n",
    "    \n",
    "    CONTADOR['OPERATIVOS_INFORMADOS'] = book_base_geo['ID_OPERATIVO'].nunique()\n",
    "    CONTADOR['PROCEDIMIENTOS_INFORMADOS'] = book_base_geo['ID_PROCEDIMIENTO'].nunique()\n",
    "    \n",
    "    print(f\"MENOR FECHA DE BASE DATOS: {book_base_geo['FECHA'].min()}\")\n",
    "    print(f\"MAYOR FECHA DE BASE DATOS: {book_base_geo['FECHA'].max()}\")\n",
    "except FileNotFoundError:\n",
    "    # Manejar el error de archivo no encontrado\n",
    "    print(\"El archivo 'base_informada.xlsx' no fue encontrado en la ruta 'db/'. Verifica su existencia.\")\n",
    "    book_base_geo = pd.DataFrame()\n",
    "    "
   ]
  },
  {
   "cell_type": "markdown",
   "metadata": {},
   "source": [
    "# SIGIPOL\n"
   ]
  },
  {
   "cell_type": "markdown",
   "metadata": {},
   "source": [
    "### PROCEDIMIENTOS GENERALES\n",
    "\n",
    "\n"
   ]
  },
  {
   "cell_type": "code",
   "execution_count": 5,
   "metadata": {},
   "outputs": [
    {
     "name": "stdout",
     "output_type": "stream",
     "text": [
      "Estadistica de Partes\n",
      "\n",
      "Total de Partes: 87\n",
      "Cantidad Duplicado: 0\n",
      "Cantidad No diponible: 2\n",
      "Cantidad de Partes final: 87\n",
      "FUERZA_INTERVINIENTE              1\n",
      "ID_OPERATIVO                     79\n",
      "ID_PROCEDIMIENTO                 87\n",
      "UNIDAD_INTERVINIENTE             24\n",
      "DESCRIPCIÓN                       7\n",
      "TIPO_INTERVENCION                 2\n",
      "PROVINCIA                        19\n",
      "DEPARTAMENTO O PARTIDO           18\n",
      "LOCALIDAD                         1\n",
      "DIRECCION                        17\n",
      "ZONA_SEGURIDAD_FRONTERAS          1\n",
      "PASO_FRONTERIZO                   1\n",
      "LATITUD                          42\n",
      "LONGITUD                         41\n",
      "FECHA                             7\n",
      "HORA                             71\n",
      "OTRAS AGENCIAS INTERVINIENTES     1\n",
      "Observaciones - Detalles          1\n",
      "dtype: int64\n"
     ]
    }
   ],
   "source": [
    "excel_bajada_procedimientos_generales = filtrar_procedimientos_generales(PATH_PROCEDIMIENTOS)\n",
    "CONTADOR['BAJADA_PROCEDIMIENTOS'] = len(excel_bajada_procedimientos_generales)\n",
    "df_procedimientos = pd.DataFrame()\n",
    "df_procedimientos['ID_OPERATIVO'] = excel_bajada_procedimientos_generales.apply(procesar_causa_judicial, axis=1)\n",
    "df_procedimientos['FUERZA_INTERVINIENTE'] = \"PSA\"\n",
    "df_procedimientos['ID_PROCEDIMIENTO'] = excel_bajada_procedimientos_generales.apply(generar_uid_sigpol, axis=1)\n",
    "df_procedimientos['CAUSAJUDICIALNUMERO'] = excel_bajada_procedimientos_generales['CAUSAJUDICIALNUMERO'].copy()\n",
    "df_procedimientos['UNIDAD_INTERVINIENTE'] = excel_bajada_procedimientos_generales['UOSP'].fillna(excel_bajada_procedimientos_generales['URSA'])\n",
    "df_procedimientos['DESCRIPCIÓN'] = excel_bajada_procedimientos_generales.apply(procesar_descripcion, axis=1)\n",
    "df_procedimientos['TIPO_INTERVENCION'] = excel_bajada_procedimientos_generales.apply(procesar_tipo_procedimiento, axis=1)\n",
    "df_procedimientos['PROVINCIA'] = excel_bajada_procedimientos_generales.apply(procesar_provincia, axis=1)\n",
    "df_procedimientos['DEPARTAMENTO O PARTIDO'] = excel_bajada_procedimientos_generales.apply(procesar_municipio, axis=1)\n",
    "df_procedimientos['LOCALIDAD'] = \"-\"\n",
    "df_procedimientos['DIRECCION'] = excel_bajada_procedimientos_generales.apply(procesar_direccion, axis=1)\n",
    "df_procedimientos[['LATITUD', 'LONGITUD']] = excel_bajada_procedimientos_generales.apply(procesar_geog, axis=1, result_type='expand')\n",
    "df_procedimientos['FECHA'] = pd.to_datetime(excel_bajada_procedimientos_generales['DENUNCIAFECHA'], errors='coerce').dt.date\n",
    "df_procedimientos['HORA'] = pd.to_datetime(excel_bajada_procedimientos_generales['DENUNCIAFECHA'], errors='coerce').dt.strftime('%H:%M')\n",
    "df_procedimientos['ZONA_SEGURIDAD_FRONTERAS'] = \"-\"\n",
    "df_procedimientos['PASO_FRONTERIZO'] = \"-\"\n",
    "df_procedimientos['OTRAS AGENCIAS INTERVINIENTES'] = \"-\"\n",
    "df_procedimientos['Observaciones - Detalles'] = \"-\"\n",
    "\n",
    "\n",
    "df_procedimientos['LATITUD'] = df_procedimientos['LATITUD'].astype(str).str.replace(',', '.')\n",
    "df_procedimientos['LONGITUD'] = df_procedimientos['LONGITUD'].astype(str).str.replace(',', '.')\n",
    "\n",
    "df_procedimientos_completado = df_procedimientos[['FUERZA_INTERVINIENTE', 'ID_OPERATIVO', 'ID_PROCEDIMIENTO',\n",
    "                                     'UNIDAD_INTERVINIENTE', 'DESCRIPCIÓN', 'TIPO_INTERVENCION',\n",
    "                                     'PROVINCIA', 'DEPARTAMENTO O PARTIDO', 'LOCALIDAD', 'DIRECCION',\n",
    "                                     'ZONA_SEGURIDAD_FRONTERAS', 'PASO_FRONTERIZO', 'LATITUD', 'LONGITUD',\n",
    "                                     'FECHA', 'HORA', 'OTRAS AGENCIAS INTERVINIENTES', 'Observaciones - Detalles']]\n",
    "\n",
    "print(df_procedimientos_completado.nunique())\n",
    "CONTADOR['PROCEDIMIENTOS_BAJADA'] = len(df_procedimientos_completado['ID_PROCEDIMIENTO'])\n"
   ]
  },
  {
   "cell_type": "markdown",
   "metadata": {},
   "source": [
    "### FILTRO CON LA BASE DE DATOS DE LO QUE SE FUE INFORMADO\n",
    "\n",
    "\n"
   ]
  },
  {
   "cell_type": "code",
   "execution_count": 6,
   "metadata": {},
   "outputs": [
    {
     "name": "stdout",
     "output_type": "stream",
     "text": [
      "FUERZA_INTERVINIENTE              1\n",
      "ID_OPERATIVO                     79\n",
      "ID_PROCEDIMIENTO                 87\n",
      "UNIDAD_INTERVINIENTE             24\n",
      "DESCRIPCIÓN                       7\n",
      "TIPO_INTERVENCION                 2\n",
      "PROVINCIA                        19\n",
      "DEPARTAMENTO O PARTIDO           18\n",
      "LOCALIDAD                         1\n",
      "DIRECCION                        17\n",
      "ZONA_SEGURIDAD_FRONTERAS          1\n",
      "PASO_FRONTERIZO                   1\n",
      "LATITUD                          42\n",
      "LONGITUD                         41\n",
      "FECHA                             7\n",
      "HORA                             71\n",
      "OTRAS AGENCIAS INTERVINIENTES     1\n",
      "Observaciones - Detalles          1\n",
      "dtype: int64\n"
     ]
    }
   ],
   "source": [
    "if  book_base_geo.empty :\n",
    "    print(\"No hay casos en la base de datos \")\n",
    "    df_procedimientos_final = df_procedimientos_completado\n",
    "elif  not book_base_geo.empty and not VERIFICAR_CON_BASE :    \n",
    "    df_procedimientos_final = df_procedimientos_completado\n",
    "else:\n",
    "    df_procedimientos_final = df_procedimientos_completado[~df_procedimientos_completado['ID_PROCEDIMIENTO'].isin(set(book_base_geo['ID_PROCEDIMIENTO']))]\n",
    "    \n",
    "CONTADOR['PROCEDIMIENTOS_NUEVOS'] = len(df_procedimientos_final['ID_PROCEDIMIENTO'])\n",
    "print(df_procedimientos_final.nunique())\n",
    "\n",
    "\n"
   ]
  },
  {
   "cell_type": "markdown",
   "metadata": {},
   "source": [
    "### HOJA PERSONAS  "
   ]
  },
  {
   "cell_type": "code",
   "execution_count": 7,
   "metadata": {},
   "outputs": [
    {
     "name": "stdout",
     "output_type": "stream",
     "text": [
      "ID_PROCEDIMIENTO         71\n",
      "EDAD                     42\n",
      "SEXO                      2\n",
      "GENERO                    2\n",
      "NACIONALIDAD              9\n",
      "SITUACION_PROCESAL        6\n",
      "DELITO_IMPUTADO          13\n",
      "JUZGADO_INTERVINIENTE    25\n",
      "CARATULA_CAUSA           27\n",
      "NUM_CAUSA                71\n",
      "dtype: int64\n"
     ]
    }
   ],
   "source": [
    "# Paso 1: Cargar datos iniciales\n",
    "\n",
    "if CONTADOR['PROCEDIMIENTOS_NUEVOS'] != 0:\n",
    "    excel_bajada_personas = pd.read_excel(PATH_PERSONAS)\n",
    "\n",
    "    if not excel_bajada_personas.empty:\n",
    "        CONTADOR['BAJADA_PERSONAS'] = len(excel_bajada_personas)\n",
    "\n",
    "        # Paso 2: Generar UID\n",
    "        excel_bajada_personas['UOSP'] = excel_bajada_personas['UOSP'].fillna(excel_bajada_personas['URSA'])\n",
    "        excel_bajada_personas['TIPO_CAUSA_INTERNA'] = excel_bajada_personas.apply( procesar_tipo_causa_interna, axis=1)\n",
    "        excel_bajada_personas['ID_PROCEDIMIENTO'] = excel_bajada_personas.apply(generar_uid_sigpol, axis=1)\n",
    "\n",
    "        # Paso 3: Coincidencia de UID entre excel_bajada_personas y df_geog_final\n",
    "        uid_coincidentes = excel_bajada_personas[excel_bajada_personas['ID_PROCEDIMIENTO'].isin(df_procedimientos_final['ID_PROCEDIMIENTO'])]\n",
    "\n",
    "        # Crear DataFrame de detenidos y aprendidos\n",
    "        df_detenidos_aprendidos = pd.DataFrame()\n",
    "        df_detenidos_aprendidos['ID_PROCEDIMIENTO'] = uid_coincidentes['ID_PROCEDIMIENTO']\n",
    "        df_detenidos_aprendidos['EDAD'] = uid_coincidentes.apply(procesar_edad, axis=1)\n",
    "        df_detenidos_aprendidos['SEXO'] = uid_coincidentes.apply(procesar_sexo, axis=1)\n",
    "        df_detenidos_aprendidos['GENERO'] = uid_coincidentes.apply(procesar_genero, axis=1)\n",
    "        df_detenidos_aprendidos['NACIONALIDAD'] = uid_coincidentes.apply(procesar_nacionalidad, axis=1)\n",
    "        df_detenidos_aprendidos['SITUACION_PROCESAL'] = uid_coincidentes.apply(procesar_situacion_judicial, axis=1)\n",
    "        df_detenidos_aprendidos['DELITO_IMPUTADO'] = uid_coincidentes.apply(procesar_tipo_delito, axis=1)\n",
    "        df_detenidos_aprendidos['JUZGADO_INTERVINIENTE'] = uid_coincidentes.apply(procesar_juzgado, axis=1)\n",
    "        df_detenidos_aprendidos['CARATULA_CAUSA'] = uid_coincidentes.apply(procesar_caratula, axis=1)\n",
    "        df_detenidos_aprendidos['NUM_CAUSA'] = uid_coincidentes['ID_PROCEDIMIENTO']\n",
    "\n",
    "\n",
    "        df_detenidos_aprendidos = df_detenidos_aprendidos[df_detenidos_aprendidos['SITUACION_PROCESAL'] != 'NO INFORMAR']\n",
    "        df_detenidos_aprendidos = df_detenidos_aprendidos[df_detenidos_aprendidos['ID_PROCEDIMIENTO'].isin(df_procedimientos_final['ID_PROCEDIMIENTO'])]\n",
    "        print(df_detenidos_aprendidos.nunique())\n"
   ]
  },
  {
   "cell_type": "markdown",
   "metadata": {},
   "source": [
    "### HOJA OTROS DELITOS"
   ]
  },
  {
   "cell_type": "code",
   "execution_count": 8,
   "metadata": {},
   "outputs": [
    {
     "name": "stdout",
     "output_type": "stream",
     "text": [
      "ID_PROCEDIMIENTO         25\n",
      "EDAD_VICTIMA             22\n",
      "SEXO                      2\n",
      "GENERO_VICTIMA            2\n",
      "NACIONALIDAD              5\n",
      "SITUACION_PROCESAL        1\n",
      "TIPO_OTRO_DELITO          7\n",
      "JUZGADO_INTERVINIENTE     2\n",
      "CARATULA_CAUSA            1\n",
      "NUM_CAUSA                25\n",
      "OBSERVACIONES             1\n",
      "dtype: int64\n"
     ]
    }
   ],
   "source": [
    "if CONTADOR['PROCEDIMIENTOS_NUEVOS'] != 0:\n",
    "    \n",
    "    if not excel_bajada_personas.empty:\n",
    "        \n",
    "        df_otros_delitos = df_detenidos_aprendidos[df_detenidos_aprendidos['SITUACION_PROCESAL'] == 'VICTIMA']\n",
    "        # Filtro los que son victima de detenidos y aprendidos\n",
    "        df_detenidos_aprendidos_completado = df_detenidos_aprendidos[df_detenidos_aprendidos['SITUACION_PROCESAL'] != 'VICTIMA']\n",
    "\n",
    "        # Cambiar el nombre de algunas columnas en el DataFrame de víctimas\n",
    "        df_otros_delitos_completado = df_otros_delitos.rename(columns={\n",
    "            'DELITO_IMPUTADO': 'TIPO_OTRO_DELITO',\n",
    "            'GENERO': 'GENERO_VICTIMA',\n",
    "            'EDAD': 'EDAD_VICTIMA',\n",
    "        })\n",
    "        df_otros_delitos_completado[\"OBSERVACIONES\"] =\"-\"\n",
    "        \n",
    "        CONTADOR['DETENIDOS_FINAL'] = len(df_detenidos_aprendidos_completado['ID_PROCEDIMIENTO'])\n",
    "        CONTADOR['VICTIMAS_FINAL'] = len(df_otros_delitos_completado['ID_PROCEDIMIENTO'])\n",
    "        print(df_otros_delitos_completado.nunique())\n"
   ]
  },
  {
   "cell_type": "markdown",
   "metadata": {},
   "source": [
    "### INCAUTACIONES ARMA"
   ]
  },
  {
   "cell_type": "code",
   "execution_count": 9,
   "metadata": {},
   "outputs": [
    {
     "name": "stdout",
     "output_type": "stream",
     "text": [
      "ID_PROCEDIMIENTO    2\n",
      "TIPO_INCAUTACION    1\n",
      "TIPO                2\n",
      "SUBTIPO             1\n",
      "CANTIDAD            3\n",
      "MEDIDAS             1\n",
      "AFORO               1\n",
      "OBSERVACIONES       4\n",
      "dtype: int64\n"
     ]
    }
   ],
   "source": [
    "if CONTADOR['PROCEDIMIENTOS_NUEVOS'] != 0:\n",
    "\n",
    "    # Paso 1: Cargar datos iniciales\n",
    "    excel_bajada_arma = pd.read_excel(PATH_ARMAS)\n",
    "    \n",
    "    if not excel_bajada_arma.empty:\n",
    "        CONTADOR['BAJADA_ARMAS'] = len(excel_bajada_arma)\n",
    "\n",
    "        excel_bajada_arma = excel_bajada_arma[excel_bajada_arma[\"TIPO_ESTADO_OBJETO\"] == \"SECUESTRADO\"]\n",
    "        excel_bajada_arma['UOSP'] = excel_bajada_arma['UOSP'].fillna(excel_bajada_arma['URSA'])\n",
    "        excel_bajada_arma['TIPO_CAUSA_INTERNA'] = excel_bajada_arma.apply( procesar_tipo_causa_interna, axis=1)\n",
    "        excel_bajada_arma['ID_PROCEDIMIENTO'] = excel_bajada_arma.apply(generar_uid_sigpol, axis=1)\n",
    "\n",
    "\n",
    "        df_arma = pd.DataFrame()\n",
    "        df_arma['ID_PROCEDIMIENTO'] = excel_bajada_arma['ID_PROCEDIMIENTO']\n",
    "        df_arma['TIPO_INCAUTACION'] = \"ARMAS\"\n",
    "        df_arma['TIPO'] = excel_bajada_arma['TIPO_ARMA']\n",
    "        df_arma['SUBTIPO'] = \"-\"\n",
    "        df_arma['CANTIDAD'] = excel_bajada_arma.apply(procesar_cantidad_arma, axis=1)\n",
    "        df_arma['MEDIDAS'] = \"UNIDADES\"\n",
    "        df_arma['AFORO'] = \"-\"\n",
    "        df_arma['OBSERVACIONES'] = excel_bajada_arma.apply(procesar_observaciones_arma, axis=1)\n",
    "\n",
    "        df_arma_completado = df_arma[df_arma['ID_PROCEDIMIENTO'].isin(df_procedimientos_final['ID_PROCEDIMIENTO'])]\n",
    "\n",
    "        CONTADOR['ARMAS_FINAL'] = len(df_arma['ID_PROCEDIMIENTO'])\n",
    "        print(df_arma_completado.nunique())"
   ]
  },
  {
   "cell_type": "markdown",
   "metadata": {},
   "source": [
    "### INCAUTACIONES DIVISA"
   ]
  },
  {
   "cell_type": "code",
   "execution_count": 10,
   "metadata": {},
   "outputs": [
    {
     "name": "stdout",
     "output_type": "stream",
     "text": [
      "ID_PROCEDIMIENTO     9\n",
      "TIPO_INCAUTACION     1\n",
      "TIPO                 4\n",
      "SUBTIPO              1\n",
      "CANTIDAD            15\n",
      "MEDIDAS              1\n",
      "AFORO                1\n",
      "OBSERVACIONES        1\n",
      "dtype: int64\n"
     ]
    }
   ],
   "source": [
    "if CONTADOR['PROCEDIMIENTOS_NUEVOS'] != 0:\n",
    "    \n",
    "    excel_bajada_divisa = pd.read_excel(PATH_DIVISAS)\n",
    "    \n",
    "    if not excel_bajada_divisa.empty:\n",
    "\n",
    "        CONTADOR['BAJADA_DIVISAS'] = len(excel_bajada_divisa)\n",
    "        excel_bajada_procedimientos_generales['PARTE_ANIO'] = excel_bajada_procedimientos_generales['NUMERO_PARTE'].astype(str) + \"/\" + excel_bajada_procedimientos_generales['ANIO_PARTE'].astype(str)\n",
    "        excel_bajada_divisa['PARTE_ANIO'] = excel_bajada_divisa['NUMERO_PARTE'].astype(str) + \"/\" + excel_bajada_divisa['ANIO_PARTE'].astype(str)\n",
    "\n",
    "        excel_bajada_divisa['UOSP'] = excel_bajada_divisa['UOSP'].fillna(excel_bajada_divisa['URSA'])\n",
    "\n",
    "        excel_bajada_divisa = pd.merge(excel_bajada_divisa, \n",
    "                                    excel_bajada_procedimientos_generales[['PARTE_ANIO', 'TIPO_CAUSA_INTERNA']], \n",
    "                                    on='PARTE_ANIO', \n",
    "                                    how='left')\n",
    "\n",
    "        excel_bajada_divisa['ID_PROCEDIMIENTO'] = excel_bajada_divisa.apply(generar_uid_sigpol, axis=1)\n",
    "        excel_bajada_divisa = excel_bajada_divisa[~pd.isnull(excel_bajada_divisa['TOTAL_DIVISAS_SECUESTRADAS'])]\n",
    "\n",
    "\n",
    "        cantidad_por_uid = excel_bajada_divisa.groupby(['ID_PROCEDIMIENTO', 'TIPO_DIVISA'], as_index=False)['TOTAL_DIVISAS_SECUESTRADAS'].sum()\n",
    "\n",
    "        df_divisa = pd.DataFrame()\n",
    "        df_divisa['ID_PROCEDIMIENTO'] = cantidad_por_uid['ID_PROCEDIMIENTO']\n",
    "        df_divisa['TIPO_INCAUTACION'] = \"DIVISAS\"\n",
    "        df_divisa['TIPO'] = cantidad_por_uid['TIPO_DIVISA']\n",
    "        df_divisa['SUBTIPO'] = \"-\"\n",
    "        df_divisa['CANTIDAD'] = cantidad_por_uid['TOTAL_DIVISAS_SECUESTRADAS']\n",
    "        df_divisa['MEDIDAS'] = \"UNIDADES\"\n",
    "        df_divisa['AFORO'] = \"-\"\n",
    "        df_divisa['OBSERVACIONES'] = \"-\"\n",
    "\n",
    "        # Mostrar el resultado final\n",
    "        df_divisa_completado = df_divisa[df_divisa['ID_PROCEDIMIENTO'].isin(df_procedimientos_final['ID_PROCEDIMIENTO'])]\n",
    "        \n",
    "        \n",
    "        CONTADOR['DIVISAS_FINAL'] = len(df_divisa_completado['ID_PROCEDIMIENTO'])\n",
    "        print(df_divisa_completado.nunique())"
   ]
  },
  {
   "cell_type": "markdown",
   "metadata": {},
   "source": [
    "### INCAUTACIONES OBJETOS"
   ]
  },
  {
   "cell_type": "code",
   "execution_count": 11,
   "metadata": {},
   "outputs": [
    {
     "name": "stdout",
     "output_type": "stream",
     "text": [
      "ID_PROCEDIMIENTO    4\n",
      "TIPO_INCAUTACION    1\n",
      "TIPO                5\n",
      "SUBTIPO             1\n",
      "CANTIDAD            2\n",
      "MEDIDAS             1\n",
      "AFORO               1\n",
      "OBSERVACIONES       1\n",
      "dtype: int64\n"
     ]
    }
   ],
   "source": [
    "if CONTADOR['PROCEDIMIENTOS_NUEVOS'] != 0:\n",
    "\n",
    "    excel_bajada_objetos = pd.read_excel(PATH_OBJETOS)\n",
    "    CONTADOR ['BAJADA_OBJETOS'] = len(excel_bajada_objetos)\n",
    "    excel_bajada_objetos = excel_bajada_objetos[excel_bajada_objetos[\"ESTADO\"] == \"SECUESTRADO\"]\n",
    "\n",
    "    excel_bajada_objetos['UOSP'] = excel_bajada_objetos['UOSP'].fillna(excel_bajada_objetos['URSA'])\n",
    "    excel_bajada_objetos['TIPO_CAUSA_INTERNA'] = excel_bajada_objetos.apply( procesar_tipo_causa_interna, axis=1)\n",
    "    excel_bajada_objetos['ID_PROCEDIMIENTO'] = excel_bajada_objetos.apply(generar_uid_sigpol, axis=1)\n",
    "    excel_bajada_objetos = excel_bajada_objetos[excel_bajada_objetos['TIPO_OBJETO'].isin(TIPO_OBJETO)]\n",
    "    excel_bajada_objetos = excel_bajada_objetos[~pd.isnull(excel_bajada_objetos['CANTIDAD'])]\n",
    "\n",
    "    df_objetos = pd.DataFrame()\n",
    "    df_objetos['ID_PROCEDIMIENTO'] = excel_bajada_objetos['ID_PROCEDIMIENTO']\n",
    "    df_objetos['TIPO_INCAUTACION'] = \"MERCADERIA\"\n",
    "    df_objetos['TIPO'] = excel_bajada_objetos['TIPO_OBJETO']\n",
    "    df_objetos['SUBTIPO'] = \"-\"\n",
    "    df_objetos['CANTIDAD'] = excel_bajada_objetos['CANTIDAD']\n",
    "    df_objetos['MEDIDAS'] = \"UNIDADES\"\n",
    "    df_objetos['AFORO'] = \"-\"\n",
    "    df_objetos['OBSERVACIONES'] = \"-\"\n",
    "\n",
    "    df_objetos_completado = df_objetos[df_objetos['ID_PROCEDIMIENTO'].isin(df_procedimientos_final['ID_PROCEDIMIENTO'])]\n",
    "\n",
    "    CONTADOR['OBJETOS_FINAL'] = len(df_objetos_completado['ID_PROCEDIMIENTO'])\n",
    "    print(df_objetos_completado.nunique())"
   ]
  },
  {
   "cell_type": "markdown",
   "metadata": {},
   "source": [
    "### INCAUTACIONES VEHICULOS"
   ]
  },
  {
   "cell_type": "code",
   "execution_count": 12,
   "metadata": {},
   "outputs": [
    {
     "name": "stdout",
     "output_type": "stream",
     "text": [
      "ID_PROCEDIMIENTO    2\n",
      "TIPO_INCAUTACION    1\n",
      "TIPO                1\n",
      "SUBTIPO             1\n",
      "CANTIDAD            1\n",
      "MEDIDAS             1\n",
      "AFORO               1\n",
      "OBSERVACIONES       2\n",
      "dtype: int64\n"
     ]
    }
   ],
   "source": [
    "if CONTADOR['PROCEDIMIENTOS_NUEVOS'] != 0:\n",
    "    \n",
    "    excel_bajada_vehiculos = pd.read_excel(PATH_VEHICULOS)\n",
    "    \n",
    "    if not excel_bajada_vehiculos.empty:\n",
    "        CONTADOR ['BAJADA_VEHICULOS'] = len(excel_bajada_vehiculos)\n",
    "\n",
    "        excel_bajada_vehiculos = excel_bajada_vehiculos[excel_bajada_vehiculos[\"VEHICULO_ESTADO\"] == \"SECUESTRADO\"]\n",
    "        excel_bajada_vehiculos['TIPO_CAUSA_INTERNA'] = excel_bajada_vehiculos.apply( procesar_tipo_causa_interna, axis=1)\n",
    "        excel_bajada_vehiculos['UOSP'] = excel_bajada_vehiculos['UOSP'].fillna(excel_bajada_vehiculos['URSA'])\n",
    "        excel_bajada_vehiculos['TIPO_CAUSA_INTERNA'] = excel_bajada_vehiculos.apply( procesar_tipo_causa_interna, axis=1)\n",
    "        excel_bajada_vehiculos['ID_PROCEDIMIENTO'] = excel_bajada_vehiculos.apply(generar_uid_sigpol, axis=1)\n",
    "\n",
    "\n",
    "        df_vehiculos = pd.DataFrame()\n",
    "        df_vehiculos['ID_PROCEDIMIENTO'] = excel_bajada_vehiculos['ID_PROCEDIMIENTO']\n",
    "        df_vehiculos['TIPO_INCAUTACION'] = \"SECUESTRO DE VEHICULOS\"\n",
    "        df_vehiculos['TIPO'] = excel_bajada_vehiculos['VEHICULO_TIPO']\n",
    "        df_vehiculos['SUBTIPO'] = \"-\"\n",
    "        df_vehiculos['CANTIDAD'] = excel_bajada_vehiculos['CANTIDAD']\n",
    "        df_vehiculos['MEDIDAS'] = \"UNIDADES\"\n",
    "        df_vehiculos['AFORO'] = \"-\"\n",
    "        df_vehiculos['OBSERVACIONES'] = excel_bajada_vehiculos.apply(observaciones_vehiculo,axis=1)\n",
    "\n",
    "\n",
    "        df_vehiculos_completado = df_vehiculos[df_vehiculos['ID_PROCEDIMIENTO'].isin(df_procedimientos_final['ID_PROCEDIMIENTO'])]\n",
    "        \n",
    "        CONTADOR['VEHICULOS_FINAL'] = len(df_vehiculos_completado['ID_PROCEDIMIENTO'])\n",
    "        print(df_vehiculos_completado.nunique())"
   ]
  },
  {
   "cell_type": "markdown",
   "metadata": {},
   "source": [
    "### INCAUTACIONES NARCOTRAFICO"
   ]
  },
  {
   "cell_type": "code",
   "execution_count": 13,
   "metadata": {},
   "outputs": [
    {
     "name": "stdout",
     "output_type": "stream",
     "text": [
      "ID_PROCEDIMIENTO    13\n",
      "TIPO_INCAUTACION     1\n",
      "TIPO                 4\n",
      "SUBTIPO              1\n",
      "CANTIDAD            18\n",
      "MEDIDAS              2\n",
      "AFORO                1\n",
      "OBSERVACIONES        3\n",
      "dtype: int64\n"
     ]
    }
   ],
   "source": [
    "if CONTADOR['PROCEDIMIENTOS_NUEVOS'] != 0:\n",
    "    \n",
    "    # Paso 1: Cargar datos iniciales\n",
    "    excel_bajada_narcotrafico = pd.read_excel(PATH_NARCOTRAFICO)\n",
    "    if not excel_bajada_narcotrafico.empty:\n",
    "        \n",
    "        CONTADOR['BAJADA_NARCOTRAFICO'] = len(excel_bajada_narcotrafico)\n",
    "        \n",
    "        excel_bajada_narcotrafico['UOSP'] = excel_bajada_narcotrafico['UOSP'].fillna(excel_bajada_narcotrafico['URSA'])\n",
    "        excel_bajada_narcotrafico['TIPO_CAUSA_INTERNA'] = excel_bajada_narcotrafico.apply( procesar_tipo_causa_interna, axis=1)\n",
    "        excel_bajada_narcotrafico['ID_PROCEDIMIENTO'] = excel_bajada_narcotrafico.apply(generar_uid_sigpol, axis=1)\n",
    "\n",
    "        excel_bajada_narcotrafico = excel_bajada_narcotrafico[~pd.isnull(excel_bajada_narcotrafico['TIPO_ESTUPEFACIENTE'])]\n",
    "\n",
    "\n",
    "        #Paso 2: Crear df_divisa con las cantidades sumadas\n",
    "        df_narcotrafico = pd.DataFrame()\n",
    "        df_narcotrafico['ID_PROCEDIMIENTO'] = excel_bajada_narcotrafico['ID_PROCEDIMIENTO']\n",
    "        df_narcotrafico['TIPO_INCAUTACION'] = \"ESTUPEFACIENTE\"\n",
    "        df_narcotrafico['TIPO'] = excel_bajada_narcotrafico.apply(clasificar_tipo_sustancia, axis=1)\n",
    "        df_narcotrafico['SUBTIPO'] = \"-\"\n",
    "        df_narcotrafico[['CANTIDAD', 'MEDIDAS']] = excel_bajada_narcotrafico.apply(clasificar_medida, axis=1, result_type='expand')\n",
    "        df_narcotrafico['AFORO'] = \"-\"\n",
    "        df_narcotrafico['OBSERVACIONES'] = excel_bajada_narcotrafico.apply(observaciones_sustancia, axis=1)\n",
    "\n",
    "        df_narcotrafico_completado = df_narcotrafico[df_narcotrafico['ID_PROCEDIMIENTO'].isin(df_procedimientos_final['ID_PROCEDIMIENTO'])]\n",
    "        \n",
    "        CONTADOR['NARCOTRAFICO_FINAL'] = len(df_narcotrafico_completado['ID_PROCEDIMIENTO'])\n",
    "        print(df_narcotrafico_completado.nunique())"
   ]
  },
  {
   "cell_type": "markdown",
   "metadata": {},
   "source": [
    "### UNION DE INCAUTACIONES \n",
    "ARMAS, DIVISAS, OBJETOS , VEHICULOS , NARCOTRAFICO"
   ]
  },
  {
   "cell_type": "code",
   "execution_count": 14,
   "metadata": {},
   "outputs": [
    {
     "name": "stdout",
     "output_type": "stream",
     "text": [
      "ID_PROCEDIMIENTO    25\n",
      "TIPO_INCAUTACION     5\n",
      "TIPO                16\n",
      "SUBTIPO              1\n",
      "CANTIDAD            37\n",
      "MEDIDAS              2\n",
      "AFORO                1\n",
      "OBSERVACIONES        9\n",
      "dtype: int64\n"
     ]
    }
   ],
   "source": [
    "if CONTADOR['PROCEDIMIENTOS_NUEVOS'] != 0:\n",
    "    df_incautados_completado= pd.concat([df_objetos_completado, df_vehiculos_completado, df_arma_completado, df_divisa_completado , df_narcotrafico_completado])\n",
    "    print(df_incautados_completado.nunique())"
   ]
  },
  {
   "cell_type": "markdown",
   "metadata": {},
   "source": [
    "### TRATA DE PERSONA"
   ]
  },
  {
   "cell_type": "code",
   "execution_count": 15,
   "metadata": {},
   "outputs": [
    {
     "name": "stdout",
     "output_type": "stream",
     "text": [
      "ID_PROCEDIMIENTO         8\n",
      "TIPO_DELITO              3\n",
      "SEXO_VICTIMA             2\n",
      "GENERO_VICTIMA           2\n",
      "EDAD_VICTIMA             2\n",
      "NACIONALIDAD             1\n",
      "JUZGADO_INTERVINIENTE    5\n",
      "OBSERVACIONES            1\n",
      "dtype: int64\n"
     ]
    }
   ],
   "source": [
    "if CONTADOR['PROCEDIMIENTOS_NUEVOS'] != 0:\n",
    "\n",
    "    excel_bajada_trata = pd.read_excel(PATH_TRATA)\n",
    "    if not excel_bajada_trata.empty:\n",
    "        CONTADOR['BAJADA_TRATA'] = len(excel_bajada_trata)\n",
    "\n",
    "        excel_bajada_trata['UOSP'] = excel_bajada_trata['UOSP'].fillna(excel_bajada_trata['URSA'])\n",
    "        excel_bajada_trata['TIPO_CAUSA_INTERNA'] = excel_bajada_trata.apply( procesar_tipo_causa_interna, axis=1)\n",
    "        excel_bajada_trata['ID_PROCEDIMIENTO'] = excel_bajada_trata.apply(generar_uid_sigpol, axis=1)\n",
    "\n",
    "        # Crear DataFrame de detenidos y aprendidos\n",
    "        df_trata = pd.DataFrame()\n",
    "        df_trata['ID_PROCEDIMIENTO'] = excel_bajada_trata['ID_PROCEDIMIENTO']\n",
    "        df_trata['TIPO_DELITO'] = excel_bajada_trata[\"TIPO_EXPLOTACION\"].fillna(\"-\")\n",
    "        df_trata['SEXO_VICTIMA'] = excel_bajada_trata.apply(procesar_sexo, axis=1)\n",
    "        df_trata['GENERO_VICTIMA'] = excel_bajada_trata.apply(procesar_genero, axis=1)\n",
    "        df_trata['EDAD_VICTIMA'] = excel_bajada_trata['EDAD'].fillna(\"-\")\n",
    "        df_trata['NACIONALIDAD'] = excel_bajada_trata['NACIONALIDAD'].fillna(\"-\")\n",
    "        df_trata['NACIONALIDAD'] = excel_bajada_trata['NACIONALIDAD'].str.upper()\n",
    "        df_trata['JUZGADO_INTERVINIENTE'] = excel_bajada_trata.apply(procesar_juzgado, axis=1)\n",
    "        df_trata['OBSERVACIONES'] = \"-\"\n",
    "\n",
    "        df_trata_completado = df_trata[df_trata['ID_PROCEDIMIENTO'].isin(df_procedimientos_final['ID_PROCEDIMIENTO'])]\n",
    "        \n",
    "        CONTADOR['TRATA'] = len(df_trata_completado['ID_PROCEDIMIENTO'])\n",
    "        print(df_trata_completado.nunique())\n",
    "\n"
   ]
  },
  {
   "cell_type": "markdown",
   "metadata": {},
   "source": [
    "# OPERACIONES"
   ]
  },
  {
   "cell_type": "markdown",
   "metadata": {},
   "source": [
    "### ORDEN DE SERVICIOS"
   ]
  },
  {
   "cell_type": "code",
   "execution_count": 21,
   "metadata": {},
   "outputs": [
    {
     "name": "stdout",
     "output_type": "stream",
     "text": [
      "FUERZA_INTERVINIENTE               1\n",
      "ID_OPERATIVO                      41\n",
      "ID_PROCEDIMIENTO                 202\n",
      "UNIDAD_INTERVINIENTE              13\n",
      "DESCRIPCIÓN                       35\n",
      "TIPO_INTERVENCION                  2\n",
      "PROVINCIA                         11\n",
      "DEPARTAMENTO O PARTIDO            19\n",
      "LOCALIDAD                         12\n",
      "DIRECCION                         34\n",
      "ZONA_SEGURIDAD_FRONTERAS           1\n",
      "PASO_FRONTERIZO                    1\n",
      "LATITUD                           22\n",
      "LONGITUD                          21\n",
      "FECHA                              6\n",
      "HORA                              25\n",
      "OTRAS AGENCIAS INTERVINIENTES      1\n",
      "Observaciones - Detalles           1\n",
      "dtype: int64\n"
     ]
    },
    {
     "name": "stderr",
     "output_type": "stream",
     "text": [
      "c:\\Users\\DICA\\Desktop\\Repositorio\\DNEC\\.venv\\Lib\\site-packages\\openpyxl\\worksheet\\_reader.py:329: UserWarning: Data Validation extension is not supported and will be removed\n",
      "  warn(msg)\n",
      "C:\\Users\\DICA\\AppData\\Local\\Temp\\ipykernel_2060\\1087959491.py:43: FutureWarning: Setting an item of incompatible dtype is deprecated and will raise an error in a future version of pandas. Value '-' has dtype incompatible with float64, please explicitly cast to a compatible dtype first.\n",
      "  df_operaciones_completado.fillna(\"-\", inplace=True)\n"
     ]
    }
   ],
   "source": [
    "excel_bajada_operaciones = pd.read_excel(PATH_OPERACIONES, \n",
    "                                         sheet_name=\"ORDEN_SERVICIOS\", \n",
    "                                         skiprows=1)\n",
    "\n",
    "CONTADOR['BAJADA_ORDEN_SERVICIOS'] = len(excel_bajada_operaciones)\n",
    "# Usar .strftime('%H:%M') en cada valor para obtener solo la hora y el minuto\n",
    "excel_bajada_operaciones['HORA'] = excel_bajada_operaciones['HORA'].apply(lambda x: x.strftime('%H:%M') if pd.notnull(x) else None)\n",
    "# Ahora copiamos esta columna al nuevo DataFrame\n",
    "\n",
    "\n",
    "df_operaciones= pd.DataFrame()\n",
    "df_operaciones[\"ID_PROCEDIMIENTO\"] = excel_bajada_operaciones[\"ID_PROCEDIMIENTO\"]\n",
    "df_operaciones[\"FUERZA_INTERVINIENTE\"] = \"PSA\"\n",
    "df_operaciones[\"ID_OPERATIVO\"] = excel_bajada_operaciones[\"ID_OPERATIVO\"]\n",
    "df_operaciones[\"UNIDAD_INTERVINIENTE\"] = excel_bajada_operaciones[\"UNIDAD_INTERVINIENTE\"]\n",
    "df_operaciones[\"DESCRIPCIÓN\"] = excel_bajada_operaciones[\"DESCRIPCIÓN\"]\n",
    "df_operaciones[\"TIPO_INTERVENCION\"] = excel_bajada_operaciones[\"TIPO_INTERVENCION\"]\n",
    "df_operaciones[\"PROVINCIA\"] = excel_bajada_operaciones[\"PROVINCIA\"].str.upper().replace(\"_\", \" \")\n",
    "df_operaciones[\"DEPARTAMENTO O PARTIDO\"] = excel_bajada_operaciones[\"DEPARTAMENTO O PARTIDO\"].str.upper()\n",
    "df_operaciones[\"LOCALIDAD\"] = excel_bajada_operaciones[\"LOCALIDAD\"]\n",
    "df_operaciones[\"DIRECCION\"] = excel_bajada_operaciones[\"DIRECCION\"]\n",
    "df_operaciones['FECHA'] = pd.to_datetime(excel_bajada_operaciones[\"FECHA\"]).dt.date\n",
    "df_operaciones['HORA'] = excel_bajada_operaciones['HORA']\n",
    "df_operaciones[\"ZONA_SEGURIDAD_FRONTERAS\"] = \"-\"\n",
    "df_operaciones[\"PASO_FRONTERIZO\"] = \"-\"\n",
    "df_operaciones['OTRAS AGENCIAS INTERVINIENTES'] =  excel_bajada_operaciones[\"OTRAS AGENCIAS INTERVINIENTES\"]\n",
    "df_operaciones['Observaciones - Detalles'] = \"PATRULLAJE DINAMICO\"\n",
    "df_operaciones[['LATITUD', 'LONGITUD']] = excel_bajada_operaciones.apply(procesar_geog_oper, axis=1, result_type='expand')\n",
    "\n",
    "\n",
    "df_operaciones_completado = df_operaciones[['FUERZA_INTERVINIENTE', 'ID_OPERATIVO', 'ID_PROCEDIMIENTO',\n",
    "                                     'UNIDAD_INTERVINIENTE', 'DESCRIPCIÓN', 'TIPO_INTERVENCION',\n",
    "                                     'PROVINCIA', 'DEPARTAMENTO O PARTIDO', 'LOCALIDAD', 'DIRECCION',\n",
    "                                     'ZONA_SEGURIDAD_FRONTERAS', 'PASO_FRONTERIZO', 'LATITUD', 'LONGITUD',\n",
    "                                     'FECHA', 'HORA', 'OTRAS AGENCIAS INTERVINIENTES', 'Observaciones - Detalles']]\n",
    "\n",
    "\n",
    "\n",
    "# Reemplazar \"S/D\" y \"N/C\" por \"-\"\n",
    "df_operaciones_completado.replace([\"S/D\", \"N/C\"], \"-\", inplace=True)\n",
    "\n",
    "# Reemplazar los valores vacíos (NaN) por \"-\"\n",
    "df_operaciones_completado.fillna(\"-\", inplace=True)\n",
    "\n",
    "\n",
    "print(df_operaciones_completado.nunique())\n"
   ]
  },
  {
   "cell_type": "markdown",
   "metadata": {},
   "source": [
    "### FILTRO CON LA BASE DE DATOS DE LO QUE SE FUE INFORMADO\n",
    "\n",
    "\n"
   ]
  },
  {
   "cell_type": "code",
   "execution_count": 22,
   "metadata": {},
   "outputs": [
    {
     "name": "stdout",
     "output_type": "stream",
     "text": [
      "FUERZA_INTERVINIENTE               1\n",
      "ID_OPERATIVO                      41\n",
      "ID_PROCEDIMIENTO                 202\n",
      "UNIDAD_INTERVINIENTE              13\n",
      "DESCRIPCIÓN                       35\n",
      "TIPO_INTERVENCION                  2\n",
      "PROVINCIA                         11\n",
      "DEPARTAMENTO O PARTIDO            19\n",
      "LOCALIDAD                         12\n",
      "DIRECCION                         34\n",
      "ZONA_SEGURIDAD_FRONTERAS           1\n",
      "PASO_FRONTERIZO                    1\n",
      "LATITUD                           22\n",
      "LONGITUD                          21\n",
      "FECHA                              6\n",
      "HORA                              25\n",
      "OTRAS AGENCIAS INTERVINIENTES      1\n",
      "Observaciones - Detalles           1\n",
      "dtype: int64\n"
     ]
    }
   ],
   "source": [
    "if  book_base_geo.empty:\n",
    "    print(\"No hay casos en la base de datos \")\n",
    "    df_operaciones_final = df_operaciones_completado\n",
    "elif  not book_base_geo.empty and not VERIFICAR_CON_BASE :    \n",
    "    df_operaciones_final = df_operaciones_completado\n",
    "else:\n",
    "    df_operaciones_final = df_operaciones_completado[~df_operaciones_completado['ID_PROCEDIMIENTO'].isin(set(book_base_geo['ID_PROCEDIMIENTO']))]\n",
    "    \n",
    "CONTADOR['ORDEN_SERVICIOS_NUEVOS'] = len(df_operaciones_final['ID_PROCEDIMIENTO'])\n",
    "print(df_operaciones_final.nunique())\n",
    "\n",
    "\n"
   ]
  },
  {
   "cell_type": "markdown",
   "metadata": {},
   "source": [
    "### HOJA DE VEHI. Y PERSO. CONTROLADAS"
   ]
  },
  {
   "cell_type": "code",
   "execution_count": 23,
   "metadata": {},
   "outputs": [
    {
     "name": "stdout",
     "output_type": "stream",
     "text": [
      "UID                              202\n",
      "FUERZA_INTERVINIENTE               1\n",
      "ID_PROCEDIMIENTO                 202\n",
      "ID_OPERATIVO                      41\n",
      "UNIDAD_INTERVINIENTE              13\n",
      "DESCRIPCIÓN                       35\n",
      "TIPO_INTERVENCION                  2\n",
      "VEHICULOS_CONTROLADOS             25\n",
      "PERSONAS_CONTROLADAS              30\n",
      "CANT_AVERIGUACIONES_SECUESTRO      1\n",
      "CANT_SOLICITUDES_ANTECEDENTES     28\n",
      "dtype: int64\n"
     ]
    },
    {
     "name": "stderr",
     "output_type": "stream",
     "text": [
      "C:\\Users\\DICA\\AppData\\Local\\Temp\\ipykernel_2060\\531414652.py:21: FutureWarning: Setting an item of incompatible dtype is deprecated and will raise an error in a future version of pandas. Value '-' has dtype incompatible with float64, please explicitly cast to a compatible dtype first.\n",
      "  df_controlados_controlado.fillna(\"-\", inplace=True)\n"
     ]
    }
   ],
   "source": [
    "if CONTADOR['ORDEN_SERVICIOS_NUEVOS'] != 0:\n",
    "\n",
    "    df_controlados_controlado = pd.DataFrame()\n",
    "    df_controlados_controlado[\"UID\"] = excel_bajada_operaciones[\"ID_PROCEDIMIENTO\"]\n",
    "    df_controlados_controlado[\"FUERZA_INTERVINIENTE\"] = \"PSA\"\n",
    "    df_controlados_controlado[\"ID_PROCEDIMIENTO\"] = excel_bajada_operaciones[\"ID_PROCEDIMIENTO\"]\n",
    "    df_controlados_controlado[\"ID_OPERATIVO\"] = excel_bajada_operaciones[\"ID_OPERATIVO\"]\n",
    "    df_controlados_controlado[\"UNIDAD_INTERVINIENTE\"] = excel_bajada_operaciones[\"UNIDAD_INTERVINIENTE\"]\n",
    "    df_controlados_controlado[\"DESCRIPCIÓN\"] = excel_bajada_operaciones[\"DESCRIPCIÓN\"]\n",
    "    df_controlados_controlado[\"TIPO_INTERVENCION\"] = excel_bajada_operaciones[\"TIPO_INTERVENCION\"]\n",
    "    df_controlados_controlado[\"VEHICULOS_CONTROLADOS\"] = excel_bajada_operaciones[\"VEHICULOS_CONTROLADOS\"]\n",
    "    df_controlados_controlado[\"PERSONAS_CONTROLADAS\"] = excel_bajada_operaciones[\"PERSONAS_CONTROLADAS\"]\n",
    "    df_controlados_controlado[\"CANT_AVERIGUACIONES_SECUESTRO\"] = excel_bajada_operaciones[\"CANT_AVERIGUACIONES_SECUESTRO\"]\n",
    "    df_controlados_controlado[\"CANT_SOLICITUDES_ANTECEDENTES\"] = excel_bajada_operaciones[\"CANT_SOLICITUDES_ANTECEDENTES\"]\n",
    "\n",
    "\n",
    "    # Reemplazar \"S/D\" y \"N/C\" por \"-\"\n",
    "    df_controlados_controlado.replace([\"S/D\", \"N/C\"], \"-\", inplace=True)\n",
    "\n",
    "    # Reemplazar los valores vacíos (NaN) por \"-\"\n",
    "    df_controlados_controlado.fillna(\"-\", inplace=True)\n",
    "\n",
    "    print(df_controlados_controlado.nunique())\n"
   ]
  },
  {
   "cell_type": "markdown",
   "metadata": {},
   "source": [
    "### PERSONAL Y ELEMENTOS AFECTADOS"
   ]
  },
  {
   "cell_type": "code",
   "execution_count": 24,
   "metadata": {},
   "outputs": [
    {
     "name": "stdout",
     "output_type": "stream",
     "text": [
      "UID                      202\n",
      "FUERZA_INTERVINIENTE       1\n",
      "ID_PROCEDIMIENTO         202\n",
      "ID_OPERATIVO              41\n",
      "UNIDAD_INTERVINIENTE      13\n",
      "DESCRIPCIÓN               35\n",
      "TIPO_INTERVENCION          2\n",
      "CANT_EFECTIVOS            17\n",
      "CANT_AUTOS_CAMIONETAS      8\n",
      "CANT_SCANNERS              1\n",
      "CANT_EMBARCACIONES         1\n",
      "CANT_MOTOS                 1\n",
      "CANT_CABALLOS              1\n",
      "CANT_CANES                 3\n",
      "CANT_MORPHRAPID            1\n",
      "CANT_LPR                   1\n",
      "dtype: int64\n"
     ]
    },
    {
     "name": "stderr",
     "output_type": "stream",
     "text": [
      "C:\\Users\\DICA\\AppData\\Local\\Temp\\ipykernel_2060\\1224831273.py:28: FutureWarning: Setting an item of incompatible dtype is deprecated and will raise an error in a future version of pandas. Value '-' has dtype incompatible with float64, please explicitly cast to a compatible dtype first.\n",
      "  df_afectados_completado.fillna(\"-\", inplace=True)\n"
     ]
    }
   ],
   "source": [
    "if CONTADOR['ORDEN_SERVICIOS_NUEVOS'] != 0:\n",
    "\n",
    "    df_afectados_completado = pd.DataFrame()\n",
    "\n",
    "\n",
    "    df_afectados_completado[\"UID\"] = excel_bajada_operaciones[\"ID_PROCEDIMIENTO\"]\n",
    "    df_afectados_completado[\"FUERZA_INTERVINIENTE\"] = \"PSA\"\n",
    "    df_afectados_completado[\"ID_PROCEDIMIENTO\"] = excel_bajada_operaciones[\"ID_PROCEDIMIENTO\"]\n",
    "    df_afectados_completado[\"ID_OPERATIVO\"] = excel_bajada_operaciones[\"ID_OPERATIVO\"]\n",
    "    df_afectados_completado[\"UNIDAD_INTERVINIENTE\"] = excel_bajada_operaciones[\"UNIDAD_INTERVINIENTE\"]\n",
    "    df_afectados_completado[\"DESCRIPCIÓN\"] = excel_bajada_operaciones[\"DESCRIPCIÓN\"]\n",
    "    df_afectados_completado[\"TIPO_INTERVENCION\"] = excel_bajada_operaciones[\"TIPO_INTERVENCION\"]\n",
    "    df_afectados_completado[\"CANT_EFECTIVOS\"] = excel_bajada_operaciones[\"CANT_EFECTIVOS\"]\n",
    "    df_afectados_completado[\"CANT_AUTOS_CAMIONETAS\"] = excel_bajada_operaciones[\"CANT_AUTOS_CAMIONETAS\"]\n",
    "    df_afectados_completado[\"CANT_SCANNERS\"] = excel_bajada_operaciones[\"CANT_SCANNERS\"]\n",
    "    df_afectados_completado[\"CANT_EMBARCACIONES\"] = excel_bajada_operaciones[\"CANT_EMBARCACIONES\"]\n",
    "    df_afectados_completado[\"CANT_MOTOS\"] = excel_bajada_operaciones[\"CANT_MOTOS\"]\n",
    "    df_afectados_completado[\"CANT_CABALLOS\"] = excel_bajada_operaciones[\"CANT_CABALLOS\"]\n",
    "    df_afectados_completado[\"CANT_CANES\"] = excel_bajada_operaciones[\"CANT_CANES\"]\n",
    "    df_afectados_completado[\"CANT_MORPHRAPID\"] = excel_bajada_operaciones[\"CANT_MORPHRAPID\"]\n",
    "    df_afectados_completado[\"CANT_LPR\"] = excel_bajada_operaciones[\"CANT_LPR\"]\n",
    "\n",
    "\n",
    "    # Reemplazar \"S/D\" y \"N/C\" por \"-\"\n",
    "    df_afectados_completado.replace([\"S/D\", \"N/C\"], \"-\", inplace=True)\n",
    "\n",
    "    # Reemplazar los valores vacíos (NaN) por \"-\"\n",
    "    df_afectados_completado.fillna(\"-\", inplace=True)\n",
    "\n",
    "    print(df_afectados_completado.nunique())"
   ]
  },
  {
   "cell_type": "markdown",
   "metadata": {},
   "source": [
    "### CODIGO OPERATIVO"
   ]
  },
  {
   "cell_type": "code",
   "execution_count": 25,
   "metadata": {},
   "outputs": [
    {
     "name": "stdout",
     "output_type": "stream",
     "text": [
      "UID                     202\n",
      "FUERZA_INTERVINIENTE      1\n",
      "ID_PROCEDIMIENTO        202\n",
      "ID_OPERATIVO             41\n",
      "UNIDAD_INTERVINIENTE     13\n",
      "DESCRIPCIÓN              35\n",
      "TIPO_INTERVENCION         2\n",
      "CODIGO_OPERATIVO          2\n",
      "dtype: int64\n"
     ]
    },
    {
     "name": "stderr",
     "output_type": "stream",
     "text": [
      "C:\\Users\\DICA\\AppData\\Local\\Temp\\ipykernel_2060\\359966242.py:17: FutureWarning: Setting an item of incompatible dtype is deprecated and will raise an error in a future version of pandas. Value '-' has dtype incompatible with float64, please explicitly cast to a compatible dtype first.\n",
      "  df_codigo_operativo_final.fillna(\"-\", inplace=True)\n"
     ]
    }
   ],
   "source": [
    "if CONTADOR['ORDEN_SERVICIOS_NUEVOS'] != 0:\n",
    "    df_codigo_operativo_final = pd.DataFrame()\n",
    "    df_codigo_operativo_final[\"UID\"] = excel_bajada_operaciones[\"ID_PROCEDIMIENTO\"]\n",
    "    df_codigo_operativo_final[\"FUERZA_INTERVINIENTE\"] = \"PSA\"\n",
    "    df_codigo_operativo_final[\"ID_PROCEDIMIENTO\"] = excel_bajada_operaciones[\"ID_PROCEDIMIENTO\"]\n",
    "    df_codigo_operativo_final[\"ID_OPERATIVO\"] = excel_bajada_operaciones[\"ID_OPERATIVO\"]\n",
    "    df_codigo_operativo_final[\"UNIDAD_INTERVINIENTE\"] = excel_bajada_operaciones[\"UNIDAD_INTERVINIENTE\"]\n",
    "    df_codigo_operativo_final[\"DESCRIPCIÓN\"] = excel_bajada_operaciones[\"DESCRIPCIÓN\"]\n",
    "    df_codigo_operativo_final[\"TIPO_INTERVENCION\"] = excel_bajada_operaciones[\"TIPO_INTERVENCION\"]\n",
    "    df_codigo_operativo_final[\"CODIGO_OPERATIVO\"] = excel_bajada_operaciones[\"CODIGO_OPERATIVO\"]\n",
    "\n",
    "\n",
    "    # Reemplazar \"S/D\" y \"N/C\" por \"-\"\n",
    "    df_codigo_operativo_final.replace([\"S/D\", \"N/C\"], \"-\", inplace=True)\n",
    "\n",
    "    # Reemplazar los valores vacíos (NaN) por \"-\"\n",
    "    df_codigo_operativo_final.fillna(\"-\", inplace=True)\n",
    "\n",
    "\n",
    "    print(df_codigo_operativo_final.nunique())"
   ]
  },
  {
   "cell_type": "markdown",
   "metadata": {},
   "source": [
    "# UNION DE DE DATAFRAMES "
   ]
  },
  {
   "cell_type": "markdown",
   "metadata": {},
   "source": [
    "### CONCATENACION DE PROCEDIMIENTOS Y ORDEN DE SERVICIOS , TAMBIEN SE UNEN LAS "
   ]
  },
  {
   "cell_type": "code",
   "execution_count": 26,
   "metadata": {},
   "outputs": [
    {
     "name": "stdout",
     "output_type": "stream",
     "text": [
      "FUERZA_INTERVINIENTE               1\n",
      "ID_OPERATIVO                     120\n",
      "ID_PROCEDIMIENTO                 289\n",
      "UNIDAD_INTERVINIENTE              32\n",
      "DESCRIPCIÓN                       42\n",
      "TIPO_INTERVENCION                  2\n",
      "PROVINCIA                         27\n",
      "DEPARTAMENTO O PARTIDO            28\n",
      "LOCALIDAD                         12\n",
      "DIRECCION                         50\n",
      "ZONA_SEGURIDAD_FRONTERAS           1\n",
      "PASO_FRONTERIZO                    1\n",
      "LATITUD                           64\n",
      "LONGITUD                          62\n",
      "FECHA                              7\n",
      "HORA                              86\n",
      "OTRAS AGENCIAS INTERVINIENTES      1\n",
      "Observaciones - Detalles           2\n",
      "dtype: int64\n"
     ]
    }
   ],
   "source": [
    "df_geog_final = pd.concat ([df_procedimientos_final, df_operaciones_final]) \n",
    "\n",
    "\n",
    "CONTADOR[\"GEOG_FINAL\"] = len(df_geog_final['ID_PROCEDIMIENTO'])\n",
    "print(df_geog_final.nunique())"
   ]
  },
  {
   "cell_type": "markdown",
   "metadata": {},
   "source": [
    "### COMPLETO LA INFORMACION DE TRATA Y OTROS DELITOS DADO QUE \"TENGO\" QUE PEGAR TODA LA INFORMACION DE LA GEOG FINAL"
   ]
  },
  {
   "cell_type": "code",
   "execution_count": 27,
   "metadata": {},
   "outputs": [
    {
     "name": "stdout",
     "output_type": "stream",
     "text": [
      "OTROS TRATA FINAL\n",
      "FUERZA_INTERVINIENTE     1\n",
      "ID_OPERATIVO             4\n",
      "ID_PROCEDIMIENTO         8\n",
      "UNIDAD_INTERVINIENTE     2\n",
      "DESCRIPCIÓN              2\n",
      "TIPO_INTERVENCION        1\n",
      "TIPO_DELITO              3\n",
      "SEXO_VICTIMA             2\n",
      "GENERO_VICTIMA           2\n",
      "EDAD_VICTIMA             2\n",
      "NACIONALIDAD             1\n",
      "JUZGADO_INTERVINIENTE    5\n",
      "OBSERVACIONES            1\n",
      "dtype: int64\n",
      "\n",
      "OTROS DELITOS FINAL\n",
      "FUERZA_INTERVINIENTE     1\n",
      "ID_OPERATIVO            25\n",
      "ID_PROCEDIMIENTO        25\n",
      "UNIDAD_INTERVINIENTE    10\n",
      "DESCRIPCIÓN              3\n",
      "TIPO_INTERVENCION        1\n",
      "TIPO_OTRO_DELITO         7\n",
      "GENERO_VICTIMA           2\n",
      "EDAD_VICTIMA            22\n",
      "NACIONALIDAD             5\n",
      "OBSERVACIONES            1\n",
      "dtype: int64\n"
     ]
    }
   ],
   "source": [
    "# *TIENE QUE TRAER LA INFORMACION DE GEOG FINAL Y COMPLETAR LA INFORMACION \n",
    "if CONTADOR['PROCEDIMIENTOS_NUEVOS'] != 0:\n",
    "    \n",
    "    df_trata_final = pd.merge(df_geog_final, df_trata_completado, on='ID_PROCEDIMIENTO', how='right')\n",
    "    print(\"OTROS TRATA FINAL\")\n",
    "\n",
    "    df_trata_final = df_trata_final[[\n",
    "        'FUERZA_INTERVINIENTE',\n",
    "        'ID_OPERATIVO',\n",
    "        'ID_PROCEDIMIENTO',\n",
    "        'UNIDAD_INTERVINIENTE',\n",
    "        'DESCRIPCIÓN',\n",
    "        'TIPO_INTERVENCION',\n",
    "        \"TIPO_DELITO\",\n",
    "        'SEXO_VICTIMA',\n",
    "        'GENERO_VICTIMA',\n",
    "        'EDAD_VICTIMA',\n",
    "        'NACIONALIDAD',\n",
    "        'JUZGADO_INTERVINIENTE',\n",
    "        'OBSERVACIONES'\n",
    "    ]]\n",
    "    print(df_trata_final.nunique())\n",
    "\n",
    "    df_otros_delitos_final = pd.merge(df_geog_final, df_otros_delitos_completado, on='ID_PROCEDIMIENTO', how='right')\n",
    "    print(\"\\nOTROS DELITOS FINAL\")\n",
    "\n",
    "    df_otros_delitos_final = df_otros_delitos_final[[\n",
    "        'FUERZA_INTERVINIENTE',\n",
    "        'ID_OPERATIVO',\n",
    "        'ID_PROCEDIMIENTO',\n",
    "        'UNIDAD_INTERVINIENTE',\n",
    "        'DESCRIPCIÓN',\n",
    "        'TIPO_INTERVENCION',\n",
    "        \"TIPO_OTRO_DELITO\",\n",
    "        'GENERO_VICTIMA',\n",
    "        'EDAD_VICTIMA',\n",
    "        'NACIONALIDAD',\n",
    "        'OBSERVACIONES'\n",
    "    ]]\n",
    "\n",
    "    print(df_otros_delitos_final.nunique())"
   ]
  },
  {
   "cell_type": "markdown",
   "metadata": {},
   "source": [
    "### COMPLETO LA INFORMACION DE TRATA Y OTROS DELITOS DADO QUE NO TENGO QUE PEGAR TODA LA INFORMACION DE LA GEOG FINAL"
   ]
  },
  {
   "cell_type": "code",
   "execution_count": 28,
   "metadata": {},
   "outputs": [
    {
     "name": "stdout",
     "output_type": "stream",
     "text": [
      "\n",
      "INCAUTADOS FINAL\n",
      "FUERZA_INTERVINIENTE      1\n",
      "ID_OPERATIVO            120\n",
      "ID_PROCEDIMIENTO        289\n",
      "UNIDAD_INTERVINIENTE     32\n",
      "DESCRIPCIÓN              42\n",
      "TIPO_INTERVENCION         2\n",
      "TIPO_INCAUTACION          5\n",
      "TIPO                     16\n",
      "SUBTIPO                   1\n",
      "CANTIDAD                 37\n",
      "MEDIDAS                   2\n",
      "AFORO                     1\n",
      "OBSERVACIONES             9\n",
      "dtype: int64\n",
      "\n",
      "DETENIDOS FINAL\n",
      "FUERZA_INTERVINIENTE       1\n",
      "ID_OPERATIVO             120\n",
      "ID_PROCEDIMIENTO         289\n",
      "UNIDAD_INTERVINIENTE      32\n",
      "DESCRIPCIÓN               42\n",
      "TIPO_INTERVENCION          2\n",
      "EDAD                      32\n",
      "SEXO                       2\n",
      "GENERO                     2\n",
      "NACIONALIDAD               7\n",
      "SITUACION_PROCESAL         5\n",
      "DELITO_IMPUTADO            9\n",
      "JUZGADO_INTERVINIENTE     23\n",
      "CARATULA_CAUSA            26\n",
      "NUM_CAUSA                 48\n",
      "dtype: int64\n",
      "\n",
      "AFECTADOS FINAL\n",
      "FUERZA_INTERVINIENTE       1\n",
      "ID_OPERATIVO             120\n",
      "ID_PROCEDIMIENTO         289\n",
      "UNIDAD_INTERVINIENTE      32\n",
      "DESCRIPCIÓN               42\n",
      "TIPO_INTERVENCION          2\n",
      "CANT_EFECTIVOS            17\n",
      "CANT_AUTOS_CAMIONETAS      8\n",
      "CANT_SCANNERS              1\n",
      "CANT_EMBARCACIONES         1\n",
      "CANT_MOTOS                 1\n",
      "CANT_CABALLOS              1\n",
      "CANT_CANES                 3\n",
      "CANT_MORPHRAPID            1\n",
      "CANT_LPR                   1\n",
      "dtype: int64\n",
      "\n",
      "CONTROLADOS FINAL\n",
      "FUERZA_INTERVINIENTE               1\n",
      "ID_OPERATIVO                     120\n",
      "ID_PROCEDIMIENTO                 289\n",
      "UNIDAD_INTERVINIENTE              32\n",
      "DESCRIPCIÓN                       42\n",
      "TIPO_INTERVENCION                  2\n",
      "VEHICULOS_CONTROLADOS             25\n",
      "PERSONAS_CONTROLADAS              30\n",
      "CANT_AVERIGUACIONES_SECUESTRO      1\n",
      "CANT_SOLICITUDES_ANTECEDENTES     28\n",
      "dtype: int64\n",
      "\n",
      "CODIGO FINAL\n",
      "FUERZA_INTERVINIENTE      1\n",
      "ID_OPERATIVO            120\n",
      "ID_PROCEDIMIENTO        289\n",
      "UNIDAD_INTERVINIENTE     32\n",
      "DESCRIPCIÓN              42\n",
      "TIPO_INTERVENCION         2\n",
      "CODIGO_OPERATIVO          2\n",
      "dtype: int64\n"
     ]
    }
   ],
   "source": [
    "# *TIENE QUE PEGAR TODAS LAS FILAS DE  GEOG AUNQUE NO TENGA INFORMACION ES DECIR TIENE QUE SER MAYOR A LA HOJA GEO\n",
    "if CONTADOR['PROCEDIMIENTOS_NUEVOS'] != 0:\n",
    "\n",
    "    df_incautados_final= pd.merge(df_geog_final, df_incautados_completado, on='ID_PROCEDIMIENTO', how='left')\n",
    "    df_incautados_final = df_incautados_final[[\n",
    "        'FUERZA_INTERVINIENTE',\n",
    "        'ID_OPERATIVO',\n",
    "        'ID_PROCEDIMIENTO',\n",
    "        'UNIDAD_INTERVINIENTE',\n",
    "        'DESCRIPCIÓN',\n",
    "        'TIPO_INTERVENCION',\n",
    "        'TIPO_INCAUTACION',\n",
    "        'TIPO',\n",
    "        'SUBTIPO',\n",
    "        'CANTIDAD',\n",
    "        'MEDIDAS',\n",
    "        \"AFORO\",\n",
    "        'OBSERVACIONES'\n",
    "    ]]\n",
    "\n",
    "\n",
    "    print(\"\\nINCAUTADOS FINAL\")\n",
    "    print(df_incautados_final.nunique())\n",
    "\n",
    "    df_detenidos_aprendidos_final = pd.merge(df_geog_final, df_detenidos_aprendidos_completado, on='ID_PROCEDIMIENTO', how='left')\n",
    "\n",
    "    print(\"\\nDETENIDOS FINAL\")\n",
    "    df_detenidos_aprendidos_final = df_detenidos_aprendidos_final[[\n",
    "        'FUERZA_INTERVINIENTE',\n",
    "        'ID_OPERATIVO',\n",
    "        'ID_PROCEDIMIENTO',\n",
    "        'UNIDAD_INTERVINIENTE',\n",
    "        'DESCRIPCIÓN',\n",
    "        'TIPO_INTERVENCION',\n",
    "        'EDAD',\n",
    "        'SEXO',\n",
    "        'GENERO',\n",
    "        'NACIONALIDAD',\n",
    "        'SITUACION_PROCESAL',\n",
    "        \"DELITO_IMPUTADO\",\n",
    "        'JUZGADO_INTERVINIENTE',\n",
    "        'CARATULA_CAUSA',\n",
    "        \"NUM_CAUSA\"\n",
    "    ]]\n",
    "    print(df_detenidos_aprendidos_final.nunique())\n",
    "\n",
    "\n",
    "if CONTADOR['ORDEN_SERVICIOS_NUEVOS'] != 0:\n",
    "\n",
    "    print(\"\\nAFECTADOS FINAL\")\n",
    "    df_afectados_final = pd.merge(df_geog_final, df_afectados_completado, on='ID_PROCEDIMIENTO', how='left',     suffixes=('', '_afectados')  # Evitar sufijos por defecto\n",
    "    )\n",
    "    df_afectados_final = df_afectados_final[[\n",
    "        'FUERZA_INTERVINIENTE',\n",
    "        'ID_OPERATIVO',\n",
    "        'ID_PROCEDIMIENTO',\n",
    "        'UNIDAD_INTERVINIENTE',\n",
    "        'DESCRIPCIÓN',\n",
    "        'TIPO_INTERVENCION',\n",
    "        'CANT_EFECTIVOS',\n",
    "        'CANT_AUTOS_CAMIONETAS',\n",
    "        'CANT_SCANNERS',\n",
    "        'CANT_EMBARCACIONES',\n",
    "        'CANT_MOTOS',\n",
    "        \"CANT_CABALLOS\",\n",
    "        'CANT_CANES',\n",
    "        'CANT_MORPHRAPID',\n",
    "        \"CANT_LPR\"\n",
    "    ]]\n",
    "\n",
    "    print(df_afectados_final.nunique())\n",
    "\n",
    "\n",
    "    df_controlados_final = pd.merge(df_geog_final, df_controlados_controlado, on='ID_PROCEDIMIENTO', how='left', suffixes=('', '_controlados'))\n",
    "    print(\"\\nCONTROLADOS FINAL\")\n",
    "\n",
    "    df_controlados_final = df_controlados_final[[\n",
    "        'FUERZA_INTERVINIENTE',\n",
    "        'ID_OPERATIVO',\n",
    "        'ID_PROCEDIMIENTO',\n",
    "        'UNIDAD_INTERVINIENTE',\n",
    "        'DESCRIPCIÓN',\n",
    "        'TIPO_INTERVENCION',\n",
    "        'VEHICULOS_CONTROLADOS',\n",
    "        'PERSONAS_CONTROLADAS',\n",
    "        \"CANT_AVERIGUACIONES_SECUESTRO\",\n",
    "        'CANT_SOLICITUDES_ANTECEDENTES',\n",
    "    ]]\n",
    "\n",
    "    print(df_controlados_final.nunique())\n",
    "\n",
    "\n",
    "    df_codigo_operativo_final = pd.merge(df_geog_final, df_codigo_operativo_final, on='ID_PROCEDIMIENTO', how='left',suffixes=('', '_codigos'))\n",
    "    print(\"\\nCODIGO FINAL\")\n",
    "    df_codigo_operativo_final = df_codigo_operativo_final[[\n",
    "        'FUERZA_INTERVINIENTE',\n",
    "        'ID_OPERATIVO',\n",
    "        'ID_PROCEDIMIENTO',\n",
    "        'UNIDAD_INTERVINIENTE',\n",
    "        'DESCRIPCIÓN',\n",
    "        'TIPO_INTERVENCION',\n",
    "        'CODIGO_OPERATIVO',\n",
    "    ]]\n",
    "    print(df_codigo_operativo_final.nunique())\n",
    "\n"
   ]
  },
  {
   "cell_type": "markdown",
   "metadata": {},
   "source": [
    "# GENERACIÓN DE INFORME"
   ]
  },
  {
   "cell_type": "markdown",
   "metadata": {},
   "source": [
    " ### CREACION DE INFORME SEMANAL CON FECHA HOY"
   ]
  },
  {
   "cell_type": "code",
   "execution_count": 29,
   "metadata": {},
   "outputs": [
    {
     "name": "stdout",
     "output_type": "stream",
     "text": [
      "OPERATIVOS_INFORMADOS: 130\n",
      "PROCEDIMIENTOS_INFORMADOS: 323\n",
      "PROCEDIMIENTOS_NUEVOS: 87\n",
      "ORDEN_SERVICIOS_NUEVOS: 203\n",
      "BAJADA_ORDEN_SERVICIOS: 203\n",
      "BAJADA_PROCEDIMIENTOS: 87\n",
      "BAJADA_ARMAS: 5\n",
      "BAJADA_DIVISAS: 21\n",
      "BAJADA_NARCOTRAFICO: 23\n",
      "BAJADA_OBJETOS: 54\n",
      "BAJADA_PERSONAS: 86\n",
      "BAJADA_VEHICULOS: 9\n",
      "BAJADA_TRATA: 12\n",
      "GEOG_FINAL: 290\n",
      "VICTIMAS_FINAL: 26\n",
      "DETENIDOS_FINAL: 51\n",
      "ARMAS_FINAL: 4\n",
      "DIVISAS_FINAL: 15\n",
      "NARCOTRAFICO_FINAL: 21\n",
      "OBJETOS_FINAL: 13\n",
      "VEHICULOS_FINAL: 2\n",
      "TRATA_FINAL: 0\n",
      "PROCEDIMIENTOS_BAJADA: 87\n",
      "TRATA: 12\n"
     ]
    },
    {
     "name": "stderr",
     "output_type": "stream",
     "text": [
      "C:\\Users\\DICA\\AppData\\Local\\Temp\\ipykernel_2060\\2402566059.py:9: FutureWarning: Downcasting object dtype arrays on .fillna, .ffill, .bfill is deprecated and will change in a future version. Call result.infer_objects(copy=False) instead. To opt-in to the future behavior, set `pd.set_option('future.no_silent_downcasting', True)`\n",
      "  'OTROS DELITOS': df_otros_delitos_final.reset_index(drop=True).fillna(\"\").replace(\"\", \"-\"),\n"
     ]
    },
    {
     "name": "stdout",
     "output_type": "stream",
     "text": [
      "Archivo generado: informes/Informe_2024_01_01 AL 2024_01_01.xlsx\n"
     ]
    }
   ],
   "source": [
    "print(\"\\n\".join(f\"{k}: {v}\" for k, v in CONTADOR.items()))\n",
    "\n",
    "dataframes = {\n",
    "    'GEOG. PROCEDIMIENTO': df_geog_final.reset_index(drop=True).fillna(\"\").replace(\"\", \"-\"),\n",
    "    'VEHI. Y PERSO. CONTROLADAS': df_controlados_final.reset_index(drop=True).fillna(\"\").replace(\"\", \"-\"),\n",
    "    'PERSONAL Y ELEMENTOS AFECTADOS': df_afectados_final.reset_index(drop=True).fillna(\"\").replace(\"\", \"-\"),\n",
    "    'INCAUTACIONES': df_incautados_final.reset_index(drop=True).fillna(\"\").replace(\"\", \"-\"),\n",
    "    'DETENIDOS Y APREHENDIDOS': df_detenidos_aprendidos_final.reset_index(drop=True).fillna(\"\").replace(\"\", \"-\"),\n",
    "    'OTROS DELITOS': df_otros_delitos_final.reset_index(drop=True).fillna(\"\").replace(\"\", \"-\"),\n",
    "    'TRATA O TRAFIC PERSONAS': df_trata_final.reset_index(drop=True).fillna(\"\").replace(\"\", \"-\"),\n",
    "    'CODIGO OPERATIVO': df_codigo_operativo_final.reset_index(drop=True).fillna(\"\").replace(\"\", \"-\")\n",
    "}\n",
    "\n",
    "# Cargar la plantilla\n",
    "wb = load_workbook(TEMPLATE_PATH)\n",
    "\n",
    "# Escribir los datos\n",
    "for sheet_name, df in dataframes.items():\n",
    "    sheet = wb[sheet_name]\n",
    "    for i, row in df.iterrows():\n",
    "        for j, value in enumerate(row):\n",
    "            cell= sheet.cell(row=i+4, column=j+2, value=value) # type: ignore\n",
    "            cell.alignment = Alignment(horizontal='center')\n",
    "            \n",
    "\n",
    "for sheet in wb.worksheets:\n",
    "    sheet.conditional_formatting = []\n",
    "    sheet.auto_filter.ref = None\n",
    "    sheet.auto_filter = None\n",
    "# Guardar el archivo\n",
    "output_file = f'informes/Informe_{FECHA_MINIMA.replace(\"-\",\"_\")} AL {FECHA_MAYOR.replace(\"-\",\"_\")}.xlsx'\n",
    "\n",
    "wb.save(output_file)\n",
    "print(f\"Archivo generado: {output_file}\")\n",
    "\n"
   ]
  },
  {
   "cell_type": "markdown",
   "metadata": {},
   "source": [
    "### GUARDAR EN LA BASE DE DATOS LA INFORMACION ACTUALIZADA"
   ]
  },
  {
   "cell_type": "code",
   "execution_count": 30,
   "metadata": {},
   "outputs": [
    {
     "name": "stdout",
     "output_type": "stream",
     "text": [
      "Archivo base actualizado: db/base_informada.xlsx\n"
     ]
    }
   ],
   "source": [
    "try:\n",
    "    # Intentar leer el archivo base\n",
    "    if os.path.exists(PATH_BASE):\n",
    "        wb_base = load_workbook(PATH_BASE)\n",
    "    else:\n",
    "        raise FileNotFoundError\n",
    "\n",
    "except FileNotFoundError:\n",
    "    # Crear un archivo nuevo si no existe\n",
    "    print(f\"Archivo '{PATH_BASE}' no encontrado. Creando uno nuevo.\")\n",
    "    wb_base = Workbook()\n",
    "    wb_base.save(PATH_BASE)\n",
    "    print(f\"Archivo '{PATH_BASE}' creado correctamente.\")\n",
    "\n",
    "except Exception as e:\n",
    "    # Manejar otros errores\n",
    "    print(f\"Error al leer el archivo '{PATH_BASE}': {e}\")\n",
    "    wb_base = Workbook()\n",
    "    wb_base.save(PATH_BASE)\n",
    "\n",
    "# Procesar hojas y escribir datos\n",
    "for sheet_name, df in dataframes.items():\n",
    "    if sheet_name in wb_base.sheetnames:\n",
    "        sheet = wb_base[sheet_name]\n",
    "        last_row = sheet.max_row\n",
    "        # Escribir títulos si la hoja está vacía\n",
    "        if last_row == 0:\n",
    "            for col_num, column_title in enumerate(df.columns, start=1):\n",
    "                cell = sheet.cell(row=1, column=col_num, value=column_title)\n",
    "                cell.alignment = Alignment(horizontal='center')\n",
    "            last_row = 1\n",
    "    else:\n",
    "        # Crear hoja nueva\n",
    "        sheet = wb_base.create_sheet(title=sheet_name)\n",
    "        for col_num, column_title in enumerate(df.columns, start=1):\n",
    "            cell = sheet.cell(row=1, column=col_num, value=column_title)\n",
    "            cell.alignment = Alignment(horizontal='center')\n",
    "        last_row = 1\n",
    "\n",
    "    # Escribir los datos debajo de la última fila\n",
    "    for i, row in df.iterrows():\n",
    "        for j, value in enumerate(row):\n",
    "            cell = sheet.cell(row= last_row + i + 1, column=j + 1, value=value) # type: ignore\n",
    "            cell.alignment = Alignment(horizontal='center')\n",
    "\n",
    "# Guardar los cambios\n",
    "wb_base.save(PATH_BASE)\n",
    "print(f\"Archivo base actualizado: {PATH_BASE}\")"
   ]
  }
 ],
 "metadata": {
  "kernelspec": {
   "display_name": ".venv",
   "language": "python",
   "name": "python3"
  },
  "language_info": {
   "codemirror_mode": {
    "name": "ipython",
    "version": 3
   },
   "file_extension": ".py",
   "mimetype": "text/x-python",
   "name": "python",
   "nbconvert_exporter": "python",
   "pygments_lexer": "ipython3",
   "version": "3.11.5"
  }
 },
 "nbformat": 4,
 "nbformat_minor": 2
}
